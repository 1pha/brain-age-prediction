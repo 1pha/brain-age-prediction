{
 "cells": [
  {
   "cell_type": "markdown",
   "metadata": {},
   "source": [
    "# Import Modules"
   ]
  },
  {
   "cell_type": "code",
   "execution_count": 1,
   "metadata": {
    "ExecuteTime": {
     "end_time": "2020-09-07T05:09:54.763520Z",
     "start_time": "2020-09-07T05:09:54.198534Z"
    }
   },
   "outputs": [],
   "source": [
    "import os\n",
    "\n",
    "import numpy as np\n",
    "from glob import glob\n",
    "\n",
    "import nibabel as nib"
   ]
  },
  {
   "cell_type": "code",
   "execution_count": 2,
   "metadata": {
    "ExecuteTime": {
     "end_time": "2020-09-07T05:09:54.868514Z",
     "start_time": "2020-09-07T05:09:54.766547Z"
    }
   },
   "outputs": [],
   "source": [
    "nii = glob('../../brainmask_nii/*.nii')\n",
    "nii.sort()"
   ]
  },
  {
   "cell_type": "code",
   "execution_count": 3,
   "metadata": {
    "ExecuteTime": {
     "end_time": "2020-09-07T05:09:57.512179Z",
     "start_time": "2020-09-07T05:09:57.148801Z"
    }
   },
   "outputs": [],
   "source": [
    "raw_mri = nib.load(nii[0])\n",
    "img = raw_mri.get_fdata()"
   ]
  },
  {
   "cell_type": "code",
   "execution_count": 4,
   "metadata": {
    "ExecuteTime": {
     "end_time": "2020-09-07T05:09:57.542208Z",
     "start_time": "2020-09-07T05:09:57.523205Z"
    }
   },
   "outputs": [
    {
     "data": {
      "text/plain": [
       "numpy.memmap"
      ]
     },
     "execution_count": 4,
     "metadata": {},
     "output_type": "execute_result"
    }
   ],
   "source": [
    "type(img)"
   ]
  },
  {
   "cell_type": "markdown",
   "metadata": {},
   "source": [
    "# Doodle a little bit"
   ]
  },
  {
   "cell_type": "code",
   "execution_count": 5,
   "metadata": {
    "ExecuteTime": {
     "end_time": "2020-09-07T05:09:58.657456Z",
     "start_time": "2020-09-07T05:09:58.332424Z"
    }
   },
   "outputs": [],
   "source": [
    "import matplotlib.pyplot as plt\n",
    "def show_slices(slices):\n",
    "    fig, axes = plt.subplots(1, len(slices))\n",
    "    for i, s in enumerate(slices):\n",
    "        axes[i].imshow(s.T, cmap='gray', origin='lower')"
   ]
  },
  {
   "cell_type": "code",
   "execution_count": 7,
   "metadata": {
    "ExecuteTime": {
     "end_time": "2020-09-07T05:10:17.928659Z",
     "start_time": "2020-09-07T05:10:17.637633Z"
    }
   },
   "outputs": [
    {
     "data": {
      "image/png": "[encoded data removed]",
      "text/plain": [
       "<Figure size 432x288 with 3 Axes>"
      ]
     },
     "metadata": {
      "needs_background": "light"
     },
     "output_type": "display_data"
    }
   ],
   "source": [
    "slice_0 = img[128, :, :]\n",
    "slice_1 = img[:, 128, :]\n",
    "slice_2 = img[:, :, 128]\n",
    "show_slices([slice_0, slice_1, slice_2])"
   ]
  },
  {
   "cell_type": "markdown",
   "metadata": {},
   "source": [
    "# Will 3D Conv Work?\n",
    "and yes. it should be $(batch size, Channels, width, height, depth)$ like tensors though."
   ]
  },
  {
   "cell_type": "code",
   "execution_count": 8,
   "metadata": {
    "ExecuteTime": {
     "end_time": "2020-09-07T05:10:30.385564Z",
     "start_time": "2020-09-07T05:10:28.580600Z"
    }
   },
   "outputs": [],
   "source": [
    "import torch\n",
    "import torch.nn as nn"
   ]
  },
  {
   "cell_type": "code",
   "execution_count": 10,
   "metadata": {
    "ExecuteTime": {
     "end_time": "2020-09-07T05:10:35.838617Z",
     "start_time": "2020-09-07T05:10:35.790106Z"
    }
   },
   "outputs": [],
   "source": [
    "x = torch.Tensor(img)[None, None, :, :, :]"
   ]
  },
  {
   "cell_type": "code",
   "execution_count": 11,
   "metadata": {
    "ExecuteTime": {
     "end_time": "2020-09-07T05:10:36.381512Z",
     "start_time": "2020-09-07T05:10:36.348486Z"
    }
   },
   "outputs": [],
   "source": [
    "layer1 = nn.Conv3d(1, 1, 3, stride=2)"
   ]
  },
  {
   "cell_type": "code",
   "execution_count": 12,
   "metadata": {
    "ExecuteTime": {
     "end_time": "2020-09-07T05:10:36.937073Z",
     "start_time": "2020-09-07T05:10:36.645514Z"
    }
   },
   "outputs": [
    {
     "data": {
      "text/plain": [
       "tensor([[[[[-0.0932, -0.0932, -0.0932,  ..., -0.0932, -0.0932, -0.0932],\n",
       "           [-0.0932, -0.0932, -0.0932,  ..., -0.0932, -0.0932, -0.0932],\n",
       "           [-0.0932, -0.0932, -0.0932,  ..., -0.0932, -0.0932, -0.0932],\n",
       "           ...,\n",
       "           [-0.0932, -0.0932, -0.0932,  ..., -0.0932, -0.0932, -0.0932],\n",
       "           [-0.0932, -0.0932, -0.0932,  ..., -0.0932, -0.0932, -0.0932],\n",
       "           [-0.0932, -0.0932, -0.0932,  ..., -0.0932, -0.0932, -0.0932]],\n",
       "\n",
       "          [[-0.0932, -0.0932, -0.0932,  ..., -0.0932, -0.0932, -0.0932],\n",
       "           [-0.0932, -0.0932, -0.0932,  ..., -0.0932, -0.0932, -0.0932],\n",
       "           [-0.0932, -0.0932, -0.0932,  ..., -0.0932, -0.0932, -0.0932],\n",
       "           ...,\n",
       "           [-0.0932, -0.0932, -0.0932,  ..., -0.0932, -0.0932, -0.0932],\n",
       "           [-0.0932, -0.0932, -0.0932,  ..., -0.0932, -0.0932, -0.0932],\n",
       "           [-0.0932, -0.0932, -0.0932,  ..., -0.0932, -0.0932, -0.0932]],\n",
       "\n",
       "          [[-0.0932, -0.0932, -0.0932,  ..., -0.0932, -0.0932, -0.0932],\n",
       "           [-0.0932, -0.0932, -0.0932,  ..., -0.0932, -0.0932, -0.0932],\n",
       "           [-0.0932, -0.0932, -0.0932,  ..., -0.0932, -0.0932, -0.0932],\n",
       "           ...,\n",
       "           [-0.0932, -0.0932, -0.0932,  ..., -0.0932, -0.0932, -0.0932],\n",
       "           [-0.0932, -0.0932, -0.0932,  ..., -0.0932, -0.0932, -0.0932],\n",
       "           [-0.0932, -0.0932, -0.0932,  ..., -0.0932, -0.0932, -0.0932]],\n",
       "\n",
       "          ...,\n",
       "\n",
       "          [[-0.0932, -0.0932, -0.0932,  ..., -0.0932, -0.0932, -0.0932],\n",
       "           [-0.0932, -0.0932, -0.0932,  ..., -0.0932, -0.0932, -0.0932],\n",
       "           [-0.0932, -0.0932, -0.0932,  ..., -0.0932, -0.0932, -0.0932],\n",
       "           ...,\n",
       "           [-0.0932, -0.0932, -0.0932,  ..., -0.0932, -0.0932, -0.0932],\n",
       "           [-0.0932, -0.0932, -0.0932,  ..., -0.0932, -0.0932, -0.0932],\n",
       "           [-0.0932, -0.0932, -0.0932,  ..., -0.0932, -0.0932, -0.0932]],\n",
       "\n",
       "          [[-0.0932, -0.0932, -0.0932,  ..., -0.0932, -0.0932, -0.0932],\n",
       "           [-0.0932, -0.0932, -0.0932,  ..., -0.0932, -0.0932, -0.0932],\n",
       "           [-0.0932, -0.0932, -0.0932,  ..., -0.0932, -0.0932, -0.0932],\n",
       "           ...,\n",
       "           [-0.0932, -0.0932, -0.0932,  ..., -0.0932, -0.0932, -0.0932],\n",
       "           [-0.0932, -0.0932, -0.0932,  ..., -0.0932, -0.0932, -0.0932],\n",
       "           [-0.0932, -0.0932, -0.0932,  ..., -0.0932, -0.0932, -0.0932]],\n",
       "\n",
       "          [[-0.0932, -0.0932, -0.0932,  ..., -0.0932, -0.0932, -0.0932],\n",
       "           [-0.0932, -0.0932, -0.0932,  ..., -0.0932, -0.0932, -0.0932],\n",
       "           [-0.0932, -0.0932, -0.0932,  ..., -0.0932, -0.0932, -0.0932],\n",
       "           ...,\n",
       "           [-0.0932, -0.0932, -0.0932,  ..., -0.0932, -0.0932, -0.0932],\n",
       "           [-0.0932, -0.0932, -0.0932,  ..., -0.0932, -0.0932, -0.0932],\n",
       "           [-0.0932, -0.0932, -0.0932,  ..., -0.0932, -0.0932, -0.0932]]]]],\n",
       "       grad_fn=<SlowConv3DBackward>)"
      ]
     },
     "execution_count": 12,
     "metadata": {},
     "output_type": "execute_result"
    }
   ],
   "source": [
    "output = layer1(x)\n",
    "output"
   ]
  },
  {
   "cell_type": "markdown",
   "metadata": {},
   "source": [
    "# Will Loading this won't hurt?\n",
    "try this after making the directory available offline."
   ]
  },
  {
   "cell_type": "code",
   "execution_count": 13,
   "metadata": {
    "ExecuteTime": {
     "end_time": "2020-09-07T05:10:37.627073Z",
     "start_time": "2020-09-07T05:10:37.621074Z"
    }
   },
   "outputs": [],
   "source": [
    "from tqdm.notebook import tqdm\n",
    "\n",
    "def image(path='../../brainmask_nii/'):\n",
    "\n",
    "    PATH = path\n",
    "    files = glob(PATH + \"/*.nii\")\n",
    "\n",
    "    out = []\n",
    "    for file in tqdm(files):\n",
    "        file = nib.load(file).get_fdata()\n",
    "        out.append(file)\n",
    "        #out.append(file.transpose(2, 0, 1))\n",
    "\n",
    "    out = np.array(out)\n",
    "\n",
    "    return torch.tensor(out, dtype=torch.float)"
   ]
  },
  {
   "cell_type": "code",
   "execution_count": null,
   "metadata": {
    "ExecuteTime": {
     "start_time": "2020-09-07T05:10:39.714Z"
    }
   },
   "outputs": [
    {
     "data": {
      "application/vnd.jupyter.widget-view+json": {
       "model_id": "25b4c41d077b4905a448f4bb99f86964",
       "version_major": 2,
       "version_minor": 0
      },
      "text/plain": [
       "HBox(children=(FloatProgress(value=0.0, max=1183.0), HTML(value='')))"
      ]
     },
     "metadata": {},
     "output_type": "display_data"
    }
   ],
   "source": [
    "%time X = image()"
   ]
  },
  {
   "cell_type": "markdown",
   "metadata": {},
   "source": [
    "# Handling Sparse Matrix"
   ]
  },
  {
   "cell_type": "code",
   "execution_count": 13,
   "metadata": {
    "ExecuteTime": {
     "end_time": "2020-08-28T08:20:07.275393Z",
     "start_time": "2020-08-28T08:20:06.612484Z"
    }
   },
   "outputs": [
    {
     "name": "stdout",
     "output_type": "stream",
     "text": [
      "Wall time: 658 ms\n"
     ]
    },
    {
     "data": {
      "text/plain": [
       "89.68612551689148"
      ]
     },
     "execution_count": 13,
     "metadata": {},
     "output_type": "execute_result"
    }
   ],
   "source": [
    "%%time\n",
    "X = nib.load(nii[3]).get_fdata()\n",
    "\n",
    "len(np.where(X==0.)[0]) / (256 * 256 * 256) * 100"
   ]
  },
  {
   "cell_type": "code",
   "execution_count": 14,
   "metadata": {
    "ExecuteTime": {
     "end_time": "2020-08-28T08:20:08.449131Z",
     "start_time": "2020-08-28T08:20:08.445141Z"
    }
   },
   "outputs": [],
   "source": [
    "class NDSparseMatrix:\n",
    "    def __init__(self):\n",
    "        self.elements = {}\n",
    "\n",
    "    def addValue(self, tuple, value):\n",
    "        self.elements[tuple] = value\n",
    "\n",
    "    def readValue(self, tuple):\n",
    "        try:\n",
    "            value = self.elements[tuple]\n",
    "        except KeyError:\n",
    "            # could also be 0.0 if using floats...\n",
    "            value = 0\n",
    "        return value"
   ]
  },
  {
   "cell_type": "code",
   "execution_count": 17,
   "metadata": {
    "ExecuteTime": {
     "end_time": "2020-08-28T08:21:08.596283Z",
     "start_time": "2020-08-28T08:21:03.076908Z"
    }
   },
   "outputs": [],
   "source": [
    "sparse = NDSparseMatrix()\n",
    "for x, y, z in zip(*np.where(X!=0)):\n",
    "    sparse.addValue((x, y, z), X[x, y, z])"
   ]
  },
  {
   "cell_type": "code",
   "execution_count": 19,
   "metadata": {
    "ExecuteTime": {
     "end_time": "2020-08-28T08:21:16.969445Z",
     "start_time": "2020-08-28T08:21:16.964459Z"
    }
   },
   "outputs": [
    {
     "data": {
      "text/plain": [
       "9.0"
      ]
     },
     "execution_count": 19,
     "metadata": {},
     "output_type": "execute_result"
    }
   ],
   "source": [
    "sparse.readValue((x, y, z))"
   ]
  },
  {
   "cell_type": "code",
   "execution_count": 23,
   "metadata": {
    "ExecuteTime": {
     "end_time": "2020-08-28T08:21:33.748920Z",
     "start_time": "2020-08-28T08:21:33.661710Z"
    }
   },
   "outputs": [
    {
     "data": {
      "text/plain": [
       "200.0"
      ]
     },
     "execution_count": 23,
     "metadata": {},
     "output_type": "execute_result"
    }
   ],
   "source": [
    "np.array(X).max()"
   ]
  },
  {
   "cell_type": "code",
   "execution_count": 24,
   "metadata": {
    "ExecuteTime": {
     "end_time": "2020-08-28T08:21:37.697090Z",
     "start_time": "2020-08-28T08:21:37.604804Z"
    }
   },
   "outputs": [
    {
     "data": {
      "text/plain": [
       "0.0"
      ]
     },
     "execution_count": 24,
     "metadata": {},
     "output_type": "execute_result"
    }
   ],
   "source": [
    "np.array(X).min()"
   ]
  },
  {
   "cell_type": "code",
   "execution_count": null,
   "metadata": {},
   "outputs": [],
   "source": []
  }
 ],
 "metadata": {
  "kernelspec": {
   "display_name": "Python 3",
   "language": "python",
   "name": "python3"
  },
  "language_info": {
   "codemirror_mode": {
    "name": "ipython",
    "version": 3
   },
   "file_extension": ".py",
   "mimetype": "text/x-python",
   "name": "python",
   "nbconvert_exporter": "python",
   "pygments_lexer": "ipython3",
   "version": "3.8.3"
  },
  "toc": {
   "base_numbering": 1,
   "nav_menu": {},
   "number_sections": true,
   "sideBar": true,
   "skip_h1_title": false,
   "title_cell": "Table of Contents",
   "title_sidebar": "Contents",
   "toc_cell": false,
   "toc_position": {},
   "toc_section_display": true,
   "toc_window_display": false
  }
 },
 "nbformat": 4,
 "nbformat_minor": 4
}
