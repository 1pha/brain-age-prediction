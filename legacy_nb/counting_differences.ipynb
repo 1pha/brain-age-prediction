{
 "cells": [
  {
   "cell_type": "markdown",
   "metadata": {},
   "source": [
    "### 08.28 Friday, 2020\n",
    "This .ipynb is to check the difference of number between brainmask_nii(which includes raw MRI data from both oasis1&3 and IXI) and oasis+ixi.npy files. It turned out that there were 4 more files on brainmask_nii, and those files are -\n",
    "+ IXI139-Guys-0815-T1\n",
    "+ IXI341-Guys-0906-T1\n",
    "+ IXI422-Guys-1071-T1\n",
    "+ IXI623-Guys-1076-T1\n",
    "---"
   ]
  },
  {
   "cell_type": "code",
   "execution_count": 2,
   "metadata": {
    "ExecuteTime": {
     "end_time": "2020-08-28T05:43:43.159454Z",
     "start_time": "2020-08-28T05:43:43.155483Z"
    }
   },
   "outputs": [],
   "source": [
    "from glob import glob"
   ]
  },
  {
   "cell_type": "code",
   "execution_count": 26,
   "metadata": {
    "ExecuteTime": {
     "end_time": "2020-08-28T05:50:00.769348Z",
     "start_time": "2020-08-28T05:50:00.736427Z"
    }
   },
   "outputs": [],
   "source": [
    "nii = glob('../../brainmask_nii/*.nii')\n",
    "nii.sort()\n",
    "len(nii)"
   ]
  },
  {
   "cell_type": "code",
   "execution_count": 50,
   "metadata": {
    "ExecuteTime": {
     "end_time": "2020-08-28T05:59:28.071007Z",
     "start_time": "2020-08-28T05:59:28.057019Z"
    }
   },
   "outputs": [
    {
     "data": {
      "text/plain": [
       "312"
      ]
     },
     "execution_count": 50,
     "metadata": {},
     "output_type": "execute_result"
    }
   ],
   "source": [
    "ixi = glob('../../IXI_lh_npy/*.npy')\n",
    "ixi.sort()\n",
    "len(ixi)"
   ]
  },
  {
   "cell_type": "code",
   "execution_count": 51,
   "metadata": {
    "ExecuteTime": {
     "end_time": "2020-08-28T05:59:31.036211Z",
     "start_time": "2020-08-28T05:59:31.008213Z"
    }
   },
   "outputs": [
    {
     "data": {
      "text/plain": [
       "867"
      ]
     },
     "execution_count": 51,
     "metadata": {},
     "output_type": "execute_result"
    }
   ],
   "source": [
    "oasis = glob('../../oasis1&3_ALL_lh_npy/*.npy')\n",
    "oasis.sort()\n",
    "len(oasis)"
   ]
  },
  {
   "cell_type": "code",
   "execution_count": 12,
   "metadata": {
    "ExecuteTime": {
     "end_time": "2020-08-28T05:45:09.019890Z",
     "start_time": "2020-08-28T05:45:09.015873Z"
    }
   },
   "outputs": [
    {
     "data": {
      "text/plain": [
       "1179"
      ]
     },
     "execution_count": 12,
     "metadata": {},
     "output_type": "execute_result"
    }
   ],
   "source": [
    "312 + 867"
   ]
  },
  {
   "cell_type": "code",
   "execution_count": 53,
   "metadata": {
    "ExecuteTime": {
     "end_time": "2020-08-28T06:00:48.478625Z",
     "start_time": "2020-08-28T06:00:48.473639Z"
    }
   },
   "outputs": [],
   "source": [
    "def get_token(_str):\n",
    "    \n",
    "    _str = _str.split('\\\\')[1]\n",
    "    \n",
    "    if _str[:5] == 'recon':\n",
    "        return _str.split('-')[0]\n",
    "    \n",
    "    elif _str[:3] == 'sub':\n",
    "        return _str.split('.')[0]\n",
    "    \n",
    "    elif _str[:3] == 'IXI':\n",
    "        if '-lh' in _str:\n",
    "            return _str.split('-lh')[0]\n",
    "        \n",
    "        elif '-rh' in _str:\n",
    "            return _str.split('-rh')[0]\n",
    "        \n",
    "        elif '-brainmask' in _str:\n",
    "            return _str.split('-brainmask')[0]"
   ]
  },
  {
   "cell_type": "code",
   "execution_count": 59,
   "metadata": {
    "ExecuteTime": {
     "end_time": "2020-08-28T06:02:25.814741Z",
     "start_time": "2020-08-28T06:02:25.809754Z"
    }
   },
   "outputs": [],
   "source": [
    "nii_filter = set(map(get_token, nii))\n",
    "ixi_filter = set(map(get_token, ixi))\n",
    "oasis_filter = set(map(get_token, oasis))"
   ]
  },
  {
   "cell_type": "code",
   "execution_count": 60,
   "metadata": {
    "ExecuteTime": {
     "end_time": "2020-08-28T06:02:38.221783Z",
     "start_time": "2020-08-28T06:02:38.217769Z"
    }
   },
   "outputs": [
    {
     "data": {
      "text/plain": [
       "{'IXI139-Guys-0815-T1',\n",
       " 'IXI341-Guys-0906-T1',\n",
       " 'IXI422-Guys-1071-T1',\n",
       " 'IXI623-Guys-1076-T1'}"
      ]
     },
     "execution_count": 60,
     "metadata": {},
     "output_type": "execute_result"
    }
   ],
   "source": [
    "(nii_filter - ixi_filter) - oasis_filter"
   ]
  }
 ],
 "metadata": {
  "kernelspec": {
   "display_name": "Python 3",
   "language": "python",
   "name": "python3"
  },
  "language_info": {
   "codemirror_mode": {
    "name": "ipython",
    "version": 3
   },
   "file_extension": ".py",
   "mimetype": "text/x-python",
   "name": "python",
   "nbconvert_exporter": "python",
   "pygments_lexer": "ipython3",
   "version": "3.8.3"
  },
  "toc": {
   "base_numbering": 1,
   "nav_menu": {},
   "number_sections": true,
   "sideBar": true,
   "skip_h1_title": false,
   "title_cell": "Table of Contents",
   "title_sidebar": "Contents",
   "toc_cell": false,
   "toc_position": {},
   "toc_section_display": true,
   "toc_window_display": false
  }
 },
 "nbformat": 4,
 "nbformat_minor": 4
}
