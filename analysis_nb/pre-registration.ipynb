{
 "cells": [
  {
   "cell_type": "code",
   "execution_count": 2,
   "metadata": {},
   "outputs": [],
   "source": [
    "from sage.config.config import DataArguments, TrainingArguments, MiscArguments\n",
    "\n",
    "from sage.config import get_logger, logger_conf\n",
    "from sage.data import get_dataloader\n",
    "from sage.models import build_model\n",
    "from sage.utils import seed_everything"
   ]
  },
  {
   "cell_type": "code",
   "execution_count": 3,
   "metadata": {},
   "outputs": [
    {
     "name": "stdout",
     "output_type": "stream",
     "text": [
      "2022-05-17 20:02:36,793 - root - INFO - Initialize dataset.\n",
      "2022-05-17 20:02:36,815 - root - INFO - Successfully setup 146 brains for Test\n"
     ]
    }
   ],
   "source": [
    "data_args, training_args, misc_args = (\n",
    "    DataArguments(),\n",
    "    TrainingArguments(),\n",
    "    MiscArguments(),\n",
    ")\n",
    "seed_everything(misc_args.seed)\n",
    "misc_args.output_dir = \"./\"\n",
    "data_args.batch_size = 1\n",
    "\n",
    "logger_conf[\"handlers\"][\"file_handler\"][\"filename\"] = misc_args.output_dir + \"/run.log\"\n",
    "logger = get_logger(logger_conf)\n",
    "\n",
    "test_dataloader = get_dataloader(data_args, misc_args, \"test\", logger)"
   ]
  },
  {
   "cell_type": "code",
   "execution_count": 4,
   "metadata": {},
   "outputs": [
    {
     "name": "stdout",
     "output_type": "stream",
     "text": [
      "2022-05-17 20:02:42,602 - root - INFO - Resnet has #params: 4 M.\n"
     ]
    }
   ],
   "source": [
    "import torch\n",
    "from sage.models import build_model\n",
    "\n",
    "training_args.model_name = \"resnet\"\n",
    "model = build_model(training_args, logger)\n",
    "model = model.to(\"cpu\")\n",
    "\n",
    "path = \"../failed_results/[20220517-0419]convnextlr0.0005warmup5%/ckpts/ep077.pt\"\n",
    "model.load_state_dict(torch.load(path))\n",
    "\n",
    "from captum.attr import LayerGradCam, LayerAttribution\n",
    "\n",
    "attributer = LayerGradCam(model, model.conv_layers()[0])"
   ]
  },
  {
   "cell_type": "code",
   "execution_count": 23,
   "metadata": {},
   "outputs": [
    {
     "name": "stdout",
     "output_type": "stream",
     "text": [
      "1 /workspace/brainmask_mni/sub-OAS30523_ses-d0027_run-02_T1w.npy\n",
      "Optimizing level 2 [max iter: 10]\n",
      "Optimizing level 1 [max iter: 10]\n",
      "Optimizing level 0 [max iter: 5]\n",
      "[TranslationTransform3D] 3.3 sec:: LOSS -0.09610\n",
      "Optimizing level 2 [max iter: 10]\n",
      "Optimizing level 1 [max iter: 10]\n",
      "Optimizing level 0 [max iter: 5]\n",
      "[RigidTransform3D] 9.1 sec:: LOSS -0.09787\n",
      "Optimizing level 2 [max iter: 2000]\n",
      "Optimizing level 1 [max iter: 2000]\n",
      "Optimizing level 0 [max iter: 200]\n"
     ]
    }
   ],
   "source": [
    "import pickle\n",
    "from IPython.display import clear_output\n",
    "\n",
    "import numpy as np\n",
    "\n",
    "import torch.nn.functional as F\n",
    "import nilearn\n",
    "import nibabel\n",
    "from nilearn import plotting\n",
    "from nilearn.datasets import load_mni152_template, fetch_atlas_aal\n",
    "\n",
    "from sage.utils.registration import Registrator\n",
    "\n",
    "atlas = nilearn.image.load_img(fetch_atlas_aal().maps)\n",
    "cut_coords = (0, 0, 0)\n",
    "mni152 = load_mni152_template()\n",
    "\n",
    "for idx, (brain, fname) in enumerate(\n",
    "    zip(test_dataloader.dataset, test_dataloader.dataset.data_files)\n",
    "):\n",
    "\n",
    "    print(idx, fname)\n",
    "    fname = f\"{fname.split('.')[0]}.pkl\"\n",
    "    fnames = fname.split(\"/\")\n",
    "    fname = f\"../pre-registered/{str(idx).zfill(3)}-{fnames[3]}\"\n",
    "\n",
    "    x = F.interpolate(brain[0][None, ...], size=mni152.get_fdata().shape)[0][0].numpy()\n",
    "    x = nibabel.nifti1.Nifti1Image(x, affine=np.eye(4))\n",
    "    registrator = Registrator()\n",
    "    registrator(x, template=mni152.get_fdata())\n",
    "\n",
    "    with open(fname, \"wb\") as f:\n",
    "        pickle.dump(registrator.steps, f)\n",
    "\n",
    "    attr = attributer.attribute(brain[0][None, ...])\n",
    "    upsampled_attr = (\n",
    "        LayerAttribution.interpolate(attr, (99, 117, 95), interpolate_mode=\"trilinear\")\n",
    "        .cpu()\n",
    "        .detach()\n",
    "    )\n",
    "\n",
    "    transformed_xai = registrator.steps[\"SymmetricDiffeomorphicRegistration\"].transform(\n",
    "        upsampled_attr.numpy()[0][0]\n",
    "    )\n",
    "    transformed_xai_nifti = nibabel.nifti1.Nifti1Image(transformed_xai, mni152.affine)\n",
    "\n",
    "    display = plotting.plot_img(\n",
    "        transformed_xai_nifti, display_mode=\"mosaic\", black_bg=True\n",
    "    )\n",
    "    display.add_overlay(atlas, cmap=\"black_green\")\n",
    "    display.savefig(f\"../pre-registered/{str(idx).zfill(3)}-{fnames[3][:-3]}.png\")\n",
    "    clear_output()"
   ]
  },
  {
   "cell_type": "code",
   "execution_count": null,
   "metadata": {},
   "outputs": [],
   "source": []
  }
 ],
 "metadata": {
  "interpreter": {
   "hash": "58f42be4760d443558357e59ed9d9d34a8c50fd6870ceaeaddb214fd01d8c723"
  },
  "kernelspec": {
   "display_name": "Python 3.8.13 ('research')",
   "language": "python",
   "name": "python3"
  },
  "language_info": {
   "codemirror_mode": {
    "name": "ipython",
    "version": 3
   },
   "file_extension": ".py",
   "mimetype": "text/x-python",
   "name": "python",
   "nbconvert_exporter": "python",
   "pygments_lexer": "ipython3",
   "version": "3.8.13"
  },
  "orig_nbformat": 4
 },
 "nbformat": 4,
 "nbformat_minor": 2
}
