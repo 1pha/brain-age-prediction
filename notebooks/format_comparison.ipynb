{
 "cells": [
  {
   "cell_type": "markdown",
   "metadata": {},
   "source": [
    "# Dataset Storage & Loading Issue\n",
    "\n",
    "`.nifti` files usually takes much more space and time to load on the RAM. I have used `.h5` format to save the 3D brain scans with gut instinct. There is need to compare other possible formats, in terms of following:\n",
    "- Saving time & Storage issue\n",
    "- Loading time\n",
    "- Precisions\n",
    "\n",
    "Extensions to discuss:\n",
    "- `.h5`\n",
    "- `.npz`\n",
    "- `.npy`\n",
    "- `.nii.gz`"
   ]
  },
  {
   "cell_type": "code",
   "execution_count": 1,
   "metadata": {},
   "outputs": [],
   "source": [
    "import os\n",
    "from pathlib import Path\n",
    "import random\n",
    "import h5py\n",
    "import shutil\n",
    "import subprocess\n",
    "\n",
    "import numpy as np\n",
    "import nibabel as nib\n",
    "import matplotlib.pyplot as plt\n",
    "import seaborn as sns\n",
    "sns.set_theme()\n",
    "import pandas as pd\n",
    "\n",
    "from sage.data.dataloader import open_h5_nifti, open_h5\n",
    "import sage.constants as C"
   ]
  },
  {
   "cell_type": "code",
   "execution_count": 2,
   "metadata": {},
   "outputs": [],
   "source": [
    "root = Path(\"./biobank\")\n",
    "files = sorted(root.rglob(\"*.h5\"))\n",
    "\n",
    "sample_fnames = random.choices(population=files, k=20)\n",
    "sample_niftis = [(f, open_h5_nifti(f)) for f in sample_fnames]"
   ]
  },
  {
   "cell_type": "code",
   "execution_count": 3,
   "metadata": {},
   "outputs": [],
   "source": [
    "tmp_root = Path(\"./tmp_data\")\n",
    "os.makedirs(tmp_root, exist_ok=True)\n",
    "\n",
    "_dirs = [\"nifti\", \"npz\", \"npy\", \"h5\"]\n",
    "dirs = {}\n",
    "for _dir in _dirs:\n",
    "    _d = tmp_root / _dir\n",
    "    if _d.exists():\n",
    "        shutil.rmtree(_d)\n",
    "    os.makedirs(_d)\n",
    "    dirs[_dir] = _d"
   ]
  },
  {
   "cell_type": "markdown",
   "metadata": {},
   "source": [
    "## 1. Saving Time\n",
    "\n",
    "Saving time from nifti to `.npy` and `.npz`"
   ]
  },
  {
   "cell_type": "code",
   "execution_count": 4,
   "metadata": {},
   "outputs": [],
   "source": [
    "def save_npy(fname, nifti_obj, _dir):\n",
    "    arr = nifti_obj.get_fdata()\n",
    "    np.save(file=_dir / f\"{fname.stem}.npy\", arr=arr.astype(int))\n",
    "\n",
    "def save_npz(fname, nifti_obj, _dir):\n",
    "    arr = nifti_obj.get_fdata()\n",
    "    np.savez_compressed(file=_dir / f\"{fname.stem}.npz\", arr=arr.astype(int))\n",
    "    \n",
    "def save_h5(fname, nifti_obj, _dir):\n",
    "    \"\"\" Wtihout saving meta \"\"\"\n",
    "    arr = nifti_obj.get_fdata()\n",
    "    with h5py.File(_dir / f\"{fname.stem}.h5\", mode=\"w\", libver=\"latest\") as hf:\n",
    "        hf.create_dataset(name=\"volume\", data=arr, compression=\"gzip\", compression_opts=1, shuffle=True)\n",
    "        \n",
    "def save_nifti(fname, nifti_obj, _dir):\n",
    "    arr = nifti_obj.get_fdata()\n",
    "    nii = nib.nifti1.Nifti1Image(dataobj=arr, affine=C.BIOBANK_AFFINE)\n",
    "    nib.save(img=nii, filename=_dir / f\"{fname.stem}.nii.gz\")\n",
    "\n",
    "    \n",
    "def save_surrogate(func, sample_niftis, _dir):\n",
    "    for fname, nifti_obj in sample_niftis:\n",
    "        func(fname=fname, nifti_obj=nifti_obj, _dir=_dir)"
   ]
  },
  {
   "cell_type": "code",
   "execution_count": 5,
   "metadata": {},
   "outputs": [
    {
     "name": "stdout",
     "output_type": "stream",
     "text": [
      "nifti\t6.91 s ± 164 ms per loop (mean ± std. dev. of 5 runs, 1 loop each)\n",
      "npz\t19.7 s ± 48.4 ms per loop (mean ± std. dev. of 5 runs, 1 loop each)\n",
      "npy\t1.12 s ± 21.1 ms per loop (mean ± std. dev. of 5 runs, 1 loop each)\n",
      "h5\t4.64 s ± 17.8 ms per loop (mean ± std. dev. of 5 runs, 1 loop each)\n"
     ]
    }
   ],
   "source": [
    "save_result, save_perf = dict(), dict()\n",
    "for extension, _dir in dirs.items():\n",
    "    print(extension, end=\"\\t\")\n",
    "    func = eval(f\"save_{extension}\")\n",
    "    timer = %timeit -o -r 5 save_surrogate(func=func, sample_niftis=sample_niftis, _dir=_dir)\n",
    "    save_result[extension] = timer\n",
    "    save_perf[extension] = timer.timings\n",
    "save_perf = pd.DataFrame(save_perf)"
   ]
  },
  {
   "cell_type": "code",
   "execution_count": 6,
   "metadata": {},
   "outputs": [
    {
     "data": {
      "text/plain": [
       "{'h5': '65M', 'nifti': '91M', 'npy': '1.1G', 'npz': '77M'}"
      ]
     },
     "execution_count": 6,
     "metadata": {},
     "output_type": "execute_result"
    }
   ],
   "source": [
    "output = subprocess.check_output(args=f\"cd {tmp_root} && ls | xargs du -sh\",\n",
    "                                 shell=True, text=True)\n",
    "\n",
    "storage_dict = dict()\n",
    "for val in output.strip().split(\"\\n\"):\n",
    "    storage, ext = val.split(\"\\t\")\n",
    "    storage_dict[ext] = storage\n",
    "storage_dict"
   ]
  },
  {
   "cell_type": "markdown",
   "metadata": {},
   "source": [
    "## 2. Loading time & Precision\n",
    "\n",
    "If saved data is well stored."
   ]
  },
  {
   "cell_type": "markdown",
   "metadata": {},
   "source": [
    "### 2.1 Check Loading Time"
   ]
  },
  {
   "cell_type": "code",
   "execution_count": 7,
   "metadata": {},
   "outputs": [],
   "source": [
    "def load_npy(fname, _dir):\n",
    "    arr = np.load(file=_dir / f\"{fname.stem}.npy\")\n",
    "    return arr\n",
    "\n",
    "def load_npz(fname, _dir):\n",
    "    arr = np.load(file=_dir / f\"{fname.stem}.npz\")[\"arr\"]\n",
    "    return arr\n",
    "    \n",
    "def load_h5(fname, _dir):\n",
    "    arr = open_h5(_dir / f\"{fname.stem}.h5\")\n",
    "    return arr\n",
    "        \n",
    "def load_nifti(fname, _dir):\n",
    "    nii = nib.nifti1.load(_dir / f\"{fname.stem}.nii.gz\")\n",
    "    return nii.get_fdata()\n",
    "\n",
    "def load_surrogate(func, sample_niftis, _dir):\n",
    "    for fname, _ in sample_niftis:\n",
    "        func(fname=fname, _dir=_dir)"
   ]
  },
  {
   "cell_type": "code",
   "execution_count": 8,
   "metadata": {},
   "outputs": [
    {
     "name": "stdout",
     "output_type": "stream",
     "text": [
      "nifti\t"
     ]
    },
    {
     "name": "stdout",
     "output_type": "stream",
     "text": [
      "2.68 s ± 6.46 ms per loop (mean ± std. dev. of 5 runs, 1 loop each)\n",
      "npz\t3.1 s ± 1.51 ms per loop (mean ± std. dev. of 5 runs, 1 loop each)\n",
      "npy\t269 ms ± 17 ms per loop (mean ± std. dev. of 5 runs, 1 loop each)\n",
      "h5\t2.79 s ± 1.2 ms per loop (mean ± std. dev. of 5 runs, 1 loop each)\n"
     ]
    }
   ],
   "source": [
    "load_result, load_perf = dict(), dict()\n",
    "for extension, _dir in dirs.items():\n",
    "    print(extension, end=\"\\t\")\n",
    "    func = eval(f\"load_{extension}\")\n",
    "    timer = %timeit -o -r 5 load_surrogate(func=func, sample_niftis=sample_niftis, _dir=_dir)\n",
    "    load_result[extension] = timer\n",
    "    load_perf[extension] = timer.timings\n",
    "load_perf = pd.DataFrame(load_perf)"
   ]
  },
  {
   "cell_type": "markdown",
   "metadata": {},
   "source": [
    "### 2.2 Check if data is well stored."
   ]
  },
  {
   "cell_type": "code",
   "execution_count": 9,
   "metadata": {},
   "outputs": [],
   "source": [
    "def compare_npy(fname, _dir, nifti_obj):\n",
    "    orig = nifti_obj.get_fdata()\n",
    "    arr = np.load(file=_dir / f\"{fname.stem}.npy\")\n",
    "    same = np.array_equal(orig, arr)\n",
    "    return same\n",
    "\n",
    "def compare_npz(fname, _dir, nifti_obj):\n",
    "    orig = nifti_obj.get_fdata()\n",
    "    arr = np.load(file=_dir / f\"{fname.stem}.npz\")[\"arr\"]\n",
    "    same = np.array_equal(orig, arr)\n",
    "    return same\n",
    "    \n",
    "def compare_h5(fname, _dir, nifti_obj):\n",
    "    orig = nifti_obj.get_fdata()\n",
    "    arr, meta = open_h5(_dir / f\"{fname.stem}.h5\")\n",
    "    same = np.array_equal(orig, arr)\n",
    "    return same\n",
    "        \n",
    "def compare_nifti(fname, _dir, nifti_obj):\n",
    "    orig = nifti_obj.get_fdata()\n",
    "    nii = nib.nifti1.load(_dir / f\"{fname.stem}.nii.gz\")\n",
    "    arr = nii.get_fdata()\n",
    "    same = np.array_equal(orig, arr)\n",
    "    return same"
   ]
  },
  {
   "cell_type": "code",
   "execution_count": 10,
   "metadata": {},
   "outputs": [
    {
     "name": "stdout",
     "output_type": "stream",
     "text": [
      "nifti: 20\n",
      "npz: 20\n",
      "npy: 20\n",
      "h5: 20\n"
     ]
    }
   ],
   "source": [
    "for extension, _dir in dirs.items():\n",
    "    cumsum = 0\n",
    "    for fname, nifti in sample_niftis:\n",
    "        cumsum += eval(f\"compare_{extension}(fname=fname, _dir=_dir, nifti_obj=nifti)\")\n",
    "    print(f\"{extension}: {cumsum}\")"
   ]
  },
  {
   "cell_type": "markdown",
   "metadata": {},
   "source": [
    "## 3. Conclusion"
   ]
  },
  {
   "cell_type": "code",
   "execution_count": 11,
   "metadata": {},
   "outputs": [
    {
     "data": {
      "text/html": [
       "<div>\n",
       "<style scoped>\n",
       "    .dataframe tbody tr th:only-of-type {\n",
       "        vertical-align: middle;\n",
       "    }\n",
       "\n",
       "    .dataframe tbody tr th {\n",
       "        vertical-align: top;\n",
       "    }\n",
       "\n",
       "    .dataframe thead th {\n",
       "        text-align: right;\n",
       "    }\n",
       "</style>\n",
       "<table border=\"1\" class=\"dataframe\">\n",
       "  <thead>\n",
       "    <tr style=\"text-align: right;\">\n",
       "      <th></th>\n",
       "      <th>Extension</th>\n",
       "      <th>Saving Time (sec)</th>\n",
       "      <th>Loading Time (sec)</th>\n",
       "      <th>Storage</th>\n",
       "    </tr>\n",
       "  </thead>\n",
       "  <tbody>\n",
       "    <tr>\n",
       "      <th>0</th>\n",
       "      <td>nifti</td>\n",
       "      <td>6.910531</td>\n",
       "      <td>2.684554</td>\n",
       "      <td>91.0</td>\n",
       "    </tr>\n",
       "    <tr>\n",
       "      <th>1</th>\n",
       "      <td>npz</td>\n",
       "      <td>19.672014</td>\n",
       "      <td>3.096104</td>\n",
       "      <td>77.0</td>\n",
       "    </tr>\n",
       "    <tr>\n",
       "      <th>2</th>\n",
       "      <td>npy</td>\n",
       "      <td>1.119445</td>\n",
       "      <td>0.268571</td>\n",
       "      <td>112.2</td>\n",
       "    </tr>\n",
       "    <tr>\n",
       "      <th>3</th>\n",
       "      <td>h5</td>\n",
       "      <td>4.642194</td>\n",
       "      <td>2.791049</td>\n",
       "      <td>65.0</td>\n",
       "    </tr>\n",
       "  </tbody>\n",
       "</table>\n",
       "</div>"
      ],
      "text/plain": [
       "  Extension Saving Time (sec) Loading Time (sec)  Storage\n",
       "0     nifti          6.910531           2.684554     91.0\n",
       "1       npz         19.672014           3.096104     77.0\n",
       "2       npy          1.119445           0.268571    112.2\n",
       "3        h5          4.642194           2.791049     65.0"
      ]
     },
     "execution_count": 11,
     "metadata": {},
     "output_type": "execute_result"
    }
   ],
   "source": [
    "save_avg = {k: v.average for k, v in save_result.items()}\n",
    "load_avg = {k: v.average for k, v in load_result.items()}\n",
    "\n",
    "perf = pd.DataFrame([save_avg, load_avg, storage_dict], index=[\"Saving Time (sec)\", \"Loading Time (sec)\", \"Storage\"]).T\n",
    "perf.reset_index(inplace=True, drop=False)\n",
    "perf.rename(mapper={\"index\": \"Extension\"}, inplace=True, axis=1)\n",
    "perf.Storage = perf.Storage.apply(lambda x: float(x[:-1]) * 102 if x.endswith(\"G\") else float(x[:-1]))\n",
    "perf"
   ]
  },
  {
   "cell_type": "code",
   "execution_count": 12,
   "metadata": {},
   "outputs": [
    {
     "name": "stderr",
     "output_type": "stream",
     "text": [
      "/tmp/ipykernel_1345621/3511646487.py:8: MatplotlibDeprecationWarning: The legendHandles attribute was deprecated in Matplotlib 3.7 and will be removed two minor releases later. Use legend_handles instead.\n",
      "  leg.legendHandles[idx]._sizes = [perf.Storage.iloc[idx - 1] * 0.9]\n",
      "/tmp/ipykernel_1345621/3511646487.py:10: MatplotlibDeprecationWarning: The legendHandles attribute was deprecated in Matplotlib 3.7 and will be removed two minor releases later. Use legend_handles instead.\n",
      "  leg.legendHandles[idx].set_visible(False)\n"
     ]
    },
    {
     "data": {
      "text/plain": [
       "Text(0.5, 1.0, 'Brain Scan Saving Format Comparison')"
      ]
     },
     "execution_count": 12,
     "metadata": {},
     "output_type": "execute_result"
    },
    {
     "data": {
      "image/png": "[encoded data removed]",
      "text/plain": [
       "<Figure size 600x400 with 1 Axes>"
      ]
     },
     "metadata": {},
     "output_type": "display_data"
    }
   ],
   "source": [
    "fig, ax = plt.subplots(figsize=(6, 4))\n",
    "sns.scatterplot(data=perf, x=\"Saving Time (sec)\", y=\"Loading Time (sec)\", hue=\"Extension\",\n",
    "                ax=ax, size=\"Storage\", sizes=(200, 2200));\n",
    "ax.set_xlim([-0.9, 22])\n",
    "ax.set_ylim([-0.9, 3.7])\n",
    "leg = ax.legend()\n",
    "for idx in range(1, 5):\n",
    "    leg.legendHandles[idx]._sizes = [perf.Storage.iloc[idx - 1] * 0.9]\n",
    "for idx in range(5, 10):\n",
    "    leg.legendHandles[idx].set_visible(False)\n",
    "\n",
    "ax.set_title(\"Brain Scan Saving Format Comparison\")"
   ]
  },
  {
   "cell_type": "markdown",
   "metadata": {},
   "source": [
    "`.h5`가 제일 합리적인 것으로마무리."
   ]
  },
  {
   "cell_type": "markdown",
   "metadata": {},
   "source": [
    "# DataLoader speed comparison\n",
    "\n",
    "`.npy`로 변경은 다했는데 lightning에서 속도가 너무 느려서 실제로 시간 비교해보기\n",
    "\n",
    "`.h5`와 `.npy` 둘 다 HDD에 박혀잇는데 시간차이가 왜 많이 나는지 알 수 없음."
   ]
  },
  {
   "cell_type": "code",
   "execution_count": 1,
   "metadata": {},
   "outputs": [
    {
     "name": "stderr",
     "output_type": "stream",
     "text": [
      "/home/1phantasmas/.conda/envs/age/lib/python3.10/site-packages/IPython/core/magics/osm.py:417: UserWarning: using dhist requires you to install the `pickleshare` library.\n",
      "  self.shell.db['dhist'] = compress_dhist(dhist)[-100:]\n"
     ]
    },
    {
     "name": "stdout",
     "output_type": "stream",
     "text": [
      "/home/1phantasmas/brain-age-prediction\n"
     ]
    },
    {
     "name": "stderr",
     "output_type": "stream",
     "text": [
      "INFO:sage.data.dataloader:Setting up UKBiobank Dataset\n",
      "INFO:sage.data.dataloader:No exclusion file found. biobank/exclusion.csv\n",
      "INFO:sage.data.dataloader:Total 3029 files of test .h5 exist\n",
      "INFO:sage.data.dataloader:Setting up UKBiobank Dataset\n",
      "INFO:sage.data.dataloader:No exclusion file found. /home/data/hdd01/biobank_npy/exclusion.csv\n",
      "INFO:sage.data.dataloader:Total 3029 files of test .npy exist\n"
     ]
    }
   ],
   "source": [
    "%cd ..\n",
    "from torch.utils.data import DataLoader\n",
    "\n",
    "from sage.data.dataloader import UKBDataset\n",
    "\n",
    "h5_ds = UKBDataset(mode=\"test\",)\n",
    "npy_ds = UKBDataset(root=\"/home/data/hdd01/biobank_npy\", mode=\"test\", extension=\".npy\")\n",
    "\n",
    "h5_dl = DataLoader(h5_ds, batch_size=32, shuffle=True, num_workers=8)\n",
    "npy_dl = DataLoader(npy_ds, batch_size=32, shuffle=True, num_workers=8)"
   ]
  },
  {
   "cell_type": "code",
   "execution_count": 2,
   "metadata": {},
   "outputs": [],
   "source": [
    "stop_idx = 10"
   ]
  },
  {
   "cell_type": "code",
   "execution_count": 3,
   "metadata": {},
   "outputs": [
    {
     "name": "stdout",
     "output_type": "stream",
     "text": [
      "23.3 s ± 3.41 s per loop (mean ± std. dev. of 7 runs, 1 loop each)\n"
     ]
    }
   ],
   "source": [
    "%%timeit\n",
    "for idx, batch in enumerate(h5_dl):\n",
    "    batch_ = batch\n",
    "    if idx == stop_idx:\n",
    "        break"
   ]
  },
  {
   "cell_type": "code",
   "execution_count": 11,
   "metadata": {},
   "outputs": [
    {
     "data": {
      "text/plain": [
       "320"
      ]
     },
     "execution_count": 11,
     "metadata": {},
     "output_type": "execute_result"
    }
   ],
   "source": [
    "from pathlib import Path\n",
    "import random\n",
    "\n",
    "selected_npy = random.choices(population=h5_ds.files, k=320)\n",
    "selected_npy = [\"biobank_npy\" / Path(f\"{f.stem}.npy\") for f in selected_npy]\n",
    "sum(p.exists() for p in selected_npy)"
   ]
  },
  {
   "cell_type": "code",
   "execution_count": 12,
   "metadata": {},
   "outputs": [
    {
     "name": "stderr",
     "output_type": "stream",
     "text": [
      "100%|██████████| 320/320 [01:31<00:00,  3.50it/s]\n"
     ]
    }
   ],
   "source": [
    "import subprocess\n",
    "from tqdm import tqdm\n",
    "\n",
    "# for npy in tqdm(selected_npy):\n",
    "#     subprocess.run([\"cp\", npy, f\"/home/data/hdd01/tmp_npy/{npy.stem}.npy\"])"
   ]
  },
  {
   "cell_type": "code",
   "execution_count": 3,
   "metadata": {},
   "outputs": [
    {
     "name": "stderr",
     "output_type": "stream",
     "text": [
      "INFO:sage.data.dataloader:Setting up UKBiobank Dataset\n",
      "INFO:sage.data.dataloader:No exclusion file found. /home/data/hdd01/tmp_npy/exclusion.csv\n",
      "INFO:sage.data.dataloader:Total 306 files of test .npy exist\n"
     ]
    }
   ],
   "source": [
    "hdd01_npy_ds = UKBDataset(root=\"/home/data/hdd01/tmp_npy\", mode=\"test\", extension=\".npy\")\n",
    "hdd01_npy_dl_nw0 = DataLoader(hdd01_npy_ds, batch_size=32, shuffle=True, num_workers=0)\n",
    "hdd01_npy_dl_nw4 = DataLoader(hdd01_npy_ds, batch_size=32, shuffle=True, num_workers=4)\n",
    "hdd01_npy_dl_nw8 = DataLoader(hdd01_npy_ds, batch_size=32, shuffle=True, num_workers=8)"
   ]
  },
  {
   "cell_type": "code",
   "execution_count": 4,
   "metadata": {},
   "outputs": [
    {
     "name": "stdout",
     "output_type": "stream",
     "text": [
      "The slowest run took 244.79 times longer than the fastest. This could mean that an intermediate result is being cached.\n",
      "842 ms ± 1.5 s per loop (mean ± std. dev. of 7 runs, 1 loop each)\n"
     ]
    }
   ],
   "source": [
    "%timeit hdd01_npy_ds[0]"
   ]
  },
  {
   "cell_type": "code",
   "execution_count": 6,
   "metadata": {},
   "outputs": [
    {
     "name": "stderr",
     "output_type": "stream",
     "text": [
      "INFO:sage.data.dataloader:Setting up UKBiobank Dataset\n",
      "INFO:sage.data.dataloader:No exclusion file found. tmp_npy/exclusion.csv\n",
      "INFO:sage.data.dataloader:Total 306 files of test .npy exist\n"
     ]
    }
   ],
   "source": [
    "ssd_npy_ds = UKBDataset(root=\"tmp_npy\", mode=\"test\", extension=\".npy\")\n",
    "ssd_npy_dl_nw0 = DataLoader(ssd_npy_ds, batch_size=32, shuffle=True, num_workers=0)\n",
    "ssd_npy_dl_nw4 = DataLoader(ssd_npy_ds, batch_size=32, shuffle=True, num_workers=4)\n",
    "ssd_npy_dl_nw8 = DataLoader(ssd_npy_ds, batch_size=32, shuffle=True, num_workers=8)"
   ]
  },
  {
   "cell_type": "code",
   "execution_count": 7,
   "metadata": {},
   "outputs": [
    {
     "name": "stdout",
     "output_type": "stream",
     "text": [
      "21.6 ms ± 1.27 ms per loop (mean ± std. dev. of 7 runs, 100 loops each)\n"
     ]
    }
   ],
   "source": [
    "%timeit ssd_npy_ds[0]"
   ]
  },
  {
   "cell_type": "code",
   "execution_count": 15,
   "metadata": {},
   "outputs": [
    {
     "name": "stderr",
     "output_type": "stream",
     "text": [
      "INFO:sage.data.dataloader:Setting up UKBiobank Dataset\n",
      "INFO:sage.data.dataloader:No exclusion file found. /home/data/hdd03/tmp_npy/exclusion.csv\n",
      "INFO:sage.data.dataloader:Total 306 files of test .npy exist\n"
     ]
    }
   ],
   "source": [
    "hdd03_npy_ds = UKBDataset(root=\"/home/data/hdd03/tmp_npy\", mode=\"test\", extension=\".npy\")\n",
    "hdd03_npy_dl_nw0 = DataLoader(hdd03_npy_ds, batch_size=32, shuffle=True, num_workers=0)\n",
    "hdd03_npy_dl_nw4 = DataLoader(hdd03_npy_ds, batch_size=32, shuffle=True, num_workers=4)\n",
    "hdd03_npy_dl_nw8 = DataLoader(hdd03_npy_ds, batch_size=32, shuffle=True, num_workers=8)"
   ]
  },
  {
   "cell_type": "code",
   "execution_count": 16,
   "metadata": {},
   "outputs": [
    {
     "name": "stdout",
     "output_type": "stream",
     "text": [
      "21.7 ms ± 3.13 ms per loop (mean ± std. dev. of 7 runs, 1 loop each)\n"
     ]
    }
   ],
   "source": [
    "%timeit hdd03_npy_ds[0]"
   ]
  },
  {
   "cell_type": "code",
   "execution_count": 8,
   "metadata": {},
   "outputs": [],
   "source": [
    "stop_idx = 5"
   ]
  },
  {
   "cell_type": "code",
   "execution_count": 9,
   "metadata": {},
   "outputs": [
    {
     "name": "stdout",
     "output_type": "stream",
     "text": [
      "The slowest run took 4.13 times longer than the fastest. This could mean that an intermediate result is being cached.\n",
      "10.3 s ± 5.71 s per loop (mean ± std. dev. of 7 runs, 1 loop each)\n"
     ]
    }
   ],
   "source": [
    "%%timeit\n",
    "for idx, batch in enumerate(hdd01_npy_dl_nw0):\n",
    "    batch_ = batch\n",
    "    if idx == stop_idx:\n",
    "        break"
   ]
  },
  {
   "cell_type": "code",
   "execution_count": 10,
   "metadata": {},
   "outputs": [
    {
     "name": "stdout",
     "output_type": "stream",
     "text": [
      "6.69 s ± 712 ms per loop (mean ± std. dev. of 7 runs, 1 loop each)\n"
     ]
    }
   ],
   "source": [
    "%%timeit\n",
    "for idx, batch in enumerate(hdd01_npy_dl_nw4):\n",
    "    batch_ = batch\n",
    "    if idx == stop_idx:\n",
    "        break"
   ]
  },
  {
   "cell_type": "code",
   "execution_count": 11,
   "metadata": {},
   "outputs": [
    {
     "name": "stdout",
     "output_type": "stream",
     "text": [
      "5.81 s ± 423 ms per loop (mean ± std. dev. of 7 runs, 1 loop each)\n"
     ]
    }
   ],
   "source": [
    "%%timeit\n",
    "for idx, batch in enumerate(hdd01_npy_dl_nw8):\n",
    "    batch_ = batch\n",
    "    if idx == stop_idx:\n",
    "        break"
   ]
  },
  {
   "cell_type": "code",
   "execution_count": 12,
   "metadata": {},
   "outputs": [
    {
     "name": "stdout",
     "output_type": "stream",
     "text": [
      "5.94 s ± 336 ms per loop (mean ± std. dev. of 7 runs, 1 loop each)\n"
     ]
    }
   ],
   "source": [
    "%%timeit\n",
    "for idx, batch in enumerate(ssd_npy_dl_nw0):\n",
    "    batch_ = batch\n",
    "    if idx == stop_idx:\n",
    "        break"
   ]
  },
  {
   "cell_type": "code",
   "execution_count": 13,
   "metadata": {},
   "outputs": [
    {
     "name": "stdout",
     "output_type": "stream",
     "text": [
      "7.57 s ± 349 ms per loop (mean ± std. dev. of 7 runs, 1 loop each)\n"
     ]
    }
   ],
   "source": [
    "%%timeit\n",
    "for idx, batch in enumerate(ssd_npy_dl_nw4):\n",
    "    batch_ = batch\n",
    "    if idx == stop_idx:\n",
    "        break"
   ]
  },
  {
   "cell_type": "code",
   "execution_count": 14,
   "metadata": {},
   "outputs": [
    {
     "name": "stdout",
     "output_type": "stream",
     "text": [
      "5.97 s ± 405 ms per loop (mean ± std. dev. of 7 runs, 1 loop each)\n"
     ]
    }
   ],
   "source": [
    "%%timeit\n",
    "for idx, batch in enumerate(ssd_npy_dl_nw8):\n",
    "    batch_ = batch\n",
    "    if idx == stop_idx:\n",
    "        break"
   ]
  },
  {
   "cell_type": "code",
   "execution_count": 17,
   "metadata": {},
   "outputs": [
    {
     "name": "stdout",
     "output_type": "stream",
     "text": [
      "20.7 s ± 5.73 s per loop (mean ± std. dev. of 7 runs, 1 loop each)\n"
     ]
    }
   ],
   "source": [
    "%%timeit\n",
    "for idx, batch in enumerate(hdd03_npy_dl_nw0):\n",
    "    batch_ = batch\n",
    "    if idx == stop_idx:\n",
    "        break"
   ]
  },
  {
   "cell_type": "code",
   "execution_count": 18,
   "metadata": {},
   "outputs": [
    {
     "name": "stdout",
     "output_type": "stream",
     "text": [
      "8.04 s ± 561 ms per loop (mean ± std. dev. of 7 runs, 1 loop each)\n"
     ]
    }
   ],
   "source": [
    "%%timeit\n",
    "for idx, batch in enumerate(hdd03_npy_dl_nw4):\n",
    "    batch_ = batch\n",
    "    if idx == stop_idx:\n",
    "        break"
   ]
  },
  {
   "cell_type": "code",
   "execution_count": 20,
   "metadata": {},
   "outputs": [
    {
     "name": "stdout",
     "output_type": "stream",
     "text": [
      "The slowest run took 7.33 times longer than the fastest. This could mean that an intermediate result is being cached.\n",
      "17.2 s ± 12.6 s per loop (mean ± std. dev. of 7 runs, 1 loop each)\n"
     ]
    }
   ],
   "source": [
    "%%timeit\n",
    "for idx, batch in enumerate(hdd03_npy_dl_nw8):\n",
    "    batch_ = batch\n",
    "    if idx == stop_idx:\n",
    "        break"
   ]
  },
  {
   "cell_type": "code",
   "execution_count": null,
   "metadata": {},
   "outputs": [],
   "source": []
  }
 ],
 "metadata": {
  "kernelspec": {
   "display_name": "age",
   "language": "python",
   "name": "python3"
  },
  "language_info": {
   "codemirror_mode": {
    "name": "ipython",
    "version": 3
   },
   "file_extension": ".py",
   "mimetype": "text/x-python",
   "name": "python",
   "nbconvert_exporter": "python",
   "pygments_lexer": "ipython3",
   "version": "3.10.13"
  },
  "orig_nbformat": 4
 },
 "nbformat": 4,
 "nbformat_minor": 2
}
