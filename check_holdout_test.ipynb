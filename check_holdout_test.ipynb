{
 "cells": [
  {
   "cell_type": "code",
   "execution_count": 2,
   "metadata": {},
   "outputs": [],
   "source": [
    "from pathlib import Path\n",
    "import subprocess\n",
    "\n",
    "import pandas as pd\n",
    "import matplotlib.pyplot as plt\n",
    "import seaborn as sns\n",
    "sns.set_theme()\n",
    "from tqdm import tqdm\n",
    "\n",
    "label = pd.read_csv(\"/1pha/biobank-h5/h5/ukb_age_label.csv\")\n",
    "_label = label.fname.apply(lambda s: s.split(\"_\")[0])"
   ]
  },
  {
   "cell_type": "markdown",
   "metadata": {},
   "source": [
    "### Patient Pick-up Pipeline"
   ]
  },
  {
   "cell_type": "markdown",
   "metadata": {},
   "source": [
    "1. Remove Duplicate sessions\n",
    "2. Exclude Hard-coded test non-registrated sessions\n",
    "\n",
    "Save 1 & 2 results somewhere ..."
   ]
  },
  {
   "cell_type": "markdown",
   "metadata": {},
   "source": [
    "#### 1. Remove Duplicate Sessions"
   ]
  },
  {
   "cell_type": "code",
   "execution_count": 3,
   "metadata": {},
   "outputs": [],
   "source": [
    "_dups_bool = _label.duplicated(keep=False)\n",
    "label_nodups = label[~_dups_bool]"
   ]
  },
  {
   "cell_type": "markdown",
   "metadata": {},
   "source": [
    "Duplicated sessions EDA"
   ]
  },
  {
   "cell_type": "code",
   "execution_count": 4,
   "metadata": {},
   "outputs": [
    {
     "name": "stderr",
     "output_type": "stream",
     "text": [
      "/tmp/ipykernel_7060/3920320138.py:2: SettingWithCopyWarning: \n",
      "A value is trying to be set on a copy of a slice from a DataFrame.\n",
      "Try using .loc[row_indexer,col_indexer] = value instead\n",
      "\n",
      "See the caveats in the documentation: https://pandas.pydata.org/pandas-docs/stable/user_guide/indexing.html#returning-a-view-versus-a-copy\n",
      "  label_dups.loc[:, \"pid\"] = label_dups.fname.apply(lambda s: s.split(\"_\")[0])\n"
     ]
    }
   ],
   "source": [
    "label_dups = label[_dups_bool]\n",
    "label_dups.loc[:, \"pid\"] = label_dups.fname.apply(lambda s: s.split(\"_\")[0])\n",
    "label_dups = label_dups.sort_values(by=[\"pid\", \"age\"])"
   ]
  },
  {
   "cell_type": "code",
   "execution_count": 5,
   "metadata": {},
   "outputs": [],
   "source": [
    "def sub(ser):\n",
    "    return ser.iloc[-1] - ser.iloc[0]\n",
    "\n",
    "dist = label_dups.groupby(\"pid\").agg({\"age\": [\"mean\", sub]})"
   ]
  },
  {
   "cell_type": "code",
   "execution_count": 6,
   "metadata": {},
   "outputs": [
    {
     "data": {
      "text/plain": [
       "sub\n",
       "1.0       7\n",
       "2.0    2286\n",
       "3.0     838\n",
       "4.0      14\n",
       "5.0      25\n",
       "6.0      20\n",
       "7.0       8\n",
       "Name: count, dtype: int64"
      ]
     },
     "execution_count": 6,
     "metadata": {},
     "output_type": "execute_result"
    }
   ],
   "source": [
    "dist.age[\"sub\"].value_counts().sort_index()"
   ]
  },
  {
   "cell_type": "code",
   "execution_count": 7,
   "metadata": {},
   "outputs": [
    {
     "data": {
      "text/plain": [
       "<Axes: >"
      ]
     },
     "execution_count": 7,
     "metadata": {},
     "output_type": "execute_result"
    },
    {
     "data": {
      "image/png": "[encoded data removed]",
      "text/plain": [
       "<Figure size 640x480 with 1 Axes>"
      ]
     },
     "metadata": {},
     "output_type": "display_data"
    }
   ],
   "source": [
    "dist.age[\"sub\"].hist()"
   ]
  },
  {
   "cell_type": "markdown",
   "metadata": {},
   "source": [
    "### 2. Remove Non-reg hold-out test"
   ]
  },
  {
   "cell_type": "code",
   "execution_count": 8,
   "metadata": {},
   "outputs": [],
   "source": [
    "with open(\"/1pha/nonreg-test.txt\", mode=\"r\") as f:\n",
    "    nonreg = f.readlines()\n",
    "nonreg = [s.rstrip(\"\\n\") for s in nonreg]\n",
    "nonreg = [s.split(\"-\")[0] for s in nonreg]\n",
    "\n",
    "_label_nodups = label_nodups.fname.apply(lambda s: s.split(\"_\")[0])\n",
    "_nonreg_label = _label_nodups.isin(nonreg)"
   ]
  },
  {
   "cell_type": "code",
   "execution_count": 9,
   "metadata": {},
   "outputs": [
    {
     "data": {
      "text/html": [
       "<div>\n",
       "<style scoped>\n",
       "    .dataframe tbody tr th:only-of-type {\n",
       "        vertical-align: middle;\n",
       "    }\n",
       "\n",
       "    .dataframe tbody tr th {\n",
       "        vertical-align: top;\n",
       "    }\n",
       "\n",
       "    .dataframe thead th {\n",
       "        text-align: right;\n",
       "    }\n",
       "</style>\n",
       "<table border=\"1\" class=\"dataframe\">\n",
       "  <thead>\n",
       "    <tr style=\"text-align: right;\">\n",
       "      <th></th>\n",
       "      <th>fname</th>\n",
       "      <th>age</th>\n",
       "    </tr>\n",
       "  </thead>\n",
       "  <tbody>\n",
       "    <tr>\n",
       "      <th>0</th>\n",
       "      <td>1000126_20252_2_0</td>\n",
       "      <td>66.0</td>\n",
       "    </tr>\n",
       "    <tr>\n",
       "      <th>1</th>\n",
       "      <td>1000190_20252_2_0</td>\n",
       "      <td>54.0</td>\n",
       "    </tr>\n",
       "    <tr>\n",
       "      <th>2</th>\n",
       "      <td>1000239_20252_2_0</td>\n",
       "      <td>67.0</td>\n",
       "    </tr>\n",
       "    <tr>\n",
       "      <th>3</th>\n",
       "      <td>1000497_20252_2_0</td>\n",
       "      <td>74.0</td>\n",
       "    </tr>\n",
       "    <tr>\n",
       "      <th>6</th>\n",
       "      <td>1000641_20252_2_0</td>\n",
       "      <td>53.0</td>\n",
       "    </tr>\n",
       "    <tr>\n",
       "      <th>...</th>\n",
       "      <td>...</td>\n",
       "      <td>...</td>\n",
       "    </tr>\n",
       "    <tr>\n",
       "      <th>3795</th>\n",
       "      <td>1403381_20252_2_0</td>\n",
       "      <td>74.0</td>\n",
       "    </tr>\n",
       "    <tr>\n",
       "      <th>3798</th>\n",
       "      <td>1404267_20252_2_0</td>\n",
       "      <td>66.0</td>\n",
       "    </tr>\n",
       "    <tr>\n",
       "      <th>3799</th>\n",
       "      <td>1404323_20252_2_0</td>\n",
       "      <td>66.0</td>\n",
       "    </tr>\n",
       "    <tr>\n",
       "      <th>3801</th>\n",
       "      <td>1404420_20252_2_0</td>\n",
       "      <td>55.0</td>\n",
       "    </tr>\n",
       "    <tr>\n",
       "      <th>3802</th>\n",
       "      <td>1404451_20252_2_0</td>\n",
       "      <td>77.0</td>\n",
       "    </tr>\n",
       "  </tbody>\n",
       "</table>\n",
       "<p>3029 rows × 2 columns</p>\n",
       "</div>"
      ],
      "text/plain": [
       "                  fname   age\n",
       "0     1000126_20252_2_0  66.0\n",
       "1     1000190_20252_2_0  54.0\n",
       "2     1000239_20252_2_0  67.0\n",
       "3     1000497_20252_2_0  74.0\n",
       "6     1000641_20252_2_0  53.0\n",
       "...                 ...   ...\n",
       "3795  1403381_20252_2_0  74.0\n",
       "3798  1404267_20252_2_0  66.0\n",
       "3799  1404323_20252_2_0  66.0\n",
       "3801  1404420_20252_2_0  55.0\n",
       "3802  1404451_20252_2_0  77.0\n",
       "\n",
       "[3029 rows x 2 columns]"
      ]
     },
     "execution_count": 9,
     "metadata": {},
     "output_type": "execute_result"
    }
   ],
   "source": [
    "label_nodups[_nonreg_label]"
   ]
  },
  {
   "cell_type": "code",
   "execution_count": 10,
   "metadata": {},
   "outputs": [
    {
     "data": {
      "text/plain": [
       "<Axes: >"
      ]
     },
     "execution_count": 10,
     "metadata": {},
     "output_type": "execute_result"
    },
    {
     "data": {
      "image/png": "[encoded data removed]",
      "text/plain": [
       "<Figure size 640x480 with 1 Axes>"
      ]
     },
     "metadata": {},
     "output_type": "display_data"
    }
   ],
   "source": [
    "label_nodups[_nonreg_label].age.hist()"
   ]
  },
  {
   "cell_type": "code",
   "execution_count": 11,
   "metadata": {},
   "outputs": [
    {
     "data": {
      "text/plain": [
       "(3029, 3262)"
      ]
     },
     "execution_count": 11,
     "metadata": {},
     "output_type": "execute_result"
    }
   ],
   "source": [
    "sum(_nonreg_label), len(nonreg)"
   ]
  },
  {
   "cell_type": "markdown",
   "metadata": {},
   "source": [
    "### 3. Sample out VBMs"
   ]
  },
  {
   "cell_type": "code",
   "execution_count": 10,
   "metadata": {},
   "outputs": [],
   "source": [
    "seed = 42\n",
    "vbm_candidates = label_nodups[_nonreg_label]"
   ]
  },
  {
   "cell_type": "code",
   "execution_count": 11,
   "metadata": {},
   "outputs": [],
   "source": [
    "VBM_PATH = Path(\"./vbm/\")\n",
    "VBM_PATH.mkdir(exist_ok=True)\n",
    "\n",
    "(VBM_PATH / \"meta\").mkdir(exist_ok=True)"
   ]
  },
  {
   "cell_type": "code",
   "execution_count": 12,
   "metadata": {},
   "outputs": [
    {
     "data": {
      "text/html": [
       "<div>\n",
       "<style scoped>\n",
       "    .dataframe tbody tr th:only-of-type {\n",
       "        vertical-align: middle;\n",
       "    }\n",
       "\n",
       "    .dataframe tbody tr th {\n",
       "        vertical-align: top;\n",
       "    }\n",
       "\n",
       "    .dataframe thead th {\n",
       "        text-align: right;\n",
       "    }\n",
       "</style>\n",
       "<table border=\"1\" class=\"dataframe\">\n",
       "  <thead>\n",
       "    <tr style=\"text-align: right;\">\n",
       "      <th></th>\n",
       "      <th>fname</th>\n",
       "      <th>age</th>\n",
       "    </tr>\n",
       "  </thead>\n",
       "  <tbody>\n",
       "    <tr>\n",
       "      <th>62</th>\n",
       "      <td>1006854_20252_2_0</td>\n",
       "      <td>79.0</td>\n",
       "    </tr>\n",
       "    <tr>\n",
       "      <th>143</th>\n",
       "      <td>1015844_20252_2_0</td>\n",
       "      <td>78.0</td>\n",
       "    </tr>\n",
       "    <tr>\n",
       "      <th>163</th>\n",
       "      <td>1018063_20252_2_0</td>\n",
       "      <td>80.0</td>\n",
       "    </tr>\n",
       "    <tr>\n",
       "      <th>165</th>\n",
       "      <td>1018312_20252_2_0</td>\n",
       "      <td>80.0</td>\n",
       "    </tr>\n",
       "    <tr>\n",
       "      <th>167</th>\n",
       "      <td>1018562_20252_2_0</td>\n",
       "      <td>79.0</td>\n",
       "    </tr>\n",
       "    <tr>\n",
       "      <th>...</th>\n",
       "      <td>...</td>\n",
       "      <td>...</td>\n",
       "    </tr>\n",
       "    <tr>\n",
       "      <th>3730</th>\n",
       "      <td>1396568_20252_2_0</td>\n",
       "      <td>79.0</td>\n",
       "    </tr>\n",
       "    <tr>\n",
       "      <th>3731</th>\n",
       "      <td>1396577_20252_2_0</td>\n",
       "      <td>77.0</td>\n",
       "    </tr>\n",
       "    <tr>\n",
       "      <th>3745</th>\n",
       "      <td>1397981_20252_2_0</td>\n",
       "      <td>80.0</td>\n",
       "    </tr>\n",
       "    <tr>\n",
       "      <th>3791</th>\n",
       "      <td>1402836_20252_2_0</td>\n",
       "      <td>78.0</td>\n",
       "    </tr>\n",
       "    <tr>\n",
       "      <th>3802</th>\n",
       "      <td>1404451_20252_2_0</td>\n",
       "      <td>77.0</td>\n",
       "    </tr>\n",
       "  </tbody>\n",
       "</table>\n",
       "<p>129 rows × 2 columns</p>\n",
       "</div>"
      ],
      "text/plain": [
       "                  fname   age\n",
       "62    1006854_20252_2_0  79.0\n",
       "143   1015844_20252_2_0  78.0\n",
       "163   1018063_20252_2_0  80.0\n",
       "165   1018312_20252_2_0  80.0\n",
       "167   1018562_20252_2_0  79.0\n",
       "...                 ...   ...\n",
       "3730  1396568_20252_2_0  79.0\n",
       "3731  1396577_20252_2_0  77.0\n",
       "3745  1397981_20252_2_0  80.0\n",
       "3791  1402836_20252_2_0  78.0\n",
       "3802  1404451_20252_2_0  77.0\n",
       "\n",
       "[129 rows x 2 columns]"
      ]
     },
     "execution_count": 12,
     "metadata": {},
     "output_type": "execute_result"
    }
   ],
   "source": [
    "old_vbm = vbm_candidates[vbm_candidates.age > 76]\n",
    "old_vbm"
   ]
  },
  {
   "cell_type": "code",
   "execution_count": 13,
   "metadata": {},
   "outputs": [
    {
     "data": {
      "text/html": [
       "<div>\n",
       "<style scoped>\n",
       "    .dataframe tbody tr th:only-of-type {\n",
       "        vertical-align: middle;\n",
       "    }\n",
       "\n",
       "    .dataframe tbody tr th {\n",
       "        vertical-align: top;\n",
       "    }\n",
       "\n",
       "    .dataframe thead th {\n",
       "        text-align: right;\n",
       "    }\n",
       "</style>\n",
       "<table border=\"1\" class=\"dataframe\">\n",
       "  <thead>\n",
       "    <tr style=\"text-align: right;\">\n",
       "      <th></th>\n",
       "      <th>fname</th>\n",
       "      <th>age</th>\n",
       "    </tr>\n",
       "  </thead>\n",
       "  <tbody>\n",
       "    <tr>\n",
       "      <th>1</th>\n",
       "      <td>1000190_20252_2_0</td>\n",
       "      <td>54.0</td>\n",
       "    </tr>\n",
       "    <tr>\n",
       "      <th>6</th>\n",
       "      <td>1000641_20252_2_0</td>\n",
       "      <td>53.0</td>\n",
       "    </tr>\n",
       "    <tr>\n",
       "      <th>9</th>\n",
       "      <td>1000715_20252_2_0</td>\n",
       "      <td>50.0</td>\n",
       "    </tr>\n",
       "    <tr>\n",
       "      <th>14</th>\n",
       "      <td>1001456_20252_2_0</td>\n",
       "      <td>51.0</td>\n",
       "    </tr>\n",
       "    <tr>\n",
       "      <th>19</th>\n",
       "      <td>1002143_20252_2_0</td>\n",
       "      <td>52.0</td>\n",
       "    </tr>\n",
       "    <tr>\n",
       "      <th>...</th>\n",
       "      <td>...</td>\n",
       "      <td>...</td>\n",
       "    </tr>\n",
       "    <tr>\n",
       "      <th>3752</th>\n",
       "      <td>1398893_20252_2_0</td>\n",
       "      <td>54.0</td>\n",
       "    </tr>\n",
       "    <tr>\n",
       "      <th>3755</th>\n",
       "      <td>1399161_20252_2_0</td>\n",
       "      <td>54.0</td>\n",
       "    </tr>\n",
       "    <tr>\n",
       "      <th>3764</th>\n",
       "      <td>1400285_20252_2_0</td>\n",
       "      <td>49.0</td>\n",
       "    </tr>\n",
       "    <tr>\n",
       "      <th>3770</th>\n",
       "      <td>1400900_20252_2_0</td>\n",
       "      <td>53.0</td>\n",
       "    </tr>\n",
       "    <tr>\n",
       "      <th>3779</th>\n",
       "      <td>1401587_20252_2_0</td>\n",
       "      <td>52.0</td>\n",
       "    </tr>\n",
       "  </tbody>\n",
       "</table>\n",
       "<p>374 rows × 2 columns</p>\n",
       "</div>"
      ],
      "text/plain": [
       "                  fname   age\n",
       "1     1000190_20252_2_0  54.0\n",
       "6     1000641_20252_2_0  53.0\n",
       "9     1000715_20252_2_0  50.0\n",
       "14    1001456_20252_2_0  51.0\n",
       "19    1002143_20252_2_0  52.0\n",
       "...                 ...   ...\n",
       "3752  1398893_20252_2_0  54.0\n",
       "3755  1399161_20252_2_0  54.0\n",
       "3764  1400285_20252_2_0  49.0\n",
       "3770  1400900_20252_2_0  53.0\n",
       "3779  1401587_20252_2_0  52.0\n",
       "\n",
       "[374 rows x 2 columns]"
      ]
     },
     "execution_count": 13,
     "metadata": {},
     "output_type": "execute_result"
    }
   ],
   "source": [
    "young_vbm = vbm_candidates[vbm_candidates.age < 55]\n",
    "young_vbm"
   ]
  },
  {
   "cell_type": "code",
   "execution_count": 14,
   "metadata": {},
   "outputs": [
    {
     "name": "stdout",
     "output_type": "stream",
     "text": [
      "100\n"
     ]
    }
   ],
   "source": [
    "n_vbm = min(100, min(len(old_vbm), len(young_vbm)))\n",
    "print(n_vbm)"
   ]
  },
  {
   "cell_type": "code",
   "execution_count": 15,
   "metadata": {},
   "outputs": [],
   "source": [
    "old = old_vbm.sample(n=n_vbm, random_state=seed)\n",
    "old.age.to_csv(VBM_PATH / \"meta\" / \"old_age.txt\", index=False)\n",
    "old.to_csv(VBM_PATH / \"meta\" / \"old.txt\", index=False)\n",
    "\n",
    "young = young_vbm.sample(n=n_vbm, random_state=seed)\n",
    "young.age.to_csv(VBM_PATH / \"meta\" / \"young_age.txt\", index=False)\n",
    "young.to_csv(VBM_PATH / \"meta\" / \"young.txt\", index=False)"
   ]
  },
  {
   "cell_type": "code",
   "execution_count": 16,
   "metadata": {},
   "outputs": [],
   "source": [
    "NONREG_PATH = Path(\"/1pha/biobank_brainmask\")"
   ]
  },
  {
   "cell_type": "code",
   "execution_count": 17,
   "metadata": {},
   "outputs": [],
   "source": [
    "def fix_fname(s: str):\n",
    "    return NONREG_PATH / f\"{s.split('_')[0]}-biobank-brainmask.nii\"\n",
    "old_fnames = old.fname.apply(fix_fname)\n",
    "young_fnames = young.fname.apply(fix_fname)"
   ]
  },
  {
   "cell_type": "code",
   "execution_count": 18,
   "metadata": {},
   "outputs": [],
   "source": [
    "YOUNG_PATH = VBM_PATH / \"young\"\n",
    "YOUNG_PATH.mkdir(exist_ok=True)\n",
    "for fname in tqdm(young_fnames.values):\n",
    "    _path = YOUNG_PATH / fname.stem\n",
    "    _path.mkdir(exist_ok=True)\n",
    "    subprocess.run(args=[\"cp\", fname, YOUNG_PATH / fname.stem])"
   ]
  },
  {
   "cell_type": "code",
   "execution_count": 20,
   "metadata": {},
   "outputs": [
    {
     "name": "stderr",
     "output_type": "stream",
     "text": [
      "100%|██████████| 100/100 [00:05<00:00, 17.03it/s]\n"
     ]
    }
   ],
   "source": [
    "OLD_PATH = VBM_PATH / \"old\"\n",
    "OLD_PATH.mkdir(exist_ok=True)\n",
    "for fname in tqdm(old_fnames.values):\n",
    "    _path = OLD_PATH / fname.stem\n",
    "    _path.mkdir(exist_ok=True)\n",
    "    subprocess.run(args=[\"cp\", fname, OLD_PATH / fname.stem])"
   ]
  },
  {
   "cell_type": "code",
   "execution_count": 23,
   "metadata": {},
   "outputs": [
    {
     "name": "stdout",
     "output_type": "stream",
     "text": [
      "100\n",
      "100\n"
     ]
    }
   ],
   "source": [
    "# sanity check\n",
    "!ls $OLD_PATH | wc -l\n",
    "!ls $YOUNG_PATH | wc -l"
   ]
  },
  {
   "cell_type": "markdown",
   "metadata": {},
   "source": [
    "### 4. Train/Test dataset"
   ]
  },
  {
   "cell_type": "code",
   "execution_count": 15,
   "metadata": {},
   "outputs": [],
   "source": [
    "files = sorted(Path(\"/1pha/biobank-h5/h5\").rglob(\"*.h5\"))"
   ]
  },
  {
   "cell_type": "code",
   "execution_count": 44,
   "metadata": {},
   "outputs": [],
   "source": [
    "label_nodups[~_nonreg_label].to_csv(\"/1pha/biobank-h5/h5/ukb_trainval_age.csv\", index=False)\n",
    "label_nodups[_nonreg_label].to_csv(\"/1pha/biobank-h5/h5/ukb_test_age.csv\", index=False)"
   ]
  },
  {
   "cell_type": "code",
   "execution_count": 51,
   "metadata": {},
   "outputs": [],
   "source": [
    "# trainval_pid = set(label_nodups[~_nonreg_label].fname)\n",
    "trainval_pid = set(pd.read_csv(\"/1pha/biobank-h5/h5/ukb_trainval_age.csv\").fname.unique())\n",
    "trainval = list(filter(lambda f: f.stem in trainval_pid, files))"
   ]
  },
  {
   "cell_type": "code",
   "execution_count": 52,
   "metadata": {},
   "outputs": [
    {
     "data": {
      "text/plain": [
       "36675"
      ]
     },
     "execution_count": 52,
     "metadata": {},
     "output_type": "execute_result"
    }
   ],
   "source": [
    "len(trainval)"
   ]
  },
  {
   "cell_type": "code",
   "execution_count": null,
   "metadata": {},
   "outputs": [],
   "source": []
  }
 ],
 "metadata": {
  "kernelspec": {
   "display_name": "age",
   "language": "python",
   "name": "python3"
  },
  "language_info": {
   "codemirror_mode": {
    "name": "ipython",
    "version": 3
   },
   "file_extension": ".py",
   "mimetype": "text/x-python",
   "name": "python",
   "nbconvert_exporter": "python",
   "pygments_lexer": "ipython3",
   "version": "3.10.11"
  },
  "orig_nbformat": 4
 },
 "nbformat": 4,
 "nbformat_minor": 2
}
