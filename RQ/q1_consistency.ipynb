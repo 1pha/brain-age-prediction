{
 "cells": [
  {
   "cell_type": "code",
   "execution_count": 1,
   "metadata": {},
   "outputs": [
    {
     "name": "stderr",
     "output_type": "stream",
     "text": [
      "INFO:/home/1pha/codespace/brain-age-prediction/RQ/weight_parser.py:Loading base information\n",
      "INFO:/home/1pha/codespace/brain-age-prediction/RQ/weight_parser.py:Loading XAI information from /home/1pha/codespace/brain-age-prediction/meta_brain/weights/default/resnet10/gbpk0.99\n"
     ]
    },
    {
     "data": {
      "text/plain": [
       "mse: 9.836 / mae: 2.472 / r2: 0.8315"
      ]
     },
     "execution_count": 1,
     "metadata": {},
     "output_type": "execute_result"
    }
   ],
   "source": [
    "from weight_parser import Weights\n",
    "\n",
    "resnet10 = Weights(model_name=\"resnet10\", xai_method=\"gbp\")\n",
    "resnet10"
   ]
  },
  {
   "cell_type": "code",
   "execution_count": null,
   "metadata": {},
   "outputs": [],
   "source": []
  },
  {
   "cell_type": "markdown",
   "metadata": {},
   "source": []
  }
 ],
 "metadata": {
  "kernelspec": {
   "display_name": "age",
   "language": "python",
   "name": "python3"
  },
  "language_info": {
   "codemirror_mode": {
    "name": "ipython",
    "version": 3
   },
   "file_extension": ".py",
   "mimetype": "text/x-python",
   "name": "python",
   "nbconvert_exporter": "python",
   "pygments_lexer": "ipython3",
   "version": "3.10.11"
  }
 },
 "nbformat": 4,
 "nbformat_minor": 2
}
