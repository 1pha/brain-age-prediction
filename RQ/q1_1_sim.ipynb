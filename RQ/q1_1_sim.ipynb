{
 "cells": [
  {
   "cell_type": "code",
   "execution_count": 1,
   "metadata": {},
   "outputs": [],
   "source": [
    "from itertools import combinations\n",
    "\n",
    "import matplotlib.pyplot as plt\n",
    "import numpy as np\n",
    "\n",
    "import weight_parser as wp\n",
    "import stats as s\n",
    "import constants as C\n",
    "import plotting as p\n",
    "import metadata as m\n",
    "import utils as u"
   ]
  },
  {
   "cell_type": "code",
   "execution_count": 16,
   "metadata": {},
   "outputs": [
    {
     "name": "stdout",
     "output_type": "stream",
     "text": [
      "XAI Method: Ig # combinations: 66\n"
     ]
    }
   ],
   "source": [
    "sim_dict = dict()\n",
    "for xai_method in C.XAI_METHODS[-1:]:\n",
    "    sims, mats = [], []\n",
    "    for model_name in C.MODELS:\n",
    "        if xai_method == \"ig\" and model_name == \"convnext-base\":\n",
    "            continue\n",
    "        seeds = [42, 43, 44] if model_name != \"convnext-base\" else [42, 43]\n",
    "        mats.extend([wp.Weights(model_name=model_name, seed=seed, xai_method=xai_method, verbose=False).normalize_df()\\\n",
    "                     for seed in seeds])\n",
    "\n",
    "    print(f\"XAI Method: {xai_method.capitalize()}\", end=\" \")\n",
    "    loop = list(combinations(mats, r=2))\n",
    "    print(f\"# combinations: {len(loop)}\")\n",
    "    for mat1, mat2 in loop:\n",
    "        simmat = mat1 @ mat2.T\n",
    "        sim = np.diag(simmat).mean()\n",
    "        sims.append(sim)\n",
    "    sim_dict[xai_method] = sims"
   ]
  },
  {
   "cell_type": "code",
   "execution_count": 17,
   "metadata": {},
   "outputs": [],
   "source": [
    "import json\n",
    "\n",
    "with open(\"./similarity.json\", mode=\"r\") as f:\n",
    "    _sim_dict = json.load(fp=f)"
   ]
  },
  {
   "cell_type": "code",
   "execution_count": 18,
   "metadata": {},
   "outputs": [],
   "source": [
    "sim_dict.update(_sim_dict)"
   ]
  },
  {
   "cell_type": "code",
   "execution_count": 20,
   "metadata": {},
   "outputs": [
    {
     "name": "stdout",
     "output_type": "stream",
     "text": [
      "XAI ig         : 0.4991\n",
      "XAI gradxinput : 0.5031\n",
      "XAI gcam_avg   : 0.1388\n",
      "XAI gbp        : 0.3261\n",
      "XAI ggcam      : 0.0940\n",
      "XAI ggcam_avg  : 0.2649\n",
      "XAI deeplift   : 0.5029\n"
     ]
    }
   ],
   "source": [
    "import numpy as np\n",
    "for xai_method in sim_dict:\n",
    "    print(f\"XAI {xai_method:11s}: {np.mean(sim_dict[xai_method]):.4f}\")"
   ]
  },
  {
   "cell_type": "code",
   "execution_count": null,
   "metadata": {},
   "outputs": [],
   "source": []
  }
 ],
 "metadata": {
  "kernelspec": {
   "display_name": "age",
   "language": "python",
   "name": "python3"
  },
  "language_info": {
   "codemirror_mode": {
    "name": "ipython",
    "version": 3
   },
   "file_extension": ".py",
   "mimetype": "text/x-python",
   "name": "python",
   "nbconvert_exporter": "python",
   "pygments_lexer": "ipython3",
   "version": "3.10.13"
  }
 },
 "nbformat": 4,
 "nbformat_minor": 2
}
