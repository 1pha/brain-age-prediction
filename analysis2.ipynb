{
 "cells": [
  {
   "cell_type": "code",
   "execution_count": 1,
   "metadata": {},
   "outputs": [
    {
     "name": "stderr",
     "output_type": "stream",
     "text": [
      "/opt/conda/envs/research/lib/python3.7/site-packages/nilearn/datasets/__init__.py:96: FutureWarning: Fetchers from the nilearn.datasets module will be updated in version 0.9 to return python strings instead of bytes and Pandas dataframes instead of Numpy arrays.\n",
      "  \"Numpy arrays.\", FutureWarning)\n"
     ]
    }
   ],
   "source": [
    "import pickle\n",
    "from scipy import stats\n",
    "from functools import partial\n",
    "\n",
    "import matplotlib.pyplot as plt\n",
    "import seaborn as sns\n",
    "sns.set_theme();\n",
    "\n",
    "import numpy as np\n",
    "import nibabel as nib\n",
    "\n",
    "import torch\n",
    "import torch.nn.functional as F\n",
    "\n",
    "from sage.visualization.vistool import plot_vismap\n",
    "from utils.analysis import Result, FileSelector, check_existence, cherry_picker, transform"
   ]
  },
  {
   "cell_type": "markdown",
   "metadata": {},
   "source": [
    "## 400개 중에 빠진 거 확인"
   ]
  },
  {
   "cell_type": "code",
   "execution_count": 10,
   "metadata": {},
   "outputs": [],
   "source": [
    "from pathlib import Path\n",
    "from glob import glob\n",
    "\n",
    "from sage.config import load_config"
   ]
  },
  {
   "cell_type": "code",
   "execution_count": 18,
   "metadata": {},
   "outputs": [],
   "source": [
    "def check_seeds(header):\n",
    "\n",
    "    print(f\"Checking {header} ...\")\n",
    "    runs = sorted(glob(str(Path(header, \"*\"))))\n",
    "\n",
    "    seeds = set([load_config(Path(run, \"config.yml\")).seed for run in runs])\n",
    "\n",
    "    num_seeds = len(seeds)\n",
    "    min_seed, max_seed = min(seeds), max(seeds)\n",
    "\n",
    "    print(f\"Total {num_seeds} seeds\")\n",
    "    print(f\"Min {min_seed} | Max {max_seed}\")\n",
    "    print(f\"There should be {max_seed - min_seed + 1} seeds and you have {num_seeds}\")\n",
    "    if max_seed - min_seed + 1 != num_seeds:\n",
    "        print(f\"Missing {set(list(range(min_seed, max_seed + 1))) - seeds}\")\n",
    "    print()"
   ]
  },
  {
   "cell_type": "code",
   "execution_count": 19,
   "metadata": {},
   "outputs": [
    {
     "name": "stdout",
     "output_type": "stream",
     "text": [
      "Checking ../resnet256_augmentation_checkpoints/ ...\n",
      "Total 100 seeds\n",
      "Min 43 | Max 142\n",
      "There should be 100 seeds and you have 100\n",
      "\n",
      "Checking ../resnet256_augmentation_nonreg_checkpoints/ ...\n",
      "Total 99 seeds\n",
      "Min 42 | Max 141\n",
      "There should be 100 seeds and you have 99\n",
      "Missing {77}\n",
      "\n",
      "Checking ../resnet256_naive_checkpoints/ ...\n",
      "Total 101 seeds\n",
      "Min 42 | Max 143\n",
      "There should be 102 seeds and you have 101\n",
      "Missing {88}\n",
      "\n",
      "Checking ../resnet256_naive_nonreg_checkpoints/ ...\n",
      "Total 98 seeds\n",
      "Min 43 | Max 141\n",
      "There should be 99 seeds and you have 98\n",
      "Missing {92}\n",
      "\n"
     ]
    }
   ],
   "source": [
    "check_seeds(\"../resnet256_augmentation_checkpoints/\")\n",
    "check_seeds(\"../resnet256_augmentation_nonreg_checkpoints/\")\n",
    "check_seeds(\"../resnet256_naive_checkpoints/\")\n",
    "check_seeds(\"../resnet256_naive_nonreg_checkpoints/\")"
   ]
  },
  {
   "cell_type": "markdown",
   "metadata": {},
   "source": [
    "## Run GradCAM on UN-registered checkpoints with Dataset"
   ]
  },
  {
   "cell_type": "markdown",
   "metadata": {},
   "source": []
  },
  {
   "cell_type": "markdown",
   "metadata": {},
   "source": [
    "## Choose Best MAE results"
   ]
  },
  {
   "cell_type": "code",
   "execution_count": 21,
   "metadata": {},
   "outputs": [],
   "source": [
    "import yaml\n",
    "\n",
    "HEADER_DICT = {\n",
    "    \"reg_naive\": \"../resnet256_naive_checkpoints/\",\n",
    "    \"reg_aug\": \"../resnet256_augmentation_checkpoints/\",\n",
    "    \"nonreg_naive\": \"../resnet256_naive_nonreg_checkpoints/\",\n",
    "    \"nonreg_aug\": \"../resnet256_augmentation_nonreg_checkpoints/\",\n",
    "}\n",
    "\n",
    "with open(f\"data/test_gt_age.yml\", \"r\") as f:\n",
    "    GT_TEST = yaml.load(f, Loader=yaml.Loader)"
   ]
  },
  {
   "cell_type": "code",
   "execution_count": null,
   "metadata": {},
   "outputs": [],
   "source": [
    "def get_test_result(path):\n",
    "    \"\"\"takes single run path (single seed)\n",
    "    that contains test.yml\n",
    "\n",
    "    Than returns MAE of the test result among epochs\n",
    "    Note that test.yml is in the form of {epoch: [list of predictions], ...}\n",
    "    \"\"\"\n",
    "    test_yml_path = Path(path, \"test.yml\")\n",
    "    with open(test_yml_path, \"r\") as f:\n",
    "        test_prediction = yaml.load(f, Loader=yaml.Loader)\n",
    "    return test_prediction"
   ]
  }
 ],
 "metadata": {
  "interpreter": {
   "hash": "58f42be4760d443558357e59ed9d9d34a8c50fd6870ceaeaddb214fd01d8c723"
  },
  "kernelspec": {
   "display_name": "Python 3.7.11 64-bit ('research': conda)",
   "language": "python",
   "name": "python3"
  },
  "language_info": {
   "codemirror_mode": {
    "name": "ipython",
    "version": 3
   },
   "file_extension": ".py",
   "mimetype": "text/x-python",
   "name": "python",
   "nbconvert_exporter": "python",
   "pygments_lexer": "ipython3",
   "version": "3.7.11"
  },
  "orig_nbformat": 4
 },
 "nbformat": 4,
 "nbformat_minor": 2
}
