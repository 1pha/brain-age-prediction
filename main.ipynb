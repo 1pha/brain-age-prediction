{
 "cells": [
  {
   "cell_type": "markdown",
   "metadata": {},
   "source": [
    "# NEW TRAINER"
   ]
  },
  {
   "cell_type": "code",
   "execution_count": 1,
   "metadata": {
    "ExecuteTime": {
     "end_time": "2021-08-18T05:39:25.496511Z",
     "start_time": "2021-08-18T05:39:19.663209Z"
    }
   },
   "outputs": [
    {
     "name": "stdout",
     "output_type": "stream",
     "text": [
      "Use cuda:0 as a device.\n",
      "Output from encoder is 64.\n",
      "Total Number of parameters: 530742\n",
      "TOTAL TRAIN 2322 | VALID 291\n",
      "MIXED PRECISION:: False\n"
     ]
    }
   ],
   "source": [
    "from sage.config import load_config\n",
    "from sage.training.trainer import MRITrainer\n",
    "\n",
    "cfg = load_config()\n",
    "cfg.augment = True\n",
    "cfg.use_amp = False\n",
    "cfg.phase_config = {\n",
    "    'epochs': [200],\n",
    "    'update': [['reg']]\n",
    "}\n",
    "cfg.encoder = {\n",
    "    'name': 'convit',\n",
    "    'config': {\n",
    "        'embed_dim': 64,\n",
    "        'local_up_to_layer': 4,\n",
    "        'depth': 5,\n",
    "        'num_heads': 8\n",
    "    }\n",
    "}\n",
    "cfg.reg_opt.lr = 1e-4\n",
    "trainer = MRITrainer(cfg)"
   ]
  },
  {
   "cell_type": "code",
   "execution_count": 2,
   "metadata": {
    "ExecuteTime": {
     "end_time": "2021-08-18T05:39:34.608178Z",
     "start_time": "2021-08-18T05:39:25.500513Z"
    }
   },
   "outputs": [
    {
     "name": "stderr",
     "output_type": "stream",
     "text": [
      "wandb: Currently logged in as: 1pha (use `wandb login --relogin` to force relogin)\n"
     ]
    },
    {
     "data": {
      "text/html": [
       "\n",
       "                Tracking run with wandb version 0.12.0<br/>\n",
       "                Syncing run <strong style=\"color:#cdcd00\">ConViT_64_aug_extension</strong> to <a href=\"https://wandb.ai\" target=\"_blank\">Weights & Biases</a> <a href=\"https://docs.wandb.com/integrations/jupyter.html\" target=\"_blank\">(Documentation)</a>.<br/>\n",
       "                Project page: <a href=\"https://wandb.ai/1pha/3d_smri\" target=\"_blank\">https://wandb.ai/1pha/3d_smri</a><br/>\n",
       "                Run page: <a href=\"https://wandb.ai/1pha/3d_smri/runs/1d1xxvlw\" target=\"_blank\">https://wandb.ai/1pha/3d_smri/runs/1d1xxvlw</a><br/>\n",
       "                Run data is saved locally in <code>G:\\My Drive\\brain_data\\workspace\\3DCNN_sMRI\\wandb\\run-20210818_143926-1d1xxvlw</code><br/><br/>\n",
       "            "
      ],
      "text/plain": [
       "<IPython.core.display.HTML object>"
      ]
     },
     "metadata": {},
     "output_type": "display_data"
    },
    {
     "data": {
      "text/html": [
       "<h1>Run(1d1xxvlw)</h1><iframe src=\"https://wandb.ai/1pha/3d_smri/runs/1d1xxvlw\" style=\"border:none;width:100%;height:400px\"></iframe>"
      ],
      "text/plain": [
       "<wandb.sdk.wandb_run.Run at 0x1a843211e50>"
      ]
     },
     "execution_count": 2,
     "metadata": {},
     "output_type": "execute_result"
    }
   ],
   "source": [
    "import wandb\n",
    "wandb.login()\n",
    "wandb.init(project='3d_smri',\n",
    "           config=vars(cfg),\n",
    "           name='ConViT_64_aug_extension',\n",
    "#            tags=[]\n",
    "  )"
   ]
  },
  {
   "cell_type": "code",
   "execution_count": null,
   "metadata": {
    "ExecuteTime": {
     "end_time": "2021-08-17T19:40:09.048161Z",
     "start_time": "2021-08-17T03:39:54.906913Z"
    }
   },
   "outputs": [],
   "source": [
    "trainer.run(cfg)"
   ]
  },
  {
   "cell_type": "markdown",
   "metadata": {},
   "source": [
    "## from checkpoint"
   ]
  },
  {
   "cell_type": "code",
   "execution_count": 3,
   "metadata": {
    "ExecuteTime": {
     "end_time": "2021-08-18T05:39:34.640180Z",
     "start_time": "2021-08-18T05:39:34.611185Z"
    }
   },
   "outputs": [],
   "source": [
    "PREFIX = 'G:/My Drive/brain_data/workspace/result/models/20210817-1239/'\n",
    "SUFFIX = 'ep139_mae7.95.pt'\n",
    "\n",
    "checkpoint = {\n",
    "    'resume_epoch': 0,\n",
    "    'models':{\n",
    "        'encoder': f'{PREFIX}/encoder/{SUFFIX}',\n",
    "        'domainer': f'{PREFIX}/domainer/{SUFFIX}',\n",
    "        'regressor': f'{PREFIX}/regressor/{SUFFIX}',\n",
    "    }\n",
    "}\n",
    "\n",
    "# FIND THIS IN WANDB.AI HOMEPAGE\n",
    "\n",
    "resume_id = None"
   ]
  },
  {
   "cell_type": "code",
   "execution_count": null,
   "metadata": {},
   "outputs": [],
   "source": [
    "import wandb\n",
    "wandb.login()\n",
    "wandb.init(project='3d_smri',\n",
    "           config=vars(cfg),\n",
    "           resume=resume_id,\n",
    "  )"
   ]
  },
  {
   "cell_type": "code",
   "execution_count": 4,
   "metadata": {
    "ExecuteTime": {
     "end_time": "2021-08-18T11:52:58.506451Z",
     "start_time": "2021-08-18T05:39:34.642182Z"
    },
    "scrolled": false
   },
   "outputs": [
    {
     "name": "stdout",
     "output_type": "stream",
     "text": [
      "Encoder is successfully loaded\n",
      "Domainer is successfully loaded\n",
      "Regressor is successfully loaded\n",
      "Epoch 1 / 200 (phase: 0) BEST MAE inf\n",
      "[train] 353.9 sec [valid] 7.4 sec \n",
      "Epoch 2 / 200 (phase: 0) BEST MAE 8.090\n",
      "[train] 366.9 sec [valid] 7.6 sec \n",
      "Epoch 3 / 200 (phase: 0) BEST MAE 7.997\n",
      "[train] 371.9 sec [valid] 8.3 sec \n",
      "Epoch 4 / 200 (phase: 0) BEST MAE 7.997\n",
      "[train] 347.9 sec [valid] 8.3 sec \n",
      "Epoch 5 / 200 (phase: 0) BEST MAE 7.997\n",
      "[train] 358.2 sec [valid] 7.5 sec \n",
      "Saved Models\n",
      "Epoch 6 / 200 (phase: 0) BEST MAE 7.997\n",
      "[train] 356.4 sec [valid] 8.0 sec \n",
      "Epoch 7 / 200 (phase: 0) BEST MAE 7.797\n",
      "[train] 344.3 sec [valid] 7.8 sec \n",
      "Epoch 8 / 200 (phase: 0) BEST MAE 7.797\n",
      "[train] 343.8 sec [valid] 7.6 sec \n",
      "Epoch 9 / 200 (phase: 0) BEST MAE 7.797\n",
      "[train] 354.3 sec [valid] 7.4 sec \n",
      "Epoch 10 / 200 (phase: 0) BEST MAE 7.797\n",
      "[train] 363.0 sec [valid] 7.4 sec \n",
      "Saved Models\n",
      "Epoch 11 / 200 (phase: 0) BEST MAE 7.797\n",
      "[train] 353.5 sec [valid] 7.5 sec \n",
      "Epoch 12 / 200 (phase: 0) BEST MAE 7.797\n",
      "[train] 358.6 sec [valid] 8.1 sec \n",
      "Epoch 13 / 200 (phase: 0) BEST MAE 7.797\n",
      "[train] 358.9 sec [valid] 7.3 sec \n",
      "Epoch 14 / 200 (phase: 0) BEST MAE 7.797\n",
      "[train] 359.8 sec [valid] 7.1 sec \n",
      "Epoch 15 / 200 (phase: 0) BEST MAE 7.797\n",
      "[train] 350.0 sec [valid] 7.2 sec \n",
      "Saved Models\n",
      "Epoch 16 / 200 (phase: 0) BEST MAE 7.797\n",
      "[train] 369.9 sec [valid] 8.6 sec \n",
      "Epoch 17 / 200 (phase: 0) BEST MAE 7.797\n",
      "[train] 367.1 sec [valid] 7.2 sec \n",
      "Epoch 18 / 200 (phase: 0) BEST MAE 7.797\n",
      "[train] 346.8 sec [valid] 7.1 sec \n",
      "Epoch 19 / 200 (phase: 0) BEST MAE 7.797\n",
      "[train] 356.7 sec [valid] 7.2 sec \n",
      "Epoch 20 / 200 (phase: 0) BEST MAE 7.797\n",
      "[train] 354.4 sec [valid] 7.1 sec \n",
      "Saved Models\n",
      "Epoch 21 / 200 (phase: 0) BEST MAE 7.797\n",
      "[train] 335.7 sec [valid] 7.0 sec \n",
      "Epoch 22 / 200 (phase: 0) BEST MAE 7.797\n",
      "[train] 336.3 sec [valid] 7.1 sec \n",
      "Epoch 23 / 200 (phase: 0) BEST MAE 7.797\n",
      "[train] 335.1 sec [valid] 7.1 sec \n",
      "Epoch 24 / 200 (phase: 0) BEST MAE 7.797\n",
      "[train] 334.9 sec [valid] 7.2 sec \n",
      "Epoch 25 / 200 (phase: 0) BEST MAE 7.797\n",
      "[train] 324.6 sec [valid] 7.1 sec \n",
      "Saved Models\n",
      "Epoch 26 / 200 (phase: 0) BEST MAE 7.797\n",
      "[train] 338.6 sec [valid] 7.3 sec \n",
      "Epoch 27 / 200 (phase: 0) BEST MAE 7.698\n",
      "[train] 370.8 sec [valid] 8.1 sec \n",
      "Epoch 28 / 200 (phase: 0) BEST MAE 7.698\n",
      "[train] 364.8 sec [valid] 8.8 sec \n",
      "Epoch 29 / 200 (phase: 0) BEST MAE 7.698\n",
      "[train] 367.7 sec [valid] 7.3 sec \n",
      "Epoch 30 / 200 (phase: 0) BEST MAE 7.666\n",
      "[train] 371.2 sec [valid] 7.3 sec \n",
      "Saved Models\n",
      "Epoch 31 / 200 (phase: 0) BEST MAE 7.666\n",
      "[train] 353.4 sec [valid] 8.0 sec \n",
      "Epoch 32 / 200 (phase: 0) BEST MAE 7.666\n",
      "[train] 357.3 sec [valid] 7.6 sec \n",
      "Epoch 33 / 200 (phase: 0) BEST MAE 7.666\n",
      "[train] 354.2 sec [valid] 7.4 sec \n",
      "Epoch 34 / 200 (phase: 0) BEST MAE 7.666\n",
      "[train] 358.1 sec [valid] 7.5 sec \n",
      "Epoch 35 / 200 (phase: 0) BEST MAE 7.666\n",
      "[train] 369.3 sec [valid] 7.5 sec \n",
      "Saved Models\n",
      "Epoch 36 / 200 (phase: 0) BEST MAE 7.666\n",
      "[train] 347.4 sec [valid] 7.2 sec \n",
      "Epoch 37 / 200 (phase: 0) BEST MAE 7.666\n",
      "[train] 370.1 sec [valid] 7.4 sec \n",
      "Epoch 38 / 200 (phase: 0) BEST MAE 7.658\n",
      "[train] 375.3 sec [valid] 9.7 sec \n",
      "Epoch 39 / 200 (phase: 0) BEST MAE 7.658\n",
      "[train] 367.6 sec [valid] 7.7 sec \n",
      "Epoch 40 / 200 (phase: 0) BEST MAE 7.493\n",
      "[train] 374.7 sec [valid] 9.5 sec \n",
      "Saved Models\n",
      "Epoch 41 / 200 (phase: 0) BEST MAE 7.493\n",
      "[train] 379.9 sec [valid] 9.8 sec \n",
      "Epoch 42 / 200 (phase: 0) BEST MAE 7.486\n",
      "[train] 381.4 sec [valid] 10.1 sec \n",
      "Epoch 43 / 200 (phase: 0) BEST MAE 7.486\n",
      "[train] 370.5 sec [valid] 10.7 sec \n",
      "Epoch 44 / 200 (phase: 0) BEST MAE 7.486\n",
      "[train] 355.4 sec [valid] 7.8 sec \n",
      "Epoch 45 / 200 (phase: 0) BEST MAE 7.486\n",
      "[train] 362.0 sec [valid] 8.4 sec \n",
      "Saved Models\n",
      "Epoch 46 / 200 (phase: 0) BEST MAE 7.486\n",
      "[train] 351.8 sec [valid] 7.3 sec \n",
      "Epoch 47 / 200 (phase: 0) BEST MAE 7.486\n",
      "[train] 352.7 sec [valid] 7.3 sec \n",
      "Epoch 48 / 200 (phase: 0) BEST MAE 7.486\n",
      "[train] 350.7 sec [valid] 7.7 sec \n",
      "Epoch 49 / 200 (phase: 0) BEST MAE 7.486\n",
      "[train] 369.1 sec [valid] 7.2 sec \n",
      "Epoch 50 / 200 (phase: 0) BEST MAE 7.486\n",
      "[train] 341.2 sec [valid] 7.2 sec \n",
      "Saved Models\n",
      "Epoch 51 / 200 (phase: 0) BEST MAE 7.486\n",
      "[train] 345.4 sec [valid] 7.8 sec \n",
      "Epoch 52 / 200 (phase: 0) BEST MAE 7.486\n",
      "[train] 343.5 sec [valid] 7.7 sec \n",
      "Epoch 53 / 200 (phase: 0) BEST MAE 7.486\n",
      "[train] 341.4 sec [valid] 8.0 sec \n",
      "Epoch 54 / 200 (phase: 0) BEST MAE 7.486\n",
      "[train] 367.2 sec [valid] 8.3 sec \n",
      "Epoch 55 / 200 (phase: 0) BEST MAE 7.486\n",
      "[train] 378.0 sec [valid] 7.6 sec \n",
      "Saved Models\n",
      "Epoch 56 / 200 (phase: 0) BEST MAE 7.486\n",
      "[train] 370.4 sec [valid] 7.6 sec \n",
      "Epoch 57 / 200 (phase: 0) BEST MAE 7.486\n",
      "[train] 366.1 sec [valid] 7.3 sec \n",
      "Epoch 58 / 200 (phase: 0) BEST MAE 7.486\n",
      "[train] 366.8 sec [valid] 7.6 sec \n",
      "Epoch 59 / 200 (phase: 0) BEST MAE 7.486\n",
      "[train] 388.9 sec [valid] 9.8 sec \n",
      "Epoch 60 / 200 (phase: 0) BEST MAE 7.486\n",
      "[train] 399.2 sec [valid] 10.2 sec \n",
      "Saved Models\n",
      "Epoch 61 / 200 (phase: 0) BEST MAE 7.486\n",
      "[train] 390.6 sec [valid] 11.2 sec \n",
      "Early stopped at 20 / 20 at EPOCH 60\n"
     ]
    },
    {
     "data": {
      "text/html": [
       "<br/>Waiting for W&B process to finish, PID 16808<br/>Program ended successfully."
      ],
      "text/plain": [
       "<IPython.core.display.HTML object>"
      ]
     },
     "metadata": {},
     "output_type": "display_data"
    },
    {
     "data": {
      "application/vnd.jupyter.widget-view+json": {
       "model_id": "",
       "version_major": 2,
       "version_minor": 0
      },
      "text/plain": [
       "VBox(children=(Label(value=' 0.00MB of 0.00MB uploaded (0.00MB deduped)\\r'), FloatProgress(value=1.0, max=1.0)…"
      ]
     },
     "metadata": {},
     "output_type": "display_data"
    },
    {
     "data": {
      "text/html": [
       "Find user logs for this run at: <code>G:\\My Drive\\brain_data\\workspace\\3DCNN_sMRI\\wandb\\run-20210818_143926-1d1xxvlw\\logs\\debug.log</code>"
      ],
      "text/plain": [
       "<IPython.core.display.HTML object>"
      ]
     },
     "metadata": {},
     "output_type": "display_data"
    },
    {
     "data": {
      "text/html": [
       "Find internal logs for this run at: <code>G:\\My Drive\\brain_data\\workspace\\3DCNN_sMRI\\wandb\\run-20210818_143926-1d1xxvlw\\logs\\debug-internal.log</code>"
      ],
      "text/plain": [
       "<IPython.core.display.HTML object>"
      ]
     },
     "metadata": {},
     "output_type": "display_data"
    },
    {
     "data": {
      "text/html": [
       "<h3>Run summary:</h3><br/><style>\n",
       "    table.wandb td:nth-child(1) { padding: 0 10px; text-align: right }\n",
       "    </style><table class=\"wandb\">\n",
       "<tr><td>train_rmse</td><td>7.2949</td></tr><tr><td>train_mae</td><td>5.1675</td></tr><tr><td>train_corr</td><td>0.9169</td></tr><tr><td>train_r2</td><td>0.8407</td></tr><tr><td>train_auc</td><td>0.57199</td></tr><tr><td>train_acc</td><td>0.37812</td></tr><tr><td>valid_rmse</td><td>9.96006</td></tr><tr><td>valid_mae</td><td>7.72417</td></tr><tr><td>valid_corr</td><td>0.83751</td></tr><tr><td>valid_r2</td><td>0.69416</td></tr><tr><td>valid_auc</td><td>0.61104</td></tr><tr><td>valid_acc</td><td>0.38832</td></tr><tr><td>_runtime</td><td>22407</td></tr><tr><td>_timestamp</td><td>1629287574</td></tr><tr><td>_step</td><td>60</td></tr></table>"
      ],
      "text/plain": [
       "<IPython.core.display.HTML object>"
      ]
     },
     "metadata": {},
     "output_type": "display_data"
    },
    {
     "data": {
      "text/html": [
       "<h3>Run history:</h3><br/><style>\n",
       "    table.wandb td:nth-child(1) { padding: 0 10px; text-align: right }\n",
       "    </style><table class=\"wandb\">\n",
       "<tr><td>train_rmse</td><td>▇▇▅▆▆█▆▇▄▅▆▆▅▄▄▄▄▄▄▄▄▃▃▃▃▃▂▃▃▂▁▁▄▂▁▁▃▂▁▂</td></tr><tr><td>train_mae</td><td>▇▇▆▆▇█▆▇▅▅▆▆▅▅▅▄▄▄▄▄▄▃▄▃▃▃▂▃▃▂▁▁▃▂▁▂▃▂▁▁</td></tr><tr><td>train_corr</td><td>▃▃▄▃▃▁▃▂▆▄▄▄▄▅▅▅▅▆▅▆▅▆▆▆▆▆▇▆▆█▇█▆▇██▇▇█▇</td></tr><tr><td>train_r2</td><td>▃▃▄▃▃▁▃▂▅▄▄▄▄▅▅▅▅▅▅▆▅▆▆▆▆▆▇▆▆█▇█▆▇██▇▇█▇</td></tr><tr><td>train_auc</td><td>█▇▇█▇▇▇▆▆▅▆▅▄▆▅▄▄▅▄▄▅▄▃▄▃▁▂▂▃▂▂▃▁▃▃▂▂▃▂▁</td></tr><tr><td>train_acc</td><td>▁▁▁▁▁▁▁▁▁▁▁▁▁▁▁▁▁▁▁▁▁▁▁▁▁▁▁▁▁▁▁▁▁▁▁▁▁▁▁▁</td></tr><tr><td>valid_rmse</td><td>▃▃▅▇▄▅▄▅▅▄▄▃▄▅▅▄▆▃▅▄▃▃▆▃▂▁▁▆▂▄▄▃▃▄▁▄▇█▄▃</td></tr><tr><td>valid_mae</td><td>▄▃▅▆▅▅▄▅▄▄▄▃▄▆▄▄▅▃▅▅▃▂▆▃▂▁▁▆▂▅▄▃▃▄▂▅██▃▂</td></tr><tr><td>valid_corr</td><td>▆▆▅▅▅▅▄▃▃▆▃▇▃▆▅▄▂▆▁▅▄▇▃▅▇█▇▅▆▃▃▅▅▅▇▆▅▂▄▅</td></tr><tr><td>valid_r2</td><td>▆▇▅▃▅▅▅▅▅▅▅▆▅▄▅▅▃▆▄▅▆▆▃▆▇█▇▄▇▅▅▆▆▅▇▅▂▁▅▆</td></tr><tr><td>valid_auc</td><td>▇▇▆▆▇█▆▅▅▆▅▆▄▇▄▅▅▆▃▆▅▄▄▃▃▄▄▄▃▃▃▄▂▄▄▂▄▁▃▅</td></tr><tr><td>valid_acc</td><td>▁▁▁▁▁▁▁▁▁▁▁▁▁▁▁▁▁▁▁▁▁▁▁▁▁▁▁▁▁▁▁▁▁▁▁▁▁▁▁▁</td></tr><tr><td>_runtime</td><td>▁▁▁▁▂▂▂▂▂▃▃▃▃▃▃▄▄▄▄▄▄▅▅▅▅▅▆▆▆▆▆▆▇▇▇▇▇▇██</td></tr><tr><td>_timestamp</td><td>▁▁▁▁▂▂▂▂▂▃▃▃▃▃▃▄▄▄▄▄▄▅▅▅▅▅▆▆▆▆▆▆▇▇▇▇▇▇██</td></tr><tr><td>_step</td><td>▁▁▁▁▂▂▂▂▂▃▃▃▃▃▃▄▄▄▄▄▅▅▅▅▅▅▆▆▆▆▆▆▇▇▇▇▇███</td></tr></table><br/>"
      ],
      "text/plain": [
       "<IPython.core.display.HTML object>"
      ]
     },
     "metadata": {},
     "output_type": "display_data"
    },
    {
     "data": {
      "text/html": [
       "Synced 6 W&B file(s), 0 media file(s), 0 artifact file(s) and 0 other file(s)"
      ],
      "text/plain": [
       "<IPython.core.display.HTML object>"
      ]
     },
     "metadata": {},
     "output_type": "display_data"
    },
    {
     "data": {
      "text/html": [
       "\n",
       "                    <br/>Synced <strong style=\"color:#cdcd00\">ConViT_64_aug_extension</strong>: <a href=\"https://wandb.ai/1pha/3d_smri/runs/1d1xxvlw\" target=\"_blank\">https://wandb.ai/1pha/3d_smri/runs/1d1xxvlw</a><br/>\n",
       "                "
      ],
      "text/plain": [
       "<IPython.core.display.HTML object>"
      ]
     },
     "metadata": {},
     "output_type": "display_data"
    }
   ],
   "source": [
    "trainer.run(checkpoint=checkpoint)"
   ]
  },
  {
   "cell_type": "markdown",
   "metadata": {},
   "source": [
    "## Grid Search"
   ]
  },
  {
   "cell_type": "code",
   "execution_count": 1,
   "metadata": {
    "ExecuteTime": {
     "end_time": "2021-08-16T12:23:15.508500Z",
     "start_time": "2021-08-16T12:23:10.096169Z"
    }
   },
   "outputs": [
    {
     "name": "stdout",
     "output_type": "stream",
     "text": [
      "Create sweep with ID: cmjnmxvp\n",
      "Sweep URL: https://wandb.ai/1pha/3d_smri/sweeps/cmjnmxvp\n"
     ]
    }
   ],
   "source": [
    "import wandb\n",
    "\n",
    "from sage.config import load_config\n",
    "from sage.training.trainer import MRITrainer\n",
    "\n",
    "sweep_config = {\n",
    "    \"name\" : \"ConViT\",\n",
    "    \"method\" : \"grid\",\n",
    "    \"metric\": {\n",
    "        \"name\": \"valid_mae\",\n",
    "        \"goal\": \"minimize\"\n",
    "    },\n",
    "    \"parameters\" : {\n",
    "        \"embed_dim\" :{\n",
    "            \"values\": [48, 64]\n",
    "        },\n",
    "        \"depth\": {\n",
    "            \"values\": [2, 4]\n",
    "        },\n",
    "        \"learning_rate\": {\n",
    "            \"values\": [1e-2, 1e-3, 1e-4]\n",
    "        }\n",
    "      }\n",
    "    }\n",
    "\n",
    "sweep_id = wandb.sweep(sweep_config, project='3d_smri')"
   ]
  },
  {
   "cell_type": "code",
   "execution_count": 2,
   "metadata": {
    "ExecuteTime": {
     "end_time": "2021-08-16T12:23:15.523469Z",
     "start_time": "2021-08-16T12:23:15.510468Z"
    }
   },
   "outputs": [],
   "source": [
    "from IPython.display import clear_output\n",
    "\n",
    "def run_sweep():\n",
    "    \n",
    "    with wandb.init():\n",
    "\n",
    "        cfg = load_config()\n",
    "        \n",
    "        # PRESET\n",
    "        cfg.encoder = {\n",
    "            'name': 'convit',\n",
    "            'config': {\n",
    "                'num_heads': 8\n",
    "            }\n",
    "        }\n",
    "        cfg.phase_config = {\n",
    "            'epochs': [150],\n",
    "            'update': [['reg']]\n",
    "        }\n",
    "        \n",
    "        # LOAD COMBINATIONS\n",
    "        convit_cfg = wandb.config\n",
    "        __cfg = dict()\n",
    "        __cfg.update(convit_cfg)\n",
    "        __cfg['local_up_to_layer'] = __cfg['depth'] - 1\n",
    "        \n",
    "        cfg.reg_opt.lr = __cfg.pop('learning_rate')\n",
    "        cfg.encoder.config.update(__cfg)\n",
    "        \n",
    "        # DEFINE TRAINER\n",
    "        trainer = MRITrainer(cfg)\n",
    "                       \n",
    "        # WANDB SETUP\n",
    "        name = f'ConViT-embed_dim{cfg.encoder.config.embed_dim}_depth{cfg.encoder.config.depth}'\n",
    "        wandb.run.name = name\n",
    "        wandb.config.update(cfg)\n",
    "        \n",
    "        # RUN\n",
    "        trainer.run(cfg)\n",
    "        clear_output()"
   ]
  },
  {
   "cell_type": "code",
   "execution_count": 3,
   "metadata": {
    "ExecuteTime": {
     "end_time": "2021-08-16T18:44:22.135249Z",
     "start_time": "2021-08-16T12:23:15.529469Z"
    }
   },
   "outputs": [
    {
     "name": "stderr",
     "output_type": "stream",
     "text": [
      "wandb: Agent Starting Run: 6lrbrnt9 with config:\n",
      "wandb: \tdepth: 2\n",
      "wandb: \tembed_dim: 48\n",
      "wandb: \tlearning_rate: 0.01\n",
      "wandb: Currently logged in as: 1pha (use `wandb login --relogin` to force relogin)\n"
     ]
    },
    {
     "data": {
      "text/html": [
       "\n",
       "                Tracking run with wandb version 0.12.0<br/>\n",
       "                Syncing run <strong style=\"color:#cdcd00\">happy-sweep-1</strong> to <a href=\"https://wandb.ai\" target=\"_blank\">Weights & Biases</a> <a href=\"https://docs.wandb.com/integrations/jupyter.html\" target=\"_blank\">(Documentation)</a>.<br/>\n",
       "                Project page: <a href=\"https://wandb.ai/1pha/3d_smri\" target=\"_blank\">https://wandb.ai/1pha/3d_smri</a><br/>\n",
       "                Sweep page: <a href=\"https://wandb.ai/1pha/3d_smri/sweeps/cmjnmxvp\" target=\"_blank\">https://wandb.ai/1pha/3d_smri/sweeps/cmjnmxvp</a><br/>\n",
       "Run page: <a href=\"https://wandb.ai/1pha/3d_smri/runs/6lrbrnt9\" target=\"_blank\">https://wandb.ai/1pha/3d_smri/runs/6lrbrnt9</a><br/>\n",
       "                Run data is saved locally in <code>G:\\My Drive\\brain_data\\workspace\\3DCNN_sMRI\\wandb\\run-20210816_212317-6lrbrnt9</code><br/><br/>\n",
       "            "
      ],
      "text/plain": [
       "<IPython.core.display.HTML object>"
      ]
     },
     "metadata": {},
     "output_type": "display_data"
    },
    {
     "name": "stdout",
     "output_type": "stream",
     "text": [
      "Use cuda:0 as a device.\n"
     ]
    },
    {
     "name": "stderr",
     "output_type": "stream",
     "text": [
      "wandb: WARNING Config item 'learning_rate' was locked by 'sweep' (ignored update).\n"
     ]
    },
    {
     "name": "stdout",
     "output_type": "stream",
     "text": [
      "Output from encoder is 48.\n",
      "Total Number of parameters: 266538\n",
      "TOTAL TRAIN 1161 | VALID 291\n",
      "MIXED PRECISION:: True\n",
      "Epoch 1 / 150 (phase: 0) BEST MAE inf\n",
      "[train] 57.2 sec [valid] 7.1 sec \n",
      "Epoch 2 / 150 (phase: 0) BEST MAE 16.454\n",
      "[train] 49.4 sec [valid] 7.9 sec \n",
      "Epoch 3 / 150 (phase: 0) BEST MAE 16.217\n",
      "[train] 51.6 sec [valid] 7.4 sec \n",
      "Epoch 4 / 150 (phase: 0) BEST MAE 16.199\n",
      "[train] 49.6 sec [valid] 7.6 sec \n",
      "Epoch 5 / 150 (phase: 0) BEST MAE 16.188\n",
      "[train] 52.6 sec [valid] 7.1 sec \n",
      "Epoch 6 / 150 (phase: 0) BEST MAE 16.181\n",
      "[train] 49.6 sec [valid] 7.3 sec \n",
      "Epoch 7 / 150 (phase: 0) BEST MAE 16.172\n",
      "[train] 52.2 sec [valid] 7.1 sec \n",
      "Epoch 8 / 150 (phase: 0) BEST MAE 16.172\n",
      "[train] 48.9 sec [valid] 7.1 sec \n",
      "Epoch 9 / 150 (phase: 0) BEST MAE 16.167\n",
      "[train] 52.8 sec [valid] 7.1 sec \n",
      "Epoch 10 / 150 (phase: 0) BEST MAE 16.166\n",
      "[train] 49.1 sec [valid] 7.1 sec \n",
      "Epoch 11 / 150 (phase: 0) BEST MAE 16.164\n",
      "[train] 52.6 sec [valid] 7.1 sec \n",
      "Epoch 12 / 150 (phase: 0) BEST MAE 16.164\n",
      "[train] 49.1 sec [valid] 7.2 sec \n",
      "Epoch 13 / 150 (phase: 0) BEST MAE 16.164\n",
      "[train] 52.3 sec [valid] 7.1 sec \n",
      "Epoch 14 / 150 (phase: 0) BEST MAE 16.164\n",
      "[train] 49.4 sec [valid] 7.2 sec \n",
      "Epoch 15 / 150 (phase: 0) BEST MAE 16.164\n",
      "[train] 52.3 sec [valid] 7.2 sec \n",
      "Epoch 16 / 150 (phase: 0) BEST MAE 16.164\n",
      "[train] 48.9 sec [valid] 7.1 sec \n",
      "Epoch 17 / 150 (phase: 0) BEST MAE 16.164\n",
      "[train] 52.6 sec [valid] 7.4 sec \n",
      "Epoch 18 / 150 (phase: 0) BEST MAE 16.164\n",
      "[train] 49.1 sec [valid] 7.1 sec \n",
      "Epoch 19 / 150 (phase: 0) BEST MAE 16.164\n",
      "[train] 52.7 sec [valid] 7.1 sec \n",
      "Epoch 20 / 150 (phase: 0) BEST MAE 16.164\n",
      "[train] 49.2 sec [valid] 7.2 sec \n",
      "Epoch 21 / 150 (phase: 0) BEST MAE 16.164\n",
      "[train] 52.5 sec [valid] 7.2 sec \n",
      "Epoch 22 / 150 (phase: 0) BEST MAE 16.164\n",
      "[train] 49.2 sec [valid] 6.9 sec \n",
      "Epoch 23 / 150 (phase: 0) BEST MAE 16.164\n"
     ]
    },
    {
     "data": {
      "text/html": [
       "<br/>Waiting for W&B process to finish, PID 15784<br/>Program failed with code 1.  Press ctrl-c to abort syncing."
      ],
      "text/plain": [
       "<IPython.core.display.HTML object>"
      ]
     },
     "metadata": {},
     "output_type": "display_data"
    },
    {
     "data": {
      "application/vnd.jupyter.widget-view+json": {
       "model_id": "",
       "version_major": 2,
       "version_minor": 0
      },
      "text/plain": [
       "VBox(children=(Label(value=' 0.00MB of 0.00MB uploaded (0.00MB deduped)\\r'), FloatProgress(value=1.0, max=1.0)…"
      ]
     },
     "metadata": {},
     "output_type": "display_data"
    },
    {
     "data": {
      "text/html": [
       "Find user logs for this run at: <code>G:\\My Drive\\brain_data\\workspace\\3DCNN_sMRI\\wandb\\run-20210816_212317-6lrbrnt9\\logs\\debug.log</code>"
      ],
      "text/plain": [
       "<IPython.core.display.HTML object>"
      ]
     },
     "metadata": {},
     "output_type": "display_data"
    },
    {
     "data": {
      "text/html": [
       "Find internal logs for this run at: <code>G:\\My Drive\\brain_data\\workspace\\3DCNN_sMRI\\wandb\\run-20210816_212317-6lrbrnt9\\logs\\debug-internal.log</code>"
      ],
      "text/plain": [
       "<IPython.core.display.HTML object>"
      ]
     },
     "metadata": {},
     "output_type": "display_data"
    },
    {
     "data": {
      "text/html": [
       "<h3>Run summary:</h3><br/><style>\n",
       "    table.wandb td:nth-child(1) { padding: 0 10px; text-align: right }\n",
       "    </style><table class=\"wandb\">\n",
       "<tr><td>train_rmse</td><td>18.65057</td></tr><tr><td>train_mae</td><td>15.42729</td></tr><tr><td>train_corr</td><td>0.01916</td></tr><tr><td>train_r2</td><td>-0.01909</td></tr><tr><td>train_auc</td><td>0.55242</td></tr><tr><td>train_acc</td><td>0.37812</td></tr><tr><td>valid_rmse</td><td>18.95937</td></tr><tr><td>valid_mae</td><td>16.16649</td></tr><tr><td>valid_corr</td><td>0.28549</td></tr><tr><td>valid_r2</td><td>0.00113</td></tr><tr><td>valid_auc</td><td>0.7042</td></tr><tr><td>valid_acc</td><td>0.38832</td></tr><tr><td>_runtime</td><td>1292</td></tr><tr><td>_timestamp</td><td>1629117889</td></tr><tr><td>_step</td><td>21</td></tr></table>"
      ],
      "text/plain": [
       "<IPython.core.display.HTML object>"
      ]
     },
     "metadata": {},
     "output_type": "display_data"
    },
    {
     "data": {
      "text/html": [
       "<h3>Run history:</h3><br/><style>\n",
       "    table.wandb td:nth-child(1) { padding: 0 10px; text-align: right }\n",
       "    </style><table class=\"wandb\">\n",
       "<tr><td>train_rmse</td><td>█▁▁▁▁▁▁▁▁▁▁▁▁▁▁▁▁▁▁▁▁▁</td></tr><tr><td>train_mae</td><td>█▁▁▁▁▁▁▁▁▁▁▁▁▁▁▁▁▁▁▁▁▁</td></tr><tr><td>train_corr</td><td>▁▁▂▃▃▃▄▄▄▄▅▅▆▆█▆▆▆▇▇█▇</td></tr><tr><td>train_r2</td><td>▁█████████████████████</td></tr><tr><td>train_auc</td><td>▄▄▄▄▄▄▄▄▅▅▄▁▁▃▃▅▅▆▇▄█▆</td></tr><tr><td>train_acc</td><td>▁▁▁▁▁▁▁▁▁▁▁▁▁▁▁▁▁▁▁▁▁▁</td></tr><tr><td>valid_rmse</td><td>█▂▂▃▃▃▃▃▃▃▃▂▂▁▂▃▃▂▂▂▃▁</td></tr><tr><td>valid_mae</td><td>█▂▂▂▁▁▁▁▁▁▁▁▁▂▂▁▁▁▁▁▁▁</td></tr><tr><td>valid_corr</td><td>▁▇██████████▇▇██████▇▇</td></tr><tr><td>valid_r2</td><td>▁▇▇▆▆▆▆▆▆▆▆▇▇█▇▆▆▆▆▇▆█</td></tr><tr><td>valid_auc</td><td>▂▂▂▆▆▆▆▆▆▆▁▁▁▁▁██▇██▆█</td></tr><tr><td>valid_acc</td><td>▁▁▁▁▁▁▁▁▁▁▁▁▁▁▁▁▁▁▁▁▁▁</td></tr><tr><td>_runtime</td><td>▁▁▂▂▂▃▃▃▄▄▄▅▅▅▆▆▆▇▇▇██</td></tr><tr><td>_timestamp</td><td>▁▁▂▂▂▃▃▃▄▄▄▅▅▅▆▆▆▇▇▇██</td></tr><tr><td>_step</td><td>▁▁▂▂▂▃▃▃▄▄▄▅▅▅▆▆▆▇▇▇██</td></tr></table><br/>"
      ],
      "text/plain": [
       "<IPython.core.display.HTML object>"
      ]
     },
     "metadata": {},
     "output_type": "display_data"
    },
    {
     "data": {
      "text/html": [
       "Synced 6 W&B file(s), 0 media file(s), 0 artifact file(s) and 0 other file(s)"
      ],
      "text/plain": [
       "<IPython.core.display.HTML object>"
      ]
     },
     "metadata": {},
     "output_type": "display_data"
    },
    {
     "data": {
      "text/html": [
       "\n",
       "                    <br/>Synced <strong style=\"color:#cdcd00\">happy-sweep-1</strong>: <a href=\"https://wandb.ai/1pha/3d_smri/runs/6lrbrnt9\" target=\"_blank\">https://wandb.ai/1pha/3d_smri/runs/6lrbrnt9</a><br/>\n",
       "                "
      ],
      "text/plain": [
       "<IPython.core.display.HTML object>"
      ]
     },
     "metadata": {},
     "output_type": "display_data"
    },
    {
     "name": "stderr",
     "output_type": "stream",
     "text": [
      "Run 6lrbrnt9 errored: RuntimeError(\"Function 'DivBackward0' returned nan values in its 1th output.\")\n",
      "wandb: ERROR Run 6lrbrnt9 errored: RuntimeError(\"Function 'DivBackward0' returned nan values in its 1th output.\")\n",
      "wandb: Agent Starting Run: xisae4xh with config:\n",
      "wandb: \tdepth: 2\n",
      "wandb: \tembed_dim: 48\n",
      "wandb: \tlearning_rate: 0.001\n"
     ]
    },
    {
     "data": {
      "text/html": [
       "\n",
       "                Tracking run with wandb version 0.12.0<br/>\n",
       "                Syncing run <strong style=\"color:#cdcd00\">bright-sweep-2</strong> to <a href=\"https://wandb.ai\" target=\"_blank\">Weights & Biases</a> <a href=\"https://docs.wandb.com/integrations/jupyter.html\" target=\"_blank\">(Documentation)</a>.<br/>\n",
       "                Project page: <a href=\"https://wandb.ai/1pha/3d_smri\" target=\"_blank\">https://wandb.ai/1pha/3d_smri</a><br/>\n",
       "                Sweep page: <a href=\"https://wandb.ai/1pha/3d_smri/sweeps/cmjnmxvp\" target=\"_blank\">https://wandb.ai/1pha/3d_smri/sweeps/cmjnmxvp</a><br/>\n",
       "Run page: <a href=\"https://wandb.ai/1pha/3d_smri/runs/xisae4xh\" target=\"_blank\">https://wandb.ai/1pha/3d_smri/runs/xisae4xh</a><br/>\n",
       "                Run data is saved locally in <code>G:\\My Drive\\brain_data\\workspace\\3DCNN_sMRI\\wandb\\run-20210816_214515-xisae4xh</code><br/><br/>\n",
       "            "
      ],
      "text/plain": [
       "<IPython.core.display.HTML object>"
      ]
     },
     "metadata": {},
     "output_type": "display_data"
    },
    {
     "name": "stderr",
     "output_type": "stream",
     "text": [
      "wandb: WARNING Config item 'learning_rate' was locked by 'sweep' (ignored update).\n"
     ]
    },
    {
     "name": "stdout",
     "output_type": "stream",
     "text": [
      "Use cuda:0 as a device.\n",
      "Output from encoder is 48.\n",
      "Total Number of parameters: 266538\n",
      "TOTAL TRAIN 1161 | VALID 291\n",
      "MIXED PRECISION:: True\n",
      "Epoch 1 / 150 (phase: 0) BEST MAE inf\n",
      "[train] 52.4 sec [valid] 7.1 sec \n",
      "Epoch 2 / 150 (phase: 0) BEST MAE 48.258\n",
      "[train] 48.2 sec [valid] 6.9 sec \n",
      "Epoch 3 / 150 (phase: 0) BEST MAE 16.377\n",
      "[train] 51.0 sec [valid] 6.9 sec \n",
      "Epoch 4 / 150 (phase: 0) BEST MAE 15.948\n",
      "[train] 47.7 sec [valid] 7.0 sec \n",
      "Epoch 5 / 150 (phase: 0) BEST MAE 15.948\n",
      "[train] 51.1 sec [valid] 6.9 sec \n",
      "Epoch 6 / 150 (phase: 0) BEST MAE 15.948\n",
      "[train] 48.1 sec [valid] 6.9 sec \n",
      "Epoch 7 / 150 (phase: 0) BEST MAE 15.948\n",
      "[train] 51.3 sec [valid] 6.9 sec \n",
      "Epoch 8 / 150 (phase: 0) BEST MAE 15.948\n",
      "[train] 48.2 sec [valid] 6.9 sec \n",
      "Epoch 9 / 150 (phase: 0) BEST MAE 15.948\n",
      "[train] 51.0 sec [valid] 6.9 sec \n",
      "Epoch 10 / 150 (phase: 0) BEST MAE 15.948\n",
      "[train] 48.1 sec [valid] 6.9 sec \n",
      "Epoch 11 / 150 (phase: 0) BEST MAE 15.948\n",
      "[train] 50.7 sec [valid] 7.3 sec \n",
      "Epoch 12 / 150 (phase: 0) BEST MAE 15.948\n",
      "[train] 48.2 sec [valid] 6.9 sec \n",
      "Epoch 13 / 150 (phase: 0) BEST MAE 15.948\n",
      "[train] 49.4 sec [valid] 8.2 sec \n",
      "Epoch 14 / 150 (phase: 0) BEST MAE 15.948\n",
      "[train] 49.0 sec [valid] 7.0 sec \n",
      "Epoch 15 / 150 (phase: 0) BEST MAE 15.948\n",
      "[train] 48.3 sec [valid] 7.8 sec \n",
      "Epoch 16 / 150 (phase: 0) BEST MAE 15.948\n",
      "[train] 50.3 sec [valid] 6.9 sec \n",
      "Epoch 17 / 150 (phase: 0) BEST MAE 15.948\n",
      "[train] 48.0 sec [valid] 7.0 sec \n",
      "Epoch 18 / 150 (phase: 0) BEST MAE 15.948\n",
      "[train] 51.3 sec [valid] 6.9 sec \n",
      "Epoch 19 / 150 (phase: 0) BEST MAE 15.948\n",
      "[train] 48.1 sec [valid] 6.9 sec \n",
      "Epoch 20 / 150 (phase: 0) BEST MAE 15.948\n",
      "[train] 51.3 sec [valid] 6.9 sec \n",
      "Epoch 21 / 150 (phase: 0) BEST MAE 15.948\n",
      "[train] 48.0 sec [valid] 6.9 sec \n",
      "Epoch 22 / 150 (phase: 0) BEST MAE 15.948\n",
      "[train] 51.1 sec [valid] 7.0 sec \n",
      "Epoch 23 / 150 (phase: 0) BEST MAE 15.948\n",
      "[train] 48.4 sec [valid] 6.9 sec \n",
      "Epoch 24 / 150 (phase: 0) BEST MAE 15.948\n",
      "[train] 51.1 sec [valid] 7.0 sec \n",
      "Epoch 25 / 150 (phase: 0) BEST MAE 15.948\n",
      "[train] 48.1 sec [valid] 6.9 sec \n",
      "Epoch 26 / 150 (phase: 0) BEST MAE 15.948\n",
      "[train] 51.5 sec [valid] 6.9 sec \n",
      "Epoch 27 / 150 (phase: 0) BEST MAE 15.948\n",
      "[train] 48.1 sec [valid] 6.9 sec \n",
      "Epoch 28 / 150 (phase: 0) BEST MAE 15.948\n",
      "[train] 51.3 sec [valid] 6.9 sec \n",
      "Epoch 29 / 150 (phase: 0) BEST MAE 15.948\n",
      "[train] 48.1 sec [valid] 7.0 sec \n",
      "Epoch 30 / 150 (phase: 0) BEST MAE 15.948\n",
      "[train] 49.1 sec [valid] 8.8 sec \n",
      "Epoch 31 / 150 (phase: 0) BEST MAE 15.948\n",
      "[train] 48.5 sec [valid] 6.9 sec \n",
      "Epoch 32 / 150 (phase: 0) BEST MAE 15.948\n",
      "[train] 47.8 sec [valid] 7.8 sec \n",
      "Epoch 33 / 150 (phase: 0) BEST MAE 15.948\n",
      "[train] 50.2 sec [valid] 7.0 sec \n",
      "Epoch 34 / 150 (phase: 0) BEST MAE 15.948\n",
      "[train] 47.9 sec [valid] 6.9 sec \n",
      "Epoch 35 / 150 (phase: 0) BEST MAE 15.948\n",
      "[train] 50.8 sec [valid] 6.9 sec \n",
      "Epoch 36 / 150 (phase: 0) BEST MAE 15.948\n",
      "[train] 48.2 sec "
     ]
    },
    {
     "name": "stderr",
     "output_type": "stream",
     "text": [
      "wandb: WARNING Config item 'learning_rate' was locked by 'sweep' (ignored update).\n"
     ]
    },
    {
     "name": "stdout",
     "output_type": "stream",
     "text": [
      "[valid] 7.0 sec \n",
      "Waited for 3 times no better result 3 / 3 at EPOCH 35\n"
     ]
    },
    {
     "data": {
      "text/html": [
       "<br/>Waiting for W&B process to finish, PID 26500<br/>Program ended successfully."
      ],
      "text/plain": [
       "<IPython.core.display.HTML object>"
      ]
     },
     "metadata": {},
     "output_type": "display_data"
    },
    {
     "data": {
      "application/vnd.jupyter.widget-view+json": {
       "model_id": "",
       "version_major": 2,
       "version_minor": 0
      },
      "text/plain": [
       "VBox(children=(Label(value=' 0.00MB of 0.00MB uploaded (0.00MB deduped)\\r'), FloatProgress(value=1.0, max=1.0)…"
      ]
     },
     "metadata": {},
     "output_type": "display_data"
    },
    {
     "data": {
      "text/html": [
       "Find user logs for this run at: <code>G:\\My Drive\\brain_data\\workspace\\3DCNN_sMRI\\wandb\\run-20210816_214515-xisae4xh\\logs\\debug.log</code>"
      ],
      "text/plain": [
       "<IPython.core.display.HTML object>"
      ]
     },
     "metadata": {},
     "output_type": "display_data"
    },
    {
     "data": {
      "text/html": [
       "Find internal logs for this run at: <code>G:\\My Drive\\brain_data\\workspace\\3DCNN_sMRI\\wandb\\run-20210816_214515-xisae4xh\\logs\\debug-internal.log</code>"
      ],
      "text/plain": [
       "<IPython.core.display.HTML object>"
      ]
     },
     "metadata": {},
     "output_type": "display_data"
    },
    {
     "data": {
      "text/html": [
       "<h3>Run summary:</h3><br/><style>\n",
       "    table.wandb td:nth-child(1) { padding: 0 10px; text-align: right }\n",
       "    </style><table class=\"wandb\">\n",
       "<tr><td>train_rmse</td><td>18.40022</td></tr><tr><td>train_mae</td><td>15.18215</td></tr><tr><td>train_corr</td><td>0.00513</td></tr><tr><td>train_r2</td><td>-0.0023</td></tr><tr><td>train_auc</td><td>0.47358</td></tr><tr><td>train_acc</td><td>0.37812</td></tr><tr><td>valid_rmse</td><td>19.22046</td></tr><tr><td>valid_mae</td><td>15.95819</td></tr><tr><td>valid_corr</td><td>0.34835</td></tr><tr><td>valid_r2</td><td>-0.02822</td></tr><tr><td>valid_auc</td><td>0.30494</td></tr><tr><td>valid_acc</td><td>0.38832</td></tr><tr><td>_runtime</td><td>2042</td></tr><tr><td>_timestamp</td><td>1629119958</td></tr><tr><td>_step</td><td>35</td></tr></table>"
      ],
      "text/plain": [
       "<IPython.core.display.HTML object>"
      ]
     },
     "metadata": {},
     "output_type": "display_data"
    },
    {
     "data": {
      "text/html": [
       "<h3>Run history:</h3><br/><style>\n",
       "    table.wandb td:nth-child(1) { padding: 0 10px; text-align: right }\n",
       "    </style><table class=\"wandb\">\n",
       "<tr><td>train_rmse</td><td>█▄▁▁▁▁▁▁▁▁▁▁▁▁▅▁▁▁▁▁▁▁▁▁▁▁▁▁▁▁▁▁▁▁▁▁</td></tr><tr><td>train_mae</td><td>█▄▁▁▁▁▁▁▁▁▁▁▁▁▅▁▁▁▁▁▁▁▁▁▁▁▁▁▁▁▁▁▁▁▁▁</td></tr><tr><td>train_corr</td><td>▅▅▄▂▂▃▃▃▃▃▃▃▃▄▁█▁▂▂▃▃▃▃▃▃▃▃▃▃▃▇▃▁▃▃▃</td></tr><tr><td>train_r2</td><td>▁▅████████████▅█████████████████████</td></tr><tr><td>train_auc</td><td>▆█▇▆▅▄▄▃▃▄▄▃▅▅▅█▆▅▃▃▂▁▁▃▄▄▄▃▃▃▃▆▇▅▆▅</td></tr><tr><td>train_acc</td><td>▁▁▁▁▁▁▁▁▁▁▁▁▁▁▁▁▁▁▁▁▁▁▁▁▁▁▁▁▁▁▁▁▁▁▁▁</td></tr><tr><td>valid_rmse</td><td>█▁▁▁▁▁▁▁▁▁▁▁▁▁▁▁▁▁▁▁▁▁▁▁▁▁▁▁▁▁▁▁▁▁▁▁</td></tr><tr><td>valid_mae</td><td>█▁▁▁▁▁▁▁▁▁▁▁▁▁▂▁▁▁▁▁▁▁▁▁▁▁▁▁▁▁▁▁▁▁▁▁</td></tr><tr><td>valid_corr</td><td>▇▄▇▇▇▇▇▇▇▇▇▇▇▇▇▇▇▇▇▇▇▇▇▇▇▇▇▇▇█▇▁██▇█</td></tr><tr><td>valid_r2</td><td>▁███████████████████████████████████</td></tr><tr><td>valid_auc</td><td>▃▃▂▂▂▂▂▂▂▂▂▂▂▂▂▃▃▃▃▃▃▃▃▃▃▃▃▃▃▃▅█▁▁▃▃</td></tr><tr><td>valid_acc</td><td>▁▁▁▁▁▁▁▁▁▁▁▁▁▁▁▁▁▁▁▁▁▁▁▁▁▁▁▁▁▁▁▁▁▁▁▁</td></tr><tr><td>_runtime</td><td>▁▁▁▂▂▂▂▂▃▃▃▃▃▄▄▄▄▄▅▅▅▅▅▆▆▆▆▆▇▇▇▇▇███</td></tr><tr><td>_timestamp</td><td>▁▁▁▂▂▂▂▂▃▃▃▃▃▄▄▄▄▄▅▅▅▅▅▆▆▆▆▆▇▇▇▇▇███</td></tr><tr><td>_step</td><td>▁▁▁▂▂▂▂▂▃▃▃▃▃▄▄▄▄▄▅▅▅▅▅▆▆▆▆▆▇▇▇▇▇███</td></tr></table><br/>"
      ],
      "text/plain": [
       "<IPython.core.display.HTML object>"
      ]
     },
     "metadata": {},
     "output_type": "display_data"
    },
    {
     "data": {
      "text/html": [
       "Synced 6 W&B file(s), 0 media file(s), 0 artifact file(s) and 1 other file(s)"
      ],
      "text/plain": [
       "<IPython.core.display.HTML object>"
      ]
     },
     "metadata": {},
     "output_type": "display_data"
    },
    {
     "data": {
      "text/html": [
       "\n",
       "                    <br/>Synced <strong style=\"color:#cdcd00\">bright-sweep-2</strong>: <a href=\"https://wandb.ai/1pha/3d_smri/runs/xisae4xh\" target=\"_blank\">https://wandb.ai/1pha/3d_smri/runs/xisae4xh</a><br/>\n",
       "                "
      ],
      "text/plain": [
       "<IPython.core.display.HTML object>"
      ]
     },
     "metadata": {},
     "output_type": "display_data"
    },
    {
     "name": "stderr",
     "output_type": "stream",
     "text": [
      "Run xisae4xh errored: FileNotFoundError(2, 'No such file or directory')\n",
      "wandb: ERROR Run xisae4xh errored: FileNotFoundError(2, 'No such file or directory')\n",
      "wandb: Agent Starting Run: nmujhy5j with config:\n",
      "wandb: \tdepth: 2\n",
      "wandb: \tembed_dim: 48\n",
      "wandb: \tlearning_rate: 0.0001\n"
     ]
    },
    {
     "data": {
      "text/html": [
       "\n",
       "                Tracking run with wandb version 0.12.0<br/>\n",
       "                Syncing run <strong style=\"color:#cdcd00\">feasible-sweep-3</strong> to <a href=\"https://wandb.ai\" target=\"_blank\">Weights & Biases</a> <a href=\"https://docs.wandb.com/integrations/jupyter.html\" target=\"_blank\">(Documentation)</a>.<br/>\n",
       "                Project page: <a href=\"https://wandb.ai/1pha/3d_smri\" target=\"_blank\">https://wandb.ai/1pha/3d_smri</a><br/>\n",
       "                Sweep page: <a href=\"https://wandb.ai/1pha/3d_smri/sweeps/cmjnmxvp\" target=\"_blank\">https://wandb.ai/1pha/3d_smri/sweeps/cmjnmxvp</a><br/>\n",
       "Run page: <a href=\"https://wandb.ai/1pha/3d_smri/runs/nmujhy5j\" target=\"_blank\">https://wandb.ai/1pha/3d_smri/runs/nmujhy5j</a><br/>\n",
       "                Run data is saved locally in <code>G:\\My Drive\\brain_data\\workspace\\3DCNN_sMRI\\wandb\\run-20210816_221923-nmujhy5j</code><br/><br/>\n",
       "            "
      ],
      "text/plain": [
       "<IPython.core.display.HTML object>"
      ]
     },
     "metadata": {},
     "output_type": "display_data"
    },
    {
     "name": "stderr",
     "output_type": "stream",
     "text": [
      "wandb: WARNING Config item 'learning_rate' was locked by 'sweep' (ignored update).\n"
     ]
    },
    {
     "name": "stdout",
     "output_type": "stream",
     "text": [
      "Use cuda:0 as a device.\n",
      "Output from encoder is 48.\n",
      "Total Number of parameters: 266538\n",
      "TOTAL TRAIN 1161 | VALID 291\n",
      "MIXED PRECISION:: True\n",
      "Epoch 1 / 150 (phase: 0) BEST MAE inf\n",
      "[train] 52.1 sec [valid] 6.9 sec \n",
      "Epoch 2 / 150 (phase: 0) BEST MAE 54.366\n",
      "[train] 48.0 sec [valid] 7.0 sec \n",
      "Epoch 3 / 150 (phase: 0) BEST MAE 54.035\n",
      "[train] 51.3 sec [valid] 6.9 sec \n",
      "Epoch 4 / 150 (phase: 0) BEST MAE 53.599\n",
      "[train] 47.9 sec [valid] 6.9 sec \n",
      "Epoch 5 / 150 (phase: 0) BEST MAE 52.871\n",
      "[train] 51.1 sec [valid] 6.9 sec \n",
      "Epoch 6 / 150 (phase: 0) BEST MAE 51.904\n",
      "[train] 48.0 sec [valid] 7.0 sec \n",
      "Epoch 7 / 150 (phase: 0) BEST MAE 50.556\n",
      "[train] 51.3 sec [valid] 7.1 sec \n",
      "Epoch 8 / 150 (phase: 0) BEST MAE 48.871\n",
      "[train] 48.2 sec [valid] 6.8 sec \n",
      "Epoch 9 / 150 (phase: 0) BEST MAE 46.718\n",
      "[train] 51.1 sec [valid] 7.1 sec \n",
      "Epoch 10 / 150 (phase: 0) BEST MAE 44.045\n",
      "[train] 48.2 sec [valid] 7.1 sec \n",
      "Epoch 11 / 150 (phase: 0) BEST MAE 40.791\n",
      "[train] 51.5 sec [valid] 7.0 sec \n",
      "Epoch 12 / 150 (phase: 0) BEST MAE 36.960\n",
      "[train] 50.5 sec [valid] 6.9 sec \n",
      "Epoch 13 / 150 (phase: 0) BEST MAE 32.667\n",
      "[train] 51.9 sec [valid] 6.9 sec \n",
      "Epoch 14 / 150 (phase: 0) BEST MAE 28.618\n",
      "[train] 47.9 sec [valid] 7.0 sec \n",
      "Epoch 15 / 150 (phase: 0) BEST MAE 24.820\n",
      "[train] 50.4 sec [valid] 8.0 sec \n",
      "Epoch 16 / 150 (phase: 0) BEST MAE 21.404\n",
      "[train] 47.9 sec [valid] 6.8 sec \n",
      "Epoch 17 / 150 (phase: 0) BEST MAE 18.511\n",
      "[train] 48.2 sec [valid] 7.8 sec \n",
      "Epoch 18 / 150 (phase: 0) BEST MAE 16.934\n",
      "[train] 49.6 sec [valid] 7.0 sec \n",
      "Epoch 19 / 150 (phase: 0) BEST MAE 16.353\n",
      "[train] 48.2 sec [valid] 7.0 sec \n",
      "Epoch 20 / 150 (phase: 0) BEST MAE 16.134\n",
      "[train] 51.1 sec [valid] 6.9 sec \n",
      "Epoch 21 / 150 (phase: 0) BEST MAE 16.066\n",
      "[train] 48.2 sec [valid] 7.0 sec \n",
      "Epoch 22 / 150 (phase: 0) BEST MAE 16.043\n",
      "[train] 51.4 sec [valid] 6.9 sec \n",
      "Epoch 23 / 150 (phase: 0) BEST MAE 16.036\n",
      "[train] 48.2 sec [valid] 7.0 sec \n",
      "Epoch 24 / 150 (phase: 0) BEST MAE 16.033\n",
      "[train] 51.5 sec [valid] 7.0 sec \n",
      "Epoch 25 / 150 (phase: 0) BEST MAE 16.032\n",
      "[train] 48.1 sec [valid] 6.9 sec \n",
      "Epoch 26 / 150 (phase: 0) BEST MAE 16.032\n",
      "[train] 51.7 sec [valid] 6.9 sec \n",
      "Epoch 27 / 150 (phase: 0) BEST MAE 16.031\n",
      "[train] 47.9 sec [valid] 6.9 sec \n",
      "Epoch 28 / 150 (phase: 0) BEST MAE 16.031\n",
      "[train] 50.9 sec [valid] 7.0 sec \n",
      "Epoch 29 / 150 (phase: 0) BEST MAE 16.031\n",
      "[train] 48.2 sec [valid] 6.9 sec \n",
      "Epoch 30 / 150 (phase: 0) BEST MAE 16.031\n",
      "[train] 51.3 sec [valid] 6.9 sec \n",
      "Epoch 31 / 150 (phase: 0) BEST MAE 16.031\n",
      "[train] 47.9 sec [valid] 7.0 sec \n",
      "Epoch 32 / 150 (phase: 0) BEST MAE 16.030\n",
      "[train] 50.3 sec [valid] 7.8 sec \n",
      "Epoch 33 / 150 (phase: 0) BEST MAE 16.030\n",
      "[train] 48.1 sec [valid] 6.9 sec \n",
      "Epoch 34 / 150 (phase: 0) BEST MAE 16.030\n",
      "[train] 48.5 sec [valid] 7.7 sec \n",
      "Epoch 35 / 150 (phase: 0) BEST MAE 16.029\n",
      "[train] 49.7 sec [valid] 6.9 sec \n",
      "Epoch 36 / 150 (phase: 0) BEST MAE 16.029\n",
      "[train] 48.0 sec [valid] 7.3 sec \n",
      "Epoch 37 / 150 (phase: 0) BEST MAE 16.029\n",
      "[train] 51.0 sec [valid] 6.9 sec \n",
      "Epoch 38 / 150 (phase: 0) BEST MAE 16.027\n",
      "[train] 48.0 sec [valid] 6.9 sec \n",
      "Epoch 39 / 150 (phase: 0) BEST MAE 16.026\n",
      "[train] 51.4 sec [valid] 6.9 sec \n",
      "Epoch 40 / 150 (phase: 0) BEST MAE 16.025\n",
      "[train] 47.9 sec [valid] 6.9 sec \n",
      "Epoch 41 / 150 (phase: 0) BEST MAE 16.023\n",
      "[train] 51.4 sec [valid] 6.9 sec \n",
      "Epoch 42 / 150 (phase: 0) BEST MAE 16.020\n",
      "[train] 48.1 sec [valid] 6.9 sec \n",
      "Epoch 43 / 150 (phase: 0) BEST MAE 16.012\n",
      "[train] 51.7 sec [valid] 7.1 sec \n",
      "Epoch 44 / 150 (phase: 0) BEST MAE 16.012\n",
      "[train] 47.8 sec [valid] 6.9 sec \n",
      "Epoch 45 / 150 (phase: 0) BEST MAE 15.997\n",
      "[train] 51.3 sec [valid] 6.8 sec \n",
      "Epoch 46 / 150 (phase: 0) BEST MAE 15.997\n",
      "[train] 48.2 sec [valid] 6.9 sec \n",
      "Epoch 47 / 150 (phase: 0) BEST MAE 15.995\n",
      "[train] 51.2 sec [valid] 11.6 sec \n",
      "Epoch 48 / 150 (phase: 0) BEST MAE 15.964\n",
      "[train] 57.2 sec [valid] 7.4 sec \n",
      "Epoch 49 / 150 (phase: 0) BEST MAE 15.955\n",
      "[train] 54.2 sec [valid] 7.3 sec \n",
      "Epoch 50 / 150 (phase: 0) BEST MAE 15.955\n",
      "[train] 49.4 sec [valid] 7.2 sec \n",
      "Epoch 51 / 150 (phase: 0) BEST MAE 15.955\n",
      "[train] 52.2 sec [valid] 7.1 sec \n",
      "Epoch 52 / 150 (phase: 0) BEST MAE 15.955\n",
      "[train] 48.7 sec [valid] 7.1 sec \n",
      "Epoch 53 / 150 (phase: 0) BEST MAE 15.955\n",
      "[train] 52.2 sec [valid] 7.1 sec \n",
      "Epoch 54 / 150 (phase: 0) BEST MAE 15.907\n",
      "[train] 49.3 sec [valid] 7.2 sec \n",
      "Epoch 55 / 150 (phase: 0) BEST MAE 15.640\n",
      "[train] 52.3 sec [valid] 7.1 sec \n",
      "Epoch 56 / 150 (phase: 0) BEST MAE 15.066\n",
      "[train] 49.0 sec [valid] 7.2 sec \n",
      "Epoch 57 / 150 (phase: 0) BEST MAE 15.066\n",
      "[train] 52.0 sec [valid] 7.1 sec \n",
      "Epoch 58 / 150 (phase: 0) BEST MAE 15.066\n",
      "[train] 49.2 sec [valid] 7.1 sec \n",
      "Epoch 59 / 150 (phase: 0) BEST MAE 15.066\n",
      "[train] 51.2 sec [valid] 7.9 sec \n",
      "Epoch 60 / 150 (phase: 0) BEST MAE 15.066\n",
      "[train] 48.9 sec [valid] 7.1 sec \n",
      "Epoch 61 / 150 (phase: 0) BEST MAE 14.055\n",
      "[train] 50.0 sec [valid] 9.1 sec \n",
      "Epoch 62 / 150 (phase: 0) BEST MAE 13.995\n",
      "[train] 48.9 sec [valid] 7.0 sec \n",
      "Epoch 63 / 150 (phase: 0) BEST MAE 13.715\n",
      "[train] 48.9 sec [valid] 8.5 sec \n",
      "Epoch 64 / 150 (phase: 0) BEST MAE 13.695\n",
      "[train] 50.5 sec [valid] 7.1 sec \n",
      "Epoch 65 / 150 (phase: 0) BEST MAE 13.695\n",
      "[train] 49.6 sec [valid] 7.6 sec \n",
      "Epoch 66 / 150 (phase: 0) BEST MAE 13.695\n",
      "[train] 50.6 sec [valid] 6.9 sec \n",
      "Epoch 67 / 150 (phase: 0) BEST MAE 13.553\n",
      "[train] 47.6 sec [valid] 6.9 sec \n",
      "Epoch 68 / 150 (phase: 0) BEST MAE 13.486\n",
      "[train] 51.1 sec [valid] 7.0 sec \n",
      "Epoch 69 / 150 (phase: 0) BEST MAE 13.486\n",
      "[train] 47.6 sec [valid] 6.8 sec \n",
      "Epoch 70 / 150 (phase: 0) BEST MAE 13.350\n",
      "[train] 50.9 sec [valid] 6.9 sec \n",
      "Epoch 71 / 150 (phase: 0) BEST MAE 13.345\n",
      "[train] 48.2 sec [valid] 6.8 sec \n",
      "Epoch 72 / 150 (phase: 0) BEST MAE 13.310\n",
      "[train] 51.0 sec [valid] 6.9 sec \n",
      "Epoch 73 / 150 (phase: 0) BEST MAE 13.276\n",
      "[train] 47.7 sec [valid] 6.8 sec \n",
      "Epoch 74 / 150 (phase: 0) BEST MAE 13.105\n",
      "[train] 50.9 sec [valid] 6.9 sec \n",
      "Epoch 75 / 150 (phase: 0) BEST MAE 13.105\n",
      "[train] 47.6 sec [valid] 6.9 sec \n",
      "Epoch 76 / 150 (phase: 0) BEST MAE 13.105\n",
      "[train] 49.6 sec [valid] 8.3 sec \n",
      "Epoch 77 / 150 (phase: 0) BEST MAE 13.105\n",
      "[train] 47.7 sec [valid] 6.9 sec \n",
      "Epoch 78 / 150 (phase: 0) BEST MAE 13.105\n",
      "[train] 47.7 sec [valid] 8.1 sec \n",
      "Epoch 79 / 150 (phase: 0) BEST MAE 13.105\n",
      "[train] 49.1 sec [valid] 6.8 sec \n",
      "Epoch 80 / 150 (phase: 0) BEST MAE 13.105\n",
      "[train] 47.5 sec [valid] 6.9 sec \n",
      "Epoch 81 / 150 (phase: 0) BEST MAE 13.105\n",
      "[train] 50.7 sec [valid] 6.8 sec \n",
      "Epoch 82 / 150 (phase: 0) BEST MAE 13.105\n",
      "[train] 47.7 sec [valid] 6.8 sec \n",
      "Epoch 83 / 150 (phase: 0) BEST MAE 13.105\n",
      "[train] 50.8 sec [valid] 6.9 sec \n",
      "Epoch 84 / 150 (phase: 0) BEST MAE 13.030\n"
     ]
    },
    {
     "data": {
      "text/html": [
       "<br/>Waiting for W&B process to finish, PID 20980<br/>Program failed with code 1.  Press ctrl-c to abort syncing."
      ],
      "text/plain": [
       "<IPython.core.display.HTML object>"
      ]
     },
     "metadata": {},
     "output_type": "display_data"
    },
    {
     "data": {
      "application/vnd.jupyter.widget-view+json": {
       "model_id": "",
       "version_major": 2,
       "version_minor": 0
      },
      "text/plain": [
       "VBox(children=(Label(value=' 0.00MB of 0.00MB uploaded (0.00MB deduped)\\r'), FloatProgress(value=1.0, max=1.0)…"
      ]
     },
     "metadata": {},
     "output_type": "display_data"
    },
    {
     "data": {
      "text/html": [
       "Find user logs for this run at: <code>G:\\My Drive\\brain_data\\workspace\\3DCNN_sMRI\\wandb\\run-20210816_221923-nmujhy5j\\logs\\debug.log</code>"
      ],
      "text/plain": [
       "<IPython.core.display.HTML object>"
      ]
     },
     "metadata": {},
     "output_type": "display_data"
    },
    {
     "data": {
      "text/html": [
       "Find internal logs for this run at: <code>G:\\My Drive\\brain_data\\workspace\\3DCNN_sMRI\\wandb\\run-20210816_221923-nmujhy5j\\logs\\debug-internal.log</code>"
      ],
      "text/plain": [
       "<IPython.core.display.HTML object>"
      ]
     },
     "metadata": {},
     "output_type": "display_data"
    },
    {
     "data": {
      "text/html": [
       "<h3>Run summary:</h3><br/><style>\n",
       "    table.wandb td:nth-child(1) { padding: 0 10px; text-align: right }\n",
       "    </style><table class=\"wandb\">\n",
       "<tr><td>train_rmse</td><td>14.52293</td></tr><tr><td>train_mae</td><td>11.49689</td></tr><tr><td>train_corr</td><td>0.61159</td></tr><tr><td>train_r2</td><td>0.37315</td></tr><tr><td>train_auc</td><td>0.27566</td></tr><tr><td>train_acc</td><td>0.37812</td></tr><tr><td>valid_rmse</td><td>15.47312</td></tr><tr><td>valid_mae</td><td>13.03031</td></tr><tr><td>valid_corr</td><td>0.55006</td></tr><tr><td>valid_r2</td><td>0.30116</td></tr><tr><td>valid_auc</td><td>0.30615</td></tr><tr><td>valid_acc</td><td>0.38832</td></tr><tr><td>_runtime</td><td>4732</td></tr><tr><td>_timestamp</td><td>1629124695</td></tr><tr><td>_step</td><td>82</td></tr></table>"
      ],
      "text/plain": [
       "<IPython.core.display.HTML object>"
      ]
     },
     "metadata": {},
     "output_type": "display_data"
    },
    {
     "data": {
      "text/html": [
       "<h3>Run history:</h3><br/><style>\n",
       "    table.wandb td:nth-child(1) { padding: 0 10px; text-align: right }\n",
       "    </style><table class=\"wandb\">\n",
       "<tr><td>train_rmse</td><td>███▇▇▆▄▃▂▂▂▂▂▂▂▂▂▂▂▂▂▂▂▂▂▂▂▁▁▁▁▁▁▁▁▁▁▁▁▁</td></tr><tr><td>train_mae</td><td>███▇▇▆▄▃▂▂▂▂▂▂▂▂▂▂▂▂▂▂▂▂▂▂▁▁▁▁▁▁▁▁▁▁▁▁▁▁</td></tr><tr><td>train_corr</td><td>▁▁▁▁▁▁▁▁▁▁▁▁▁▁▁▁▁▁▁▁▁▂▃▃▁▃▄▅▅▆▆▇▇▇▇▇▇███</td></tr><tr><td>train_r2</td><td>▁▁▂▂▃▄▆▇████████████████████████████████</td></tr><tr><td>train_auc</td><td>▇▅▅▅▇▇███▇▆▆▆▆▆▆▆▆▆▆▆▅▆▅▅▄▃▃▃▂▂▂▂▂▂▂▂▁▁▂</td></tr><tr><td>train_acc</td><td>▁▁▁▁▁▁▁▁▁▁▁▁▁▁▁▁▁▁▁▁▁▁▁▁▁▁▁▁▁▁▁▁▁▁▁▁▁▁▁▁</td></tr><tr><td>valid_rmse</td><td>███▇▆▅▄▂▂▂▂▂▂▂▂▂▂▂▂▂▂▂▂▂▂▂▁▂▁▁▁▁▁▁▁▁▁▁▁▁</td></tr><tr><td>valid_mae</td><td>███▇▆▅▄▂▂▂▂▂▂▂▂▂▂▂▂▂▂▂▁▁▂▁▁▁▁▁▁▁▁▁▁▁▁▁▁▁</td></tr><tr><td>valid_corr</td><td>▅▅▆▆▄▅▄▆▆▁▁▁▁▁▁▁▁▁▂▃▆▁▆▁▆▆▆▆▆▇▇▇▇███████</td></tr><tr><td>valid_r2</td><td>▁▁▂▂▃▅▆▇████████████████████████████████</td></tr><tr><td>valid_auc</td><td>▂▂▂▂▃▆▇██▂▂▂▂▂▂▂▂▂▂▂▂▁▂▁▁▂▂▂▂▂▂▂▂▂▂▂▂▁▁▂</td></tr><tr><td>valid_acc</td><td>▁▁▁▁▁▁▁▁▁▁▁▁▁▁▁▁▁▁▁▁▁▁▁▁▁▁▁▁▁▁▁▁▁▁▁▁▁▁▁▁</td></tr><tr><td>_runtime</td><td>▁▁▁▂▂▂▂▂▂▃▃▃▃▃▃▄▄▄▄▄▅▅▅▅▅▅▆▆▆▆▆▇▇▇▇▇▇███</td></tr><tr><td>_timestamp</td><td>▁▁▁▂▂▂▂▂▂▃▃▃▃▃▃▄▄▄▄▄▅▅▅▅▅▅▆▆▆▆▆▇▇▇▇▇▇███</td></tr><tr><td>_step</td><td>▁▁▁▂▂▂▂▂▂▃▃▃▃▃▃▄▄▄▄▄▅▅▅▅▅▅▆▆▆▆▆▇▇▇▇▇▇███</td></tr></table><br/>"
      ],
      "text/plain": [
       "<IPython.core.display.HTML object>"
      ]
     },
     "metadata": {},
     "output_type": "display_data"
    },
    {
     "data": {
      "text/html": [
       "Synced 6 W&B file(s), 0 media file(s), 0 artifact file(s) and 0 other file(s)"
      ],
      "text/plain": [
       "<IPython.core.display.HTML object>"
      ]
     },
     "metadata": {},
     "output_type": "display_data"
    },
    {
     "data": {
      "text/html": [
       "\n",
       "                    <br/>Synced <strong style=\"color:#cdcd00\">feasible-sweep-3</strong>: <a href=\"https://wandb.ai/1pha/3d_smri/runs/nmujhy5j\" target=\"_blank\">https://wandb.ai/1pha/3d_smri/runs/nmujhy5j</a><br/>\n",
       "                "
      ],
      "text/plain": [
       "<IPython.core.display.HTML object>"
      ]
     },
     "metadata": {},
     "output_type": "display_data"
    },
    {
     "name": "stderr",
     "output_type": "stream",
     "text": [
      "Run nmujhy5j errored: RuntimeError(\"Function 'CudnnConvolutionBackward' returned nan values in its 1th output.\")\n",
      "wandb: ERROR Run nmujhy5j errored: RuntimeError(\"Function 'CudnnConvolutionBackward' returned nan values in its 1th output.\")\n",
      "wandb: Agent Starting Run: 8cli7q92 with config:\n",
      "wandb: \tdepth: 2\n",
      "wandb: \tembed_dim: 64\n",
      "wandb: \tlearning_rate: 0.01\n"
     ]
    },
    {
     "data": {
      "text/html": [
       "\n",
       "                Tracking run with wandb version 0.12.0<br/>\n",
       "                Syncing run <strong style=\"color:#cdcd00\">smart-sweep-4</strong> to <a href=\"https://wandb.ai\" target=\"_blank\">Weights & Biases</a> <a href=\"https://docs.wandb.com/integrations/jupyter.html\" target=\"_blank\">(Documentation)</a>.<br/>\n",
       "                Project page: <a href=\"https://wandb.ai/1pha/3d_smri\" target=\"_blank\">https://wandb.ai/1pha/3d_smri</a><br/>\n",
       "                Sweep page: <a href=\"https://wandb.ai/1pha/3d_smri/sweeps/cmjnmxvp\" target=\"_blank\">https://wandb.ai/1pha/3d_smri/sweeps/cmjnmxvp</a><br/>\n",
       "Run page: <a href=\"https://wandb.ai/1pha/3d_smri/runs/8cli7q92\" target=\"_blank\">https://wandb.ai/1pha/3d_smri/runs/8cli7q92</a><br/>\n",
       "                Run data is saved locally in <code>G:\\My Drive\\brain_data\\workspace\\3DCNN_sMRI\\wandb\\run-20210816_233842-8cli7q92</code><br/><br/>\n",
       "            "
      ],
      "text/plain": [
       "<IPython.core.display.HTML object>"
      ]
     },
     "metadata": {},
     "output_type": "display_data"
    },
    {
     "name": "stderr",
     "output_type": "stream",
     "text": [
      "wandb: WARNING Config item 'learning_rate' was locked by 'sweep' (ignored update).\n"
     ]
    },
    {
     "name": "stdout",
     "output_type": "stream",
     "text": [
      "Use cuda:0 as a device.\n",
      "Output from encoder is 64.\n",
      "Total Number of parameters: 381222\n",
      "TOTAL TRAIN 1161 | VALID 291\n",
      "MIXED PRECISION:: True\n",
      "Epoch 1 / 150 (phase: 0) BEST MAE inf\n",
      "[train] 53.6 sec [valid] 6.9 sec \n",
      "Epoch 2 / 150 (phase: 0) BEST MAE 16.731\n",
      "[train] 48.0 sec [valid] 6.9 sec \n",
      "Epoch 3 / 150 (phase: 0) BEST MAE 16.391\n",
      "[train] 49.4 sec [valid] 8.7 sec \n",
      "Epoch 4 / 150 (phase: 0) BEST MAE 16.383\n",
      "[train] 47.8 sec [valid] 6.8 sec \n",
      "Epoch 5 / 150 (phase: 0) BEST MAE 16.367\n",
      "[train] 47.7 sec [valid] 7.8 sec \n",
      "Epoch 6 / 150 (phase: 0) BEST MAE 16.348\n",
      "[train] 50.0 sec [valid] 6.9 sec \n",
      "Epoch 7 / 150 (phase: 0) BEST MAE 16.330\n",
      "[train] 47.6 sec [valid] 6.9 sec \n",
      "Epoch 8 / 150 (phase: 0) BEST MAE 16.312\n",
      "[train] 50.8 sec [valid] 7.0 sec \n",
      "Epoch 9 / 150 (phase: 0) BEST MAE 16.297\n",
      "[train] 47.8 sec [valid] 6.9 sec \n",
      "Epoch 10 / 150 (phase: 0) BEST MAE 16.282\n",
      "[train] 51.0 sec [valid] 6.9 sec \n",
      "Epoch 11 / 150 (phase: 0) BEST MAE 16.266\n",
      "[train] 47.6 sec [valid] 6.9 sec \n",
      "Epoch 12 / 150 (phase: 0) BEST MAE 16.266\n",
      "[train] 51.3 sec [valid] 6.9 sec \n",
      "Epoch 13 / 150 (phase: 0) BEST MAE 16.266\n",
      "[train] 47.9 sec [valid] 6.8 sec \n",
      "Epoch 14 / 150 (phase: 0) BEST MAE 16.227\n",
      "[train] 51.3 sec [valid] 6.9 sec \n",
      "Epoch 15 / 150 (phase: 0) BEST MAE 16.216\n",
      "[train] 48.0 sec [valid] 6.9 sec \n",
      "Epoch 16 / 150 (phase: 0) BEST MAE 16.205\n",
      "[train] 51.0 sec [valid] 7.0 sec \n",
      "Epoch 17 / 150 (phase: 0) BEST MAE 16.200\n",
      "[train] 48.0 sec [valid] 6.9 sec \n",
      "Epoch 18 / 150 (phase: 0) BEST MAE 16.196\n",
      "[train] 50.4 sec [valid] 7.4 sec \n",
      "Epoch 19 / 150 (phase: 0) BEST MAE 16.189\n",
      "[train] 48.2 sec [valid] 6.9 sec \n",
      "Epoch 20 / 150 (phase: 0) BEST MAE 16.189\n",
      "[train] 48.5 sec [valid] 8.1 sec \n",
      "Epoch 21 / 150 (phase: 0) BEST MAE 16.181\n",
      "[train] 48.7 sec [valid] 6.9 sec \n",
      "Epoch 22 / 150 (phase: 0) BEST MAE 16.174\n",
      "[train] 48.0 sec [valid] 7.5 sec \n",
      "Epoch 23 / 150 (phase: 0) BEST MAE 16.170\n",
      "[train] 50.6 sec [valid] 6.9 sec \n",
      "Epoch 24 / 150 (phase: 0) BEST MAE 16.168\n",
      "[train] 47.9 sec [valid] 7.0 sec \n",
      "Epoch 25 / 150 (phase: 0) BEST MAE 16.167\n",
      "[train] 51.2 sec [valid] 6.9 sec \n",
      "Epoch 26 / 150 (phase: 0) BEST MAE 16.164\n",
      "[train] 47.9 sec [valid] 6.9 sec \n",
      "Epoch 27 / 150 (phase: 0) BEST MAE 16.164\n",
      "[train] 51.1 sec [valid] 6.9 sec \n",
      "Epoch 28 / 150 (phase: 0) BEST MAE 16.163\n",
      "[train] 47.9 sec [valid] 6.9 sec \n",
      "Epoch 29 / 150 (phase: 0) BEST MAE 16.023\n",
      "[train] 50.8 sec [valid] 7.0 sec \n",
      "Epoch 30 / 150 (phase: 0) BEST MAE 16.023\n",
      "[train] 48.1 sec [valid] 6.8 sec \n",
      "Epoch 31 / 150 (phase: 0) BEST MAE 16.023\n",
      "[train] 50.9 sec [valid] 7.0 sec \n",
      "Epoch 32 / 150 (phase: 0) BEST MAE 16.023\n",
      "[train] 47.7 sec [valid] 6.9 sec \n",
      "Epoch 33 / 150 (phase: 0) BEST MAE 16.023\n",
      "[train] 51.2 sec [valid] 6.9 sec \n",
      "Epoch 34 / 150 (phase: 0) BEST MAE 16.023\n",
      "[train] 47.9 sec [valid] 7.0 sec \n",
      "Epoch 35 / 150 (phase: 0) BEST MAE 16.023\n",
      "[train] 49.6 sec [valid] 8.3 sec \n",
      "Epoch 36 / 150 (phase: 0) BEST MAE 16.023\n",
      "[train] 47.8 sec [valid] 6.9 sec \n",
      "Epoch 37 / 150 (phase: 0) BEST MAE 16.023\n",
      "[train] 47.8 sec [valid] 8.1 sec \n",
      "Epoch 38 / 150 (phase: 0) BEST MAE 16.023\n",
      "[train] 49.5 sec [valid] 6.9 sec \n",
      "Epoch 39 / 150 (phase: 0) BEST MAE 16.023\n",
      "[train] 47.7 sec [valid] 6.9 sec \n",
      "Epoch 40 / 150 (phase: 0) BEST MAE 16.023\n",
      "[train] 50.8 sec [valid] 7.0 sec \n",
      "Epoch 41 / 150 (phase: 0) BEST MAE 16.023\n",
      "[train] 47.7 sec [valid] 6.9 sec \n",
      "Epoch 42 / 150 (phase: 0) BEST MAE 16.023\n",
      "[train] 51.0 sec [valid] 6.9 sec \n",
      "Epoch 43 / 150 (phase: 0) BEST MAE 16.023\n",
      "[train] 47.8 sec [valid] 6.9 sec \n",
      "Epoch 44 / 150 (phase: 0) BEST MAE 16.023\n",
      "[train] 51.0 sec [valid] 7.0 sec \n",
      "Epoch 45 / 150 (phase: 0) BEST MAE 16.023\n",
      "[train] 47.8 sec [valid] 6.9 sec \n",
      "Epoch 46 / 150 (phase: 0) BEST MAE 16.023\n",
      "[train] 51.7 sec [valid] 7.1 sec \n",
      "Epoch 47 / 150 (phase: 0) BEST MAE 16.023\n",
      "[train] 47.9 sec [valid] 6.9 sec \n",
      "Epoch 48 / 150 (phase: 0) BEST MAE 16.023\n",
      "[train] 51.1 sec [valid] 6.9 sec \n",
      "Epoch 49 / 150 (phase: 0) BEST MAE 16.023\n",
      "[train] 48.0 sec [valid] 6.9 sec \n",
      "Epoch 50 / 150 (phase: 0) BEST MAE 16.023\n",
      "[train] 50.4 sec "
     ]
    },
    {
     "name": "stderr",
     "output_type": "stream",
     "text": [
      "wandb: WARNING Config item 'learning_rate' was locked by 'sweep' (ignored update).\n"
     ]
    },
    {
     "name": "stdout",
     "output_type": "stream",
     "text": [
      "[valid] 7.2 sec \n",
      "Waited for 3 times no better result 3 / 3 at EPOCH 49\n"
     ]
    },
    {
     "data": {
      "text/html": [
       "<br/>Waiting for W&B process to finish, PID 17620<br/>Program ended successfully."
      ],
      "text/plain": [
       "<IPython.core.display.HTML object>"
      ]
     },
     "metadata": {},
     "output_type": "display_data"
    },
    {
     "data": {
      "application/vnd.jupyter.widget-view+json": {
       "model_id": "",
       "version_major": 2,
       "version_minor": 0
      },
      "text/plain": [
       "VBox(children=(Label(value=' 0.00MB of 0.00MB uploaded (0.00MB deduped)\\r'), FloatProgress(value=1.0, max=1.0)…"
      ]
     },
     "metadata": {},
     "output_type": "display_data"
    },
    {
     "data": {
      "text/html": [
       "Find user logs for this run at: <code>G:\\My Drive\\brain_data\\workspace\\3DCNN_sMRI\\wandb\\run-20210816_233842-8cli7q92\\logs\\debug.log</code>"
      ],
      "text/plain": [
       "<IPython.core.display.HTML object>"
      ]
     },
     "metadata": {},
     "output_type": "display_data"
    },
    {
     "data": {
      "text/html": [
       "Find internal logs for this run at: <code>G:\\My Drive\\brain_data\\workspace\\3DCNN_sMRI\\wandb\\run-20210816_233842-8cli7q92\\logs\\debug-internal.log</code>"
      ],
      "text/plain": [
       "<IPython.core.display.HTML object>"
      ]
     },
     "metadata": {},
     "output_type": "display_data"
    },
    {
     "data": {
      "text/html": [
       "<h3>Run summary:</h3><br/><style>\n",
       "    table.wandb td:nth-child(1) { padding: 0 10px; text-align: right }\n",
       "    </style><table class=\"wandb\">\n",
       "<tr><td>train_rmse</td><td>18.64467</td></tr><tr><td>train_mae</td><td>15.41168</td></tr><tr><td>train_corr</td><td>0.01918</td></tr><tr><td>train_r2</td><td>-0.0184</td></tr><tr><td>train_auc</td><td>0.52782</td></tr><tr><td>train_acc</td><td>0.21447</td></tr><tr><td>valid_rmse</td><td>18.97581</td></tr><tr><td>valid_mae</td><td>16.21731</td></tr><tr><td>valid_corr</td><td>-0.29454</td></tr><tr><td>valid_r2</td><td>-0.00034</td></tr><tr><td>valid_auc</td><td>0.69295</td></tr><tr><td>valid_acc</td><td>0.2268</td></tr><tr><td>_runtime</td><td>2824</td></tr><tr><td>_timestamp</td><td>1629127547</td></tr><tr><td>_step</td><td>49</td></tr></table>"
      ],
      "text/plain": [
       "<IPython.core.display.HTML object>"
      ]
     },
     "metadata": {},
     "output_type": "display_data"
    },
    {
     "data": {
      "text/html": [
       "<h3>Run history:</h3><br/><style>\n",
       "    table.wandb td:nth-child(1) { padding: 0 10px; text-align: right }\n",
       "    </style><table class=\"wandb\">\n",
       "<tr><td>train_rmse</td><td>█▁▁▁▁▁▁▁▁▁▁▁▁▁▁▁▁▁▁▁▁▁▁▁▁▁▁▁▁▁▁▁▁▁▁▁▁▁▁▁</td></tr><tr><td>train_mae</td><td>█▁▁▁▁▁▁▁▁▁▁▁▁▁▁▁▁▁▁▁▁▁▁▁▁▁▁▁▁▁▁▁▁▁▁▁▁▁▁▁</td></tr><tr><td>train_corr</td><td>▆▄▄▄▄▄▄▅▅▄▅▅▅▅▆▁▆▆▆▆▆▆▇▅▇▇▇▇▇▇▇▇████████</td></tr><tr><td>train_r2</td><td>▁███████████████████████████████████████</td></tr><tr><td>train_auc</td><td>▃▂▂▃▄▅▅▆█▂▂▄▅▅▅▄▄▅▄▅▄▄▄▃▅▆▆▆▅▄▄▅▆▆▆▆▅▅▁▃</td></tr><tr><td>train_acc</td><td>▁▁▁▁▁▁▁▁▁▁▁▁▁▁▁▁▁▁▁▁▁▁▁▁▁▁▁▁▁▁▁▁▁▁▁▁▁▁▁▁</td></tr><tr><td>valid_rmse</td><td>█▂▂▂▁▁▁▁▁▂▁▁▁▁▁▂▁▁▁▁▁▁▄▂▁▁▁▁▁▁▁▁▁▁▁▁▁▁▁▁</td></tr><tr><td>valid_mae</td><td>█▅▅▄▄▄▄▄▃▄▃▃▃▃▃▄▂▂▂▂▂▂▁▅▂▂▂▂▂▃▃▃▃▃▃▃▃▃▃▃</td></tr><tr><td>valid_corr</td><td>▇███████▇█████████████████████████████▁▁</td></tr><tr><td>valid_r2</td><td>▁▇▇▇█████▇█████▇██████▄▇████████████████</td></tr><tr><td>valid_auc</td><td>█▃▂▃▃▃▃▂▆▂▂▂▂▂▁█▄▄▄▄▄▄▄▄▄▆▆▆▆▆▆▆▆▆▆▆▆▆▆▁</td></tr><tr><td>valid_acc</td><td>▁▁▁▁▁▁▁▁▁▁▁▁▁▁▁▁▁▁▁▁▁▁▁▁▁▁▁▁▁▁▁▁▁▁▁▁▁▁▁▁</td></tr><tr><td>_runtime</td><td>▁▁▁▁▂▂▂▂▂▃▃▃▃▃▃▄▄▄▄▄▅▅▅▅▅▅▆▆▆▆▆▆▇▇▇▇▇███</td></tr><tr><td>_timestamp</td><td>▁▁▁▁▂▂▂▂▂▃▃▃▃▃▃▄▄▄▄▄▅▅▅▅▅▅▆▆▆▆▆▆▇▇▇▇▇███</td></tr><tr><td>_step</td><td>▁▁▁▁▂▂▂▂▂▃▃▃▃▃▃▄▄▄▄▄▅▅▅▅▅▅▆▆▆▆▆▆▇▇▇▇▇███</td></tr></table><br/>"
      ],
      "text/plain": [
       "<IPython.core.display.HTML object>"
      ]
     },
     "metadata": {},
     "output_type": "display_data"
    },
    {
     "data": {
      "text/html": [
       "Synced 6 W&B file(s), 0 media file(s), 0 artifact file(s) and 1 other file(s)"
      ],
      "text/plain": [
       "<IPython.core.display.HTML object>"
      ]
     },
     "metadata": {},
     "output_type": "display_data"
    },
    {
     "data": {
      "text/html": [
       "\n",
       "                    <br/>Synced <strong style=\"color:#cdcd00\">smart-sweep-4</strong>: <a href=\"https://wandb.ai/1pha/3d_smri/runs/8cli7q92\" target=\"_blank\">https://wandb.ai/1pha/3d_smri/runs/8cli7q92</a><br/>\n",
       "                "
      ],
      "text/plain": [
       "<IPython.core.display.HTML object>"
      ]
     },
     "metadata": {},
     "output_type": "display_data"
    },
    {
     "name": "stderr",
     "output_type": "stream",
     "text": [
      "Run 8cli7q92 errored: FileNotFoundError(2, 'No such file or directory')\n",
      "wandb: ERROR Run 8cli7q92 errored: FileNotFoundError(2, 'No such file or directory')\n",
      "wandb: Agent Starting Run: 5cx95irg with config:\n",
      "wandb: \tdepth: 2\n",
      "wandb: \tembed_dim: 64\n",
      "wandb: \tlearning_rate: 0.001\n"
     ]
    },
    {
     "data": {
      "text/html": [
       "\n",
       "                Tracking run with wandb version 0.12.0<br/>\n",
       "                Syncing run <strong style=\"color:#cdcd00\">sparkling-sweep-5</strong> to <a href=\"https://wandb.ai\" target=\"_blank\">Weights & Biases</a> <a href=\"https://docs.wandb.com/integrations/jupyter.html\" target=\"_blank\">(Documentation)</a>.<br/>\n",
       "                Project page: <a href=\"https://wandb.ai/1pha/3d_smri\" target=\"_blank\">https://wandb.ai/1pha/3d_smri</a><br/>\n",
       "                Sweep page: <a href=\"https://wandb.ai/1pha/3d_smri/sweeps/cmjnmxvp\" target=\"_blank\">https://wandb.ai/1pha/3d_smri/sweeps/cmjnmxvp</a><br/>\n",
       "Run page: <a href=\"https://wandb.ai/1pha/3d_smri/runs/5cx95irg\" target=\"_blank\">https://wandb.ai/1pha/3d_smri/runs/5cx95irg</a><br/>\n",
       "                Run data is saved locally in <code>G:\\My Drive\\brain_data\\workspace\\3DCNN_sMRI\\wandb\\run-20210817_002553-5cx95irg</code><br/><br/>\n",
       "            "
      ],
      "text/plain": [
       "<IPython.core.display.HTML object>"
      ]
     },
     "metadata": {},
     "output_type": "display_data"
    },
    {
     "name": "stderr",
     "output_type": "stream",
     "text": [
      "wandb: WARNING Config item 'learning_rate' was locked by 'sweep' (ignored update).\n"
     ]
    },
    {
     "name": "stdout",
     "output_type": "stream",
     "text": [
      "Use cuda:0 as a device.\n",
      "Output from encoder is 64.\n",
      "Total Number of parameters: 381222\n",
      "TOTAL TRAIN 1161 | VALID 291\n",
      "MIXED PRECISION:: True\n",
      "Epoch 1 / 150 (phase: 0) BEST MAE inf\n",
      "[train] 50.0 sec [valid] 6.9 sec \n",
      "Epoch 2 / 150 (phase: 0) BEST MAE 40.156\n",
      "[train] 51.0 sec [valid] 6.9 sec \n",
      "Epoch 3 / 150 (phase: 0) BEST MAE 16.218\n",
      "[train] 48.0 sec [valid] 6.9 sec \n",
      "Epoch 4 / 150 (phase: 0) BEST MAE 15.957\n",
      "[train] 51.3 sec [valid] 6.9 sec \n",
      "Epoch 5 / 150 (phase: 0) BEST MAE 15.953\n",
      "[train] 47.8 sec [valid] 6.9 sec \n",
      "Epoch 6 / 150 (phase: 0) BEST MAE 15.953\n",
      "[train] 49.2 sec [valid] 8.6 sec \n",
      "Epoch 7 / 150 (phase: 0) BEST MAE 15.951\n",
      "[train] 48.3 sec [valid] 6.8 sec \n",
      "Epoch 8 / 150 (phase: 0) BEST MAE 15.951\n",
      "[train] 47.8 sec [valid] 7.6 sec \n",
      "Epoch 9 / 150 (phase: 0) BEST MAE 15.946\n",
      "[train] 50.7 sec [valid] 6.8 sec \n",
      "Epoch 10 / 150 (phase: 0) BEST MAE 15.941\n",
      "[train] 47.9 sec [valid] 6.9 sec \n",
      "Epoch 11 / 150 (phase: 0) BEST MAE 15.941\n",
      "[train] 51.3 sec [valid] 6.9 sec \n",
      "Epoch 12 / 150 (phase: 0) BEST MAE 15.941\n",
      "[train] 47.8 sec [valid] 6.8 sec \n",
      "Epoch 13 / 150 (phase: 0) BEST MAE 15.941\n",
      "[train] 51.3 sec [valid] 6.9 sec \n",
      "Epoch 14 / 150 (phase: 0) BEST MAE 15.941\n",
      "[train] 47.9 sec [valid] 6.9 sec \n",
      "Epoch 15 / 150 (phase: 0) BEST MAE 15.941\n",
      "[train] 51.4 sec [valid] 6.9 sec \n",
      "Epoch 16 / 150 (phase: 0) BEST MAE 15.941\n",
      "[train] 47.9 sec [valid] 6.9 sec \n",
      "Epoch 17 / 150 (phase: 0) BEST MAE 15.941\n",
      "[train] 51.4 sec [valid] 6.9 sec \n",
      "Epoch 18 / 150 (phase: 0) BEST MAE 15.941\n",
      "[train] 48.0 sec [valid] 6.9 sec \n",
      "Epoch 19 / 150 (phase: 0) BEST MAE 15.941\n",
      "[train] 51.0 sec [valid] 6.9 sec \n",
      "Epoch 20 / 150 (phase: 0) BEST MAE 15.941\n",
      "[train] 47.9 sec [valid] 6.9 sec \n",
      "Epoch 21 / 150 (phase: 0) BEST MAE 15.941\n",
      "[train] 50.3 sec [valid] 7.7 sec \n",
      "Epoch 22 / 150 (phase: 0) BEST MAE 15.938\n",
      "[train] 48.3 sec [valid] 6.9 sec \n",
      "Epoch 23 / 150 (phase: 0) BEST MAE 15.938\n",
      "[train] 48.8 sec [valid] 8.0 sec \n",
      "Epoch 24 / 150 (phase: 0) BEST MAE 15.938\n",
      "[train] 49.0 sec [valid] 6.9 sec \n",
      "Epoch 25 / 150 (phase: 0) BEST MAE 15.938\n",
      "[train] 48.0 sec [valid] 7.4 sec \n",
      "Epoch 26 / 150 (phase: 0) BEST MAE 15.938\n",
      "[train] 50.8 sec [valid] 6.9 sec \n",
      "Epoch 27 / 150 (phase: 0) BEST MAE 15.938\n",
      "[train] 48.1 sec [valid] 7.0 sec \n",
      "Epoch 28 / 150 (phase: 0) BEST MAE 15.938\n",
      "[train] 51.5 sec [valid] 6.9 sec \n",
      "Epoch 29 / 150 (phase: 0) BEST MAE 15.938\n",
      "[train] 48.0 sec [valid] 6.9 sec \n",
      "Epoch 30 / 150 (phase: 0) BEST MAE 15.938\n",
      "[train] 51.2 sec [valid] 6.9 sec \n",
      "Epoch 31 / 150 (phase: 0) BEST MAE 15.938\n",
      "[train] 47.9 sec [valid] 6.9 sec \n",
      "Epoch 32 / 150 (phase: 0) BEST MAE 15.938\n",
      "[train] 51.2 sec [valid] 7.0 sec \n",
      "Epoch 33 / 150 (phase: 0) BEST MAE 15.938\n",
      "[train] 48.3 sec [valid] 7.0 sec \n",
      "Epoch 34 / 150 (phase: 0) BEST MAE 15.938\n",
      "[train] 51.2 sec [valid] 7.0 sec \n",
      "Epoch 35 / 150 (phase: 0) BEST MAE 15.938\n",
      "[train] 48.3 sec [valid] 6.9 sec \n",
      "Epoch 36 / 150 (phase: 0) BEST MAE 15.938\n",
      "[train] 51.5 sec [valid] 7.0 sec \n",
      "Epoch 37 / 150 (phase: 0) BEST MAE 15.938\n",
      "[train] 47.9 sec [valid] 6.9 sec \n",
      "Epoch 38 / 150 (phase: 0) BEST MAE 15.938\n",
      "[train] 50.9 sec [valid] 7.5 sec \n",
      "Epoch 39 / 150 (phase: 0) BEST MAE 15.938\n",
      "[train] 48.1 sec [valid] 7.0 sec \n",
      "Epoch 40 / 150 (phase: 0) BEST MAE 15.938\n",
      "[train] 49.0 sec [valid] 8.3 sec \n",
      "Epoch 41 / 150 (phase: 0) BEST MAE 15.938\n",
      "[train] 48.8 sec [valid] 7.0 sec \n",
      "Epoch 42 / 150 (phase: 0) BEST MAE 15.938\n",
      "[train] 48.6 sec [valid] 7.6 sec \n",
      "Epoch 43 / 150 (phase: 0) BEST MAE 15.938\n",
      "[train] 50.7 sec [valid] 7.1 sec \n",
      "Epoch 44 / 150 (phase: 0) BEST MAE 15.923\n",
      "[train] 48.1 sec [valid] 6.9 sec \n",
      "Epoch 45 / 150 (phase: 0) BEST MAE 15.884\n",
      "[train] 51.4 sec [valid] 6.9 sec \n",
      "Epoch 46 / 150 (phase: 0) BEST MAE 15.627\n",
      "[train] 47.9 sec [valid] 7.0 sec \n",
      "Epoch 47 / 150 (phase: 0) BEST MAE 15.571\n",
      "[train] 51.3 sec [valid] 7.1 sec \n",
      "Epoch 48 / 150 (phase: 0) BEST MAE 15.571\n",
      "[train] 48.0 sec [valid] 6.9 sec \n",
      "Epoch 49 / 150 (phase: 0) BEST MAE 15.243\n",
      "[train] 51.5 sec [valid] 7.1 sec \n",
      "Epoch 50 / 150 (phase: 0) BEST MAE 15.156\n",
      "[train] 48.0 sec [valid] 6.9 sec \n",
      "Epoch 51 / 150 (phase: 0) BEST MAE 15.031\n",
      "[train] 51.1 sec [valid] 7.0 sec \n",
      "Epoch 52 / 150 (phase: 0) BEST MAE 14.642\n",
      "[train] 48.2 sec [valid] 6.9 sec \n",
      "Epoch 53 / 150 (phase: 0) BEST MAE 14.642\n",
      "[train] 51.0 sec [valid] 6.9 sec \n",
      "Epoch 54 / 150 (phase: 0) BEST MAE 14.486\n",
      "[train] 48.3 sec [valid] 6.9 sec \n",
      "Epoch 55 / 150 (phase: 0) BEST MAE 14.486\n",
      "[train] 51.1 sec [valid] 6.9 sec \n",
      "Epoch 56 / 150 (phase: 0) BEST MAE 13.985\n",
      "[train] 48.0 sec [valid] 6.9 sec \n",
      "Epoch 57 / 150 (phase: 0) BEST MAE 13.784\n",
      "[train] 49.1 sec [valid] 8.4 sec \n",
      "Epoch 58 / 150 (phase: 0) BEST MAE 13.784\n",
      "[train] 48.4 sec [valid] 6.9 sec \n",
      "Epoch 59 / 150 (phase: 0) BEST MAE 13.535\n",
      "[train] 48.4 sec [valid] 8.5 sec \n",
      "Epoch 60 / 150 (phase: 0) BEST MAE 13.535\n",
      "[train] 50.6 sec [valid] 6.9 sec \n",
      "Epoch 61 / 150 (phase: 0) BEST MAE 13.535\n",
      "[train] 47.9 sec [valid] 6.9 sec \n",
      "Epoch 62 / 150 (phase: 0) BEST MAE 12.863\n",
      "[train] 51.1 sec [valid] 6.9 sec \n",
      "Epoch 63 / 150 (phase: 0) BEST MAE 12.729\n",
      "[train] 48.0 sec [valid] 6.9 sec \n",
      "Epoch 64 / 150 (phase: 0) BEST MAE 12.729\n",
      "[train] 51.3 sec [valid] 6.9 sec \n",
      "Epoch 65 / 150 (phase: 0) BEST MAE 12.675\n",
      "[train] 47.9 sec [valid] 6.9 sec \n",
      "Epoch 66 / 150 (phase: 0) BEST MAE 12.675\n",
      "[train] 51.1 sec [valid] 6.9 sec \n",
      "Epoch 67 / 150 (phase: 0) BEST MAE 12.032\n"
     ]
    },
    {
     "data": {
      "text/html": [
       "<br/>Waiting for W&B process to finish, PID 21136<br/>Program failed with code 1.  Press ctrl-c to abort syncing."
      ],
      "text/plain": [
       "<IPython.core.display.HTML object>"
      ]
     },
     "metadata": {},
     "output_type": "display_data"
    },
    {
     "data": {
      "application/vnd.jupyter.widget-view+json": {
       "model_id": "",
       "version_major": 2,
       "version_minor": 0
      },
      "text/plain": [
       "VBox(children=(Label(value=' 0.00MB of 0.00MB uploaded (0.00MB deduped)\\r'), FloatProgress(value=1.0, max=1.0)…"
      ]
     },
     "metadata": {},
     "output_type": "display_data"
    },
    {
     "data": {
      "text/html": [
       "Find user logs for this run at: <code>G:\\My Drive\\brain_data\\workspace\\3DCNN_sMRI\\wandb\\run-20210817_002553-5cx95irg\\logs\\debug.log</code>"
      ],
      "text/plain": [
       "<IPython.core.display.HTML object>"
      ]
     },
     "metadata": {},
     "output_type": "display_data"
    },
    {
     "data": {
      "text/html": [
       "Find internal logs for this run at: <code>G:\\My Drive\\brain_data\\workspace\\3DCNN_sMRI\\wandb\\run-20210817_002553-5cx95irg\\logs\\debug-internal.log</code>"
      ],
      "text/plain": [
       "<IPython.core.display.HTML object>"
      ]
     },
     "metadata": {},
     "output_type": "display_data"
    },
    {
     "data": {
      "text/html": [
       "<h3>Run summary:</h3><br/><style>\n",
       "    table.wandb td:nth-child(1) { padding: 0 10px; text-align: right }\n",
       "    </style><table class=\"wandb\">\n",
       "<tr><td>train_rmse</td><td>14.74986</td></tr><tr><td>train_mae</td><td>11.52642</td></tr><tr><td>train_corr</td><td>0.61555</td></tr><tr><td>train_r2</td><td>0.37848</td></tr><tr><td>train_auc</td><td>0.52299</td></tr><tr><td>train_acc</td><td>0.21447</td></tr><tr><td>valid_rmse</td><td>15.89187</td></tr><tr><td>valid_mae</td><td>12.03243</td></tr><tr><td>valid_corr</td><td>0.65154</td></tr><tr><td>valid_r2</td><td>0.31134</td></tr><tr><td>valid_auc</td><td>0.54004</td></tr><tr><td>valid_acc</td><td>0.2268</td></tr><tr><td>_runtime</td><td>3737</td></tr><tr><td>_timestamp</td><td>1629131290</td></tr><tr><td>_step</td><td>65</td></tr></table>"
      ],
      "text/plain": [
       "<IPython.core.display.HTML object>"
      ]
     },
     "metadata": {},
     "output_type": "display_data"
    },
    {
     "data": {
      "text/html": [
       "<h3>Run history:</h3><br/><style>\n",
       "    table.wandb td:nth-child(1) { padding: 0 10px; text-align: right }\n",
       "    </style><table class=\"wandb\">\n",
       "<tr><td>train_rmse</td><td>█▃▂▂▂▂▂▂▂▂▂▂▂▂▂▂▂▂▂▂▂▂▂▂▂▂▂▂▂▂▂▂▁▁▁▁▁▁▁▁</td></tr><tr><td>train_mae</td><td>█▃▂▂▂▂▂▂▂▂▂▂▂▂▂▂▂▂▂▂▂▂▂▂▂▂▂▂▂▂▂▂▁▁▁▁▁▁▁▁</td></tr><tr><td>train_corr</td><td>▁▁▁▁▁▁▁▁▁▁▁▁▁▂▁▁▁▁▁▁▁▁▁▁▁▁▂▃▃▃▄▄▄▅▆▆▆▇▇█</td></tr><tr><td>train_r2</td><td>▁▇██████████████████████████████████████</td></tr><tr><td>train_auc</td><td>▆▇▇▇▇█▅▆▆▆▆▆▇▅▅▅▄▄▄▄▄▃▃▃▃▃▃▃▃▂▁▁▂▂▂▁▃▃▄▆</td></tr><tr><td>train_acc</td><td>███████████████████████████▆▅▄▃▃▂▁▂▁▁▁▃█</td></tr><tr><td>valid_rmse</td><td>█▂▂▂▂▂▂▂▂▂▂▂▂▂▂▂▂▂▂▂▂▂▂▂▂▂▂▂▂▂▂▂▂▁▁▁▁▁▁▁</td></tr><tr><td>valid_mae</td><td>█▂▂▂▂▂▂▂▂▂▂▂▂▂▂▂▂▂▂▂▂▂▂▂▂▂▂▂▂▂▂▂▂▁▁▁▁▁▁▁</td></tr><tr><td>valid_corr</td><td>▃▁▁▁▁▁▁▁▁▁▁▂▂▂▂▂▂▂▂▂▂▂▂▂▂▂▂▂▃▃▃▄▄▅▅▆▇▇██</td></tr><tr><td>valid_r2</td><td>▁▇▇▇▇▇▇▇▇▇▇▇▇▇▇▇▇▇▇▇▇▇▇▇▇▇▇▇▇███▇███████</td></tr><tr><td>valid_auc</td><td>██████▇▇▇▇▇▇▇▂▂▂▂▂▂▂▂▂▁▁▂▂▁▂▁▂▃▂▂▃▂▃▃▃▄▅</td></tr><tr><td>valid_acc</td><td>██████████████████████████████▃▆█▁▁▃▂▃▅█</td></tr><tr><td>_runtime</td><td>▁▁▁▂▂▂▂▂▂▃▃▃▃▃▃▄▄▄▄▄▅▅▅▅▅▅▆▆▆▆▆▆▇▇▇▇▇███</td></tr><tr><td>_timestamp</td><td>▁▁▁▂▂▂▂▂▂▃▃▃▃▃▃▄▄▄▄▄▅▅▅▅▅▅▆▆▆▆▆▆▇▇▇▇▇███</td></tr><tr><td>_step</td><td>▁▁▁▂▂▂▂▂▂▃▃▃▃▃▃▄▄▄▄▄▅▅▅▅▅▅▆▆▆▆▆▆▇▇▇▇▇███</td></tr></table><br/>"
      ],
      "text/plain": [
       "<IPython.core.display.HTML object>"
      ]
     },
     "metadata": {},
     "output_type": "display_data"
    },
    {
     "data": {
      "text/html": [
       "Synced 6 W&B file(s), 0 media file(s), 0 artifact file(s) and 1 other file(s)"
      ],
      "text/plain": [
       "<IPython.core.display.HTML object>"
      ]
     },
     "metadata": {},
     "output_type": "display_data"
    },
    {
     "data": {
      "text/html": [
       "\n",
       "                    <br/>Synced <strong style=\"color:#cdcd00\">sparkling-sweep-5</strong>: <a href=\"https://wandb.ai/1pha/3d_smri/runs/5cx95irg\" target=\"_blank\">https://wandb.ai/1pha/3d_smri/runs/5cx95irg</a><br/>\n",
       "                "
      ],
      "text/plain": [
       "<IPython.core.display.HTML object>"
      ]
     },
     "metadata": {},
     "output_type": "display_data"
    },
    {
     "name": "stderr",
     "output_type": "stream",
     "text": [
      "Run 5cx95irg errored: RuntimeError(\"Function 'DivBackward0' returned nan values in its 1th output.\")\n",
      "wandb: ERROR Run 5cx95irg errored: RuntimeError(\"Function 'DivBackward0' returned nan values in its 1th output.\")\n",
      "wandb: Agent Starting Run: 9fz2q5dg with config:\n",
      "wandb: \tdepth: 2\n",
      "wandb: \tembed_dim: 64\n",
      "wandb: \tlearning_rate: 0.0001\n"
     ]
    },
    {
     "data": {
      "text/html": [
       "\n",
       "                Tracking run with wandb version 0.12.0<br/>\n",
       "                Syncing run <strong style=\"color:#cdcd00\">blooming-sweep-6</strong> to <a href=\"https://wandb.ai\" target=\"_blank\">Weights & Biases</a> <a href=\"https://docs.wandb.com/integrations/jupyter.html\" target=\"_blank\">(Documentation)</a>.<br/>\n",
       "                Project page: <a href=\"https://wandb.ai/1pha/3d_smri\" target=\"_blank\">https://wandb.ai/1pha/3d_smri</a><br/>\n",
       "                Sweep page: <a href=\"https://wandb.ai/1pha/3d_smri/sweeps/cmjnmxvp\" target=\"_blank\">https://wandb.ai/1pha/3d_smri/sweeps/cmjnmxvp</a><br/>\n",
       "Run page: <a href=\"https://wandb.ai/1pha/3d_smri/runs/9fz2q5dg\" target=\"_blank\">https://wandb.ai/1pha/3d_smri/runs/9fz2q5dg</a><br/>\n",
       "                Run data is saved locally in <code>G:\\My Drive\\brain_data\\workspace\\3DCNN_sMRI\\wandb\\run-20210817_012825-9fz2q5dg</code><br/><br/>\n",
       "            "
      ],
      "text/plain": [
       "<IPython.core.display.HTML object>"
      ]
     },
     "metadata": {},
     "output_type": "display_data"
    },
    {
     "name": "stderr",
     "output_type": "stream",
     "text": [
      "wandb: WARNING Config item 'learning_rate' was locked by 'sweep' (ignored update).\n"
     ]
    },
    {
     "name": "stdout",
     "output_type": "stream",
     "text": [
      "Use cuda:0 as a device.\n",
      "Output from encoder is 64.\n",
      "Total Number of parameters: 381222\n",
      "TOTAL TRAIN 1161 | VALID 291\n",
      "MIXED PRECISION:: True\n",
      "Epoch 1 / 150 (phase: 0) BEST MAE inf\n",
      "[train] 50.8 sec [valid] 7.7 sec \n",
      "Epoch 2 / 150 (phase: 0) BEST MAE 53.839\n",
      "[train] 51.0 sec [valid] 6.9 sec \n",
      "Epoch 3 / 150 (phase: 0) BEST MAE 53.283\n",
      "[train] 54.7 sec [valid] 11.0 sec \n",
      "Epoch 4 / 150 (phase: 0) BEST MAE 52.423\n",
      "[train] 60.2 sec [valid] 6.9 sec \n",
      "Epoch 5 / 150 (phase: 0) BEST MAE 51.110\n",
      "[train] 48.7 sec [valid] 8.0 sec \n",
      "Epoch 6 / 150 (phase: 0) BEST MAE 49.063\n",
      "[train] 48.8 sec [valid] 6.8 sec \n",
      "Epoch 7 / 150 (phase: 0) BEST MAE 46.166\n",
      "[train] 47.8 sec [valid] 7.3 sec \n",
      "Epoch 8 / 150 (phase: 0) BEST MAE 42.160\n",
      "[train] 51.0 sec [valid] 6.8 sec \n",
      "Epoch 9 / 150 (phase: 0) BEST MAE 36.935\n",
      "[train] 47.9 sec [valid] 7.0 sec \n",
      "Epoch 10 / 150 (phase: 0) BEST MAE 31.100\n",
      "[train] 52.1 sec [valid] 6.9 sec \n",
      "Epoch 11 / 150 (phase: 0) BEST MAE 25.654\n",
      "[train] 47.9 sec [valid] 6.9 sec \n",
      "Epoch 12 / 150 (phase: 0) BEST MAE 20.938\n",
      "[train] 51.1 sec [valid] 6.8 sec \n",
      "Epoch 13 / 150 (phase: 0) BEST MAE 17.586\n",
      "[train] 47.9 sec [valid] 6.9 sec \n",
      "Epoch 14 / 150 (phase: 0) BEST MAE 16.408\n",
      "[train] 51.5 sec [valid] 6.9 sec \n",
      "Epoch 15 / 150 (phase: 0) BEST MAE 16.092\n",
      "[train] 48.0 sec [valid] 6.9 sec \n",
      "Epoch 16 / 150 (phase: 0) BEST MAE 16.046\n",
      "[train] 51.3 sec [valid] 6.9 sec \n",
      "Epoch 17 / 150 (phase: 0) BEST MAE 16.034\n",
      "[train] 48.1 sec [valid] 6.9 sec \n",
      "Epoch 18 / 150 (phase: 0) BEST MAE 16.032\n",
      "[train] 51.1 sec [valid] 6.8 sec \n",
      "Epoch 19 / 150 (phase: 0) BEST MAE 16.031\n",
      "[train] 48.4 sec [valid] 6.9 sec \n",
      "Epoch 20 / 150 (phase: 0) BEST MAE 16.030\n",
      "[train] 50.0 sec [valid] 7.8 sec \n",
      "Epoch 21 / 150 (phase: 0) BEST MAE 16.030\n",
      "[train] 47.8 sec [valid] 6.9 sec \n",
      "Epoch 22 / 150 (phase: 0) BEST MAE 16.030\n",
      "[train] 49.3 sec [valid] 7.7 sec \n",
      "Epoch 23 / 150 (phase: 0) BEST MAE 16.029\n",
      "[train] 49.3 sec [valid] 6.8 sec \n",
      "Epoch 24 / 150 (phase: 0) BEST MAE 16.029\n",
      "[train] 48.0 sec [valid] 7.1 sec \n",
      "Epoch 25 / 150 (phase: 0) BEST MAE 16.029\n",
      "[train] 50.7 sec [valid] 6.9 sec \n",
      "Epoch 26 / 150 (phase: 0) BEST MAE 16.029\n",
      "[train] 47.9 sec [valid] 6.8 sec \n",
      "Epoch 27 / 150 (phase: 0) BEST MAE 16.029\n",
      "[train] 51.4 sec [valid] 6.9 sec \n",
      "Epoch 28 / 150 (phase: 0) BEST MAE 16.028\n",
      "[train] 47.9 sec [valid] 6.9 sec \n",
      "Epoch 29 / 150 (phase: 0) BEST MAE 16.028\n",
      "[train] 51.2 sec [valid] 6.9 sec \n",
      "Epoch 30 / 150 (phase: 0) BEST MAE 16.028\n",
      "[train] 48.1 sec [valid] 6.9 sec \n",
      "Epoch 31 / 150 (phase: 0) BEST MAE 16.027\n",
      "[train] 51.4 sec [valid] 6.9 sec \n",
      "Epoch 32 / 150 (phase: 0) BEST MAE 16.026\n",
      "[train] 47.8 sec [valid] 6.9 sec \n",
      "Epoch 33 / 150 (phase: 0) BEST MAE 16.025\n",
      "[train] 51.3 sec [valid] 6.9 sec \n",
      "Epoch 34 / 150 (phase: 0) BEST MAE 16.023\n",
      "[train] 47.9 sec [valid] 6.9 sec \n",
      "Epoch 35 / 150 (phase: 0) BEST MAE 16.021\n",
      "[train] 51.1 sec [valid] 6.9 sec \n",
      "Epoch 36 / 150 (phase: 0) BEST MAE 16.017\n",
      "[train] 47.9 sec [valid] 6.9 sec \n",
      "Epoch 37 / 150 (phase: 0) BEST MAE 16.006\n",
      "[train] 49.6 sec [valid] 8.5 sec \n",
      "Epoch 38 / 150 (phase: 0) BEST MAE 15.992\n",
      "[train] 47.9 sec [valid] 7.0 sec \n",
      "Epoch 39 / 150 (phase: 0) BEST MAE 15.991\n",
      "[train] 48.0 sec [valid] 7.8 sec \n",
      "Epoch 40 / 150 (phase: 0) BEST MAE 15.980\n",
      "[train] 50.2 sec [valid] 6.8 sec \n",
      "Epoch 41 / 150 (phase: 0) BEST MAE 15.956\n",
      "[train] 47.9 sec [valid] 6.9 sec \n",
      "Epoch 42 / 150 (phase: 0) BEST MAE 15.912\n",
      "[train] 51.3 sec [valid] 6.9 sec \n",
      "Epoch 43 / 150 (phase: 0) BEST MAE 15.825\n",
      "[train] 47.8 sec [valid] 6.9 sec \n",
      "Epoch 44 / 150 (phase: 0) BEST MAE 15.469\n",
      "[train] 51.3 sec [valid] 7.4 sec \n",
      "Epoch 45 / 150 (phase: 0) BEST MAE 15.330\n",
      "[train] 47.8 sec [valid] 6.9 sec \n",
      "Epoch 46 / 150 (phase: 0) BEST MAE 15.330\n",
      "[train] 51.2 sec [valid] 7.0 sec \n",
      "Epoch 47 / 150 (phase: 0) BEST MAE 15.330\n",
      "[train] 47.7 sec [valid] 6.9 sec \n",
      "Epoch 48 / 150 (phase: 0) BEST MAE 15.330\n",
      "[train] 50.9 sec [valid] 7.0 sec \n",
      "Epoch 49 / 150 (phase: 0) BEST MAE 15.330\n",
      "[train] 47.9 sec [valid] 6.9 sec \n",
      "Epoch 50 / 150 (phase: 0) BEST MAE 15.324\n",
      "[train] 50.9 sec [valid] 6.9 sec \n",
      "Epoch 51 / 150 (phase: 0) BEST MAE 14.712\n",
      "[train] 48.2 sec [valid] 6.9 sec \n",
      "Epoch 52 / 150 (phase: 0) BEST MAE 14.312\n",
      "[train] 51.1 sec [valid] 6.9 sec \n",
      "Epoch 53 / 150 (phase: 0) BEST MAE 13.972\n",
      "[train] 48.1 sec [valid] 6.9 sec \n",
      "Epoch 54 / 150 (phase: 0) BEST MAE 13.972\n",
      "[train] 49.2 sec [valid] 8.7 sec \n",
      "Epoch 55 / 150 (phase: 0) BEST MAE 13.566\n",
      "[train] 48.2 sec [valid] 6.9 sec \n",
      "Epoch 56 / 150 (phase: 0) BEST MAE 13.566\n",
      "[train] 47.9 sec [valid] 7.7 sec \n",
      "Epoch 57 / 150 (phase: 0) BEST MAE 13.566\n",
      "[train] 50.3 sec [valid] 6.9 sec \n",
      "Epoch 58 / 150 (phase: 0) BEST MAE 13.429\n",
      "[train] 48.0 sec [valid] 6.9 sec \n",
      "Epoch 59 / 150 (phase: 0) BEST MAE 13.429\n",
      "[train] 51.2 sec [valid] 6.9 sec \n",
      "Epoch 60 / 150 (phase: 0) BEST MAE 13.381\n",
      "[train] 47.9 sec [valid] 7.0 sec \n",
      "Epoch 61 / 150 (phase: 0) BEST MAE 13.292\n",
      "[train] 51.3 sec [valid] 6.8 sec \n",
      "Epoch 62 / 150 (phase: 0) BEST MAE 13.212\n",
      "[train] 48.1 sec [valid] 6.9 sec \n",
      "Epoch 63 / 150 (phase: 0) BEST MAE 13.148\n",
      "[train] 51.7 sec [valid] 6.9 sec \n",
      "Epoch 64 / 150 (phase: 0) BEST MAE 13.148\n",
      "[train] 47.8 sec [valid] 6.8 sec \n",
      "Epoch 65 / 150 (phase: 0) BEST MAE 13.148\n",
      "[train] 51.4 sec [valid] 7.0 sec \n",
      "Epoch 66 / 150 (phase: 0) BEST MAE 13.148\n",
      "[train] 47.9 sec [valid] 6.9 sec \n",
      "Epoch 67 / 150 (phase: 0) BEST MAE 13.148\n",
      "[train] 51.3 sec [valid] 6.9 sec \n",
      "Epoch 68 / 150 (phase: 0) BEST MAE 13.148\n",
      "[train] 48.1 sec [valid] 6.8 sec \n",
      "Epoch 69 / 150 (phase: 0) BEST MAE 12.982\n",
      "[train] 51.1 sec [valid] 7.0 sec \n",
      "Epoch 70 / 150 (phase: 0) BEST MAE 12.906\n",
      "[train] 48.0 sec [valid] 6.9 sec \n",
      "Epoch 71 / 150 (phase: 0) BEST MAE 12.769\n",
      "[train] 48.8 sec [valid] 8.3 sec \n",
      "Epoch 72 / 150 (phase: 0) BEST MAE 12.769\n",
      "[train] 49.0 sec [valid] 6.9 sec \n",
      "Epoch 73 / 150 (phase: 0) BEST MAE 12.769\n",
      "[train] 47.8 sec [valid] 7.6 sec \n",
      "Epoch 74 / 150 (phase: 0) BEST MAE 12.769\n",
      "[train] 50.5 sec [valid] 6.9 sec \n",
      "Epoch 75 / 150 (phase: 0) BEST MAE 12.592\n",
      "[train] 47.9 sec [valid] 6.9 sec \n",
      "Epoch 76 / 150 (phase: 0) BEST MAE 12.592\n",
      "[train] 51.2 sec [valid] 6.9 sec \n",
      "Epoch 77 / 150 (phase: 0) BEST MAE 12.592\n",
      "[train] 47.8 sec [valid] 6.9 sec \n",
      "Epoch 78 / 150 (phase: 0) BEST MAE 12.483\n",
      "[train] 51.3 sec [valid] 6.9 sec \n",
      "Epoch 79 / 150 (phase: 0) BEST MAE 12.483\n",
      "[train] 47.9 sec [valid] 6.8 sec \n",
      "Epoch 80 / 150 (phase: 0) BEST MAE 12.483\n",
      "[train] 50.9 sec [valid] 7.0 sec \n",
      "Epoch 81 / 150 (phase: 0) BEST MAE 12.050\n",
      "[train] 47.9 sec [valid] 6.9 sec \n",
      "Epoch 82 / 150 (phase: 0) BEST MAE 12.050\n",
      "[train] 50.9 sec [valid] 6.9 sec \n",
      "Epoch 83 / 150 (phase: 0) BEST MAE 12.050\n",
      "[train] 47.9 sec [valid] 6.8 sec \n",
      "Epoch 84 / 150 (phase: 0) BEST MAE 12.050\n",
      "[train] 51.3 sec [valid] 6.9 sec \n",
      "Epoch 85 / 150 (phase: 0) BEST MAE 12.050\n",
      "[train] 47.8 sec [valid] 6.9 sec \n",
      "Epoch 86 / 150 (phase: 0) BEST MAE 11.978\n",
      "[train] 50.1 sec [valid] 7.9 sec \n",
      "Epoch 87 / 150 (phase: 0) BEST MAE 11.978\n",
      "[train] 47.9 sec [valid] 6.9 sec \n",
      "Epoch 88 / 150 (phase: 0) BEST MAE 11.751\n",
      "[train] 48.4 sec [valid] 7.9 sec \n",
      "Epoch 89 / 150 (phase: 0) BEST MAE 11.557\n",
      "[train] 49.5 sec [valid] 6.8 sec \n",
      "Epoch 90 / 150 (phase: 0) BEST MAE 11.557\n",
      "[train] 47.9 sec [valid] 7.1 sec \n",
      "Epoch 91 / 150 (phase: 0) BEST MAE 11.557\n",
      "[train] 51.1 sec [valid] 6.9 sec \n",
      "Epoch 92 / 150 (phase: 0) BEST MAE 11.557\n",
      "[train] 47.8 sec [valid] 6.9 sec \n",
      "Epoch 93 / 150 (phase: 0) BEST MAE 11.557\n",
      "[train] 51.2 sec [valid] 6.9 sec \n",
      "Epoch 94 / 150 (phase: 0) BEST MAE 11.396\n",
      "[train] 48.2 sec [valid] 6.9 sec \n",
      "Epoch 95 / 150 (phase: 0) BEST MAE 11.299\n",
      "[train] 51.3 sec [valid] 6.9 sec \n",
      "Epoch 96 / 150 (phase: 0) BEST MAE 11.299\n",
      "[train] 48.0 sec [valid] 6.9 sec \n",
      "Epoch 97 / 150 (phase: 0) BEST MAE 11.299\n",
      "[train] 51.7 sec [valid] 6.9 sec \n",
      "Epoch 98 / 150 (phase: 0) BEST MAE 11.299\n",
      "[train] 47.9 sec [valid] 6.9 sec \n",
      "Epoch 99 / 150 (phase: 0) BEST MAE 10.796\n",
      "[train] 51.3 sec [valid] 7.0 sec \n",
      "Epoch 100 / 150 (phase: 0) BEST MAE 10.796\n",
      "[train] 47.9 sec [valid] 6.9 sec \n",
      "Epoch 101 / 150 (phase: 0) BEST MAE 10.796\n",
      "[train] 51.0 sec [valid] 6.9 sec \n",
      "Epoch 102 / 150 (phase: 0) BEST MAE 10.796\n",
      "[train] 48.0 sec [valid] 6.8 sec \n",
      "Epoch 103 / 150 (phase: 0) BEST MAE 10.752\n",
      "[train] 49.8 sec [valid] 8.2 sec \n",
      "Epoch 104 / 150 (phase: 0) BEST MAE 10.538\n",
      "[train] 48.0 sec [valid] 6.9 sec \n",
      "Epoch 105 / 150 (phase: 0) BEST MAE 10.265\n",
      "[train] 48.1 sec [valid] 8.0 sec \n",
      "Epoch 106 / 150 (phase: 0) BEST MAE 10.265\n",
      "[train] 49.9 sec [valid] 6.9 sec \n",
      "Epoch 107 / 150 (phase: 0) BEST MAE 10.265\n"
     ]
    },
    {
     "name": "stdout",
     "output_type": "stream",
     "text": [
      "[train] 47.9 sec [valid] 6.8 sec \n",
      "Epoch 108 / 150 (phase: 0) BEST MAE 10.265\n",
      "[train] 51.6 sec [valid] 6.9 sec \n",
      "Epoch 109 / 150 (phase: 0) BEST MAE 10.265\n",
      "[train] 47.7 sec [valid] 6.9 sec \n",
      "Epoch 110 / 150 (phase: 0) BEST MAE 10.265\n",
      "[train] 51.5 sec [valid] 6.9 sec \n",
      "Epoch 111 / 150 (phase: 0) BEST MAE 10.265\n",
      "[train] 48.0 sec [valid] 6.9 sec \n",
      "Epoch 112 / 150 (phase: 0) BEST MAE 10.160\n",
      "[train] 51.1 sec [valid] 6.9 sec \n",
      "Epoch 113 / 150 (phase: 0) BEST MAE 10.160\n",
      "[train] 48.0 sec [valid] 6.9 sec \n",
      "Epoch 114 / 150 (phase: 0) BEST MAE 10.160\n",
      "[train] 50.9 sec [valid] 6.9 sec \n",
      "Epoch 115 / 150 (phase: 0) BEST MAE 10.160\n",
      "[train] 48.3 sec [valid] 6.9 sec \n",
      "Epoch 116 / 150 (phase: 0) BEST MAE 10.143\n",
      "[train] 51.2 sec [valid] 6.9 sec \n",
      "Epoch 117 / 150 (phase: 0) BEST MAE 10.143\n",
      "[train] 48.1 sec [valid] 6.8 sec \n",
      "Epoch 118 / 150 (phase: 0) BEST MAE 10.031\n",
      "[train] 51.4 sec [valid] 6.9 sec \n",
      "Epoch 119 / 150 (phase: 0) BEST MAE 10.031\n",
      "[train] 47.8 sec [valid] 6.9 sec \n",
      "Epoch 120 / 150 (phase: 0) BEST MAE 10.031\n",
      "[train] 50.0 sec [valid] 8.5 sec \n",
      "Epoch 121 / 150 (phase: 0) BEST MAE 10.031\n",
      "[train] 47.9 sec [valid] 6.8 sec \n",
      "Epoch 122 / 150 (phase: 0) BEST MAE 10.031\n",
      "[train] 47.9 sec [valid] 7.8 sec \n",
      "Epoch 123 / 150 (phase: 0) BEST MAE 10.030\n",
      "[train] 50.1 sec [valid] 6.9 sec \n",
      "Epoch 124 / 150 (phase: 0) BEST MAE 10.030\n",
      "[train] 47.9 sec [valid] 6.8 sec \n",
      "Epoch 125 / 150 (phase: 0) BEST MAE 10.030\n",
      "[train] 51.1 sec [valid] 7.1 sec \n",
      "Epoch 126 / 150 (phase: 0) BEST MAE 10.030\n",
      "[train] 48.2 sec [valid] 6.8 sec \n",
      "Epoch 127 / 150 (phase: 0) BEST MAE 10.030\n",
      "[train] 55.1 sec [valid] 7.7 sec \n",
      "Epoch 128 / 150 (phase: 0) BEST MAE 10.030\n",
      "[train] 47.9 sec [valid] 6.9 sec \n",
      "Epoch 129 / 150 (phase: 0) BEST MAE 10.030\n",
      "[train] 51.5 sec [valid] 6.9 sec \n",
      "Epoch 130 / 150 (phase: 0) BEST MAE 10.030\n",
      "[train] 47.7 sec [valid] 6.9 sec \n",
      "Epoch 131 / 150 (phase: 0) BEST MAE 10.030\n",
      "[train] 51.2 sec [valid] 6.9 sec \n",
      "Epoch 132 / 150 (phase: 0) BEST MAE 10.030\n",
      "[train] 48.0 sec [valid] 6.9 sec \n",
      "Epoch 133 / 150 (phase: 0) BEST MAE 10.030\n",
      "[train] 51.5 sec [valid] 7.0 sec \n",
      "Epoch 134 / 150 (phase: 0) BEST MAE 10.030\n",
      "[train] 47.7 sec [valid] 6.8 sec \n",
      "Epoch 135 / 150 (phase: 0) BEST MAE 10.030\n",
      "[train] 51.1 sec [valid] 6.9 sec \n",
      "Epoch 136 / 150 (phase: 0) BEST MAE 10.030\n",
      "[train] 48.0 sec [valid] 6.9 sec \n",
      "Epoch 137 / 150 (phase: 0) BEST MAE 10.030\n",
      "[train] 49.9 sec [valid] 8.0 sec \n",
      "Epoch 138 / 150 (phase: 0) BEST MAE 10.030\n",
      "[train] 48.0 sec [valid] 6.9 sec \n",
      "Epoch 139 / 150 (phase: 0) BEST MAE 10.030\n",
      "[train] 48.2 sec [valid] 7.7 sec \n",
      "Epoch 140 / 150 (phase: 0) BEST MAE 10.030\n",
      "[train] 49.7 sec [valid] 6.9 sec \n",
      "Epoch 141 / 150 (phase: 0) BEST MAE 10.030\n",
      "[train] 47.7 sec [valid] 7.4 sec \n",
      "Epoch 142 / 150 (phase: 0) BEST MAE 10.030\n",
      "[train] 51.0 sec [valid] 6.9 sec \n",
      "Epoch 143 / 150 (phase: 0) BEST MAE 10.030\n",
      "[train] 47.7 sec [valid] 6.9 sec \n",
      "Epoch 144 / 150 (phase: 0) BEST MAE 10.030\n",
      "[train] 50.9 sec "
     ]
    },
    {
     "name": "stderr",
     "output_type": "stream",
     "text": [
      "wandb: WARNING Config item 'learning_rate' was locked by 'sweep' (ignored update).\n"
     ]
    },
    {
     "name": "stdout",
     "output_type": "stream",
     "text": [
      "[valid] 6.9 sec \n",
      "Waited for 3 times no better result 3 / 3 at EPOCH 143\n"
     ]
    },
    {
     "data": {
      "text/html": [
       "<br/>Waiting for W&B process to finish, PID 25888<br/>Program ended successfully."
      ],
      "text/plain": [
       "<IPython.core.display.HTML object>"
      ]
     },
     "metadata": {},
     "output_type": "display_data"
    },
    {
     "data": {
      "application/vnd.jupyter.widget-view+json": {
       "model_id": "",
       "version_major": 2,
       "version_minor": 0
      },
      "text/plain": [
       "VBox(children=(Label(value=' 0.00MB of 0.00MB uploaded (0.00MB deduped)\\r'), FloatProgress(value=1.0, max=1.0)…"
      ]
     },
     "metadata": {},
     "output_type": "display_data"
    },
    {
     "data": {
      "text/html": [
       "Find user logs for this run at: <code>G:\\My Drive\\brain_data\\workspace\\3DCNN_sMRI\\wandb\\run-20210817_012825-9fz2q5dg\\logs\\debug.log</code>"
      ],
      "text/plain": [
       "<IPython.core.display.HTML object>"
      ]
     },
     "metadata": {},
     "output_type": "display_data"
    },
    {
     "data": {
      "text/html": [
       "Find internal logs for this run at: <code>G:\\My Drive\\brain_data\\workspace\\3DCNN_sMRI\\wandb\\run-20210817_012825-9fz2q5dg\\logs\\debug-internal.log</code>"
      ],
      "text/plain": [
       "<IPython.core.display.HTML object>"
      ]
     },
     "metadata": {},
     "output_type": "display_data"
    },
    {
     "data": {
      "text/html": [
       "<h3>Run summary:</h3><br/><style>\n",
       "    table.wandb td:nth-child(1) { padding: 0 10px; text-align: right }\n",
       "    </style><table class=\"wandb\">\n",
       "<tr><td>train_rmse</td><td>6.72583</td></tr><tr><td>train_mae</td><td>5.078</td></tr><tr><td>train_corr</td><td>0.93426</td></tr><tr><td>train_r2</td><td>0.8728</td></tr><tr><td>train_auc</td><td>0.67991</td></tr><tr><td>train_acc</td><td>0.34453</td></tr><tr><td>valid_rmse</td><td>13.14051</td></tr><tr><td>valid_mae</td><td>10.67568</td></tr><tr><td>valid_corr</td><td>0.72222</td></tr><tr><td>valid_r2</td><td>0.49979</td></tr><tr><td>valid_auc</td><td>0.67505</td></tr><tr><td>valid_acc</td><td>0.37113</td></tr><tr><td>_runtime</td><td>8153</td></tr><tr><td>_timestamp</td><td>1629139458</td></tr><tr><td>_step</td><td>143</td></tr></table>"
      ],
      "text/plain": [
       "<IPython.core.display.HTML object>"
      ]
     },
     "metadata": {},
     "output_type": "display_data"
    },
    {
     "data": {
      "text/html": [
       "<h3>Run history:</h3><br/><style>\n",
       "    table.wandb td:nth-child(1) { padding: 0 10px; text-align: right }\n",
       "    </style><table class=\"wandb\">\n",
       "<tr><td>train_rmse</td><td>██▆▃▃▃▃▃▃▃▃▃▃▂▂▂▂▂▂▂▂▂▂▂▂▂▂▂▁▁▁▁▁▁▁▁▁▁▁▁</td></tr><tr><td>train_mae</td><td>██▆▃▂▂▂▂▂▂▂▂▂▂▂▂▂▂▂▂▂▂▂▂▂▂▂▁▁▁▁▁▁▁▁▁▁▁▁▁</td></tr><tr><td>train_corr</td><td>▁▁▁▁▁▁▁▁▁▁▁▂▃▃▄▄▄▅▅▅▅▆▆▆▆▇▇▇▇███████████</td></tr><tr><td>train_r2</td><td>▁▁▄▇▇▇▇▇▇▇▇▇▇▇▇▇████████████████████████</td></tr><tr><td>train_auc</td><td>▂▃▁▁▂▂▁▁▁▂▄▅▆▆▆▆▆▆▇█▇███████▇▇▆▆▆▆▆▆▆▆▆▆</td></tr><tr><td>train_acc</td><td>▁▁▁▁▁▁▁▁▁▁▁▁▁▁▁▁▂▄█▇▆▆▆▆▆▆▆▆▆▆▅▅▅▅▅▅▅▅▅▅</td></tr><tr><td>valid_rmse</td><td>██▆▂▂▂▂▂▂▂▂▂▂▂▂▂▂▂▂▁▁▁▁▁▁▁▁▁▁▁▁▁▁▁▁▁▁▁▁▁</td></tr><tr><td>valid_mae</td><td>██▅▂▂▂▂▂▂▂▂▂▂▂▂▂▂▂▂▁▁▁▁▁▁▁▁▁▁▁▁▁▁▁▁▁▁▁▁▁</td></tr><tr><td>valid_corr</td><td>▃▅▅▅▁▁▁▁▁▁▅▅▅▆▆▆▆▆▆▇▇▇▇▇▇▇██████████████</td></tr><tr><td>valid_r2</td><td>▁▂▄▇████████████████████████████████████</td></tr><tr><td>valid_auc</td><td>▆▆▁▁▃▃▃▃▃▃▇▇▇▆▆▆▆▆▇▇███████▇▇▇▆▆▆▆▆▆▆▆▆▆</td></tr><tr><td>valid_acc</td><td>▁▁▁▁▁▁▁▁▁▁▁▁▁▁▁▁▂▂█▇▆▆▆▆▆▆▆▆▆▆▅▆▆▆▆▅▅▅▅▅</td></tr><tr><td>_runtime</td><td>▁▁▁▂▂▂▂▂▂▃▃▃▃▃▃▄▄▄▄▄▅▅▅▅▅▅▆▆▆▆▆▇▇▇▇▇▇███</td></tr><tr><td>_timestamp</td><td>▁▁▁▂▂▂▂▂▂▃▃▃▃▃▃▄▄▄▄▄▅▅▅▅▅▅▆▆▆▆▆▇▇▇▇▇▇███</td></tr><tr><td>_step</td><td>▁▁▁▁▂▂▂▂▂▃▃▃▃▃▃▄▄▄▄▄▅▅▅▅▅▅▆▆▆▆▆▇▇▇▇▇▇███</td></tr></table><br/>"
      ],
      "text/plain": [
       "<IPython.core.display.HTML object>"
      ]
     },
     "metadata": {},
     "output_type": "display_data"
    },
    {
     "data": {
      "text/html": [
       "Synced 6 W&B file(s), 0 media file(s), 0 artifact file(s) and 1 other file(s)"
      ],
      "text/plain": [
       "<IPython.core.display.HTML object>"
      ]
     },
     "metadata": {},
     "output_type": "display_data"
    },
    {
     "data": {
      "text/html": [
       "\n",
       "                    <br/>Synced <strong style=\"color:#cdcd00\">blooming-sweep-6</strong>: <a href=\"https://wandb.ai/1pha/3d_smri/runs/9fz2q5dg\" target=\"_blank\">https://wandb.ai/1pha/3d_smri/runs/9fz2q5dg</a><br/>\n",
       "                "
      ],
      "text/plain": [
       "<IPython.core.display.HTML object>"
      ]
     },
     "metadata": {},
     "output_type": "display_data"
    },
    {
     "name": "stderr",
     "output_type": "stream",
     "text": [
      "Run 9fz2q5dg errored: FileNotFoundError(2, 'No such file or directory')\n",
      "wandb: ERROR Run 9fz2q5dg errored: FileNotFoundError(2, 'No such file or directory')\n",
      "Detected 5 failed runs in a row at start, killing sweep.\n",
      "wandb: ERROR Detected 5 failed runs in a row at start, killing sweep.\n",
      "wandb: To change this value set WANDB_AGENT_MAX_INITIAL_FAILURES=val\n"
     ]
    }
   ],
   "source": [
    "wandb.agent(sweep_id, function=run_sweep)"
   ]
  },
  {
   "cell_type": "markdown",
   "metadata": {},
   "source": [
    "# NAIVE LEARNING"
   ]
  },
  {
   "cell_type": "code",
   "execution_count": 1,
   "metadata": {
    "ExecuteTime": {
     "end_time": "2021-06-09T02:16:13.728234Z",
     "start_time": "2021-06-09T02:16:07.070827Z"
    }
   },
   "outputs": [],
   "source": [
    "import os\n",
    "import wandb\n",
    "\n",
    "from sage.config import *\n",
    "from sage.training.runner import run\n",
    "from utils.misc import seed_everything, get_today\n",
    "from IPython.display import clear_output"
   ]
  },
  {
   "cell_type": "code",
   "execution_count": 2,
   "metadata": {
    "ExecuteTime": {
     "end_time": "2021-06-09T02:16:24.036725Z",
     "start_time": "2021-06-09T02:16:23.799199Z"
    }
   },
   "outputs": [],
   "source": [
    "cfg = load_config()\n",
    "seed_everything(cfg.seed)\n",
    "cfg.registration = 'mni'\n",
    "cfg.unused_src = []\n",
    "cfg.plot = False\n",
    "\n",
    "cfg.augment = True\n",
    "cfg.epochs = 200\n",
    "cfg.model_name = 'resnet_no_maxpool'\n",
    "cfg.early_patience = 20\n",
    "cfg.start_channels = 32\n",
    "cfg.weight_decay = 0.01"
   ]
  },
  {
   "cell_type": "code",
   "execution_count": 3,
   "metadata": {
    "ExecuteTime": {
     "end_time": "2021-06-08T13:40:31.603085Z",
     "start_time": "2021-06-08T13:40:31.588086Z"
    }
   },
   "outputs": [],
   "source": [
    "# checkpoint = {\n",
    "#     'resume_epoch': 45,\n",
    "#     'path': '../result/models/savetest20210608-1451/resnet_no_maxpool_ep45_mae5.86.pth'\n",
    "# }"
   ]
  },
  {
   "cell_type": "code",
   "execution_count": 3,
   "metadata": {
    "ExecuteTime": {
     "end_time": "2021-06-09T02:16:46.692041Z",
     "start_time": "2021-06-09T02:16:46.686012Z"
    }
   },
   "outputs": [],
   "source": [
    "name = 'RES(256) DALLAS ADD'\n",
    "cfg.RESULT_PATH = os.path.join(cfg.RESULT_PATH, name + get_today())"
   ]
  },
  {
   "cell_type": "code",
   "execution_count": 4,
   "metadata": {
    "ExecuteTime": {
     "end_time": "2021-06-09T02:16:56.661800Z",
     "start_time": "2021-06-09T02:16:47.655935Z"
    }
   },
   "outputs": [
    {
     "name": "stderr",
     "output_type": "stream",
     "text": [
      "wandb: Currently logged in as: 1pha (use `wandb login --relogin` to force relogin)\n"
     ]
    },
    {
     "data": {
      "text/html": [
       "\n",
       "                Tracking run with wandb version 0.10.31<br/>\n",
       "                Syncing run <strong style=\"color:#cdcd00\">RES(256) DALLAS ADD</strong> to <a href=\"https://wandb.ai\" target=\"_blank\">Weights & Biases</a> <a href=\"https://docs.wandb.com/integrations/jupyter.html\" target=\"_blank\">(Documentation)</a>.<br/>\n",
       "                Project page: <a href=\"https://wandb.ai/1pha/3d_smri\" target=\"_blank\">https://wandb.ai/1pha/3d_smri</a><br/>\n",
       "                Run page: <a href=\"https://wandb.ai/1pha/3d_smri/runs/2fd8gcsf\" target=\"_blank\">https://wandb.ai/1pha/3d_smri/runs/2fd8gcsf</a><br/>\n",
       "                Run data is saved locally in <code>G:\\My Drive\\brain_data\\workspace\\3DCNN_sMRI\\wandb\\run-20210609_111648-2fd8gcsf</code><br/><br/>\n",
       "            "
      ],
      "text/plain": [
       "<IPython.core.display.HTML object>"
      ]
     },
     "metadata": {},
     "output_type": "display_data"
    },
    {
     "data": {
      "text/html": [
       "<h1>Run(2fd8gcsf)</h1><iframe src=\"https://wandb.ai/1pha/3d_smri/runs/2fd8gcsf\" style=\"border:none;width:100%;height:400px\"></iframe>"
      ],
      "text/plain": [
       "<wandb.sdk.wandb_run.Run at 0x224c1301490>"
      ]
     },
     "execution_count": 4,
     "metadata": {},
     "output_type": "execute_result"
    }
   ],
   "source": [
    "wandb.login()\n",
    "wandb.init(project='3d_smri',\n",
    "           config=vars(cfg),\n",
    "           name=name\n",
    "  )"
   ]
  },
  {
   "cell_type": "code",
   "execution_count": 6,
   "metadata": {
    "ExecuteTime": {
     "end_time": "2021-06-09T06:18:00.446016Z",
     "start_time": "2021-06-09T02:17:01.419726Z"
    },
    "scrolled": true
   },
   "outputs": [
    {
     "name": "stdout",
     "output_type": "stream",
     "text": [
      "Model Resnet_no_maxpool is selected.\n",
      "TOTAL TRAIN 2322 | VALID 291\n",
      "Epoch 1 / 200, BEST MAE inf\n",
      "[train] 285.7 sec [valid] 13.7 sec \n",
      "TRAIN :: LOSS 3230.369 | RMSE 56.81 | MAE 53.91 | R2 -8.37 | CORR 0.41\n",
      "VALID :: LOSS 3033.977 | RMSE 55.12 | MAE 52.13 | R2 -7.37 | CORR 0.66\n",
      "Saving ...\n",
      "Epoch 2 / 200, BEST MAE 52.133\n",
      "[train] 242.4 sec [valid] 10.3 sec \n",
      "TRAIN :: LOSS 2926.768 | RMSE 54.07 | MAE 51.21 | R2 -7.49 | CORR 0.57\n",
      "VALID :: LOSS 2962.794 | RMSE 54.48 | MAE 51.51 | R2 -7.18 | CORR 0.71\n",
      "Saving ...\n",
      "Epoch 3 / 200, BEST MAE 51.509\n",
      "[train] 257.0 sec [valid] 9.0 sec \n",
      "TRAIN :: LOSS 2647.198 | RMSE 51.42 | MAE 48.65 | R2 -6.68 | CORR 0.68\n",
      "VALID :: LOSS 2517.612 | RMSE 50.23 | MAE 47.31 | R2 -5.95 | CORR 0.83\n",
      "Saving ...\n",
      "Epoch 4 / 200, BEST MAE 47.312\n",
      "[train] 280.2 sec [valid] 9.5 sec \n",
      "TRAIN :: LOSS 2355.147 | RMSE 48.50 | MAE 45.89 | R2 -5.83 | CORR 0.75\n",
      "VALID :: LOSS 2163.654 | RMSE 46.57 | MAE 43.93 | R2 -4.97 | CORR 0.88\n",
      "Saving ...\n",
      "Epoch 5 / 200, BEST MAE 43.927\n",
      "[train] 252.3 sec [valid] 9.7 sec \n",
      "TRAIN :: LOSS 2051.979 | RMSE 45.27 | MAE 42.84 | R2 -4.95 | CORR 0.80\n",
      "VALID :: LOSS 2031.785 | RMSE 45.12 | MAE 42.59 | R2 -4.61 | CORR 0.88\n",
      "Saving ...\n",
      "Epoch 6 / 200, BEST MAE 42.592\n",
      "[train] 240.5 sec [valid] 8.6 sec \n",
      "TRAIN :: LOSS 1748.784 | RMSE 41.79 | MAE 39.51 | R2 -4.07 | CORR 0.82\n",
      "VALID :: LOSS 1375.332 | RMSE 37.14 | MAE 34.62 | R2 -2.80 | CORR 0.88\n",
      "Saving ...\n",
      "Epoch 7 / 200, BEST MAE 34.625\n",
      "[train] 225.8 sec [valid] 9.5 sec \n",
      "TRAIN :: LOSS 1457.875 | RMSE 38.15 | MAE 36.04 | R2 -3.23 | CORR 0.85\n",
      "VALID :: LOSS 1312.389 | RMSE 36.29 | MAE 34.10 | R2 -2.63 | CORR 0.89\n",
      "Saving ...\n",
      "Epoch 8 / 200, BEST MAE 34.097\n",
      "[train] 223.9 sec [valid] 8.7 sec \n",
      "TRAIN :: LOSS 1195.750 | RMSE 34.55 | MAE 32.54 | R2 -2.47 | CORR 0.86\n",
      "VALID :: LOSS 1106.640 | RMSE 33.31 | MAE 31.10 | R2 -2.06 | CORR 0.90\n",
      "Saving ...\n",
      "Epoch 9 / 200, BEST MAE 31.103\n",
      "[train] 240.6 sec [valid] 8.5 sec \n",
      "TRAIN :: LOSS 965.196 | RMSE 31.04 | MAE 29.10 | R2 -1.80 | CORR 0.87\n",
      "VALID :: LOSS 733.422 | RMSE 27.14 | MAE 25.19 | R2 -1.03 | CORR 0.90\n",
      "Saving ...\n",
      "Epoch 10 / 200, BEST MAE 25.190\n",
      "[train] 242.8 sec [valid] 8.6 sec \n",
      "TRAIN :: LOSS 764.986 | RMSE 27.63 | MAE 25.77 | R2 -1.22 | CORR 0.89\n",
      "VALID :: LOSS 724.692 | RMSE 26.98 | MAE 25.20 | R2 -1.01 | CORR 0.90\n",
      "Saving ...\n",
      "Epoch 11 / 200, BEST MAE 25.190\n",
      "[train] 235.9 sec [valid] 8.3 sec \n",
      "TRAIN :: LOSS 599.972 | RMSE 24.46 | MAE 22.63 | R2 -0.74 | CORR 0.89\n",
      "VALID :: LOSS 496.218 | RMSE 22.33 | MAE 20.31 | R2 -0.37 | CORR 0.91\n",
      "Saving ...\n",
      "Epoch 12 / 200, BEST MAE 20.311\n",
      "[train] 229.0 sec [valid] 8.4 sec \n",
      "TRAIN :: LOSS 460.419 | RMSE 21.42 | MAE 19.61 | R2 -0.33 | CORR 0.90\n",
      "VALID :: LOSS 595.211 | RMSE 24.33 | MAE 22.26 | R2 -0.63 | CORR 0.85\n",
      "Saving ...\n",
      "Epoch 13 / 200, BEST MAE 20.311\n",
      "[train] 237.8 sec [valid] 9.5 sec \n",
      "TRAIN :: LOSS 350.205 | RMSE 18.68 | MAE 16.85 | R2 -0.01 | CORR 0.91\n",
      "VALID :: LOSS 405.588 | RMSE 20.17 | MAE 18.53 | R2 -0.12 | CORR 0.91\n",
      "Saving ...\n",
      "Epoch 14 / 200, BEST MAE 18.531\n",
      "[train] 240.6 sec [valid] 8.5 sec \n",
      "TRAIN :: LOSS 261.528 | RMSE 16.14 | MAE 14.34 | R2 0.24 | CORR 0.91\n",
      "VALID :: LOSS 280.717 | RMSE 16.88 | MAE 15.25 | R2 0.21 | CORR 0.92\n",
      "Saving ...\n",
      "Epoch 15 / 200, BEST MAE 15.247\n",
      "[train] 238.9 sec [valid] 8.5 sec \n",
      "TRAIN :: LOSS 195.197 | RMSE 13.94 | MAE 12.09 | R2 0.44 | CORR 0.92\n",
      "VALID :: LOSS 322.685 | RMSE 18.05 | MAE 16.37 | R2 0.10 | CORR 0.92\n",
      "Saving ...\n",
      "Epoch 16 / 200, BEST MAE 15.247\n",
      "[train] 238.9 sec [valid] 8.4 sec \n",
      "TRAIN :: LOSS 145.633 | RMSE 12.04 | MAE 10.20 | R2 0.58 | CORR 0.92\n",
      "VALID :: LOSS 214.848 | RMSE 14.70 | MAE 12.89 | R2 0.40 | CORR 0.92\n",
      "Saving ...\n",
      "Epoch 17 / 200, BEST MAE 12.894\n",
      "[train] 245.6 sec [valid] 8.5 sec \n",
      "TRAIN :: LOSS 112.015 | RMSE 10.56 | MAE 8.70 | R2 0.68 | CORR 0.92\n",
      "VALID :: LOSS 180.878 | RMSE 13.49 | MAE 11.58 | R2 0.50 | CORR 0.92\n",
      "Saving ...\n",
      "Epoch 18 / 200, BEST MAE 11.583\n",
      "[train] 241.4 sec [valid] 8.5 sec \n",
      "TRAIN :: LOSS 88.021 | RMSE 9.35 | MAE 7.52 | R2 0.75 | CORR 0.92\n",
      "VALID :: LOSS 141.311 | RMSE 11.92 | MAE 9.89 | R2 0.61 | CORR 0.92\n",
      "Saving ...\n",
      "Epoch 19 / 200, BEST MAE 9.892\n",
      "[train] 247.3 sec [valid] 8.6 sec \n",
      "TRAIN :: LOSS 72.364 | RMSE 8.48 | MAE 6.71 | R2 0.79 | CORR 0.92\n",
      "VALID :: LOSS 211.900 | RMSE 14.58 | MAE 12.47 | R2 0.41 | CORR 0.91\n",
      "Saving ...\n",
      "Epoch 20 / 200, BEST MAE 9.892\n",
      "[train] 250.1 sec [valid] 8.6 sec \n",
      "TRAIN :: LOSS 61.437 | RMSE 7.82 | MAE 6.13 | R2 0.82 | CORR 0.92\n",
      "VALID :: LOSS 84.529 | RMSE 9.21 | MAE 7.17 | R2 0.77 | CORR 0.92\n",
      "Saving ...\n",
      "Epoch 21 / 200, BEST MAE 7.168\n",
      "[train] 232.2 sec [valid] 8.7 sec \n",
      "TRAIN :: LOSS 56.772 | RMSE 7.50 | MAE 5.80 | R2 0.84 | CORR 0.92\n",
      "VALID :: LOSS 92.736 | RMSE 9.61 | MAE 7.65 | R2 0.75 | CORR 0.93\n",
      "Saving ...\n",
      "Epoch 22 / 200, BEST MAE 7.168\n",
      "[train] 250.0 sec [valid] 8.4 sec \n",
      "TRAIN :: LOSS 52.418 | RMSE 7.22 | MAE 5.62 | R2 0.85 | CORR 0.93\n",
      "VALID :: LOSS 86.137 | RMSE 9.20 | MAE 7.03 | R2 0.77 | CORR 0.91\n",
      "Saving ...\n",
      "Epoch 23 / 200, BEST MAE 7.035\n",
      "[train] 237.2 sec [valid] 9.1 sec \n",
      "TRAIN :: LOSS 49.714 | RMSE 7.04 | MAE 5.43 | R2 0.86 | CORR 0.93\n",
      "VALID :: LOSS 79.859 | RMSE 9.00 | MAE 6.89 | R2 0.78 | CORR 0.92\n",
      "Saving ...\n",
      "Epoch 24 / 200, BEST MAE 6.890\n",
      "[train] 237.1 sec [valid] 8.7 sec \n",
      "TRAIN :: LOSS 46.505 | RMSE 6.81 | MAE 5.27 | R2 0.87 | CORR 0.93\n",
      "VALID :: LOSS 58.703 | RMSE 7.53 | MAE 5.99 | R2 0.84 | CORR 0.92\n",
      "Saving ...\n",
      "Epoch 25 / 200, BEST MAE 5.991\n",
      "[train] 222.9 sec [valid] 8.8 sec \n",
      "TRAIN :: LOSS 45.734 | RMSE 6.75 | MAE 5.24 | R2 0.87 | CORR 0.93\n",
      "VALID :: LOSS 111.081 | RMSE 10.53 | MAE 8.38 | R2 0.69 | CORR 0.92\n",
      "Saving ...\n",
      "Epoch 26 / 200, BEST MAE 5.991\n",
      "[train] 233.1 sec [valid] 8.6 sec \n",
      "TRAIN :: LOSS 45.680 | RMSE 6.75 | MAE 5.22 | R2 0.87 | CORR 0.93\n",
      "VALID :: LOSS 73.431 | RMSE 8.49 | MAE 6.54 | R2 0.80 | CORR 0.92\n",
      "Saving ...\n",
      "Epoch 27 / 200, BEST MAE 5.991\n",
      "[train] 242.9 sec [valid] 8.6 sec \n",
      "TRAIN :: LOSS 46.676 | RMSE 6.82 | MAE 5.27 | R2 0.86 | CORR 0.93\n",
      "VALID :: LOSS 78.943 | RMSE 8.84 | MAE 7.26 | R2 0.78 | CORR 0.92\n",
      "Saving ...\n",
      "Epoch 28 / 200, BEST MAE 5.991\n",
      "[train] 249.5 sec [valid] 8.8 sec \n",
      "TRAIN :: LOSS 45.128 | RMSE 6.71 | MAE 5.19 | R2 0.87 | CORR 0.93\n",
      "VALID :: LOSS 78.117 | RMSE 8.87 | MAE 6.72 | R2 0.78 | CORR 0.92\n",
      "Saving ...\n",
      "Epoch 29 / 200, BEST MAE 5.991\n",
      "[train] 240.3 sec [valid] 9.6 sec \n",
      "TRAIN :: LOSS 42.848 | RMSE 6.54 | MAE 5.05 | R2 0.88 | CORR 0.94\n",
      "VALID :: LOSS 61.717 | RMSE 7.93 | MAE 6.14 | R2 0.83 | CORR 0.93\n",
      "Saving ...\n",
      "Epoch 30 / 200, BEST MAE 5.991\n",
      "[train] 261.3 sec [valid] 8.9 sec \n",
      "TRAIN :: LOSS 42.529 | RMSE 6.51 | MAE 5.07 | R2 0.88 | CORR 0.94\n",
      "VALID :: LOSS 55.638 | RMSE 7.38 | MAE 5.87 | R2 0.85 | CORR 0.93\n",
      "Saving ...\n",
      "Epoch 31 / 200, BEST MAE 5.870\n",
      "[train] 242.7 sec [valid] 8.9 sec \n",
      "TRAIN :: LOSS 40.732 | RMSE 6.37 | MAE 4.95 | R2 0.88 | CORR 0.94\n",
      "VALID :: LOSS 78.155 | RMSE 8.93 | MAE 6.86 | R2 0.78 | CORR 0.93\n",
      "Saving ...\n",
      "Epoch 32 / 200, BEST MAE 5.870\n",
      "[train] 239.9 sec [valid] 9.0 sec \n",
      "TRAIN :: LOSS 42.695 | RMSE 6.53 | MAE 5.05 | R2 0.88 | CORR 0.94\n",
      "VALID :: LOSS 65.752 | RMSE 8.21 | MAE 6.37 | R2 0.81 | CORR 0.93\n",
      "Saving ...\n",
      "Epoch 33 / 200, BEST MAE 5.870\n",
      "[train] 256.7 sec [valid] 10.7 sec \n",
      "TRAIN :: LOSS 38.418 | RMSE 6.18 | MAE 4.84 | R2 0.89 | CORR 0.94\n",
      "VALID :: LOSS 66.180 | RMSE 8.23 | MAE 6.26 | R2 0.81 | CORR 0.93\n",
      "Saving ...\n",
      "Epoch 34 / 200, BEST MAE 5.870\n",
      "[train] 237.3 sec [valid] 8.5 sec \n",
      "TRAIN :: LOSS 39.985 | RMSE 6.32 | MAE 4.93 | R2 0.88 | CORR 0.94\n",
      "VALID :: LOSS 49.514 | RMSE 7.10 | MAE 5.53 | R2 0.86 | CORR 0.93\n",
      "Saving ...\n",
      "Epoch 35 / 200, BEST MAE 5.531\n",
      "[train] 245.6 sec [valid] 8.7 sec \n",
      "TRAIN :: LOSS 39.814 | RMSE 6.30 | MAE 4.87 | R2 0.88 | CORR 0.94\n",
      "VALID :: LOSS 54.694 | RMSE 7.42 | MAE 5.74 | R2 0.85 | CORR 0.93\n",
      "Saving ...\n",
      "Epoch 36 / 200, BEST MAE 5.531\n",
      "[train] 238.6 sec [valid] 9.4 sec \n",
      "TRAIN :: LOSS 38.116 | RMSE 6.15 | MAE 4.75 | R2 0.89 | CORR 0.94\n",
      "VALID :: LOSS 51.102 | RMSE 7.22 | MAE 5.49 | R2 0.86 | CORR 0.93\n",
      "Saving ...\n",
      "Epoch 37 / 200, BEST MAE 5.493\n",
      "[train] 253.4 sec [valid] 8.7 sec \n",
      "TRAIN :: LOSS 37.246 | RMSE 6.09 | MAE 4.71 | R2 0.89 | CORR 0.94\n",
      "VALID :: LOSS 57.973 | RMSE 7.73 | MAE 5.87 | R2 0.84 | CORR 0.93\n",
      "Saving ...\n",
      "Epoch 38 / 200, BEST MAE 5.493\n",
      "[train] 231.2 sec [valid] 8.4 sec \n",
      "TRAIN :: LOSS 36.719 | RMSE 6.05 | MAE 4.67 | R2 0.89 | CORR 0.95\n",
      "VALID :: LOSS 99.675 | RMSE 10.12 | MAE 8.08 | R2 0.72 | CORR 0.92\n",
      "Saving ...\n",
      "Epoch 39 / 200, BEST MAE 5.493\n"
     ]
    },
    {
     "name": "stdout",
     "output_type": "stream",
     "text": [
      "[train] 239.7 sec [valid] 8.6 sec \n",
      "TRAIN :: LOSS 36.543 | RMSE 6.04 | MAE 4.68 | R2 0.89 | CORR 0.95\n",
      "VALID :: LOSS 87.010 | RMSE 9.46 | MAE 7.49 | R2 0.75 | CORR 0.93\n",
      "Saving ...\n",
      "Epoch 40 / 200, BEST MAE 5.493\n",
      "[train] 236.3 sec [valid] 9.0 sec \n",
      "TRAIN :: LOSS 35.175 | RMSE 5.91 | MAE 4.58 | R2 0.90 | CORR 0.95\n",
      "VALID :: LOSS 61.803 | RMSE 7.99 | MAE 6.19 | R2 0.82 | CORR 0.92\n",
      "Saving ...\n",
      "Epoch 41 / 200, BEST MAE 5.493\n",
      "[train] 246.6 sec [valid] 8.8 sec \n",
      "TRAIN :: LOSS 37.368 | RMSE 6.10 | MAE 4.67 | R2 0.89 | CORR 0.94\n",
      "VALID :: LOSS 58.893 | RMSE 7.71 | MAE 6.04 | R2 0.84 | CORR 0.92\n",
      "Saving ...\n",
      "Epoch 42 / 200, BEST MAE 5.493\n",
      "[train] 242.7 sec [valid] 8.8 sec \n",
      "TRAIN :: LOSS 36.505 | RMSE 6.03 | MAE 4.63 | R2 0.89 | CORR 0.95\n",
      "VALID :: LOSS 52.861 | RMSE 7.32 | MAE 5.72 | R2 0.85 | CORR 0.93\n",
      "Saving ...\n",
      "Epoch 43 / 200, BEST MAE 5.493\n",
      "[train] 231.7 sec [valid] 8.7 sec \n",
      "TRAIN :: LOSS 34.139 | RMSE 5.84 | MAE 4.47 | R2 0.90 | CORR 0.95\n",
      "VALID :: LOSS 63.813 | RMSE 8.13 | MAE 6.25 | R2 0.82 | CORR 0.92\n",
      "Saving ...\n",
      "Epoch 44 / 200, BEST MAE 5.493\n",
      "[train] 243.5 sec [valid] 10.0 sec \n",
      "TRAIN :: LOSS 35.467 | RMSE 5.95 | MAE 4.66 | R2 0.90 | CORR 0.95\n",
      "VALID :: LOSS 98.642 | RMSE 10.03 | MAE 7.88 | R2 0.72 | CORR 0.92\n",
      "Saving ...\n",
      "Epoch 45 / 200, BEST MAE 5.493\n",
      "[train] 260.4 sec [valid] 9.0 sec \n",
      "TRAIN :: LOSS 34.394 | RMSE 5.86 | MAE 4.54 | R2 0.90 | CORR 0.95\n",
      "VALID :: LOSS 67.937 | RMSE 8.28 | MAE 6.34 | R2 0.81 | CORR 0.93\n",
      "Saving ...\n",
      "Epoch 46 / 200, BEST MAE 5.493\n",
      "[train] 237.0 sec [valid] 9.0 sec \n",
      "TRAIN :: LOSS 32.643 | RMSE 5.70 | MAE 4.43 | R2 0.91 | CORR 0.95\n",
      "VALID :: LOSS 55.141 | RMSE 7.48 | MAE 5.74 | R2 0.85 | CORR 0.93\n",
      "Saving ...\n",
      "Epoch 47 / 200, BEST MAE 5.493\n",
      "[train] 245.1 sec [valid] 8.9 sec \n",
      "TRAIN :: LOSS 31.419 | RMSE 5.60 | MAE 4.33 | R2 0.91 | CORR 0.95\n",
      "VALID :: LOSS 60.746 | RMSE 7.90 | MAE 6.08 | R2 0.83 | CORR 0.93\n",
      "Saving ...\n",
      "Epoch 48 / 200, BEST MAE 5.493\n",
      "[train] 242.7 sec [valid] 9.8 sec \n",
      "TRAIN :: LOSS 31.035 | RMSE 5.57 | MAE 4.22 | R2 0.91 | CORR 0.95\n",
      "VALID :: LOSS 53.755 | RMSE 7.36 | MAE 5.73 | R2 0.85 | CORR 0.93\n",
      "Saving ...\n",
      "Epoch 49 / 200, BEST MAE 5.493\n",
      "[train] 257.0 sec [valid] 8.9 sec \n",
      "TRAIN :: LOSS 31.740 | RMSE 5.63 | MAE 4.35 | R2 0.91 | CORR 0.95\n",
      "VALID :: LOSS 51.135 | RMSE 7.18 | MAE 5.68 | R2 0.86 | CORR 0.93\n",
      "Saving ...\n",
      "Epoch 50 / 200, BEST MAE 5.493\n",
      "[train] 251.1 sec [valid] 10.1 sec \n",
      "TRAIN :: LOSS 31.417 | RMSE 5.60 | MAE 4.26 | R2 0.91 | CORR 0.95\n",
      "VALID :: LOSS 59.594 | RMSE 7.76 | MAE 6.27 | R2 0.83 | CORR 0.93\n",
      "Saving ...\n",
      "Epoch 51 / 200, BEST MAE 5.493\n",
      "[train] 256.9 sec [valid] 9.6 sec \n",
      "TRAIN :: LOSS 31.776 | RMSE 5.64 | MAE 4.39 | R2 0.91 | CORR 0.95\n",
      "VALID :: LOSS 72.247 | RMSE 8.61 | MAE 6.60 | R2 0.80 | CORR 0.92\n",
      "Saving ...\n",
      "Epoch 52 / 200, BEST MAE 5.493\n",
      "[train] 253.5 sec [valid] 9.4 sec \n",
      "TRAIN :: LOSS 30.772 | RMSE 5.55 | MAE 4.25 | R2 0.91 | CORR 0.95\n",
      "VALID :: LOSS 50.279 | RMSE 7.16 | MAE 5.51 | R2 0.86 | CORR 0.93\n",
      "Saving ...\n",
      "Epoch 53 / 200, BEST MAE 5.493\n",
      "[train] 252.1 sec [valid] 10.5 sec \n",
      "TRAIN :: LOSS 28.483 | RMSE 5.32 | MAE 4.10 | R2 0.92 | CORR 0.96\n",
      "VALID :: LOSS 59.694 | RMSE 7.77 | MAE 6.09 | R2 0.83 | CORR 0.93\n",
      "Saving ...\n",
      "Epoch 54 / 200, BEST MAE 5.493\n",
      "[train] 254.2 sec [valid] 9.0 sec \n",
      "TRAIN :: LOSS 28.500 | RMSE 5.33 | MAE 4.11 | R2 0.92 | CORR 0.96\n",
      "VALID :: LOSS 69.704 | RMSE 8.44 | MAE 6.35 | R2 0.80 | CORR 0.93\n",
      "Saving ...\n",
      "Epoch 55 / 200, BEST MAE 5.493\n",
      "[train] 243.8 sec [valid] 8.7 sec \n",
      "TRAIN :: LOSS 26.257 | RMSE 5.13 | MAE 3.94 | R2 0.92 | CORR 0.96\n",
      "VALID :: LOSS 87.603 | RMSE 9.41 | MAE 7.51 | R2 0.76 | CORR 0.93\n",
      "Saving ...\n",
      "Epoch 56 / 200, BEST MAE 5.493\n",
      "[train] 242.8 sec [valid] 8.8 sec \n",
      "TRAIN :: LOSS 27.052 | RMSE 5.20 | MAE 3.98 | R2 0.92 | CORR 0.96\n",
      "VALID :: LOSS 67.952 | RMSE 8.33 | MAE 6.47 | R2 0.81 | CORR 0.93\n",
      "Saving ...\n",
      "Epoch 57 / 200, BEST MAE 5.493\n",
      "[train] 237.1 sec [valid] 9.4 sec \n",
      "TRAIN :: LOSS 26.289 | RMSE 5.13 | MAE 3.89 | R2 0.92 | CORR 0.96\n",
      "VALID :: LOSS 51.097 | RMSE 7.05 | MAE 5.62 | R2 0.86 | CORR 0.93\n",
      "Early stopped with 20 / 20 at EPOCH 56\n"
     ]
    },
    {
     "data": {
      "text/html": [
       "<br/>Waiting for W&B process to finish, PID 2628<br/>Program ended successfully."
      ],
      "text/plain": [
       "<IPython.core.display.HTML object>"
      ]
     },
     "metadata": {},
     "output_type": "display_data"
    },
    {
     "data": {
      "application/vnd.jupyter.widget-view+json": {
       "model_id": "",
       "version_major": 2,
       "version_minor": 0
      },
      "text/plain": [
       "VBox(children=(Label(value=' 0.00MB of 0.00MB uploaded (0.00MB deduped)\\r'), FloatProgress(value=1.0, max=1.0)…"
      ]
     },
     "metadata": {},
     "output_type": "display_data"
    },
    {
     "data": {
      "text/html": [
       "Find user logs for this run at: <code>G:\\My Drive\\brain_data\\workspace\\3DCNN_sMRI\\wandb\\run-20210609_111648-2fd8gcsf\\logs\\debug.log</code>"
      ],
      "text/plain": [
       "<IPython.core.display.HTML object>"
      ]
     },
     "metadata": {},
     "output_type": "display_data"
    },
    {
     "data": {
      "text/html": [
       "Find internal logs for this run at: <code>G:\\My Drive\\brain_data\\workspace\\3DCNN_sMRI\\wandb\\run-20210609_111648-2fd8gcsf\\logs\\debug-internal.log</code>"
      ],
      "text/plain": [
       "<IPython.core.display.HTML object>"
      ]
     },
     "metadata": {},
     "output_type": "display_data"
    },
    {
     "data": {
      "text/html": [
       "<h3>Run summary:</h3><br/><style>\n",
       "    table.wandb td:nth-child(1) { padding: 0 10px; text-align: right }\n",
       "    </style><table class=\"wandb\">\n",
       "<tr><td>train_rmse</td><td>5.13191</td></tr><tr><td>train_mae</td><td>3.88871</td></tr><tr><td>train_r2</td><td>0.92349</td></tr><tr><td>train_corr</td><td>0.96108</td></tr><tr><td>train_loss</td><td>26.28916</td></tr><tr><td>valid_loss</td><td>51.09708</td></tr><tr><td>valid_rmse</td><td>7.0481</td></tr><tr><td>valid_mae</td><td>5.6217</td></tr><tr><td>valid_r2</td><td>0.86312</td></tr><tr><td>valid_corr</td><td>0.93105</td></tr><tr><td>_runtime</td><td>14467</td></tr><tr><td>_timestamp</td><td>1623219476</td></tr><tr><td>_step</td><td>56</td></tr></table>"
      ],
      "text/plain": [
       "<IPython.core.display.HTML object>"
      ]
     },
     "metadata": {},
     "output_type": "display_data"
    },
    {
     "data": {
      "text/html": [
       "<h3>Run history:</h3><br/><style>\n",
       "    table.wandb td:nth-child(1) { padding: 0 10px; text-align: right }\n",
       "    </style><table class=\"wandb\">\n",
       "<tr><td>train_rmse</td><td>██▇▆▆▅▅▄▃▃▂▂▂▁▁▁▁▁▁▁▁▁▁▁▁▁▁▁▁▁▁▁▁▁▁▁▁▁▁▁</td></tr><tr><td>train_mae</td><td>██▇▆▆▅▅▄▃▃▂▂▂▁▁▁▁▁▁▁▁▁▁▁▁▁▁▁▁▁▁▁▁▁▁▁▁▁▁▁</td></tr><tr><td>train_r2</td><td>▁▂▂▄▄▅▆▇▇▇██████████████████████████████</td></tr><tr><td>train_corr</td><td>▁▃▄▆▆▇▇▇▇▇▇▇▇▇██████████████████████████</td></tr><tr><td>train_loss</td><td>█▇▇▅▅▄▃▂▂▂▁▁▁▁▁▁▁▁▁▁▁▁▁▁▁▁▁▁▁▁▁▁▁▁▁▁▁▁▁▁</td></tr><tr><td>valid_loss</td><td>██▇▆▄▃▃▂▂▂▂▁▁▁▁▁▁▁▁▁▁▁▁▁▁▁▁▁▁▁▁▁▁▁▁▁▁▁▁▁</td></tr><tr><td>valid_rmse</td><td>██▇▇▅▅▄▃▄▃▃▂▂▂▁▁▁▂▁▁▁▁▁▁▁▁▁▁▁▁▁▁▁▁▁▁▁▁▁▁</td></tr><tr><td>valid_mae</td><td>██▇▇▅▅▄▃▄▃▃▂▂▂▁▁▁▁▁▁▁▁▁▁▁▁▁▁▁▁▁▁▁▁▁▁▁▁▁▁</td></tr><tr><td>valid_r2</td><td>▁▁▂▃▅▆▆▇▇▇▇█████████████████████████████</td></tr><tr><td>valid_corr</td><td>▁▂▅▇▇▇▇▇▆▇███▇██████████████████████████</td></tr><tr><td>_runtime</td><td>▁▁▁▂▂▂▂▂▂▂▃▃▃▃▃▄▄▄▄▄▄▅▅▅▅▅▆▆▆▆▆▆▇▇▇▇▇███</td></tr><tr><td>_timestamp</td><td>▁▁▁▂▂▂▂▂▂▂▃▃▃▃▃▄▄▄▄▄▄▅▅▅▅▅▆▆▆▆▆▆▇▇▇▇▇███</td></tr><tr><td>_step</td><td>▁▁▁▁▂▂▂▂▂▃▃▃▃▃▃▄▄▄▄▄▅▅▅▅▅▅▆▆▆▆▆▇▇▇▇▇▇███</td></tr></table><br/>"
      ],
      "text/plain": [
       "<IPython.core.display.HTML object>"
      ]
     },
     "metadata": {},
     "output_type": "display_data"
    },
    {
     "data": {
      "text/html": [
       "Synced 6 W&B file(s), 0 media file(s), 0 artifact file(s) and 0 other file(s)"
      ],
      "text/plain": [
       "<IPython.core.display.HTML object>"
      ]
     },
     "metadata": {},
     "output_type": "display_data"
    },
    {
     "data": {
      "text/html": [
       "\n",
       "                    <br/>Synced <strong style=\"color:#cdcd00\">RES(256) DALLAS ADD</strong>: <a href=\"https://wandb.ai/1pha/3d_smri/runs/2fd8gcsf\" target=\"_blank\">https://wandb.ai/1pha/3d_smri/runs/2fd8gcsf</a><br/>\n",
       "                "
      ],
      "text/plain": [
       "<IPython.core.display.HTML object>"
      ]
     },
     "metadata": {},
     "output_type": "display_data"
    },
    {
     "data": {
      "text/plain": [
       "ResNet(\n",
       "  (conv1): Conv3d(1, 32, kernel_size=(7, 7, 7), stride=(2, 2, 2), padding=(3, 3, 3), bias=False)\n",
       "  (bn1): BatchNorm3d(32, eps=1e-05, momentum=0.1, affine=True, track_running_stats=True)\n",
       "  (relu): ReLU(inplace=True)\n",
       "  (maxpool): MaxPool3d(kernel_size=3, stride=2, padding=1, dilation=1, ceil_mode=False)\n",
       "  (layer1): Sequential(\n",
       "    (0): BasicBlock(\n",
       "      (conv1): Conv3d(32, 32, kernel_size=(3, 3, 3), stride=(1, 1, 1), padding=(1, 1, 1), bias=False)\n",
       "      (bn1): BatchNorm3d(32, eps=1e-05, momentum=0.1, affine=True, track_running_stats=True)\n",
       "      (relu): ReLU(inplace=True)\n",
       "      (conv2): Conv3d(32, 32, kernel_size=(3, 3, 3), stride=(1, 1, 1), padding=(1, 1, 1), bias=False)\n",
       "      (bn2): BatchNorm3d(32, eps=1e-05, momentum=0.1, affine=True, track_running_stats=True)\n",
       "    )\n",
       "  )\n",
       "  (layer2): Sequential(\n",
       "    (0): BasicBlock(\n",
       "      (conv1): Conv3d(32, 64, kernel_size=(3, 3, 3), stride=(2, 2, 2), padding=(1, 1, 1), bias=False)\n",
       "      (bn1): BatchNorm3d(64, eps=1e-05, momentum=0.1, affine=True, track_running_stats=True)\n",
       "      (relu): ReLU(inplace=True)\n",
       "      (conv2): Conv3d(64, 64, kernel_size=(3, 3, 3), stride=(1, 1, 1), padding=(1, 1, 1), bias=False)\n",
       "      (bn2): BatchNorm3d(64, eps=1e-05, momentum=0.1, affine=True, track_running_stats=True)\n",
       "    )\n",
       "  )\n",
       "  (layer3): Sequential(\n",
       "    (0): BasicBlock(\n",
       "      (conv1): Conv3d(64, 128, kernel_size=(3, 3, 3), stride=(2, 2, 2), padding=(1, 1, 1), bias=False)\n",
       "      (bn1): BatchNorm3d(128, eps=1e-05, momentum=0.1, affine=True, track_running_stats=True)\n",
       "      (relu): ReLU(inplace=True)\n",
       "      (conv2): Conv3d(128, 128, kernel_size=(3, 3, 3), stride=(1, 1, 1), padding=(1, 1, 1), bias=False)\n",
       "      (bn2): BatchNorm3d(128, eps=1e-05, momentum=0.1, affine=True, track_running_stats=True)\n",
       "    )\n",
       "  )\n",
       "  (layer4): Sequential(\n",
       "    (0): BasicBlock(\n",
       "      (conv1): Conv3d(128, 256, kernel_size=(3, 3, 3), stride=(2, 2, 2), padding=(1, 1, 1), bias=False)\n",
       "      (bn1): BatchNorm3d(256, eps=1e-05, momentum=0.1, affine=True, track_running_stats=True)\n",
       "      (relu): ReLU(inplace=True)\n",
       "      (conv2): Conv3d(256, 256, kernel_size=(3, 3, 3), stride=(1, 1, 1), padding=(1, 1, 1), bias=False)\n",
       "      (bn2): BatchNorm3d(256, eps=1e-05, momentum=0.1, affine=True, track_running_stats=True)\n",
       "    )\n",
       "  )\n",
       "  (avgpool): AdaptiveAvgPool3d(output_size=(1, 1, 1))\n",
       "  (fc): Linear(in_features=256, out_features=1, bias=True)\n",
       ")"
      ]
     },
     "execution_count": 6,
     "metadata": {},
     "output_type": "execute_result"
    }
   ],
   "source": [
    "run(cfg)"
   ]
  },
  {
   "cell_type": "markdown",
   "metadata": {},
   "source": [
    "# EFFICIENTNET"
   ]
  },
  {
   "cell_type": "code",
   "execution_count": 1,
   "metadata": {
    "ExecuteTime": {
     "end_time": "2021-06-14T04:15:53.425226Z",
     "start_time": "2021-06-14T04:15:47.579934Z"
    }
   },
   "outputs": [],
   "source": [
    "import os\n",
    "import wandb\n",
    "\n",
    "from sage.config import *\n",
    "from sage.training.runner import run\n",
    "from utils.misc import seed_everything, get_today\n",
    "from IPython.display import clear_output"
   ]
  },
  {
   "cell_type": "code",
   "execution_count": 2,
   "metadata": {
    "ExecuteTime": {
     "end_time": "2021-06-14T04:15:53.473226Z",
     "start_time": "2021-06-14T04:15:53.427227Z"
    }
   },
   "outputs": [],
   "source": [
    "cfg = load_config()\n",
    "seed_everything(cfg.seed)\n",
    "cfg.registration = 'mni'\n",
    "cfg.unused_src = []\n",
    "cfg.plot = False\n",
    "\n",
    "cfg.augment = True\n",
    "cfg.epochs = 200\n",
    "cfg.model_name = 'efficientnet-b0'\n",
    "cfg.early_patience = 30"
   ]
  },
  {
   "cell_type": "code",
   "execution_count": 3,
   "metadata": {
    "ExecuteTime": {
     "end_time": "2021-06-14T04:15:53.489227Z",
     "start_time": "2021-06-14T04:15:53.474228Z"
    }
   },
   "outputs": [],
   "source": [
    "checkpoint = {\n",
    "    'resume_epoch': 78,\n",
    "    'path': '../result/models/EFFICIENTNET TEST20210613-2121/efficientnet-b0_ep77_mae7.69.pth'\n",
    "}"
   ]
  },
  {
   "cell_type": "code",
   "execution_count": 4,
   "metadata": {
    "ExecuteTime": {
     "end_time": "2021-06-14T04:15:53.505227Z",
     "start_time": "2021-06-14T04:15:53.491229Z"
    }
   },
   "outputs": [],
   "source": [
    "name = 'EFFICIENTNET TEST RESUME 78'\n",
    "cfg.RESULT_PATH = os.path.join(cfg.RESULT_PATH, name + get_today())"
   ]
  },
  {
   "cell_type": "code",
   "execution_count": 5,
   "metadata": {
    "ExecuteTime": {
     "end_time": "2021-06-14T04:16:02.753390Z",
     "start_time": "2021-06-14T04:15:53.507228Z"
    }
   },
   "outputs": [
    {
     "name": "stderr",
     "output_type": "stream",
     "text": [
      "wandb: Currently logged in as: 1pha (use `wandb login --relogin` to force relogin)\n",
      "wandb: wandb version 0.10.32 is available!  To upgrade, please run:\n",
      "wandb:  $ pip install wandb --upgrade\n"
     ]
    },
    {
     "data": {
      "text/html": [
       "\n",
       "                Tracking run with wandb version 0.10.31<br/>\n",
       "                Syncing run <strong style=\"color:#cdcd00\">EFFICIENTNET TEST RESUME 78</strong> to <a href=\"https://wandb.ai\" target=\"_blank\">Weights & Biases</a> <a href=\"https://docs.wandb.com/integrations/jupyter.html\" target=\"_blank\">(Documentation)</a>.<br/>\n",
       "                Project page: <a href=\"https://wandb.ai/1pha/3d_smri\" target=\"_blank\">https://wandb.ai/1pha/3d_smri</a><br/>\n",
       "                Run page: <a href=\"https://wandb.ai/1pha/3d_smri/runs/3bekqlxe\" target=\"_blank\">https://wandb.ai/1pha/3d_smri/runs/3bekqlxe</a><br/>\n",
       "                Run data is saved locally in <code>G:\\My Drive\\brain_data\\workspace\\3DCNN_sMRI\\wandb\\run-20210614_131554-3bekqlxe</code><br/><br/>\n",
       "            "
      ],
      "text/plain": [
       "<IPython.core.display.HTML object>"
      ]
     },
     "metadata": {},
     "output_type": "display_data"
    },
    {
     "data": {
      "text/html": [
       "<h1>Run(3bekqlxe)</h1><iframe src=\"https://wandb.ai/1pha/3d_smri/runs/3bekqlxe\" style=\"border:none;width:100%;height:400px\"></iframe>"
      ],
      "text/plain": [
       "<wandb.sdk.wandb_run.Run at 0x21c6864f3d0>"
      ]
     },
     "execution_count": 5,
     "metadata": {},
     "output_type": "execute_result"
    }
   ],
   "source": [
    "wandb.login()\n",
    "wandb.init(project='3d_smri',\n",
    "           config=vars(cfg),\n",
    "           name=name\n",
    "  )"
   ]
  },
  {
   "cell_type": "code",
   "execution_count": 6,
   "metadata": {
    "ExecuteTime": {
     "end_time": "2021-06-14T08:53:40.893281Z",
     "start_time": "2021-06-14T04:16:02.756389Z"
    },
    "scrolled": true
   },
   "outputs": [
    {
     "name": "stdout",
     "output_type": "stream",
     "text": [
      "Model Efficientnet-b0 is selected.\n",
      "TOTAL TRAIN 2322 | VALID 291\n",
      "Epoch 79 / 200, BEST MAE inf\n",
      "[train] 297.6 sec [valid] 11.9 sec \n",
      "TRAIN :: LOSS 48.788 | RMSE 7.00 | MAE 5.14 | R2 0.86 | CORR 0.93\n",
      "VALID :: LOSS 113.676 | RMSE 10.66 | MAE 8.78 | R2 0.69 | CORR 0.90\n",
      "Saving ...\n",
      "Epoch 80 / 200, BEST MAE 8.777\n",
      "[train] 288.4 sec [valid] 12.2 sec \n",
      "TRAIN :: LOSS 49.436 | RMSE 7.05 | MAE 5.21 | R2 0.86 | CORR 0.93\n",
      "VALID :: LOSS 124.287 | RMSE 11.14 | MAE 9.09 | R2 0.66 | CORR 0.89\n",
      "Saving ...\n",
      "Epoch 81 / 200, BEST MAE 8.777\n",
      "[train] 296.3 sec [valid] 12.5 sec \n",
      "TRAIN :: LOSS 50.444 | RMSE 7.12 | MAE 5.17 | R2 0.85 | CORR 0.92\n",
      "VALID :: LOSS 104.505 | RMSE 10.22 | MAE 8.28 | R2 0.71 | CORR 0.90\n",
      "Saving ...\n",
      "Epoch 82 / 200, BEST MAE 8.282\n",
      "[train] 280.1 sec [valid] 11.4 sec \n",
      "TRAIN :: LOSS 46.338 | RMSE 6.82 | MAE 5.07 | R2 0.86 | CORR 0.93\n",
      "VALID :: LOSS 96.752 | RMSE 9.94 | MAE 8.02 | R2 0.73 | CORR 0.87\n",
      "Saving ...\n",
      "Epoch 83 / 200, BEST MAE 8.021\n",
      "[train] 287.2 sec [valid] 12.0 sec \n",
      "TRAIN :: LOSS 47.388 | RMSE 6.90 | MAE 5.10 | R2 0.86 | CORR 0.93\n",
      "VALID :: LOSS 115.657 | RMSE 10.86 | MAE 8.96 | R2 0.67 | CORR 0.89\n",
      "Saving ...\n",
      "Epoch 84 / 200, BEST MAE 8.021\n",
      "[train] 285.0 sec [valid] 12.0 sec \n",
      "TRAIN :: LOSS 44.860 | RMSE 6.72 | MAE 4.98 | R2 0.87 | CORR 0.93\n",
      "VALID :: LOSS 114.525 | RMSE 10.72 | MAE 9.00 | R2 0.68 | CORR 0.90\n",
      "Saving ...\n",
      "Epoch 85 / 200, BEST MAE 8.021\n",
      "[train] 305.0 sec [valid] 11.5 sec \n",
      "TRAIN :: LOSS 41.886 | RMSE 6.49 | MAE 4.81 | R2 0.88 | CORR 0.94\n",
      "VALID :: LOSS 81.587 | RMSE 9.10 | MAE 7.47 | R2 0.77 | CORR 0.89\n",
      "Saving ...\n",
      "Epoch 86 / 200, BEST MAE 7.465\n",
      "[train] 287.1 sec [valid] 11.7 sec \n",
      "TRAIN :: LOSS 47.636 | RMSE 6.92 | MAE 4.94 | R2 0.86 | CORR 0.93\n",
      "VALID :: LOSS 99.952 | RMSE 10.01 | MAE 8.30 | R2 0.72 | CORR 0.88\n",
      "Saving ...\n",
      "Epoch 87 / 200, BEST MAE 7.465\n",
      "[train] 315.2 sec [valid] 13.0 sec \n",
      "TRAIN :: LOSS 41.237 | RMSE 6.44 | MAE 4.69 | R2 0.88 | CORR 0.94\n",
      "VALID :: LOSS 95.194 | RMSE 9.75 | MAE 7.98 | R2 0.74 | CORR 0.90\n",
      "Saving ...\n",
      "Epoch 88 / 200, BEST MAE 7.465\n",
      "[train] 308.7 sec [valid] 12.3 sec \n",
      "TRAIN :: LOSS 41.264 | RMSE 6.44 | MAE 4.80 | R2 0.88 | CORR 0.94\n",
      "VALID :: LOSS 110.632 | RMSE 10.48 | MAE 8.66 | R2 0.70 | CORR 0.89\n",
      "Saving ...\n",
      "Epoch 89 / 200, BEST MAE 7.465\n",
      "[train] 301.4 sec [valid] 13.2 sec \n",
      "TRAIN :: LOSS 44.563 | RMSE 6.69 | MAE 4.82 | R2 0.87 | CORR 0.93\n",
      "VALID :: LOSS 107.409 | RMSE 10.31 | MAE 8.56 | R2 0.71 | CORR 0.90\n",
      "Saving ...\n",
      "Epoch 90 / 200, BEST MAE 7.465\n",
      "[train] 303.5 sec [valid] 11.9 sec \n",
      "TRAIN :: LOSS 36.957 | RMSE 6.09 | MAE 4.49 | R2 0.89 | CORR 0.94\n",
      "VALID :: LOSS 102.989 | RMSE 10.10 | MAE 8.38 | R2 0.72 | CORR 0.90\n",
      "Saving ...\n",
      "Epoch 91 / 200, BEST MAE 7.465\n",
      "[train] 297.5 sec [valid] 12.3 sec \n",
      "TRAIN :: LOSS 40.505 | RMSE 6.38 | MAE 4.70 | R2 0.88 | CORR 0.94\n",
      "VALID :: LOSS 94.002 | RMSE 9.66 | MAE 7.99 | R2 0.74 | CORR 0.89\n",
      "Saving ...\n",
      "Epoch 92 / 200, BEST MAE 7.465\n",
      "[train] 317.0 sec [valid] 12.8 sec \n",
      "TRAIN :: LOSS 49.367 | RMSE 7.05 | MAE 5.28 | R2 0.86 | CORR 0.93\n",
      "VALID :: LOSS 130.725 | RMSE 11.34 | MAE 9.33 | R2 0.65 | CORR 0.89\n",
      "Saving ...\n",
      "Epoch 93 / 200, BEST MAE 7.465\n",
      "[train] 310.4 sec [valid] 9.2 sec \n",
      "TRAIN :: LOSS 44.888 | RMSE 6.72 | MAE 4.94 | R2 0.87 | CORR 0.93\n",
      "VALID :: LOSS 98.848 | RMSE 9.93 | MAE 8.11 | R2 0.73 | CORR 0.90\n",
      "Saving ...\n",
      "Epoch 94 / 200, BEST MAE 7.465\n",
      "[train] 273.1 sec [valid] 9.3 sec \n",
      "TRAIN :: LOSS 38.056 | RMSE 6.18 | MAE 4.53 | R2 0.89 | CORR 0.94\n",
      "VALID :: LOSS 89.881 | RMSE 9.50 | MAE 7.73 | R2 0.75 | CORR 0.90\n",
      "Saving ...\n",
      "Epoch 95 / 200, BEST MAE 7.465\n",
      "[train] 283.5 sec [valid] 9.0 sec \n",
      "TRAIN :: LOSS 37.328 | RMSE 6.13 | MAE 4.42 | R2 0.89 | CORR 0.94\n",
      "VALID :: LOSS 124.297 | RMSE 11.14 | MAE 9.27 | R2 0.66 | CORR 0.90\n",
      "Saving ...\n",
      "Epoch 96 / 200, BEST MAE 7.465\n",
      "[train] 276.9 sec [valid] 8.8 sec \n",
      "TRAIN :: LOSS 37.727 | RMSE 6.16 | MAE 4.49 | R2 0.89 | CORR 0.94\n",
      "VALID :: LOSS 101.882 | RMSE 10.18 | MAE 8.35 | R2 0.71 | CORR 0.89\n",
      "Saving ...\n",
      "Epoch 97 / 200, BEST MAE 7.465\n",
      "[train] 273.2 sec [valid] 8.5 sec \n",
      "TRAIN :: LOSS 41.333 | RMSE 6.44 | MAE 4.63 | R2 0.88 | CORR 0.94\n",
      "VALID :: LOSS 87.321 | RMSE 9.41 | MAE 7.59 | R2 0.76 | CORR 0.90\n",
      "Saving ...\n",
      "Epoch 98 / 200, BEST MAE 7.465\n",
      "[train] 281.3 sec [valid] 8.5 sec \n",
      "TRAIN :: LOSS 36.023 | RMSE 6.02 | MAE 4.49 | R2 0.89 | CORR 0.95\n",
      "VALID :: LOSS 114.166 | RMSE 10.69 | MAE 8.86 | R2 0.69 | CORR 0.90\n",
      "Saving ...\n",
      "Epoch 99 / 200, BEST MAE 7.465\n",
      "[train] 259.7 sec [valid] 8.9 sec \n",
      "TRAIN :: LOSS 39.346 | RMSE 6.29 | MAE 4.51 | R2 0.89 | CORR 0.94\n",
      "VALID :: LOSS 101.318 | RMSE 10.08 | MAE 8.18 | R2 0.72 | CORR 0.90\n",
      "Saving ...\n",
      "Epoch 100 / 200, BEST MAE 7.465\n",
      "[train] 258.4 sec [valid] 8.7 sec \n",
      "TRAIN :: LOSS 35.829 | RMSE 6.00 | MAE 4.43 | R2 0.90 | CORR 0.95\n",
      "VALID :: LOSS 126.157 | RMSE 11.20 | MAE 9.44 | R2 0.65 | CORR 0.89\n",
      "Saving ...\n",
      "Epoch 101 / 200, BEST MAE 7.465\n",
      "[train] 259.6 sec [valid] 8.8 sec \n",
      "TRAIN :: LOSS 36.973 | RMSE 6.10 | MAE 4.43 | R2 0.89 | CORR 0.94\n",
      "VALID :: LOSS 97.622 | RMSE 9.88 | MAE 8.13 | R2 0.73 | CORR 0.89\n",
      "Saving ...\n",
      "Epoch 102 / 200, BEST MAE 7.465\n",
      "[train] 262.8 sec [valid] 8.8 sec \n",
      "TRAIN :: LOSS 32.640 | RMSE 5.73 | MAE 4.21 | R2 0.90 | CORR 0.95\n",
      "VALID :: LOSS 92.959 | RMSE 9.64 | MAE 7.93 | R2 0.74 | CORR 0.89\n",
      "Saving ...\n",
      "Epoch 103 / 200, BEST MAE 7.465\n",
      "[train] 255.7 sec [valid] 8.7 sec \n",
      "TRAIN :: LOSS 35.326 | RMSE 5.96 | MAE 4.37 | R2 0.90 | CORR 0.95\n",
      "VALID :: LOSS 120.341 | RMSE 10.97 | MAE 8.97 | R2 0.67 | CORR 0.90\n",
      "Saving ...\n",
      "Epoch 104 / 200, BEST MAE 7.465\n",
      "[train] 260.3 sec [valid] 8.5 sec \n",
      "TRAIN :: LOSS 37.187 | RMSE 6.11 | MAE 4.43 | R2 0.89 | CORR 0.94\n",
      "VALID :: LOSS 79.638 | RMSE 8.98 | MAE 7.41 | R2 0.78 | CORR 0.89\n",
      "Saving ...\n",
      "Epoch 105 / 200, BEST MAE 7.410\n",
      "[train] 268.2 sec [valid] 8.7 sec \n",
      "TRAIN :: LOSS 38.376 | RMSE 6.21 | MAE 4.51 | R2 0.89 | CORR 0.94\n",
      "VALID :: LOSS 115.072 | RMSE 10.70 | MAE 8.88 | R2 0.68 | CORR 0.90\n",
      "Saving ...\n",
      "Epoch 106 / 200, BEST MAE 7.410\n",
      "[train] 269.0 sec [valid] 9.0 sec \n",
      "TRAIN :: LOSS 33.203 | RMSE 5.78 | MAE 4.28 | R2 0.90 | CORR 0.95\n",
      "VALID :: LOSS 97.064 | RMSE 9.83 | MAE 8.06 | R2 0.73 | CORR 0.90\n",
      "Saving ...\n",
      "Epoch 107 / 200, BEST MAE 7.410\n",
      "[train] 258.1 sec [valid] 8.7 sec \n",
      "TRAIN :: LOSS 31.381 | RMSE 5.61 | MAE 4.10 | R2 0.91 | CORR 0.95\n",
      "VALID :: LOSS 93.279 | RMSE 9.54 | MAE 7.81 | R2 0.75 | CORR 0.89\n",
      "Saving ...\n",
      "Epoch 108 / 200, BEST MAE 7.410\n",
      "[train] 262.5 sec [valid] 8.5 sec \n",
      "TRAIN :: LOSS 31.702 | RMSE 5.65 | MAE 4.14 | R2 0.91 | CORR 0.95\n",
      "VALID :: LOSS 90.008 | RMSE 9.33 | MAE 7.64 | R2 0.76 | CORR 0.90\n",
      "Saving ...\n",
      "Epoch 109 / 200, BEST MAE 7.410\n",
      "[train] 258.2 sec [valid] 8.7 sec \n",
      "TRAIN :: LOSS 32.152 | RMSE 5.69 | MAE 4.11 | R2 0.91 | CORR 0.95\n",
      "VALID :: LOSS 100.132 | RMSE 9.97 | MAE 8.32 | R2 0.73 | CORR 0.90\n",
      "Saving ...\n",
      "Epoch 110 / 200, BEST MAE 7.410\n",
      "[train] 274.4 sec [valid] 8.9 sec \n",
      "TRAIN :: LOSS 32.293 | RMSE 5.69 | MAE 4.17 | R2 0.91 | CORR 0.95\n",
      "VALID :: LOSS 85.324 | RMSE 9.27 | MAE 7.56 | R2 0.76 | CORR 0.89\n",
      "Saving ...\n",
      "Epoch 111 / 200, BEST MAE 7.410\n",
      "[train] 272.5 sec [valid] 9.2 sec \n",
      "TRAIN :: LOSS 32.413 | RMSE 5.71 | MAE 4.19 | R2 0.91 | CORR 0.95\n",
      "VALID :: LOSS 85.365 | RMSE 9.25 | MAE 7.53 | R2 0.76 | CORR 0.89\n",
      "Saving ...\n",
      "Epoch 112 / 200, BEST MAE 7.410\n",
      "[train] 288.2 sec [valid] 14.2 sec \n",
      "TRAIN :: LOSS 34.989 | RMSE 5.93 | MAE 4.37 | R2 0.90 | CORR 0.95\n",
      "VALID :: LOSS 111.643 | RMSE 10.53 | MAE 8.61 | R2 0.69 | CORR 0.90\n",
      "Saving ...\n",
      "Epoch 113 / 200, BEST MAE 7.410\n",
      "[train] 302.4 sec [valid] 12.2 sec \n",
      "TRAIN :: LOSS 31.374 | RMSE 5.62 | MAE 4.10 | R2 0.91 | CORR 0.95\n",
      "VALID :: LOSS 85.699 | RMSE 9.20 | MAE 7.54 | R2 0.77 | CORR 0.90\n",
      "Saving ...\n",
      "Epoch 114 / 200, BEST MAE 7.410\n",
      "[train] 283.3 sec [valid] 12.2 sec \n",
      "TRAIN :: LOSS 30.665 | RMSE 5.55 | MAE 4.03 | R2 0.91 | CORR 0.95\n",
      "VALID :: LOSS 99.412 | RMSE 9.87 | MAE 8.11 | R2 0.73 | CORR 0.89\n",
      "Saving ...\n",
      "Epoch 115 / 200, BEST MAE 7.410\n",
      "[train] 324.8 sec [valid] 13.7 sec \n",
      "TRAIN :: LOSS 28.559 | RMSE 5.36 | MAE 3.94 | R2 0.92 | CORR 0.96\n",
      "VALID :: LOSS 118.676 | RMSE 10.80 | MAE 8.90 | R2 0.68 | CORR 0.89\n",
      "Saving ...\n",
      "Epoch 116 / 200, BEST MAE 7.410\n",
      "[train] 314.2 sec [valid] 11.8 sec \n",
      "TRAIN :: LOSS 31.351 | RMSE 5.62 | MAE 4.12 | R2 0.91 | CORR 0.95\n",
      "VALID :: LOSS 88.167 | RMSE 9.26 | MAE 7.42 | R2 0.76 | CORR 0.91\n",
      "Saving ...\n",
      "Epoch 117 / 200, BEST MAE 7.410\n",
      "[train] 293.6 sec [valid] 11.8 sec \n",
      "TRAIN :: LOSS 31.970 | RMSE 5.67 | MAE 4.14 | R2 0.91 | CORR 0.95\n",
      "VALID :: LOSS 103.983 | RMSE 10.13 | MAE 8.33 | R2 0.72 | CORR 0.90\n",
      "Saving ...\n",
      "Epoch 118 / 200, BEST MAE 7.410\n"
     ]
    },
    {
     "name": "stdout",
     "output_type": "stream",
     "text": [
      "[train] 287.1 sec [valid] 11.4 sec \n",
      "TRAIN :: LOSS 30.440 | RMSE 5.53 | MAE 4.05 | R2 0.91 | CORR 0.95\n",
      "VALID :: LOSS 99.226 | RMSE 9.94 | MAE 8.11 | R2 0.73 | CORR 0.90\n",
      "Saving ...\n",
      "Epoch 119 / 200, BEST MAE 7.410\n",
      "[train] 293.7 sec [valid] 11.5 sec \n",
      "TRAIN :: LOSS 30.661 | RMSE 5.55 | MAE 4.05 | R2 0.91 | CORR 0.95\n",
      "VALID :: LOSS 84.560 | RMSE 9.17 | MAE 7.47 | R2 0.77 | CORR 0.90\n",
      "Saving ...\n",
      "Epoch 120 / 200, BEST MAE 7.410\n",
      "[train] 305.8 sec [valid] 11.6 sec \n",
      "TRAIN :: LOSS 30.559 | RMSE 5.54 | MAE 4.06 | R2 0.91 | CORR 0.95\n",
      "VALID :: LOSS 94.010 | RMSE 9.69 | MAE 7.95 | R2 0.74 | CORR 0.90\n",
      "Saving ...\n",
      "Epoch 121 / 200, BEST MAE 7.410\n",
      "[train] 286.3 sec [valid] 11.8 sec \n",
      "TRAIN :: LOSS 29.863 | RMSE 5.48 | MAE 4.07 | R2 0.91 | CORR 0.96\n",
      "VALID :: LOSS 104.936 | RMSE 10.07 | MAE 8.24 | R2 0.72 | CORR 0.90\n",
      "Saving ...\n",
      "Epoch 122 / 200, BEST MAE 7.410\n",
      "[train] 282.7 sec [valid] 11.3 sec \n",
      "TRAIN :: LOSS 26.777 | RMSE 5.19 | MAE 3.79 | R2 0.92 | CORR 0.96\n",
      "VALID :: LOSS 105.450 | RMSE 10.12 | MAE 8.24 | R2 0.72 | CORR 0.90\n",
      "Saving ...\n",
      "Epoch 123 / 200, BEST MAE 7.410\n",
      "[train] 281.0 sec [valid] 11.2 sec \n",
      "TRAIN :: LOSS 30.716 | RMSE 5.56 | MAE 4.05 | R2 0.91 | CORR 0.95\n",
      "VALID :: LOSS 101.240 | RMSE 10.04 | MAE 8.20 | R2 0.72 | CORR 0.90\n",
      "Saving ...\n",
      "Epoch 124 / 200, BEST MAE 7.410\n",
      "[train] 269.6 sec [valid] 9.4 sec \n",
      "TRAIN :: LOSS 27.346 | RMSE 5.24 | MAE 3.91 | R2 0.92 | CORR 0.96\n",
      "VALID :: LOSS 105.295 | RMSE 10.19 | MAE 8.37 | R2 0.71 | CORR 0.91\n",
      "Saving ...\n",
      "Epoch 125 / 200, BEST MAE 7.410\n",
      "[train] 276.7 sec [valid] 9.0 sec \n",
      "TRAIN :: LOSS 26.000 | RMSE 5.11 | MAE 3.79 | R2 0.92 | CORR 0.96\n",
      "VALID :: LOSS 93.067 | RMSE 9.64 | MAE 7.83 | R2 0.74 | CORR 0.90\n",
      "Saving ...\n",
      "Epoch 126 / 200, BEST MAE 7.410\n",
      "[train] 267.4 sec [valid] 8.9 sec \n",
      "TRAIN :: LOSS 28.461 | RMSE 5.35 | MAE 3.88 | R2 0.92 | CORR 0.96\n",
      "VALID :: LOSS 95.719 | RMSE 9.77 | MAE 8.00 | R2 0.74 | CORR 0.89\n",
      "Saving ...\n",
      "Epoch 127 / 200, BEST MAE 7.410\n",
      "[train] 279.0 sec [valid] 8.7 sec \n",
      "TRAIN :: LOSS 29.560 | RMSE 5.45 | MAE 3.94 | R2 0.91 | CORR 0.96\n",
      "VALID :: LOSS 114.475 | RMSE 10.66 | MAE 8.76 | R2 0.69 | CORR 0.88\n",
      "Saving ...\n",
      "Epoch 128 / 200, BEST MAE 7.410\n",
      "[train] 264.4 sec [valid] 8.8 sec \n",
      "TRAIN :: LOSS 28.692 | RMSE 5.37 | MAE 3.90 | R2 0.92 | CORR 0.96\n",
      "VALID :: LOSS 100.851 | RMSE 9.97 | MAE 8.23 | R2 0.73 | CORR 0.91\n",
      "Saving ...\n",
      "Epoch 129 / 200, BEST MAE 7.410\n",
      "[train] 267.7 sec [valid] 8.7 sec \n",
      "TRAIN :: LOSS 28.620 | RMSE 5.37 | MAE 3.92 | R2 0.92 | CORR 0.96\n",
      "VALID :: LOSS 98.159 | RMSE 9.78 | MAE 8.02 | R2 0.74 | CORR 0.90\n",
      "Saving ...\n",
      "Epoch 130 / 200, BEST MAE 7.410\n",
      "[train] 262.8 sec [valid] 8.9 sec \n",
      "TRAIN :: LOSS 25.015 | RMSE 5.02 | MAE 3.63 | R2 0.93 | CORR 0.96\n",
      "VALID :: LOSS 93.836 | RMSE 9.60 | MAE 7.92 | R2 0.75 | CORR 0.90\n",
      "Saving ...\n",
      "Epoch 131 / 200, BEST MAE 7.410\n",
      "[train] 253.7 sec [valid] 8.8 sec \n",
      "TRAIN :: LOSS 25.172 | RMSE 5.03 | MAE 3.66 | R2 0.93 | CORR 0.96\n",
      "VALID :: LOSS 92.697 | RMSE 9.54 | MAE 7.79 | R2 0.75 | CORR 0.90\n",
      "Saving ...\n",
      "Epoch 132 / 200, BEST MAE 7.410\n",
      "[train] 281.4 sec [valid] 8.6 sec \n",
      "TRAIN :: LOSS 26.260 | RMSE 5.13 | MAE 3.75 | R2 0.92 | CORR 0.96\n",
      "VALID :: LOSS 96.979 | RMSE 9.82 | MAE 8.07 | R2 0.73 | CORR 0.90\n",
      "Saving ...\n",
      "Epoch 133 / 200, BEST MAE 7.410\n",
      "[train] 266.9 sec [valid] 8.5 sec \n",
      "TRAIN :: LOSS 25.194 | RMSE 5.03 | MAE 3.64 | R2 0.93 | CORR 0.96\n",
      "VALID :: LOSS 89.917 | RMSE 9.31 | MAE 7.58 | R2 0.76 | CORR 0.90\n",
      "Saving ...\n",
      "Epoch 134 / 200, BEST MAE 7.410\n",
      "[train] 264.5 sec [valid] 8.8 sec \n",
      "TRAIN :: LOSS 27.748 | RMSE 5.28 | MAE 3.88 | R2 0.92 | CORR 0.96\n",
      "VALID :: LOSS 98.050 | RMSE 9.91 | MAE 8.18 | R2 0.73 | CORR 0.91\n",
      "Saving ...\n",
      "Epoch 135 / 200, BEST MAE 7.410\n",
      "[train] 265.2 sec [valid] 8.7 sec \n",
      "TRAIN :: LOSS 25.929 | RMSE 5.11 | MAE 3.72 | R2 0.92 | CORR 0.96\n",
      "VALID :: LOSS 99.781 | RMSE 9.96 | MAE 8.28 | R2 0.73 | CORR 0.90\n",
      "Early stopped with 30 / 30 at EPOCH 134\n"
     ]
    },
    {
     "data": {
      "text/html": [
       "<br/>Waiting for W&B process to finish, PID 26688<br/>Program ended successfully."
      ],
      "text/plain": [
       "<IPython.core.display.HTML object>"
      ]
     },
     "metadata": {},
     "output_type": "display_data"
    },
    {
     "data": {
      "application/vnd.jupyter.widget-view+json": {
       "model_id": "",
       "version_major": 2,
       "version_minor": 0
      },
      "text/plain": [
       "VBox(children=(Label(value=' 0.03MB of 0.03MB uploaded (0.00MB deduped)\\r'), FloatProgress(value=1.0, max=1.0)…"
      ]
     },
     "metadata": {},
     "output_type": "display_data"
    },
    {
     "data": {
      "text/html": [
       "Find user logs for this run at: <code>G:\\My Drive\\brain_data\\workspace\\3DCNN_sMRI\\wandb\\run-20210614_131554-3bekqlxe\\logs\\debug.log</code>"
      ],
      "text/plain": [
       "<IPython.core.display.HTML object>"
      ]
     },
     "metadata": {},
     "output_type": "display_data"
    },
    {
     "data": {
      "text/html": [
       "Find internal logs for this run at: <code>G:\\My Drive\\brain_data\\workspace\\3DCNN_sMRI\\wandb\\run-20210614_131554-3bekqlxe\\logs\\debug-internal.log</code>"
      ],
      "text/plain": [
       "<IPython.core.display.HTML object>"
      ]
     },
     "metadata": {},
     "output_type": "display_data"
    },
    {
     "data": {
      "text/html": [
       "<h3>Run summary:</h3><br/><style>\n",
       "    table.wandb td:nth-child(1) { padding: 0 10px; text-align: right }\n",
       "    </style><table class=\"wandb\">\n",
       "<tr><td>train_rmse</td><td>5.10696</td></tr><tr><td>train_mae</td><td>3.72215</td></tr><tr><td>train_r2</td><td>0.92423</td></tr><tr><td>train_corr</td><td>0.96142</td></tr><tr><td>train_loss</td><td>25.92911</td></tr><tr><td>valid_loss</td><td>99.7807</td></tr><tr><td>valid_rmse</td><td>9.9606</td></tr><tr><td>valid_mae</td><td>8.27774</td></tr><tr><td>valid_r2</td><td>0.72663</td></tr><tr><td>valid_corr</td><td>0.89647</td></tr><tr><td>_runtime</td><td>16661</td></tr><tr><td>_timestamp</td><td>1623660816</td></tr><tr><td>_step</td><td>56</td></tr></table>"
      ],
      "text/plain": [
       "<IPython.core.display.HTML object>"
      ]
     },
     "metadata": {},
     "output_type": "display_data"
    },
    {
     "data": {
      "text/html": [
       "<h3>Run history:</h3><br/><style>\n",
       "    table.wandb td:nth-child(1) { padding: 0 10px; text-align: right }\n",
       "    </style><table class=\"wandb\">\n",
       "<tr><td>train_rmse</td><td>███▇▇▇▆▇▅▆▇▅▅▆▅▄▅▄▅▄▃▃▃▄▃▃▃▃▃▃▂▃▂▂▂▂▁▁▁▁</td></tr><tr><td>train_mae</td><td>████▇▇▆▆▅▆▇▅▅▅▅▅▅▄▅▄▃▃▃▄▃▃▃▃▃▃▂▃▂▂▂▂▁▂▁▁</td></tr><tr><td>train_r2</td><td>▁▁▁▂▃▂▄▃▅▄▃▄▅▄▄▅▅▅▅▆▆▆▆▅▆▆▆▆▆▆█▆▇▇▇▇████</td></tr><tr><td>train_corr</td><td>▁▁▁▂▃▂▄▃▅▄▃▄▅▄▄▅▅▅▅▆▆▆▆▅▆▆▆▆▆▆█▆▇▇▇▇████</td></tr><tr><td>train_loss</td><td>███▇▆▇▅▆▄▅▆▅▄▅▅▄▄▄▄▃▃▃▃▄▃▃▃▃▃▃▁▃▂▂▂▂▁▁▁▁</td></tr><tr><td>valid_loss</td><td>▆█▅▆▆▄▃▅▅▃▄▃▄▂▄█▄▇▁▄▃▄▂▆▂▄▂▅▂▃▅▄▅▃▆▄▃▄▃▄</td></tr><tr><td>valid_rmse</td><td>▆█▅▇▆▄▃▅▅▃▄▃▅▂▄█▄▇▁▄▃▄▂▆▂▄▂▅▂▃▅▄▅▄▆▄▃▄▂▄</td></tr><tr><td>valid_mae</td><td>▆▇▄▆▆▄▃▅▄▃▃▂▄▂▄█▃▆▁▃▂▄▂▅▁▃▁▄▁▃▄▄▄▃▆▃▃▃▂▄</td></tr><tr><td>valid_r2</td><td>▃▁▄▂▃▅▆▄▅▆▅▆▄▇▅▁▅▂█▅▆▅▇▃▇▅▇▅▇▆▅▅▄▆▃▆▆▆▇▅</td></tr><tr><td>valid_corr</td><td>▅▄▅▂▄▂▆▄▄▂▅▅▂▅▆▄▄▅▄▆▃▄▄▆▅▄▇▅▅▆▆▅█▄▁▅▇▆▅▅</td></tr><tr><td>_runtime</td><td>▁▁▁▂▂▂▂▂▂▃▃▃▃▃▄▄▄▄▄▄▅▅▅▅▅▅▆▆▆▆▆▇▇▇▇▇▇███</td></tr><tr><td>_timestamp</td><td>▁▁▁▂▂▂▂▂▂▃▃▃▃▃▄▄▄▄▄▄▅▅▅▅▅▅▆▆▆▆▆▇▇▇▇▇▇███</td></tr><tr><td>_step</td><td>▁▁▁▁▂▂▂▂▂▃▃▃▃▃▃▄▄▄▄▄▅▅▅▅▅▅▆▆▆▆▆▇▇▇▇▇▇███</td></tr></table><br/>"
      ],
      "text/plain": [
       "<IPython.core.display.HTML object>"
      ]
     },
     "metadata": {},
     "output_type": "display_data"
    },
    {
     "data": {
      "text/html": [
       "Synced 6 W&B file(s), 2 media file(s), 0 artifact file(s) and 1 other file(s)"
      ],
      "text/plain": [
       "<IPython.core.display.HTML object>"
      ]
     },
     "metadata": {},
     "output_type": "display_data"
    },
    {
     "data": {
      "text/html": [
       "\n",
       "                    <br/>Synced <strong style=\"color:#cdcd00\">EFFICIENTNET TEST RESUME 78</strong>: <a href=\"https://wandb.ai/1pha/3d_smri/runs/3bekqlxe\" target=\"_blank\">https://wandb.ai/1pha/3d_smri/runs/3bekqlxe</a><br/>\n",
       "                "
      ],
      "text/plain": [
       "<IPython.core.display.HTML object>"
      ]
     },
     "metadata": {},
     "output_type": "display_data"
    },
    {
     "data": {
      "text/plain": [
       "EfficientNet3D(\n",
       "  (_conv_stem): Conv3dStaticSamePadding(\n",
       "    1, 32, kernel_size=(3, 3, 3), stride=(2, 2, 2), bias=False\n",
       "    (static_padding): ZeroPad2d(padding=(0, 1, 0, 1, 0, 1), value=0.0)\n",
       "  )\n",
       "  (_bn0): BatchNorm3d(32, eps=0.001, momentum=0.010000000000000009, affine=True, track_running_stats=True)\n",
       "  (_blocks): ModuleList(\n",
       "    (0): MBConvBlock3D(\n",
       "      (_depthwise_conv): Conv3dStaticSamePadding(\n",
       "        32, 32, kernel_size=(3, 3, 3), stride=[2, 2, 2], groups=32, bias=False\n",
       "        (static_padding): ZeroPad2d(padding=(0, 1, 0, 1, 0, 1), value=0.0)\n",
       "      )\n",
       "      (_bn1): BatchNorm3d(32, eps=0.001, momentum=0.010000000000000009, affine=True, track_running_stats=True)\n",
       "      (_se_reduce): Conv3dStaticSamePadding(\n",
       "        32, 8, kernel_size=(1, 1, 1), stride=(1, 1, 1)\n",
       "        (static_padding): Identity()\n",
       "      )\n",
       "      (_se_expand): Conv3dStaticSamePadding(\n",
       "        8, 32, kernel_size=(1, 1, 1), stride=(1, 1, 1)\n",
       "        (static_padding): Identity()\n",
       "      )\n",
       "      (_project_conv): Conv3dStaticSamePadding(\n",
       "        32, 16, kernel_size=(1, 1, 1), stride=(1, 1, 1), bias=False\n",
       "        (static_padding): Identity()\n",
       "      )\n",
       "      (_bn2): BatchNorm3d(16, eps=0.001, momentum=0.010000000000000009, affine=True, track_running_stats=True)\n",
       "      (_swish): MemoryEfficientSwish()\n",
       "    )\n",
       "    (1): MBConvBlock3D(\n",
       "      (_expand_conv): Conv3dStaticSamePadding(\n",
       "        16, 96, kernel_size=(1, 1, 1), stride=(1, 1, 1), bias=False\n",
       "        (static_padding): Identity()\n",
       "      )\n",
       "      (_bn0): BatchNorm3d(96, eps=0.001, momentum=0.010000000000000009, affine=True, track_running_stats=True)\n",
       "      (_depthwise_conv): Conv3dStaticSamePadding(\n",
       "        96, 96, kernel_size=(3, 3, 3), stride=[2, 2, 2], groups=96, bias=False\n",
       "        (static_padding): ZeroPad2d(padding=(0, 1, 0, 1, 0, 1), value=0.0)\n",
       "      )\n",
       "      (_bn1): BatchNorm3d(96, eps=0.001, momentum=0.010000000000000009, affine=True, track_running_stats=True)\n",
       "      (_se_reduce): Conv3dStaticSamePadding(\n",
       "        96, 4, kernel_size=(1, 1, 1), stride=(1, 1, 1)\n",
       "        (static_padding): Identity()\n",
       "      )\n",
       "      (_se_expand): Conv3dStaticSamePadding(\n",
       "        4, 96, kernel_size=(1, 1, 1), stride=(1, 1, 1)\n",
       "        (static_padding): Identity()\n",
       "      )\n",
       "      (_project_conv): Conv3dStaticSamePadding(\n",
       "        96, 24, kernel_size=(1, 1, 1), stride=(1, 1, 1), bias=False\n",
       "        (static_padding): Identity()\n",
       "      )\n",
       "      (_bn2): BatchNorm3d(24, eps=0.001, momentum=0.010000000000000009, affine=True, track_running_stats=True)\n",
       "      (_swish): MemoryEfficientSwish()\n",
       "    )\n",
       "    (2): MBConvBlock3D(\n",
       "      (_expand_conv): Conv3dStaticSamePadding(\n",
       "        24, 144, kernel_size=(1, 1, 1), stride=(1, 1, 1), bias=False\n",
       "        (static_padding): Identity()\n",
       "      )\n",
       "      (_bn0): BatchNorm3d(144, eps=0.001, momentum=0.010000000000000009, affine=True, track_running_stats=True)\n",
       "      (_depthwise_conv): Conv3dStaticSamePadding(\n",
       "        144, 144, kernel_size=(3, 3, 3), stride=(1, 1, 1), groups=144, bias=False\n",
       "        (static_padding): ZeroPad2d(padding=(1, 1, 1, 1, 1, 1), value=0.0)\n",
       "      )\n",
       "      (_bn1): BatchNorm3d(144, eps=0.001, momentum=0.010000000000000009, affine=True, track_running_stats=True)\n",
       "      (_se_reduce): Conv3dStaticSamePadding(\n",
       "        144, 6, kernel_size=(1, 1, 1), stride=(1, 1, 1)\n",
       "        (static_padding): Identity()\n",
       "      )\n",
       "      (_se_expand): Conv3dStaticSamePadding(\n",
       "        6, 144, kernel_size=(1, 1, 1), stride=(1, 1, 1)\n",
       "        (static_padding): Identity()\n",
       "      )\n",
       "      (_project_conv): Conv3dStaticSamePadding(\n",
       "        144, 24, kernel_size=(1, 1, 1), stride=(1, 1, 1), bias=False\n",
       "        (static_padding): Identity()\n",
       "      )\n",
       "      (_bn2): BatchNorm3d(24, eps=0.001, momentum=0.010000000000000009, affine=True, track_running_stats=True)\n",
       "      (_swish): MemoryEfficientSwish()\n",
       "    )\n",
       "    (3): MBConvBlock3D(\n",
       "      (_expand_conv): Conv3dStaticSamePadding(\n",
       "        24, 144, kernel_size=(1, 1, 1), stride=(1, 1, 1), bias=False\n",
       "        (static_padding): Identity()\n",
       "      )\n",
       "      (_bn0): BatchNorm3d(144, eps=0.001, momentum=0.010000000000000009, affine=True, track_running_stats=True)\n",
       "      (_depthwise_conv): Conv3dStaticSamePadding(\n",
       "        144, 144, kernel_size=(5, 5, 5), stride=[2, 2, 2], groups=144, bias=False\n",
       "        (static_padding): ZeroPad2d(padding=(1, 2, 1, 2, 1, 2), value=0.0)\n",
       "      )\n",
       "      (_bn1): BatchNorm3d(144, eps=0.001, momentum=0.010000000000000009, affine=True, track_running_stats=True)\n",
       "      (_se_reduce): Conv3dStaticSamePadding(\n",
       "        144, 6, kernel_size=(1, 1, 1), stride=(1, 1, 1)\n",
       "        (static_padding): Identity()\n",
       "      )\n",
       "      (_se_expand): Conv3dStaticSamePadding(\n",
       "        6, 144, kernel_size=(1, 1, 1), stride=(1, 1, 1)\n",
       "        (static_padding): Identity()\n",
       "      )\n",
       "      (_project_conv): Conv3dStaticSamePadding(\n",
       "        144, 40, kernel_size=(1, 1, 1), stride=(1, 1, 1), bias=False\n",
       "        (static_padding): Identity()\n",
       "      )\n",
       "      (_bn2): BatchNorm3d(40, eps=0.001, momentum=0.010000000000000009, affine=True, track_running_stats=True)\n",
       "      (_swish): MemoryEfficientSwish()\n",
       "    )\n",
       "    (4): MBConvBlock3D(\n",
       "      (_expand_conv): Conv3dStaticSamePadding(\n",
       "        40, 240, kernel_size=(1, 1, 1), stride=(1, 1, 1), bias=False\n",
       "        (static_padding): Identity()\n",
       "      )\n",
       "      (_bn0): BatchNorm3d(240, eps=0.001, momentum=0.010000000000000009, affine=True, track_running_stats=True)\n",
       "      (_depthwise_conv): Conv3dStaticSamePadding(\n",
       "        240, 240, kernel_size=(5, 5, 5), stride=(1, 1, 1), groups=240, bias=False\n",
       "        (static_padding): ZeroPad2d(padding=(2, 2, 2, 2, 2, 2), value=0.0)\n",
       "      )\n",
       "      (_bn1): BatchNorm3d(240, eps=0.001, momentum=0.010000000000000009, affine=True, track_running_stats=True)\n",
       "      (_se_reduce): Conv3dStaticSamePadding(\n",
       "        240, 10, kernel_size=(1, 1, 1), stride=(1, 1, 1)\n",
       "        (static_padding): Identity()\n",
       "      )\n",
       "      (_se_expand): Conv3dStaticSamePadding(\n",
       "        10, 240, kernel_size=(1, 1, 1), stride=(1, 1, 1)\n",
       "        (static_padding): Identity()\n",
       "      )\n",
       "      (_project_conv): Conv3dStaticSamePadding(\n",
       "        240, 40, kernel_size=(1, 1, 1), stride=(1, 1, 1), bias=False\n",
       "        (static_padding): Identity()\n",
       "      )\n",
       "      (_bn2): BatchNorm3d(40, eps=0.001, momentum=0.010000000000000009, affine=True, track_running_stats=True)\n",
       "      (_swish): MemoryEfficientSwish()\n",
       "    )\n",
       "    (5): MBConvBlock3D(\n",
       "      (_expand_conv): Conv3dStaticSamePadding(\n",
       "        40, 240, kernel_size=(1, 1, 1), stride=(1, 1, 1), bias=False\n",
       "        (static_padding): Identity()\n",
       "      )\n",
       "      (_bn0): BatchNorm3d(240, eps=0.001, momentum=0.010000000000000009, affine=True, track_running_stats=True)\n",
       "      (_depthwise_conv): Conv3dStaticSamePadding(\n",
       "        240, 240, kernel_size=(3, 3, 3), stride=[2, 2, 2], groups=240, bias=False\n",
       "        (static_padding): ZeroPad2d(padding=(0, 1, 0, 1, 0, 1), value=0.0)\n",
       "      )\n",
       "      (_bn1): BatchNorm3d(240, eps=0.001, momentum=0.010000000000000009, affine=True, track_running_stats=True)\n",
       "      (_se_reduce): Conv3dStaticSamePadding(\n",
       "        240, 10, kernel_size=(1, 1, 1), stride=(1, 1, 1)\n",
       "        (static_padding): Identity()\n",
       "      )\n",
       "      (_se_expand): Conv3dStaticSamePadding(\n",
       "        10, 240, kernel_size=(1, 1, 1), stride=(1, 1, 1)\n",
       "        (static_padding): Identity()\n",
       "      )\n",
       "      (_project_conv): Conv3dStaticSamePadding(\n",
       "        240, 80, kernel_size=(1, 1, 1), stride=(1, 1, 1), bias=False\n",
       "        (static_padding): Identity()\n",
       "      )\n",
       "      (_bn2): BatchNorm3d(80, eps=0.001, momentum=0.010000000000000009, affine=True, track_running_stats=True)\n",
       "      (_swish): MemoryEfficientSwish()\n",
       "    )\n",
       "    (6): MBConvBlock3D(\n",
       "      (_expand_conv): Conv3dStaticSamePadding(\n",
       "        80, 480, kernel_size=(1, 1, 1), stride=(1, 1, 1), bias=False\n",
       "        (static_padding): Identity()\n",
       "      )\n",
       "      (_bn0): BatchNorm3d(480, eps=0.001, momentum=0.010000000000000009, affine=True, track_running_stats=True)\n",
       "      (_depthwise_conv): Conv3dStaticSamePadding(\n",
       "        480, 480, kernel_size=(3, 3, 3), stride=(1, 1, 1), groups=480, bias=False\n",
       "        (static_padding): ZeroPad2d(padding=(1, 1, 1, 1, 1, 1), value=0.0)\n",
       "      )\n",
       "      (_bn1): BatchNorm3d(480, eps=0.001, momentum=0.010000000000000009, affine=True, track_running_stats=True)\n",
       "      (_se_reduce): Conv3dStaticSamePadding(\n",
       "        480, 20, kernel_size=(1, 1, 1), stride=(1, 1, 1)\n",
       "        (static_padding): Identity()\n",
       "      )\n",
       "      (_se_expand): Conv3dStaticSamePadding(\n",
       "        20, 480, kernel_size=(1, 1, 1), stride=(1, 1, 1)\n",
       "        (static_padding): Identity()\n",
       "      )\n",
       "      (_project_conv): Conv3dStaticSamePadding(\n",
       "        480, 80, kernel_size=(1, 1, 1), stride=(1, 1, 1), bias=False\n",
       "        (static_padding): Identity()\n",
       "      )\n",
       "      (_bn2): BatchNorm3d(80, eps=0.001, momentum=0.010000000000000009, affine=True, track_running_stats=True)\n",
       "      (_swish): MemoryEfficientSwish()\n",
       "    )\n",
       "    (7): MBConvBlock3D(\n",
       "      (_expand_conv): Conv3dStaticSamePadding(\n",
       "        80, 480, kernel_size=(1, 1, 1), stride=(1, 1, 1), bias=False\n",
       "        (static_padding): Identity()\n",
       "      )\n",
       "      (_bn0): BatchNorm3d(480, eps=0.001, momentum=0.010000000000000009, affine=True, track_running_stats=True)\n",
       "      (_depthwise_conv): Conv3dStaticSamePadding(\n",
       "        480, 480, kernel_size=(3, 3, 3), stride=(1, 1, 1), groups=480, bias=False\n",
       "        (static_padding): ZeroPad2d(padding=(1, 1, 1, 1, 1, 1), value=0.0)\n",
       "      )\n",
       "      (_bn1): BatchNorm3d(480, eps=0.001, momentum=0.010000000000000009, affine=True, track_running_stats=True)\n",
       "      (_se_reduce): Conv3dStaticSamePadding(\n",
       "        480, 20, kernel_size=(1, 1, 1), stride=(1, 1, 1)\n",
       "        (static_padding): Identity()\n",
       "      )\n",
       "      (_se_expand): Conv3dStaticSamePadding(\n",
       "        20, 480, kernel_size=(1, 1, 1), stride=(1, 1, 1)\n",
       "        (static_padding): Identity()\n",
       "      )\n",
       "      (_project_conv): Conv3dStaticSamePadding(\n",
       "        480, 80, kernel_size=(1, 1, 1), stride=(1, 1, 1), bias=False\n",
       "        (static_padding): Identity()\n",
       "      )\n",
       "      (_bn2): BatchNorm3d(80, eps=0.001, momentum=0.010000000000000009, affine=True, track_running_stats=True)\n",
       "      (_swish): MemoryEfficientSwish()\n",
       "    )\n",
       "    (8): MBConvBlock3D(\n",
       "      (_expand_conv): Conv3dStaticSamePadding(\n",
       "        80, 480, kernel_size=(1, 1, 1), stride=(1, 1, 1), bias=False\n",
       "        (static_padding): Identity()\n",
       "      )\n",
       "      (_bn0): BatchNorm3d(480, eps=0.001, momentum=0.010000000000000009, affine=True, track_running_stats=True)\n",
       "      (_depthwise_conv): Conv3dStaticSamePadding(\n",
       "        480, 480, kernel_size=(5, 5, 5), stride=[1, 1, 1], groups=480, bias=False\n",
       "        (static_padding): ZeroPad2d(padding=(2, 2, 2, 2, 2, 2), value=0.0)\n",
       "      )\n",
       "      (_bn1): BatchNorm3d(480, eps=0.001, momentum=0.010000000000000009, affine=True, track_running_stats=True)\n",
       "      (_se_reduce): Conv3dStaticSamePadding(\n",
       "        480, 20, kernel_size=(1, 1, 1), stride=(1, 1, 1)\n",
       "        (static_padding): Identity()\n",
       "      )\n",
       "      (_se_expand): Conv3dStaticSamePadding(\n",
       "        20, 480, kernel_size=(1, 1, 1), stride=(1, 1, 1)\n",
       "        (static_padding): Identity()\n",
       "      )\n",
       "      (_project_conv): Conv3dStaticSamePadding(\n",
       "        480, 112, kernel_size=(1, 1, 1), stride=(1, 1, 1), bias=False\n",
       "        (static_padding): Identity()\n",
       "      )\n",
       "      (_bn2): BatchNorm3d(112, eps=0.001, momentum=0.010000000000000009, affine=True, track_running_stats=True)\n",
       "      (_swish): MemoryEfficientSwish()\n",
       "    )\n",
       "    (9): MBConvBlock3D(\n",
       "      (_expand_conv): Conv3dStaticSamePadding(\n",
       "        112, 672, kernel_size=(1, 1, 1), stride=(1, 1, 1), bias=False\n",
       "        (static_padding): Identity()\n",
       "      )\n",
       "      (_bn0): BatchNorm3d(672, eps=0.001, momentum=0.010000000000000009, affine=True, track_running_stats=True)\n",
       "      (_depthwise_conv): Conv3dStaticSamePadding(\n",
       "        672, 672, kernel_size=(5, 5, 5), stride=(1, 1, 1), groups=672, bias=False\n",
       "        (static_padding): ZeroPad2d(padding=(2, 2, 2, 2, 2, 2), value=0.0)\n",
       "      )\n",
       "      (_bn1): BatchNorm3d(672, eps=0.001, momentum=0.010000000000000009, affine=True, track_running_stats=True)\n",
       "      (_se_reduce): Conv3dStaticSamePadding(\n",
       "        672, 28, kernel_size=(1, 1, 1), stride=(1, 1, 1)\n",
       "        (static_padding): Identity()\n",
       "      )\n",
       "      (_se_expand): Conv3dStaticSamePadding(\n",
       "        28, 672, kernel_size=(1, 1, 1), stride=(1, 1, 1)\n",
       "        (static_padding): Identity()\n",
       "      )\n",
       "      (_project_conv): Conv3dStaticSamePadding(\n",
       "        672, 112, kernel_size=(1, 1, 1), stride=(1, 1, 1), bias=False\n",
       "        (static_padding): Identity()\n",
       "      )\n",
       "      (_bn2): BatchNorm3d(112, eps=0.001, momentum=0.010000000000000009, affine=True, track_running_stats=True)\n",
       "      (_swish): MemoryEfficientSwish()\n",
       "    )\n",
       "    (10): MBConvBlock3D(\n",
       "      (_expand_conv): Conv3dStaticSamePadding(\n",
       "        112, 672, kernel_size=(1, 1, 1), stride=(1, 1, 1), bias=False\n",
       "        (static_padding): Identity()\n",
       "      )\n",
       "      (_bn0): BatchNorm3d(672, eps=0.001, momentum=0.010000000000000009, affine=True, track_running_stats=True)\n",
       "      (_depthwise_conv): Conv3dStaticSamePadding(\n",
       "        672, 672, kernel_size=(5, 5, 5), stride=(1, 1, 1), groups=672, bias=False\n",
       "        (static_padding): ZeroPad2d(padding=(2, 2, 2, 2, 2, 2), value=0.0)\n",
       "      )\n",
       "      (_bn1): BatchNorm3d(672, eps=0.001, momentum=0.010000000000000009, affine=True, track_running_stats=True)\n",
       "      (_se_reduce): Conv3dStaticSamePadding(\n",
       "        672, 28, kernel_size=(1, 1, 1), stride=(1, 1, 1)\n",
       "        (static_padding): Identity()\n",
       "      )\n",
       "      (_se_expand): Conv3dStaticSamePadding(\n",
       "        28, 672, kernel_size=(1, 1, 1), stride=(1, 1, 1)\n",
       "        (static_padding): Identity()\n",
       "      )\n",
       "      (_project_conv): Conv3dStaticSamePadding(\n",
       "        672, 112, kernel_size=(1, 1, 1), stride=(1, 1, 1), bias=False\n",
       "        (static_padding): Identity()\n",
       "      )\n",
       "      (_bn2): BatchNorm3d(112, eps=0.001, momentum=0.010000000000000009, affine=True, track_running_stats=True)\n",
       "      (_swish): MemoryEfficientSwish()\n",
       "    )\n",
       "    (11): MBConvBlock3D(\n",
       "      (_expand_conv): Conv3dStaticSamePadding(\n",
       "        112, 672, kernel_size=(1, 1, 1), stride=(1, 1, 1), bias=False\n",
       "        (static_padding): Identity()\n",
       "      )\n",
       "      (_bn0): BatchNorm3d(672, eps=0.001, momentum=0.010000000000000009, affine=True, track_running_stats=True)\n",
       "      (_depthwise_conv): Conv3dStaticSamePadding(\n",
       "        672, 672, kernel_size=(5, 5, 5), stride=[2, 2, 2], groups=672, bias=False\n",
       "        (static_padding): ZeroPad2d(padding=(1, 2, 1, 2, 1, 2), value=0.0)\n",
       "      )\n",
       "      (_bn1): BatchNorm3d(672, eps=0.001, momentum=0.010000000000000009, affine=True, track_running_stats=True)\n",
       "      (_se_reduce): Conv3dStaticSamePadding(\n",
       "        672, 28, kernel_size=(1, 1, 1), stride=(1, 1, 1)\n",
       "        (static_padding): Identity()\n",
       "      )\n",
       "      (_se_expand): Conv3dStaticSamePadding(\n",
       "        28, 672, kernel_size=(1, 1, 1), stride=(1, 1, 1)\n",
       "        (static_padding): Identity()\n",
       "      )\n",
       "      (_project_conv): Conv3dStaticSamePadding(\n",
       "        672, 192, kernel_size=(1, 1, 1), stride=(1, 1, 1), bias=False\n",
       "        (static_padding): Identity()\n",
       "      )\n",
       "      (_bn2): BatchNorm3d(192, eps=0.001, momentum=0.010000000000000009, affine=True, track_running_stats=True)\n",
       "      (_swish): MemoryEfficientSwish()\n",
       "    )\n",
       "    (12): MBConvBlock3D(\n",
       "      (_expand_conv): Conv3dStaticSamePadding(\n",
       "        192, 1152, kernel_size=(1, 1, 1), stride=(1, 1, 1), bias=False\n",
       "        (static_padding): Identity()\n",
       "      )\n",
       "      (_bn0): BatchNorm3d(1152, eps=0.001, momentum=0.010000000000000009, affine=True, track_running_stats=True)\n",
       "      (_depthwise_conv): Conv3dStaticSamePadding(\n",
       "        1152, 1152, kernel_size=(5, 5, 5), stride=(1, 1, 1), groups=1152, bias=False\n",
       "        (static_padding): ZeroPad2d(padding=(2, 2, 2, 2, 2, 2), value=0.0)\n",
       "      )\n",
       "      (_bn1): BatchNorm3d(1152, eps=0.001, momentum=0.010000000000000009, affine=True, track_running_stats=True)\n",
       "      (_se_reduce): Conv3dStaticSamePadding(\n",
       "        1152, 48, kernel_size=(1, 1, 1), stride=(1, 1, 1)\n",
       "        (static_padding): Identity()\n",
       "      )\n",
       "      (_se_expand): Conv3dStaticSamePadding(\n",
       "        48, 1152, kernel_size=(1, 1, 1), stride=(1, 1, 1)\n",
       "        (static_padding): Identity()\n",
       "      )\n",
       "      (_project_conv): Conv3dStaticSamePadding(\n",
       "        1152, 192, kernel_size=(1, 1, 1), stride=(1, 1, 1), bias=False\n",
       "        (static_padding): Identity()\n",
       "      )\n",
       "      (_bn2): BatchNorm3d(192, eps=0.001, momentum=0.010000000000000009, affine=True, track_running_stats=True)\n",
       "      (_swish): MemoryEfficientSwish()\n",
       "    )\n",
       "    (13): MBConvBlock3D(\n",
       "      (_expand_conv): Conv3dStaticSamePadding(\n",
       "        192, 1152, kernel_size=(1, 1, 1), stride=(1, 1, 1), bias=False\n",
       "        (static_padding): Identity()\n",
       "      )\n",
       "      (_bn0): BatchNorm3d(1152, eps=0.001, momentum=0.010000000000000009, affine=True, track_running_stats=True)\n",
       "      (_depthwise_conv): Conv3dStaticSamePadding(\n",
       "        1152, 1152, kernel_size=(5, 5, 5), stride=(1, 1, 1), groups=1152, bias=False\n",
       "        (static_padding): ZeroPad2d(padding=(2, 2, 2, 2, 2, 2), value=0.0)\n",
       "      )\n",
       "      (_bn1): BatchNorm3d(1152, eps=0.001, momentum=0.010000000000000009, affine=True, track_running_stats=True)\n",
       "      (_se_reduce): Conv3dStaticSamePadding(\n",
       "        1152, 48, kernel_size=(1, 1, 1), stride=(1, 1, 1)\n",
       "        (static_padding): Identity()\n",
       "      )\n",
       "      (_se_expand): Conv3dStaticSamePadding(\n",
       "        48, 1152, kernel_size=(1, 1, 1), stride=(1, 1, 1)\n",
       "        (static_padding): Identity()\n",
       "      )\n",
       "      (_project_conv): Conv3dStaticSamePadding(\n",
       "        1152, 192, kernel_size=(1, 1, 1), stride=(1, 1, 1), bias=False\n",
       "        (static_padding): Identity()\n",
       "      )\n",
       "      (_bn2): BatchNorm3d(192, eps=0.001, momentum=0.010000000000000009, affine=True, track_running_stats=True)\n",
       "      (_swish): MemoryEfficientSwish()\n",
       "    )\n",
       "    (14): MBConvBlock3D(\n",
       "      (_expand_conv): Conv3dStaticSamePadding(\n",
       "        192, 1152, kernel_size=(1, 1, 1), stride=(1, 1, 1), bias=False\n",
       "        (static_padding): Identity()\n",
       "      )\n",
       "      (_bn0): BatchNorm3d(1152, eps=0.001, momentum=0.010000000000000009, affine=True, track_running_stats=True)\n",
       "      (_depthwise_conv): Conv3dStaticSamePadding(\n",
       "        1152, 1152, kernel_size=(5, 5, 5), stride=(1, 1, 1), groups=1152, bias=False\n",
       "        (static_padding): ZeroPad2d(padding=(2, 2, 2, 2, 2, 2), value=0.0)\n",
       "      )\n",
       "      (_bn1): BatchNorm3d(1152, eps=0.001, momentum=0.010000000000000009, affine=True, track_running_stats=True)\n",
       "      (_se_reduce): Conv3dStaticSamePadding(\n",
       "        1152, 48, kernel_size=(1, 1, 1), stride=(1, 1, 1)\n",
       "        (static_padding): Identity()\n",
       "      )\n",
       "      (_se_expand): Conv3dStaticSamePadding(\n",
       "        48, 1152, kernel_size=(1, 1, 1), stride=(1, 1, 1)\n",
       "        (static_padding): Identity()\n",
       "      )\n",
       "      (_project_conv): Conv3dStaticSamePadding(\n",
       "        1152, 192, kernel_size=(1, 1, 1), stride=(1, 1, 1), bias=False\n",
       "        (static_padding): Identity()\n",
       "      )\n",
       "      (_bn2): BatchNorm3d(192, eps=0.001, momentum=0.010000000000000009, affine=True, track_running_stats=True)\n",
       "      (_swish): MemoryEfficientSwish()\n",
       "    )\n",
       "    (15): MBConvBlock3D(\n",
       "      (_expand_conv): Conv3dStaticSamePadding(\n",
       "        192, 1152, kernel_size=(1, 1, 1), stride=(1, 1, 1), bias=False\n",
       "        (static_padding): Identity()\n",
       "      )\n",
       "      (_bn0): BatchNorm3d(1152, eps=0.001, momentum=0.010000000000000009, affine=True, track_running_stats=True)\n",
       "      (_depthwise_conv): Conv3dStaticSamePadding(\n",
       "        1152, 1152, kernel_size=(3, 3, 3), stride=[1, 1, 1], groups=1152, bias=False\n",
       "        (static_padding): ZeroPad2d(padding=(1, 1, 1, 1, 1, 1), value=0.0)\n",
       "      )\n",
       "      (_bn1): BatchNorm3d(1152, eps=0.001, momentum=0.010000000000000009, affine=True, track_running_stats=True)\n",
       "      (_se_reduce): Conv3dStaticSamePadding(\n",
       "        1152, 48, kernel_size=(1, 1, 1), stride=(1, 1, 1)\n",
       "        (static_padding): Identity()\n",
       "      )\n",
       "      (_se_expand): Conv3dStaticSamePadding(\n",
       "        48, 1152, kernel_size=(1, 1, 1), stride=(1, 1, 1)\n",
       "        (static_padding): Identity()\n",
       "      )\n",
       "      (_project_conv): Conv3dStaticSamePadding(\n",
       "        1152, 320, kernel_size=(1, 1, 1), stride=(1, 1, 1), bias=False\n",
       "        (static_padding): Identity()\n",
       "      )\n",
       "      (_bn2): BatchNorm3d(320, eps=0.001, momentum=0.010000000000000009, affine=True, track_running_stats=True)\n",
       "      (_swish): MemoryEfficientSwish()\n",
       "    )\n",
       "  )\n",
       "  (_conv_head): Conv3dStaticSamePadding(\n",
       "    320, 1280, kernel_size=(1, 1, 1), stride=(1, 1, 1), bias=False\n",
       "    (static_padding): Identity()\n",
       "  )\n",
       "  (_bn1): BatchNorm3d(1280, eps=0.001, momentum=0.010000000000000009, affine=True, track_running_stats=True)\n",
       "  (_avg_pooling): AdaptiveAvgPool3d(output_size=1)\n",
       "  (_dropout): Dropout(p=0.2, inplace=False)\n",
       "  (_fc): Linear(in_features=1280, out_features=1, bias=True)\n",
       "  (_swish): MemoryEfficientSwish()\n",
       ")"
      ]
     },
     "execution_count": 6,
     "metadata": {},
     "output_type": "execute_result"
    }
   ],
   "source": [
    "run(cfg, checkpoint)"
   ]
  },
  {
   "cell_type": "code",
   "execution_count": 7,
   "metadata": {
    "ExecuteTime": {
     "end_time": "2021-06-14T08:53:40.909190Z",
     "start_time": "2021-06-14T08:53:40.897191Z"
    }
   },
   "outputs": [],
   "source": [
    "wandb.finish()"
   ]
  },
  {
   "cell_type": "markdown",
   "metadata": {},
   "source": [
    "## SWEEP"
   ]
  },
  {
   "cell_type": "code",
   "execution_count": 2,
   "metadata": {
    "ExecuteTime": {
     "end_time": "2021-06-02T06:53:19.849284Z",
     "start_time": "2021-06-02T06:53:18.631110Z"
    }
   },
   "outputs": [
    {
     "name": "stdout",
     "output_type": "stream",
     "text": [
      "Create sweep with ID: i7iv565s\n",
      "Sweep URL: https://wandb.ai/1pha/3d_smri/sweeps/i7iv565s\n"
     ]
    }
   ],
   "source": [
    "import wandb\n",
    "\n",
    "sweep_config = {\n",
    "    \"name\" : \"Resnet\",\n",
    "    \"method\" : \"grid\", #grid, random\n",
    "    \"metric\": { #목표로 삼을 매트릭에 대한 정보를 입력합니다.\n",
    "        \"name\": \"valid_mae\",\n",
    "        \"goal\": \"minimize\"\n",
    "    },\n",
    "    \"parameters\" : { #실험해볼 하이퍼 파라미터의 조합입니다.\n",
    "        \"optimizer\" : {\n",
    "            \"values\" : ['adam', 'adamW']\n",
    "        },\n",
    "        \"weight_decay\" :{\n",
    "            \"values\": [0, 0.01]\n",
    "        },\n",
    "        \"start_channels\" :{\n",
    "            \"values\": [8, 16, 32]\n",
    "        }\n",
    "      }\n",
    "    }\n",
    "\n",
    "sweep_id = wandb.sweep(sweep_config, project='3d_smri')"
   ]
  },
  {
   "cell_type": "code",
   "execution_count": 3,
   "metadata": {
    "ExecuteTime": {
     "end_time": "2021-06-02T06:53:19.865285Z",
     "start_time": "2021-06-02T06:53:19.852286Z"
    }
   },
   "outputs": [],
   "source": [
    "def run_sweep():\n",
    "    \n",
    "    with wandb.init():\n",
    "\n",
    "        cfg = load_config()\n",
    "        seed_everything(cfg.seed)\n",
    "        cfg.registration = 'mni'\n",
    "        cfg.unused_src = []\n",
    "        cfg.plot = False\n",
    "\n",
    "        cfg.augment = True\n",
    "        cfg.epochs = 100\n",
    "        cfg.model_name = 'resnet_no_maxpool'\n",
    "        cfg.early_patience = 20\n",
    "        \n",
    "        _cfg = wandb.config\n",
    "        __cfg = dict()\n",
    "        __cfg.update(_cfg)\n",
    "        cfg.update(__cfg)\n",
    "        \n",
    "        name = f'SWEEP_OPT-{cfg.optimizer}_WD{cfg.weight_decay}_SC{cfg.start_channels}'\n",
    "        cfg.RESULT_PATH = os.path.join(cfg.RESULT_PATH, name + get_today())\n",
    "        \n",
    "        wandb.run.name = name\n",
    "        wandb.config.update(cfg)\n",
    "        \n",
    "        run(cfg)\n",
    "        \n",
    "        clear_output()"
   ]
  },
  {
   "cell_type": "code",
   "execution_count": 4,
   "metadata": {
    "ExecuteTime": {
     "end_time": "2021-06-05T02:10:10.374644Z",
     "start_time": "2021-06-02T06:53:19.867285Z"
    },
    "scrolled": true
   },
   "outputs": [
    {
     "name": "stderr",
     "output_type": "stream",
     "text": [
      "wandb: Agent Starting Run: mwm3fxzu with config:\n",
      "wandb: \toptimizer: adamW\n",
      "wandb: \tstart_channels: 32\n",
      "wandb: \tweight_decay: 0.01\n"
     ]
    },
    {
     "data": {
      "text/html": [
       "\n",
       "                Tracking run with wandb version 0.10.31<br/>\n",
       "                Syncing run <strong style=\"color:#cdcd00\">bright-sweep-12</strong> to <a href=\"https://wandb.ai\" target=\"_blank\">Weights & Biases</a> <a href=\"https://docs.wandb.com/integrations/jupyter.html\" target=\"_blank\">(Documentation)</a>.<br/>\n",
       "                Project page: <a href=\"https://wandb.ai/1pha/3d_smri\" target=\"_blank\">https://wandb.ai/1pha/3d_smri</a><br/>\n",
       "                Sweep page: <a href=\"https://wandb.ai/1pha/3d_smri/sweeps/i7iv565s\" target=\"_blank\">https://wandb.ai/1pha/3d_smri/sweeps/i7iv565s</a><br/>\n",
       "Run page: <a href=\"https://wandb.ai/1pha/3d_smri/runs/mwm3fxzu\" target=\"_blank\">https://wandb.ai/1pha/3d_smri/runs/mwm3fxzu</a><br/>\n",
       "                Run data is saved locally in <code>G:\\My Drive\\brain_data\\workspace\\3DCNN_sMRI\\wandb\\run-20210605_055150-mwm3fxzu</code><br/><br/>\n",
       "            "
      ],
      "text/plain": [
       "<IPython.core.display.HTML object>"
      ]
     },
     "metadata": {},
     "output_type": "display_data"
    },
    {
     "name": "stdout",
     "output_type": "stream",
     "text": [
      "Model Resnet_no_maxpool is selected.\n",
      "TOTAL TRAIN 2282 | VALID 286\n",
      "Epoch 1 / 100, BEST MAE inf\n",
      "[train] 241.1 sec [valid] 10.0 sec \n",
      "TRAIN :: LOSS 3205.938 | RMSE 56.62 | MAE 53.71 | R2 -8.21 | CORR 0.43\n",
      "VALID :: LOSS 2867.374 | RMSE 53.57 | MAE 50.49 | R2 -6.73 | CORR 0.68\n",
      "Saving ...\n",
      "Epoch 2 / 100, BEST MAE 50.491\n",
      "[train] 248.5 sec [valid] 9.9 sec \n",
      "TRAIN :: LOSS 2902.232 | RMSE 53.87 | MAE 51.00 | R2 -7.34 | CORR 0.59\n",
      "VALID :: LOSS 2603.441 | RMSE 51.04 | MAE 47.90 | R2 -6.02 | CORR 0.72\n",
      "Saving ...\n",
      "Epoch 3 / 100, BEST MAE 47.897\n",
      "[train] 243.5 sec [valid] 10.0 sec \n",
      "TRAIN :: LOSS 2631.244 | RMSE 51.30 | MAE 48.50 | R2 -6.56 | CORR 0.69\n",
      "VALID :: LOSS 2548.353 | RMSE 50.50 | MAE 47.73 | R2 -5.87 | CORR 0.79\n",
      "Saving ...\n",
      "Epoch 4 / 100, BEST MAE 47.728\n",
      "[train] 231.5 sec [valid] 9.8 sec \n",
      "TRAIN :: LOSS 2346.606 | RMSE 48.44 | MAE 45.79 | R2 -5.74 | CORR 0.76\n",
      "VALID :: LOSS 2888.699 | RMSE 53.77 | MAE 50.79 | R2 -6.79 | CORR 0.63\n",
      "Epoch 5 / 100, BEST MAE 47.728\n",
      "[train] 243.7 sec [valid] 9.9 sec \n",
      "TRAIN :: LOSS 2048.011 | RMSE 45.26 | MAE 42.79 | R2 -4.88 | CORR 0.81\n",
      "VALID :: LOSS 2088.442 | RMSE 45.72 | MAE 43.41 | R2 -4.63 | CORR 0.78\n",
      "Saving ...\n",
      "Epoch 6 / 100, BEST MAE 43.409\n",
      "[train] 242.8 sec [valid] 10.4 sec \n",
      "TRAIN :: LOSS 1755.718 | RMSE 41.90 | MAE 39.60 | R2 -4.04 | CORR 0.83\n",
      "VALID :: LOSS 2105.281 | RMSE 45.90 | MAE 43.57 | R2 -4.67 | CORR 0.80\n",
      "Epoch 7 / 100, BEST MAE 43.409\n",
      "[train] 228.4 sec [valid] 10.2 sec \n",
      "TRAIN :: LOSS 1470.077 | RMSE 38.34 | MAE 36.21 | R2 -3.22 | CORR 0.85\n",
      "VALID :: LOSS 1392.766 | RMSE 37.33 | MAE 35.40 | R2 -2.75 | CORR 0.89\n",
      "Saving ...\n",
      "Epoch 8 / 100, BEST MAE 35.398\n",
      "[train] 229.6 sec [valid] 10.0 sec \n",
      "TRAIN :: LOSS 1209.751 | RMSE 34.78 | MAE 32.76 | R2 -2.48 | CORR 0.86\n",
      "VALID :: LOSS 1201.717 | RMSE 34.68 | MAE 32.69 | R2 -2.24 | CORR 0.88\n",
      "Saving ...\n",
      "Epoch 9 / 100, BEST MAE 32.687\n",
      "[train] 243.5 sec [valid] 9.8 sec \n",
      "TRAIN :: LOSS 986.018 | RMSE 31.40 | MAE 29.46 | R2 -1.83 | CORR 0.87\n",
      "VALID :: LOSS 1180.625 | RMSE 34.37 | MAE 32.61 | R2 -2.18 | CORR 0.87\n",
      "Saving ...\n",
      "Epoch 10 / 100, BEST MAE 32.612\n",
      "[train] 252.5 sec [valid] 9.7 sec \n",
      "TRAIN :: LOSS 787.719 | RMSE 28.07 | MAE 26.15 | R2 -1.26 | CORR 0.88\n",
      "VALID :: LOSS 752.663 | RMSE 27.45 | MAE 25.80 | R2 -1.03 | CORR 0.90\n",
      "Saving ...\n",
      "Epoch 11 / 100, BEST MAE 25.803\n",
      "[train] 244.6 sec [valid] 9.9 sec \n",
      "TRAIN :: LOSS 618.619 | RMSE 24.87 | MAE 23.01 | R2 -0.78 | CORR 0.89\n",
      "VALID :: LOSS 696.512 | RMSE 26.41 | MAE 24.65 | R2 -0.88 | CORR 0.90\n",
      "Saving ...\n",
      "Epoch 12 / 100, BEST MAE 24.651\n",
      "[train] 238.0 sec [valid] 9.9 sec \n",
      "TRAIN :: LOSS 480.053 | RMSE 21.91 | MAE 20.11 | R2 -0.38 | CORR 0.90\n",
      "VALID :: LOSS 668.337 | RMSE 25.87 | MAE 24.25 | R2 -0.80 | CORR 0.91\n",
      "Saving ...\n",
      "Epoch 13 / 100, BEST MAE 24.254\n",
      "[train] 252.4 sec [valid] 10.2 sec \n",
      "TRAIN :: LOSS 367.858 | RMSE 19.18 | MAE 17.37 | R2 -0.06 | CORR 0.91\n",
      "VALID :: LOSS 399.398 | RMSE 20.00 | MAE 18.17 | R2 -0.08 | CORR 0.91\n",
      "Saving ...\n",
      "Epoch 14 / 100, BEST MAE 18.172\n",
      "[train] 244.5 sec [valid] 9.6 sec \n",
      "TRAIN :: LOSS 278.527 | RMSE 16.69 | MAE 14.91 | R2 0.20 | CORR 0.91\n",
      "VALID :: LOSS 232.380 | RMSE 15.26 | MAE 13.31 | R2 0.37 | CORR 0.92\n",
      "Saving ...\n",
      "Epoch 15 / 100, BEST MAE 13.311\n",
      "[train] 251.6 sec [valid] 10.1 sec \n",
      "TRAIN :: LOSS 206.083 | RMSE 14.36 | MAE 12.58 | R2 0.41 | CORR 0.92\n",
      "VALID :: LOSS 160.835 | RMSE 12.70 | MAE 10.73 | R2 0.57 | CORR 0.92\n",
      "Saving ...\n",
      "Epoch 16 / 100, BEST MAE 10.725\n",
      "[train] 249.3 sec [valid] 9.9 sec \n",
      "TRAIN :: LOSS 152.689 | RMSE 12.36 | MAE 10.59 | R2 0.56 | CORR 0.92\n",
      "VALID :: LOSS 146.065 | RMSE 12.10 | MAE 10.17 | R2 0.61 | CORR 0.93\n",
      "Saving ...\n",
      "Epoch 17 / 100, BEST MAE 10.167\n",
      "[train] 259.1 sec [valid] 9.9 sec \n",
      "TRAIN :: LOSS 121.157 | RMSE 11.01 | MAE 9.18 | R2 0.65 | CORR 0.92\n",
      "VALID :: LOSS 166.492 | RMSE 12.92 | MAE 10.75 | R2 0.55 | CORR 0.92\n",
      "Epoch 18 / 100, BEST MAE 10.167\n",
      "[train] 241.8 sec [valid] 9.7 sec \n",
      "TRAIN :: LOSS 91.252 | RMSE 9.56 | MAE 7.84 | R2 0.74 | CORR 0.93\n",
      "VALID :: LOSS 90.032 | RMSE 9.50 | MAE 7.55 | R2 0.76 | CORR 0.92\n",
      "Saving ...\n",
      "Epoch 19 / 100, BEST MAE 7.550\n",
      "[train] 254.2 sec [valid] 9.9 sec \n",
      "TRAIN :: LOSS 73.265 | RMSE 8.56 | MAE 6.80 | R2 0.79 | CORR 0.93\n",
      "VALID :: LOSS 89.011 | RMSE 9.45 | MAE 7.16 | R2 0.76 | CORR 0.90\n",
      "Saving ...\n",
      "Epoch 20 / 100, BEST MAE 7.156\n",
      "[train] 260.5 sec [valid] 10.0 sec \n",
      "TRAIN :: LOSS 61.460 | RMSE 7.84 | MAE 6.14 | R2 0.82 | CORR 0.93\n",
      "VALID :: LOSS 104.939 | RMSE 10.26 | MAE 8.25 | R2 0.72 | CORR 0.92\n",
      "Epoch 21 / 100, BEST MAE 7.156\n",
      "[train] 246.8 sec [valid] 10.0 sec \n",
      "TRAIN :: LOSS 55.572 | RMSE 7.46 | MAE 5.78 | R2 0.84 | CORR 0.93\n",
      "VALID :: LOSS 73.956 | RMSE 8.61 | MAE 6.82 | R2 0.80 | CORR 0.92\n",
      "Saving ...\n",
      "Epoch 22 / 100, BEST MAE 6.819\n",
      "[train] 235.0 sec [valid] 9.9 sec \n",
      "TRAIN :: LOSS 51.306 | RMSE 7.17 | MAE 5.52 | R2 0.85 | CORR 0.93\n",
      "VALID :: LOSS 66.748 | RMSE 8.18 | MAE 6.54 | R2 0.82 | CORR 0.93\n",
      "Saving ...\n",
      "Epoch 23 / 100, BEST MAE 6.539\n",
      "[train] 236.9 sec [valid] 9.9 sec \n",
      "TRAIN :: LOSS 47.199 | RMSE 6.87 | MAE 5.34 | R2 0.86 | CORR 0.93\n",
      "VALID :: LOSS 62.484 | RMSE 7.92 | MAE 6.05 | R2 0.83 | CORR 0.93\n",
      "Saving ...\n",
      "Epoch 24 / 100, BEST MAE 6.047\n",
      "[train] 242.5 sec [valid] 9.8 sec \n",
      "TRAIN :: LOSS 43.483 | RMSE 6.60 | MAE 5.13 | R2 0.87 | CORR 0.94\n",
      "VALID :: LOSS 90.349 | RMSE 9.52 | MAE 7.90 | R2 0.76 | CORR 0.92\n",
      "Epoch 25 / 100, BEST MAE 6.047\n",
      "[train] 227.6 sec [valid] 9.9 sec \n",
      "TRAIN :: LOSS 44.701 | RMSE 6.69 | MAE 5.17 | R2 0.87 | CORR 0.93\n",
      "VALID :: LOSS 66.288 | RMSE 8.15 | MAE 6.57 | R2 0.82 | CORR 0.93\n",
      "Epoch 26 / 100, BEST MAE 6.047\n",
      "[train] 228.8 sec [valid] 9.9 sec \n",
      "TRAIN :: LOSS 43.438 | RMSE 6.60 | MAE 5.05 | R2 0.87 | CORR 0.94\n",
      "VALID :: LOSS 62.467 | RMSE 7.92 | MAE 6.22 | R2 0.83 | CORR 0.92\n",
      "Epoch 27 / 100, BEST MAE 6.047\n",
      "[train] 250.5 sec [valid] 10.0 sec \n",
      "TRAIN :: LOSS 42.458 | RMSE 6.52 | MAE 5.05 | R2 0.88 | CORR 0.94\n",
      "VALID :: LOSS 61.786 | RMSE 7.88 | MAE 6.11 | R2 0.83 | CORR 0.93\n",
      "Epoch 28 / 100, BEST MAE 6.047\n",
      "[train] 250.5 sec [valid] 9.9 sec \n",
      "TRAIN :: LOSS 42.694 | RMSE 6.54 | MAE 5.01 | R2 0.88 | CORR 0.94\n",
      "VALID :: LOSS 49.753 | RMSE 7.07 | MAE 5.71 | R2 0.87 | CORR 0.94\n",
      "Saving ...\n",
      "Epoch 29 / 100, BEST MAE 5.712\n",
      "[train] 242.1 sec [valid] 9.9 sec \n",
      "TRAIN :: LOSS 40.425 | RMSE 6.36 | MAE 4.93 | R2 0.88 | CORR 0.94\n",
      "VALID :: LOSS 48.631 | RMSE 6.99 | MAE 5.57 | R2 0.87 | CORR 0.93\n",
      "Saving ...\n",
      "Epoch 30 / 100, BEST MAE 5.574\n",
      "[train] 249.6 sec [valid] 9.8 sec \n",
      "TRAIN :: LOSS 41.418 | RMSE 6.44 | MAE 4.93 | R2 0.88 | CORR 0.94\n",
      "VALID :: LOSS 50.829 | RMSE 7.13 | MAE 5.64 | R2 0.86 | CORR 0.93\n",
      "Epoch 31 / 100, BEST MAE 5.574\n",
      "[train] 241.7 sec [valid] 10.0 sec \n",
      "TRAIN :: LOSS 40.898 | RMSE 6.40 | MAE 4.96 | R2 0.88 | CORR 0.94\n",
      "VALID :: LOSS 51.595 | RMSE 7.19 | MAE 5.62 | R2 0.86 | CORR 0.93\n",
      "Epoch 32 / 100, BEST MAE 5.574\n",
      "[train] 235.9 sec [valid] 10.3 sec \n",
      "TRAIN :: LOSS 40.347 | RMSE 6.36 | MAE 4.93 | R2 0.88 | CORR 0.94\n",
      "VALID :: LOSS 52.905 | RMSE 7.29 | MAE 5.79 | R2 0.86 | CORR 0.93\n",
      "Epoch 33 / 100, BEST MAE 5.574\n",
      "[train] 246.7 sec [valid] 10.2 sec \n",
      "TRAIN :: LOSS 40.047 | RMSE 6.33 | MAE 4.85 | R2 0.88 | CORR 0.94\n",
      "VALID :: LOSS 50.336 | RMSE 7.10 | MAE 5.63 | R2 0.86 | CORR 0.94\n",
      "Epoch 34 / 100, BEST MAE 5.574\n",
      "[train] 239.8 sec [valid] 9.8 sec \n",
      "TRAIN :: LOSS 37.808 | RMSE 6.16 | MAE 4.76 | R2 0.89 | CORR 0.94\n",
      "VALID :: LOSS 55.382 | RMSE 7.45 | MAE 5.97 | R2 0.85 | CORR 0.94\n",
      "Epoch 35 / 100, BEST MAE 5.574\n",
      "[train] 238.9 sec [valid] 9.8 sec \n",
      "TRAIN :: LOSS 38.600 | RMSE 6.22 | MAE 4.75 | R2 0.89 | CORR 0.94\n",
      "VALID :: LOSS 63.312 | RMSE 7.97 | MAE 6.14 | R2 0.83 | CORR 0.92\n",
      "Epoch 36 / 100, BEST MAE 5.574\n",
      "[train] 250.0 sec [valid] 9.8 sec \n",
      "TRAIN :: LOSS 37.454 | RMSE 6.13 | MAE 4.71 | R2 0.89 | CORR 0.94\n",
      "VALID :: LOSS 63.358 | RMSE 7.96 | MAE 6.37 | R2 0.83 | CORR 0.93\n",
      "Epoch 37 / 100, BEST MAE 5.574\n",
      "[train] 244.6 sec [valid] 10.1 sec \n",
      "TRAIN :: LOSS 36.591 | RMSE 6.05 | MAE 4.74 | R2 0.89 | CORR 0.95\n",
      "VALID :: LOSS 56.465 | RMSE 7.52 | MAE 6.05 | R2 0.85 | CORR 0.93\n",
      "Epoch 38 / 100, BEST MAE 5.574\n",
      "[train] 243.3 sec [valid] 10.0 sec \n",
      "TRAIN :: LOSS 36.441 | RMSE 6.04 | MAE 4.67 | R2 0.90 | CORR 0.95\n",
      "VALID :: LOSS 48.660 | RMSE 6.98 | MAE 5.44 | R2 0.87 | CORR 0.93\n",
      "Saving ...\n",
      "Epoch 39 / 100, BEST MAE 5.436\n",
      "[train] 234.4 sec [valid] 10.0 sec \n",
      "TRAIN :: LOSS 38.173 | RMSE 6.18 | MAE 4.72 | R2 0.89 | CORR 0.94\n",
      "VALID :: LOSS 85.103 | RMSE 9.22 | MAE 7.48 | R2 0.77 | CORR 0.94\n",
      "Epoch 40 / 100, BEST MAE 5.436\n"
     ]
    },
    {
     "name": "stdout",
     "output_type": "stream",
     "text": [
      "[train] 250.7 sec [valid] 9.8 sec \n",
      "TRAIN :: LOSS 36.328 | RMSE 6.03 | MAE 4.61 | R2 0.90 | CORR 0.95\n",
      "VALID :: LOSS 50.892 | RMSE 7.15 | MAE 5.54 | R2 0.86 | CORR 0.93\n",
      "Epoch 41 / 100, BEST MAE 5.436\n",
      "[train] 245.0 sec [valid] 10.5 sec \n",
      "TRAIN :: LOSS 34.448 | RMSE 5.87 | MAE 4.54 | R2 0.90 | CORR 0.95\n",
      "VALID :: LOSS 58.649 | RMSE 7.66 | MAE 6.21 | R2 0.84 | CORR 0.93\n",
      "Epoch 42 / 100, BEST MAE 5.436\n",
      "[train] 253.8 sec [valid] 10.0 sec \n",
      "TRAIN :: LOSS 35.848 | RMSE 5.99 | MAE 4.66 | R2 0.90 | CORR 0.95\n",
      "VALID :: LOSS 59.022 | RMSE 7.69 | MAE 6.24 | R2 0.84 | CORR 0.94\n",
      "Epoch 43 / 100, BEST MAE 5.436\n",
      "[train] 237.3 sec [valid] 9.9 sec \n",
      "TRAIN :: LOSS 33.509 | RMSE 5.79 | MAE 4.46 | R2 0.90 | CORR 0.95\n",
      "VALID :: LOSS 46.393 | RMSE 6.82 | MAE 5.39 | R2 0.87 | CORR 0.94\n",
      "Saving ...\n",
      "Epoch 44 / 100, BEST MAE 5.392\n",
      "[train] 236.5 sec [valid] 10.0 sec \n",
      "TRAIN :: LOSS 33.013 | RMSE 5.75 | MAE 4.48 | R2 0.91 | CORR 0.95\n",
      "VALID :: LOSS 50.439 | RMSE 7.11 | MAE 5.65 | R2 0.86 | CORR 0.93\n",
      "Epoch 45 / 100, BEST MAE 5.392\n",
      "[train] 248.3 sec [valid] 10.0 sec \n",
      "TRAIN :: LOSS 33.303 | RMSE 5.78 | MAE 4.48 | R2 0.90 | CORR 0.95\n",
      "VALID :: LOSS 48.388 | RMSE 6.97 | MAE 5.50 | R2 0.87 | CORR 0.93\n",
      "Epoch 46 / 100, BEST MAE 5.392\n",
      "[train] 260.4 sec [valid] 10.0 sec \n",
      "TRAIN :: LOSS 33.858 | RMSE 5.82 | MAE 4.52 | R2 0.90 | CORR 0.95\n",
      "VALID :: LOSS 57.890 | RMSE 7.61 | MAE 6.01 | R2 0.84 | CORR 0.93\n",
      "Epoch 47 / 100, BEST MAE 5.392\n",
      "[train] 236.3 sec [valid] 9.9 sec \n",
      "TRAIN :: LOSS 32.313 | RMSE 5.69 | MAE 4.37 | R2 0.91 | CORR 0.95\n",
      "VALID :: LOSS 59.477 | RMSE 7.72 | MAE 6.22 | R2 0.84 | CORR 0.94\n",
      "Epoch 48 / 100, BEST MAE 5.392\n",
      "[train] 242.5 sec [valid] 9.9 sec \n",
      "TRAIN :: LOSS 32.258 | RMSE 5.69 | MAE 4.41 | R2 0.91 | CORR 0.95\n",
      "VALID :: LOSS 59.631 | RMSE 7.73 | MAE 5.96 | R2 0.84 | CORR 0.93\n",
      "Epoch 49 / 100, BEST MAE 5.392\n",
      "[train] 241.9 sec [valid] 10.2 sec \n",
      "TRAIN :: LOSS 31.827 | RMSE 5.65 | MAE 4.36 | R2 0.91 | CORR 0.95\n",
      "VALID :: LOSS 59.949 | RMSE 7.75 | MAE 6.10 | R2 0.84 | CORR 0.92\n",
      "Epoch 50 / 100, BEST MAE 5.392\n",
      "[train] 259.3 sec [valid] 9.7 sec \n",
      "TRAIN :: LOSS 31.967 | RMSE 5.66 | MAE 4.37 | R2 0.91 | CORR 0.95\n",
      "VALID :: LOSS 77.204 | RMSE 8.79 | MAE 7.22 | R2 0.79 | CORR 0.94\n",
      "Epoch 51 / 100, BEST MAE 5.392\n",
      "[train] 237.6 sec [valid] 9.9 sec \n",
      "TRAIN :: LOSS 31.344 | RMSE 5.60 | MAE 4.32 | R2 0.91 | CORR 0.95\n",
      "VALID :: LOSS 48.354 | RMSE 6.96 | MAE 5.43 | R2 0.87 | CORR 0.93\n",
      "Epoch 52 / 100, BEST MAE 5.392\n",
      "[train] 251.1 sec [valid] 9.9 sec \n",
      "TRAIN :: LOSS 30.478 | RMSE 5.52 | MAE 4.25 | R2 0.91 | CORR 0.96\n",
      "VALID :: LOSS 51.654 | RMSE 7.19 | MAE 5.60 | R2 0.86 | CORR 0.93\n",
      "Epoch 53 / 100, BEST MAE 5.392\n",
      "[train] 238.0 sec [valid] 9.9 sec \n",
      "TRAIN :: LOSS 30.107 | RMSE 5.49 | MAE 4.24 | R2 0.91 | CORR 0.96\n",
      "VALID :: LOSS 48.649 | RMSE 6.98 | MAE 5.41 | R2 0.87 | CORR 0.93\n",
      "Epoch 54 / 100, BEST MAE 5.392\n",
      "[train] 234.9 sec [valid] 9.9 sec \n",
      "TRAIN :: LOSS 28.058 | RMSE 5.30 | MAE 4.08 | R2 0.92 | CORR 0.96\n",
      "VALID :: LOSS 46.373 | RMSE 6.82 | MAE 5.36 | R2 0.87 | CORR 0.94\n",
      "Saving ...\n",
      "Epoch 55 / 100, BEST MAE 5.360\n",
      "[train] 258.4 sec [valid] 9.8 sec \n",
      "TRAIN :: LOSS 27.914 | RMSE 5.29 | MAE 4.07 | R2 0.92 | CORR 0.96\n",
      "VALID :: LOSS 50.186 | RMSE 7.09 | MAE 5.70 | R2 0.86 | CORR 0.94\n",
      "Epoch 56 / 100, BEST MAE 5.360\n",
      "[train] 249.0 sec [valid] 10.1 sec \n",
      "TRAIN :: LOSS 28.372 | RMSE 5.33 | MAE 4.06 | R2 0.92 | CORR 0.96\n",
      "VALID :: LOSS 74.803 | RMSE 8.66 | MAE 6.75 | R2 0.80 | CORR 0.92\n",
      "Epoch 57 / 100, BEST MAE 5.360\n",
      "[train] 250.1 sec [valid] 10.0 sec \n",
      "TRAIN :: LOSS 30.159 | RMSE 5.49 | MAE 4.14 | R2 0.91 | CORR 0.96\n",
      "VALID :: LOSS 58.511 | RMSE 7.65 | MAE 6.06 | R2 0.84 | CORR 0.94\n",
      "Epoch 58 / 100, BEST MAE 5.360\n",
      "[train] 244.8 sec [valid] 9.8 sec \n",
      "TRAIN :: LOSS 27.040 | RMSE 5.20 | MAE 4.02 | R2 0.92 | CORR 0.96\n",
      "VALID :: LOSS 61.637 | RMSE 7.85 | MAE 6.20 | R2 0.83 | CORR 0.94\n",
      "Epoch 59 / 100, BEST MAE 5.360\n",
      "[train] 246.1 sec [valid] 10.0 sec \n",
      "TRAIN :: LOSS 27.345 | RMSE 5.24 | MAE 3.97 | R2 0.92 | CORR 0.96\n",
      "VALID :: LOSS 63.396 | RMSE 7.97 | MAE 6.25 | R2 0.83 | CORR 0.94\n",
      "Epoch 60 / 100, BEST MAE 5.360\n",
      "[train] 242.6 sec [valid] 10.0 sec \n",
      "TRAIN :: LOSS 27.391 | RMSE 5.24 | MAE 3.98 | R2 0.92 | CORR 0.96\n",
      "VALID :: LOSS 77.256 | RMSE 8.80 | MAE 7.06 | R2 0.79 | CORR 0.93\n",
      "Epoch 61 / 100, BEST MAE 5.360\n",
      "[train] 255.7 sec [valid] 9.9 sec \n",
      "TRAIN :: LOSS 27.395 | RMSE 5.24 | MAE 4.02 | R2 0.92 | CORR 0.96\n",
      "VALID :: LOSS 51.358 | RMSE 7.18 | MAE 5.66 | R2 0.86 | CORR 0.94\n",
      "Epoch 62 / 100, BEST MAE 5.360\n",
      "[train] 244.9 sec [valid] 9.6 sec \n",
      "TRAIN :: LOSS 25.462 | RMSE 5.05 | MAE 3.87 | R2 0.93 | CORR 0.96\n",
      "VALID :: LOSS 50.772 | RMSE 7.14 | MAE 5.64 | R2 0.86 | CORR 0.94\n",
      "Epoch 63 / 100, BEST MAE 5.360\n",
      "[train] 238.6 sec [valid] 9.9 sec \n",
      "TRAIN :: LOSS 26.230 | RMSE 5.13 | MAE 3.89 | R2 0.92 | CORR 0.96\n",
      "VALID :: LOSS 54.928 | RMSE 7.42 | MAE 5.90 | R2 0.85 | CORR 0.94\n",
      "Epoch 64 / 100, BEST MAE 5.360\n",
      "[train] 243.9 sec [valid] 11.0 sec \n",
      "TRAIN :: LOSS 26.053 | RMSE 5.11 | MAE 3.85 | R2 0.92 | CORR 0.96\n",
      "VALID :: LOSS 47.444 | RMSE 6.89 | MAE 5.34 | R2 0.87 | CORR 0.93\n",
      "Saving ...\n",
      "Epoch 65 / 100, BEST MAE 5.341\n",
      "[train] 257.2 sec [valid] 10.0 sec \n",
      "TRAIN :: LOSS 25.512 | RMSE 5.06 | MAE 3.75 | R2 0.93 | CORR 0.96\n",
      "VALID :: LOSS 44.342 | RMSE 6.66 | MAE 5.31 | R2 0.88 | CORR 0.94\n",
      "Saving ...\n",
      "Epoch 66 / 100, BEST MAE 5.308\n",
      "[train] 239.5 sec [valid] 9.8 sec \n",
      "TRAIN :: LOSS 24.021 | RMSE 4.90 | MAE 3.67 | R2 0.93 | CORR 0.96\n",
      "VALID :: LOSS 65.200 | RMSE 8.08 | MAE 6.53 | R2 0.82 | CORR 0.94\n",
      "Epoch 67 / 100, BEST MAE 5.308\n",
      "[train] 254.6 sec [valid] 9.9 sec \n",
      "TRAIN :: LOSS 25.065 | RMSE 5.01 | MAE 3.73 | R2 0.93 | CORR 0.96\n",
      "VALID :: LOSS 60.056 | RMSE 7.76 | MAE 5.99 | R2 0.84 | CORR 0.93\n",
      "Epoch 68 / 100, BEST MAE 5.308\n",
      "[train] 245.9 sec [valid] 9.8 sec \n",
      "TRAIN :: LOSS 24.684 | RMSE 4.97 | MAE 3.75 | R2 0.93 | CORR 0.96\n",
      "VALID :: LOSS 46.583 | RMSE 6.83 | MAE 5.50 | R2 0.87 | CORR 0.94\n",
      "Epoch 69 / 100, BEST MAE 5.308\n",
      "[train] 246.0 sec [valid] 10.3 sec \n",
      "TRAIN :: LOSS 21.859 | RMSE 4.68 | MAE 3.56 | R2 0.94 | CORR 0.97\n",
      "VALID :: LOSS 48.687 | RMSE 6.98 | MAE 5.51 | R2 0.87 | CORR 0.94\n",
      "Epoch 70 / 100, BEST MAE 5.308\n",
      "[train] 239.0 sec [valid] 9.8 sec \n",
      "TRAIN :: LOSS 21.738 | RMSE 4.67 | MAE 3.49 | R2 0.94 | CORR 0.97\n",
      "VALID :: LOSS 47.264 | RMSE 6.88 | MAE 5.46 | R2 0.87 | CORR 0.93\n",
      "Epoch 71 / 100, BEST MAE 5.308\n",
      "[train] 241.1 sec [valid] 10.1 sec \n",
      "TRAIN :: LOSS 20.828 | RMSE 4.57 | MAE 3.47 | R2 0.94 | CORR 0.97\n",
      "VALID :: LOSS 50.947 | RMSE 7.15 | MAE 5.58 | R2 0.86 | CORR 0.94\n",
      "Epoch 72 / 100, BEST MAE 5.308\n",
      "[train] 261.9 sec [valid] 9.9 sec \n",
      "TRAIN :: LOSS 21.247 | RMSE 4.61 | MAE 3.46 | R2 0.94 | CORR 0.97\n",
      "VALID :: LOSS 47.683 | RMSE 6.92 | MAE 5.48 | R2 0.87 | CORR 0.94\n",
      "Epoch 73 / 100, BEST MAE 5.308\n",
      "[train] 244.7 sec [valid] 10.0 sec \n",
      "TRAIN :: LOSS 20.631 | RMSE 4.55 | MAE 3.41 | R2 0.94 | CORR 0.97\n",
      "VALID :: LOSS 47.714 | RMSE 6.92 | MAE 5.47 | R2 0.87 | CORR 0.94\n",
      "Epoch 74 / 100, BEST MAE 5.308\n",
      "[train] 252.4 sec [valid] 9.8 sec \n",
      "TRAIN :: LOSS 19.579 | RMSE 4.43 | MAE 3.35 | R2 0.94 | CORR 0.97\n",
      "VALID :: LOSS 93.022 | RMSE 9.66 | MAE 7.53 | R2 0.75 | CORR 0.92\n",
      "Epoch 75 / 100, BEST MAE 5.308\n"
     ]
    },
    {
     "name": "stderr",
     "output_type": "stream",
     "text": [
      "--- Logging error ---\n",
      "Traceback (most recent call last):\n",
      "  File \"<ipython-input-3-a6ec39c2de33>\", line 27, in run_sweep\n",
      "    run(cfg)\n",
      "  File \"G:\\My Drive\\brain_data\\workspace\\3DCNN_sMRI\\sage\\training\\runner.py\", line 68, in run\n",
      "  File \"G:\\My Drive\\brain_data\\workspace\\3DCNN_sMRI\\sage\\training\\runner.py\", line 19, in wrapper_fn\n",
      "  File \"G:\\My Drive\\brain_data\\workspace\\3DCNN_sMRI\\sage\\training\\runner.py\", line 143, in train\n",
      "  File \"C:\\Users\\pha\\anaconda3\\envs\\cnn\\lib\\site-packages\\torch\\utils\\data\\dataloader.py\", line 435, in __next__\n",
      "    data = self._next_data()\n",
      "  File \"C:\\Users\\pha\\anaconda3\\envs\\cnn\\lib\\site-packages\\torch\\utils\\data\\dataloader.py\", line 475, in _next_data\n",
      "    data = self._dataset_fetcher.fetch(index)  # may raise StopIteration\n",
      "  File \"C:\\Users\\pha\\anaconda3\\envs\\cnn\\lib\\site-packages\\torch\\utils\\data\\_utils\\fetch.py\", line 44, in fetch\n",
      "    data = [self.dataset[idx] for idx in possibly_batched_index]\n",
      "  File \"C:\\Users\\pha\\anaconda3\\envs\\cnn\\lib\\site-packages\\torch\\utils\\data\\_utils\\fetch.py\", line 44, in <listcomp>\n",
      "    data = [self.dataset[idx] for idx in possibly_batched_index]\n",
      "  File \"G:\\My Drive\\brain_data\\workspace\\3DCNN_sMRI\\sage\\data\\dataloader.py\", line 149, in __getitem__\n",
      "  File \"C:\\Users\\pha\\anaconda3\\envs\\cnn\\lib\\site-packages\\numpy\\lib\\npyio.py\", line 416, in load\n",
      "    fid = stack.enter_context(open(os_fspath(file), \"rb\"))\n",
      "FileNotFoundError: [Errno 2] No such file or directory: 'G:\\\\My Drive\\\\brain_data\\\\brainmask_mni\\\\sub-OAS30829_ses-d5823_run-03_T1w.npy'\n",
      "\n",
      "During handling of the above exception, another exception occurred:\n",
      "\n",
      "Traceback (most recent call last):\n",
      "  File \"C:\\Users\\pha\\anaconda3\\envs\\cnn\\lib\\logging\\__init__.py\", line 1085, in emit\n",
      "    self.flush()\n",
      "  File \"C:\\Users\\pha\\anaconda3\\envs\\cnn\\lib\\logging\\__init__.py\", line 1065, in flush\n",
      "    self.stream.flush()\n",
      "OSError: [Errno 22] Invalid argument\n",
      "Call stack:\n",
      "  File \"C:\\Users\\pha\\anaconda3\\envs\\cnn\\lib\\threading.py\", line 890, in _bootstrap\n",
      "    self._bootstrap_inner()\n",
      "  File \"C:\\Users\\pha\\anaconda3\\envs\\cnn\\lib\\threading.py\", line 932, in _bootstrap_inner\n",
      "    self.run()\n",
      "  File \"C:\\Users\\pha\\anaconda3\\envs\\cnn\\lib\\threading.py\", line 870, in run\n",
      "    self._target(*self._args, **self._kwargs)\n",
      "  File \"C:\\Users\\pha\\anaconda3\\envs\\cnn\\lib\\site-packages\\wandb\\agents\\pyagent.py\", line 303, in _run_job\n",
      "    self._function()\n",
      "  File \"<ipython-input-3-a6ec39c2de33>\", line 29, in run_sweep\n",
      "    clear_output()\n",
      "  File \"C:\\Users\\pha\\anaconda3\\envs\\cnn\\lib\\site-packages\\wandb\\sdk\\wandb_run.py\", line 2332, in __exit__\n",
      "    self.finish(exit_code)\n",
      "  File \"C:\\Users\\pha\\anaconda3\\envs\\cnn\\lib\\site-packages\\wandb\\sdk\\wandb_run.py\", line 1208, in finish\n",
      "    logger.info(\"finishing run %s\", self.path)\n",
      "Message: 'finishing run %s'\n",
      "Arguments: ('1pha/3d_smri/mwm3fxzu',)\n",
      "Exception in thread Thread-110:\n",
      "Traceback (most recent call last):\n",
      "  File \"<ipython-input-3-a6ec39c2de33>\", line 27, in run_sweep\n",
      "  File \"G:\\My Drive\\brain_data\\workspace\\3DCNN_sMRI\\sage\\training\\runner.py\", line 68, in run\n",
      "  File \"G:\\My Drive\\brain_data\\workspace\\3DCNN_sMRI\\sage\\training\\runner.py\", line 19, in wrapper_fn\n",
      "  File \"G:\\My Drive\\brain_data\\workspace\\3DCNN_sMRI\\sage\\training\\runner.py\", line 143, in train\n",
      "  File \"C:\\Users\\pha\\anaconda3\\envs\\cnn\\lib\\site-packages\\torch\\utils\\data\\dataloader.py\", line 435, in __next__\n",
      "    data = self._next_data()\n",
      "  File \"C:\\Users\\pha\\anaconda3\\envs\\cnn\\lib\\site-packages\\torch\\utils\\data\\dataloader.py\", line 475, in _next_data\n",
      "    data = self._dataset_fetcher.fetch(index)  # may raise StopIteration\n",
      "  File \"C:\\Users\\pha\\anaconda3\\envs\\cnn\\lib\\site-packages\\torch\\utils\\data\\_utils\\fetch.py\", line 44, in fetch\n",
      "    data = [self.dataset[idx] for idx in possibly_batched_index]\n",
      "  File \"C:\\Users\\pha\\anaconda3\\envs\\cnn\\lib\\site-packages\\torch\\utils\\data\\_utils\\fetch.py\", line 44, in <listcomp>\n",
      "    data = [self.dataset[idx] for idx in possibly_batched_index]\n",
      "  File \"G:\\My Drive\\brain_data\\workspace\\3DCNN_sMRI\\sage\\data\\dataloader.py\", line 149, in __getitem__\n",
      "  File \"C:\\Users\\pha\\anaconda3\\envs\\cnn\\lib\\site-packages\\numpy\\lib\\npyio.py\", line 416, in load\n",
      "    fid = stack.enter_context(open(os_fspath(file), \"rb\"))\n",
      "FileNotFoundError: [Errno 2] No such file or directory: 'G:\\\\My Drive\\\\brain_data\\\\brainmask_mni\\\\sub-OAS30829_ses-d5823_run-03_T1w.npy'\n",
      "\n",
      "During handling of the above exception, another exception occurred:\n",
      "\n",
      "Traceback (most recent call last):\n",
      "  File \"C:\\Users\\pha\\anaconda3\\envs\\cnn\\lib\\logging\\__init__.py\", line 1154, in close\n",
      "    self.flush()\n",
      "  File \"C:\\Users\\pha\\anaconda3\\envs\\cnn\\lib\\logging\\__init__.py\", line 1065, in flush\n",
      "    self.stream.flush()\n",
      "OSError: [Errno 22] Invalid argument\n",
      "\n",
      "During handling of the above exception, another exception occurred:\n",
      "\n",
      "OSError: [Errno 22] Invalid argument\n",
      "\n",
      "During handling of the above exception, another exception occurred:\n",
      "\n",
      "Traceback (most recent call last):\n",
      "  File \"C:\\Users\\pha\\anaconda3\\envs\\cnn\\lib\\site-packages\\wandb\\agents\\pyagent.py\", line 303, in _run_job\n",
      "    self._function()\n",
      "  File \"<ipython-input-3-a6ec39c2de33>\", line 29, in run_sweep\n",
      "  File \"C:\\Users\\pha\\anaconda3\\envs\\cnn\\lib\\site-packages\\wandb\\sdk\\wandb_run.py\", line 2332, in __exit__\n",
      "    self.finish(exit_code)\n",
      "  File \"C:\\Users\\pha\\anaconda3\\envs\\cnn\\lib\\site-packages\\wandb\\sdk\\wandb_run.py\", line 1210, in finish\n",
      "    hook()\n",
      "  File \"C:\\Users\\pha\\anaconda3\\envs\\cnn\\lib\\site-packages\\wandb\\sdk\\wandb_init.py\", line 224, in <lambda>\n",
      "    lambda: (handler.close(), logger.removeHandler(handler))\n",
      "  File \"C:\\Users\\pha\\anaconda3\\envs\\cnn\\lib\\logging\\__init__.py\", line 1159, in close\n",
      "    stream.close()\n",
      "OSError: [Errno 22] Invalid argument\n",
      "\n",
      "During handling of the above exception, another exception occurred:\n",
      "\n",
      "Traceback (most recent call last):\n",
      "  File \"C:\\Users\\pha\\anaconda3\\envs\\cnn\\lib\\threading.py\", line 932, in _bootstrap_inner\n",
      "    self.run()\n",
      "  File \"C:\\Users\\pha\\anaconda3\\envs\\cnn\\lib\\threading.py\", line 870, in run\n",
      "    self._target(*self._args, **self._kwargs)\n",
      "  File \"C:\\Users\\pha\\anaconda3\\envs\\cnn\\lib\\site-packages\\wandb\\agents\\pyagent.py\", line 308, in _run_job\n",
      "    wandb.finish(exit_code=1)\n",
      "  File \"C:\\Users\\pha\\anaconda3\\envs\\cnn\\lib\\site-packages\\wandb\\sdk\\wandb_run.py\", line 2415, in finish\n",
      "    wandb.run.finish(exit_code=exit_code)\n",
      "  File \"C:\\Users\\pha\\anaconda3\\envs\\cnn\\lib\\site-packages\\wandb\\sdk\\wandb_run.py\", line 1208, in finish\n",
      "    logger.info(\"finishing run %s\", self.path)\n",
      "  File \"C:\\Users\\pha\\anaconda3\\envs\\cnn\\lib\\logging\\__init__.py\", line 1442, in info\n",
      "    self._log(INFO, msg, args, **kwargs)\n",
      "  File \"C:\\Users\\pha\\anaconda3\\envs\\cnn\\lib\\logging\\__init__.py\", line 1585, in _log\n",
      "    self.handle(record)\n",
      "  File \"C:\\Users\\pha\\anaconda3\\envs\\cnn\\lib\\logging\\__init__.py\", line 1595, in handle\n",
      "    self.callHandlers(record)\n",
      "  File \"C:\\Users\\pha\\anaconda3\\envs\\cnn\\lib\\logging\\__init__.py\", line 1657, in callHandlers\n",
      "    hdlr.handle(record)\n",
      "  File \"C:\\Users\\pha\\anaconda3\\envs\\cnn\\lib\\logging\\__init__.py\", line 950, in handle\n",
      "    self.emit(record)\n",
      "  File \"C:\\Users\\pha\\anaconda3\\envs\\cnn\\lib\\logging\\__init__.py\", line 1182, in emit\n",
      "    self.stream = self._open()\n",
      "  File \"C:\\Users\\pha\\anaconda3\\envs\\cnn\\lib\\logging\\__init__.py\", line 1172, in _open\n",
      "    return open(self.baseFilename, self.mode, encoding=self.encoding)\n",
      "FileNotFoundError: [Errno 2] No such file or directory: 'G:\\\\My Drive\\\\brain_data\\\\workspace\\\\3DCNN_sMRI\\\\wandb\\\\run-20210605_055150-mwm3fxzu\\\\logs\\\\debug.log'\n",
      "wandb: Sweep Agent: Waiting for job.\n",
      "wandb: Sweep Agent: Exiting.\n"
     ]
    }
   ],
   "source": [
    "wandb.agent(sweep_id, function=run_sweep)"
   ]
  },
  {
   "cell_type": "markdown",
   "metadata": {},
   "source": [
    "# UNLEARNING"
   ]
  },
  {
   "cell_type": "code",
   "execution_count": 1,
   "metadata": {
    "ExecuteTime": {
     "end_time": "2021-07-24T05:00:59.169344Z",
     "start_time": "2021-07-24T05:00:55.927235Z"
    }
   },
   "outputs": [],
   "source": [
    "import os\n",
    "import wandb\n",
    "\n",
    "from sage.config import *\n",
    "from sage.training import unlearner\n",
    "\n",
    "from utils.misc import seed_everything, get_today"
   ]
  },
  {
   "cell_type": "code",
   "execution_count": 2,
   "metadata": {
    "ExecuteTime": {
     "end_time": "2021-07-24T05:00:59.199343Z",
     "start_time": "2021-07-24T05:00:59.170340Z"
    }
   },
   "outputs": [],
   "source": [
    "cfg = load_config()\n",
    "seed_everything(cfg.seed)\n",
    "cfg.registration = 'mni'\n",
    "cfg.unused_src = ['Oasis1', 'Oasis3']\n",
    "\n",
    "cfg.unlearn = True\n",
    "cfg.unlearn_cfg.encoder.name = 'resnet'\n",
    "cfg.loss = 'rmse'\n",
    "\n",
    "cfg.unlearn_cfg.opt_conf.point = 0\n",
    "cfg.unlearn_cfg.domainer.num_dbs = 4 - len(cfg.unused_src)"
   ]
  },
  {
   "cell_type": "code",
   "execution_count": 3,
   "metadata": {
    "ExecuteTime": {
     "end_time": "2021-07-24T05:00:59.214339Z",
     "start_time": "2021-07-24T05:00:59.202356Z"
    }
   },
   "outputs": [],
   "source": [
    "name = 'Grad_zero_test_venvcnn_amp_correct'\n",
    "cfg.RESULT_PATH = os.path.join(cfg.RESULT_PATH, name + get_today())"
   ]
  },
  {
   "cell_type": "code",
   "execution_count": 4,
   "metadata": {
    "ExecuteTime": {
     "end_time": "2021-07-24T05:00:59.229341Z",
     "start_time": "2021-07-24T05:00:59.216340Z"
    }
   },
   "outputs": [],
   "source": [
    "tags = ['amp', f'num_db-{cfg.unlearn_cfg.domainer.num_dbs}']"
   ]
  },
  {
   "cell_type": "code",
   "execution_count": 5,
   "metadata": {
    "ExecuteTime": {
     "end_time": "2021-07-24T05:01:07.875647Z",
     "start_time": "2021-07-24T05:00:59.231341Z"
    }
   },
   "outputs": [
    {
     "name": "stderr",
     "output_type": "stream",
     "text": [
      "wandb: Currently logged in as: 1pha (use `wandb login --relogin` to force relogin)\n"
     ]
    },
    {
     "data": {
      "text/html": [
       "\n",
       "                Tracking run with wandb version 0.11.0<br/>\n",
       "                Syncing run <strong style=\"color:#cdcd00\">Grad_zero_test_venvcnn_amp_correct</strong> to <a href=\"https://wandb.ai\" target=\"_blank\">Weights & Biases</a> <a href=\"https://docs.wandb.com/integrations/jupyter.html\" target=\"_blank\">(Documentation)</a>.<br/>\n",
       "                Project page: <a href=\"https://wandb.ai/1pha/3d_smri_unlearning\" target=\"_blank\">https://wandb.ai/1pha/3d_smri_unlearning</a><br/>\n",
       "                Run page: <a href=\"https://wandb.ai/1pha/3d_smri_unlearning/runs/3djys8ru\" target=\"_blank\">https://wandb.ai/1pha/3d_smri_unlearning/runs/3djys8ru</a><br/>\n",
       "                Run data is saved locally in <code>G:\\My Drive\\brain_data\\workspace\\3DCNN_sMRI\\wandb\\run-20210724_140100-3djys8ru</code><br/><br/>\n",
       "            "
      ],
      "text/plain": [
       "<IPython.core.display.HTML object>"
      ]
     },
     "metadata": {},
     "output_type": "display_data"
    },
    {
     "data": {
      "text/html": [
       "<h1>Run(3djys8ru)</h1><iframe src=\"https://wandb.ai/1pha/3d_smri_unlearning/runs/3djys8ru\" style=\"border:none;width:100%;height:400px\"></iframe>"
      ],
      "text/plain": [
       "<wandb.sdk.wandb_run.Run at 0x2b8e9a1afa0>"
      ]
     },
     "execution_count": 5,
     "metadata": {},
     "output_type": "execute_result"
    }
   ],
   "source": [
    "wandb.login()\n",
    "wandb.init(project='3d_smri_unlearning',\n",
    "           config=vars(cfg),\n",
    "           name=name,\n",
    "           tags=tags\n",
    "  )"
   ]
  },
  {
   "cell_type": "code",
   "execution_count": 6,
   "metadata": {
    "ExecuteTime": {
     "end_time": "2021-07-24T05:01:12.082140Z",
     "start_time": "2021-07-24T05:01:07.877646Z"
    },
    "scrolled": true
   },
   "outputs": [
    {
     "name": "stdout",
     "output_type": "stream",
     "text": [
      "Use cuda:0 as a device.\n",
      "Output from encoder is 128.\n",
      "TOTAL TRAIN 468 | VALID 117\n",
      "Epoch 1 / 100, BEST MAE inf\n",
      " opt_age: True  opt_dom: True  opt_conf: True \n"
     ]
    },
    {
     "ename": "RuntimeError",
     "evalue": "one of the variables needed for gradient computation has been modified by an inplace operation: [torch.cuda.FloatTensor [128]] is at version 3; expected version 2 instead. Hint: the backtrace further above shows the operation that failed to compute its gradient. The variable in question was changed in there or anywhere later. Good luck!",
     "output_type": "error",
     "traceback": [
      "\u001b[1;31m---------------------------------------------------------------------------\u001b[0m",
      "\u001b[1;31mRuntimeError\u001b[0m                              Traceback (most recent call last)",
      "\u001b[1;32m<ipython-input-6-e56ed257e638>\u001b[0m in \u001b[0;36m<module>\u001b[1;34m\u001b[0m\n\u001b[1;32m----> 1\u001b[1;33m \u001b[0munlearner\u001b[0m\u001b[1;33m.\u001b[0m\u001b[0mrun\u001b[0m\u001b[1;33m(\u001b[0m\u001b[0mcfg\u001b[0m\u001b[1;33m)\u001b[0m\u001b[1;33m\u001b[0m\u001b[1;33m\u001b[0m\u001b[0m\n\u001b[0m",
      "\u001b[1;32mG:\\My Drive\\brain_data\\workspace\\3DCNN_sMRI\\sage\\training\\unlearner.py\u001b[0m in \u001b[0;36mrun\u001b[1;34m(cfg, checkpoint)\u001b[0m\n\u001b[0;32m     98\u001b[0m         \u001b[0mprint\u001b[0m\u001b[1;33m(\u001b[0m\u001b[1;34mf'Epoch {e + 1} / {cfg.epochs}, BEST MAE {best_mae:.3f}'\u001b[0m\u001b[1;33m)\u001b[0m\u001b[1;33m\u001b[0m\u001b[1;33m\u001b[0m\u001b[0m\n\u001b[0;32m     99\u001b[0m         \u001b[0mcfg\u001b[0m\u001b[1;33m.\u001b[0m\u001b[0munlearn_cfg\u001b[0m \u001b[1;33m=\u001b[0m \u001b[0mset_point\u001b[0m\u001b[1;33m(\u001b[0m\u001b[0mcfg\u001b[0m\u001b[1;33m.\u001b[0m\u001b[0munlearn_cfg\u001b[0m\u001b[1;33m,\u001b[0m \u001b[0me\u001b[0m\u001b[1;33m)\u001b[0m\u001b[1;33m\u001b[0m\u001b[1;33m\u001b[0m\u001b[0m\n\u001b[1;32m--> 100\u001b[1;33m         \u001b[0mtrn_loss\u001b[0m\u001b[1;33m,\u001b[0m \u001b[1;33m(\u001b[0m\u001b[0mtrn_metrics\u001b[0m\u001b[1;33m,\u001b[0m \u001b[0mtrn_dom\u001b[0m\u001b[1;33m)\u001b[0m\u001b[1;33m,\u001b[0m \u001b[0mtrn_pred\u001b[0m \u001b[1;33m=\u001b[0m \u001b[0mtrain\u001b[0m\u001b[1;33m(\u001b[0m\u001b[0mmodels\u001b[0m\u001b[1;33m.\u001b[0m\u001b[0mvalues\u001b[0m\u001b[1;33m(\u001b[0m\u001b[1;33m)\u001b[0m\u001b[1;33m,\u001b[0m \u001b[0moptimizers\u001b[0m\u001b[1;33m,\u001b[0m \u001b[0mscaler\u001b[0m\u001b[1;33m,\u001b[0m \u001b[0mcfg\u001b[0m\u001b[1;33m)\u001b[0m\u001b[1;33m\u001b[0m\u001b[1;33m\u001b[0m\u001b[0m\n\u001b[0m\u001b[0;32m    101\u001b[0m         \u001b[0mval_loss\u001b[0m\u001b[1;33m,\u001b[0m \u001b[1;33m(\u001b[0m\u001b[0mval_metrics\u001b[0m\u001b[1;33m,\u001b[0m \u001b[0mval_dom\u001b[0m\u001b[1;33m)\u001b[0m\u001b[1;33m,\u001b[0m \u001b[0mtst_pred\u001b[0m \u001b[1;33m=\u001b[0m \u001b[0mvalid\u001b[0m\u001b[1;33m(\u001b[0m\u001b[0mmodels\u001b[0m\u001b[1;33m.\u001b[0m\u001b[0mvalues\u001b[0m\u001b[1;33m(\u001b[0m\u001b[1;33m)\u001b[0m\u001b[1;33m,\u001b[0m \u001b[0mcfg\u001b[0m\u001b[1;33m)\u001b[0m\u001b[1;33m\u001b[0m\u001b[1;33m\u001b[0m\u001b[0m\n\u001b[0;32m    102\u001b[0m         \u001b[0mdisp_metrics\u001b[0m\u001b[1;33m(\u001b[0m\u001b[0mtrn_loss\u001b[0m\u001b[1;33m,\u001b[0m \u001b[0mtrn_metrics\u001b[0m\u001b[1;33m,\u001b[0m \u001b[0mval_loss\u001b[0m\u001b[1;33m,\u001b[0m \u001b[0mval_metrics\u001b[0m\u001b[1;33m,\u001b[0m \u001b[0mtrn_dom\u001b[0m\u001b[1;33m,\u001b[0m \u001b[0mval_dom\u001b[0m\u001b[1;33m)\u001b[0m\u001b[1;33m\u001b[0m\u001b[1;33m\u001b[0m\u001b[0m\n",
      "\u001b[1;32mG:\\My Drive\\brain_data\\workspace\\3DCNN_sMRI\\sage\\training\\unlearner.py\u001b[0m in \u001b[0;36mwrapper_fn\u001b[1;34m(*args, **kwargs)\u001b[0m\n\u001b[0;32m     15\u001b[0m     \u001b[1;32mdef\u001b[0m \u001b[0mwrapper_fn\u001b[0m\u001b[1;33m(\u001b[0m\u001b[1;33m*\u001b[0m\u001b[0margs\u001b[0m\u001b[1;33m,\u001b[0m \u001b[1;33m**\u001b[0m\u001b[0mkwargs\u001b[0m\u001b[1;33m)\u001b[0m\u001b[1;33m:\u001b[0m\u001b[1;33m\u001b[0m\u001b[1;33m\u001b[0m\u001b[0m\n\u001b[0;32m     16\u001b[0m         \u001b[0mstart_time\u001b[0m \u001b[1;33m=\u001b[0m \u001b[0mtime\u001b[0m\u001b[1;33m.\u001b[0m\u001b[0mtime\u001b[0m\u001b[1;33m(\u001b[0m\u001b[1;33m)\u001b[0m\u001b[1;33m\u001b[0m\u001b[1;33m\u001b[0m\u001b[0m\n\u001b[1;32m---> 17\u001b[1;33m         \u001b[0mresult\u001b[0m \u001b[1;33m=\u001b[0m \u001b[0moriginal_fn\u001b[0m\u001b[1;33m(\u001b[0m\u001b[1;33m*\u001b[0m\u001b[0margs\u001b[0m\u001b[1;33m,\u001b[0m \u001b[1;33m**\u001b[0m\u001b[0mkwargs\u001b[0m\u001b[1;33m)\u001b[0m\u001b[1;33m\u001b[0m\u001b[1;33m\u001b[0m\u001b[0m\n\u001b[0m\u001b[0;32m     18\u001b[0m         \u001b[0mend_time\u001b[0m \u001b[1;33m=\u001b[0m \u001b[0mtime\u001b[0m\u001b[1;33m.\u001b[0m\u001b[0mtime\u001b[0m\u001b[1;33m(\u001b[0m\u001b[1;33m)\u001b[0m\u001b[1;33m\u001b[0m\u001b[1;33m\u001b[0m\u001b[0m\n\u001b[0;32m     19\u001b[0m         \u001b[0mend\u001b[0m \u001b[1;33m=\u001b[0m \u001b[1;34m''\u001b[0m \u001b[1;32mif\u001b[0m \u001b[0moriginal_fn\u001b[0m\u001b[1;33m.\u001b[0m\u001b[0m__name__\u001b[0m\u001b[1;33m==\u001b[0m\u001b[1;34m'train'\u001b[0m \u001b[1;32melse\u001b[0m \u001b[1;34m'\\n'\u001b[0m\u001b[1;33m\u001b[0m\u001b[1;33m\u001b[0m\u001b[0m\n",
      "\u001b[1;32mG:\\My Drive\\brain_data\\workspace\\3DCNN_sMRI\\sage\\training\\unlearner.py\u001b[0m in \u001b[0;36mtrain\u001b[1;34m(models, optimizers, scaler, cfg, dataloader)\u001b[0m\n\u001b[0;32m    232\u001b[0m                     \u001b[0mloss_conf\u001b[0m \u001b[1;33m=\u001b[0m \u001b[0mcfg\u001b[0m\u001b[1;33m.\u001b[0m\u001b[0munlearn_cfg\u001b[0m\u001b[1;33m.\u001b[0m\u001b[0mbeta\u001b[0m \u001b[1;33m*\u001b[0m \u001b[0mget_metric\u001b[0m\u001b[1;33m(\u001b[0m\u001b[0md_pred_conf\u001b[0m\u001b[1;33m,\u001b[0m \u001b[0md\u001b[0m\u001b[1;33m,\u001b[0m \u001b[1;34m'confusion'\u001b[0m\u001b[1;33m)\u001b[0m\u001b[1;33m\u001b[0m\u001b[1;33m\u001b[0m\u001b[0m\n\u001b[0;32m    233\u001b[0m \u001b[1;33m\u001b[0m\u001b[0m\n\u001b[1;32m--> 234\u001b[1;33m                 \u001b[0mscaler\u001b[0m\u001b[1;33m.\u001b[0m\u001b[0mscale\u001b[0m\u001b[1;33m(\u001b[0m\u001b[0mloss_conf\u001b[0m\u001b[1;33m)\u001b[0m\u001b[1;33m.\u001b[0m\u001b[0mbackward\u001b[0m\u001b[1;33m(\u001b[0m\u001b[1;33m)\u001b[0m\u001b[1;33m\u001b[0m\u001b[1;33m\u001b[0m\u001b[0m\n\u001b[0m\u001b[0;32m    235\u001b[0m                 \u001b[0mscaler\u001b[0m\u001b[1;33m.\u001b[0m\u001b[0mstep\u001b[0m\u001b[1;33m(\u001b[0m\u001b[0mopt_conf\u001b[0m\u001b[1;33m)\u001b[0m\u001b[1;33m\u001b[0m\u001b[1;33m\u001b[0m\u001b[0m\n\u001b[0;32m    236\u001b[0m                 \u001b[0mscaler\u001b[0m\u001b[1;33m.\u001b[0m\u001b[0mupdate\u001b[0m\u001b[1;33m(\u001b[0m\u001b[1;33m)\u001b[0m\u001b[1;33m\u001b[0m\u001b[1;33m\u001b[0m\u001b[0m\n",
      "\u001b[1;32m~\\anaconda3\\envs\\cnn\\lib\\site-packages\\torch\\tensor.py\u001b[0m in \u001b[0;36mbackward\u001b[1;34m(self, gradient, retain_graph, create_graph)\u001b[0m\n\u001b[0;32m    219\u001b[0m                 \u001b[0mretain_graph\u001b[0m\u001b[1;33m=\u001b[0m\u001b[0mretain_graph\u001b[0m\u001b[1;33m,\u001b[0m\u001b[1;33m\u001b[0m\u001b[1;33m\u001b[0m\u001b[0m\n\u001b[0;32m    220\u001b[0m                 create_graph=create_graph)\n\u001b[1;32m--> 221\u001b[1;33m         \u001b[0mtorch\u001b[0m\u001b[1;33m.\u001b[0m\u001b[0mautograd\u001b[0m\u001b[1;33m.\u001b[0m\u001b[0mbackward\u001b[0m\u001b[1;33m(\u001b[0m\u001b[0mself\u001b[0m\u001b[1;33m,\u001b[0m \u001b[0mgradient\u001b[0m\u001b[1;33m,\u001b[0m \u001b[0mretain_graph\u001b[0m\u001b[1;33m,\u001b[0m \u001b[0mcreate_graph\u001b[0m\u001b[1;33m)\u001b[0m\u001b[1;33m\u001b[0m\u001b[1;33m\u001b[0m\u001b[0m\n\u001b[0m\u001b[0;32m    222\u001b[0m \u001b[1;33m\u001b[0m\u001b[0m\n\u001b[0;32m    223\u001b[0m     \u001b[1;32mdef\u001b[0m \u001b[0mregister_hook\u001b[0m\u001b[1;33m(\u001b[0m\u001b[0mself\u001b[0m\u001b[1;33m,\u001b[0m \u001b[0mhook\u001b[0m\u001b[1;33m)\u001b[0m\u001b[1;33m:\u001b[0m\u001b[1;33m\u001b[0m\u001b[1;33m\u001b[0m\u001b[0m\n",
      "\u001b[1;32m~\\anaconda3\\envs\\cnn\\lib\\site-packages\\torch\\autograd\\__init__.py\u001b[0m in \u001b[0;36mbackward\u001b[1;34m(tensors, grad_tensors, retain_graph, create_graph, grad_variables)\u001b[0m\n\u001b[0;32m    128\u001b[0m         \u001b[0mretain_graph\u001b[0m \u001b[1;33m=\u001b[0m \u001b[0mcreate_graph\u001b[0m\u001b[1;33m\u001b[0m\u001b[1;33m\u001b[0m\u001b[0m\n\u001b[0;32m    129\u001b[0m \u001b[1;33m\u001b[0m\u001b[0m\n\u001b[1;32m--> 130\u001b[1;33m     Variable._execution_engine.run_backward(\n\u001b[0m\u001b[0;32m    131\u001b[0m         \u001b[0mtensors\u001b[0m\u001b[1;33m,\u001b[0m \u001b[0mgrad_tensors_\u001b[0m\u001b[1;33m,\u001b[0m \u001b[0mretain_graph\u001b[0m\u001b[1;33m,\u001b[0m \u001b[0mcreate_graph\u001b[0m\u001b[1;33m,\u001b[0m\u001b[1;33m\u001b[0m\u001b[1;33m\u001b[0m\u001b[0m\n\u001b[0;32m    132\u001b[0m         allow_unreachable=True)  # allow_unreachable flag\n",
      "\u001b[1;31mRuntimeError\u001b[0m: one of the variables needed for gradient computation has been modified by an inplace operation: [torch.cuda.FloatTensor [128]] is at version 3; expected version 2 instead. Hint: the backtrace further above shows the operation that failed to compute its gradient. The variable in question was changed in there or anywhere later. Good luck!"
     ]
    }
   ],
   "source": [
    "unlearner.run(cfg)"
   ]
  },
  {
   "cell_type": "markdown",
   "metadata": {},
   "source": [
    "## TRIALS"
   ]
  },
  {
   "cell_type": "code",
   "execution_count": 1,
   "metadata": {
    "ExecuteTime": {
     "end_time": "2021-07-24T07:44:23.302140Z",
     "start_time": "2021-07-24T07:44:22.629143Z"
    }
   },
   "outputs": [],
   "source": [
    "from itertools import chain\n",
    "\n",
    "import torch\n",
    "import torch.nn as nn"
   ]
  },
  {
   "cell_type": "code",
   "execution_count": 2,
   "metadata": {
    "ExecuteTime": {
     "end_time": "2021-07-24T07:44:23.317654Z",
     "start_time": "2021-07-24T07:44:23.304141Z"
    }
   },
   "outputs": [],
   "source": [
    "class FeatureExtractor(nn.Module):\n",
    "    \n",
    "    def __init__(self, cfg=None, init=False):\n",
    "        \n",
    "        super().__init__()\n",
    "        self.cfg = cfg\n",
    "        self.layers = nn.Sequential(\n",
    "            nn.Linear(4, 3, bias=False),            \n",
    "            nn.Linear(3, 2, bias=False),\n",
    "        )\n",
    "        if init:\n",
    "            nn.init.constant_(self.layers[0].weight, 1)\n",
    "            nn.init.constant_(self.layers[1].weight, 2)\n",
    "        \n",
    "        \n",
    "    def forward(self, x):\n",
    "        \n",
    "        out = self.layers(x)\n",
    "        return out"
   ]
  },
  {
   "cell_type": "code",
   "execution_count": 3,
   "metadata": {
    "ExecuteTime": {
     "end_time": "2021-07-24T07:44:23.332658Z",
     "start_time": "2021-07-24T07:44:23.319655Z"
    }
   },
   "outputs": [],
   "source": [
    "class Predictor(nn.Module):\n",
    "    \n",
    "    def __init__(self, cfg=None, last_node=1, init=False):\n",
    "        \n",
    "        super().__init__()\n",
    "        self.cfg = cfg\n",
    "        self.layers = nn.Sequential(\n",
    "            nn.Linear(2, last_node, bias=False),\n",
    "        )\n",
    "        if init:  \n",
    "            nn.init.constant_(self.layers[0].weight, 3)\n",
    "\n",
    "    def forward(self, x):\n",
    "        \n",
    "        out = self.layers(x)\n",
    "        return out"
   ]
  },
  {
   "cell_type": "code",
   "execution_count": 4,
   "metadata": {
    "ExecuteTime": {
     "end_time": "2021-07-24T07:44:24.594894Z",
     "start_time": "2021-07-24T07:44:23.337659Z"
    }
   },
   "outputs": [],
   "source": [
    "device = torch.device('cuda' if torch.cuda.is_available() else 'cpu')\n",
    "fe = FeatureExtractor(init=True).to(device)\n",
    "reg = Predictor(last_node=1, init=True).to(device)\n",
    "clf = Predictor(last_node=2, init=True).to(device)"
   ]
  },
  {
   "cell_type": "code",
   "execution_count": 21,
   "metadata": {
    "ExecuteTime": {
     "end_time": "2021-07-24T07:48:32.693422Z",
     "start_time": "2021-07-24T07:48:32.685806Z"
    }
   },
   "outputs": [],
   "source": [
    "from sklearn.datasets import make_regression\n",
    "from sklearn.preprocessing import StandardScaler\n",
    "\n",
    "n_samples = 4\n",
    "n_features = 4\n",
    "n_classes = 2\n",
    "X, y = make_regression(\n",
    "    n_samples=n_samples,\n",
    "    n_features=n_features,\n",
    ")\n",
    "y = StandardScaler().fit_transform(y.reshape(-1, 1)).reshape(-1)\n",
    "\n",
    "sample_batch = torch.tensor(X, dtype=torch.float).to(device)\n",
    "sample_float = torch.tensor(y, dtype=torch.float).to(device)"
   ]
  },
  {
   "cell_type": "code",
   "execution_count": 44,
   "metadata": {
    "ExecuteTime": {
     "end_time": "2021-07-24T07:52:41.610890Z",
     "start_time": "2021-07-24T07:52:41.581859Z"
    }
   },
   "outputs": [],
   "source": [
    "# sample_batch = torch.rand((256, 4)).to(device)\n",
    "# # sample_batch = torch.ones((256, 4)).to(device)\n",
    "# sample_float = torch.rand((256,)).to(device)\n",
    "sample_label = torch.randint(low=0, high=2, size=(4,)).to(device)\n",
    "sample_label_onehot = torch.zeros((n_samples, n_classes)).to(device)\n",
    "sample_label_onehot[range(n_samples), sample_label] = 1"
   ]
  },
  {
   "cell_type": "code",
   "execution_count": 45,
   "metadata": {
    "ExecuteTime": {
     "end_time": "2021-07-24T07:52:41.869613Z",
     "start_time": "2021-07-24T07:52:41.859613Z"
    }
   },
   "outputs": [],
   "source": [
    "def get_optimizer(models):\n",
    "\n",
    "    if isinstance(models, nn.Module):\n",
    "        params = models.parameters()\n",
    "    else:\n",
    "        params = list(chain(*([list(m.parameters()) for m in models])))\n",
    "\n",
    "    optimizer = torch.optim.Adam(params, lr=1e-4)\n",
    "    optimizer.zero_grad()\n",
    "    \n",
    "    return optimizer\n",
    "\n",
    "class confusion_loss(nn.Module):\n",
    "    def __init__(self, task=0):\n",
    "        super(confusion_loss, self).__init__()\n",
    "        self.task = task\n",
    "\n",
    "    def forward(self, x, target):\n",
    "        # We only care about x\n",
    "        log = torch.log(x)\n",
    "        log_sum = torch.sum(log, dim=1)\n",
    "        normalised_log_sum = torch.div(log_sum,  x.size()[1])\n",
    "        loss = torch.mul(torch.sum(normalised_log_sum, dim=0), -1)\n",
    "        return loss"
   ]
  },
  {
   "cell_type": "code",
   "execution_count": 46,
   "metadata": {
    "ExecuteTime": {
     "end_time": "2021-07-24T07:52:42.096736Z",
     "start_time": "2021-07-24T07:52:42.091734Z"
    }
   },
   "outputs": [],
   "source": [
    "opt_reg = get_optimizer([fe, reg])\n",
    "opt_dom = get_optimizer([clf])\n",
    "opt_conf = get_optimizer([fe])\n",
    "\n",
    "loss_fn_reg = nn.MSELoss()\n",
    "loss_fn_dom = nn.BCEWithLogitsLoss()\n",
    "loss_fn_conf = confusion_loss()"
   ]
  },
  {
   "cell_type": "code",
   "execution_count": 47,
   "metadata": {
    "ExecuteTime": {
     "end_time": "2021-07-24T07:52:42.581615Z",
     "start_time": "2021-07-24T07:52:42.319456Z"
    }
   },
   "outputs": [],
   "source": [
    "losses = list()\n",
    "for e in range(100):\n",
    "    \n",
    "    # TRAIN\n",
    "    fe.train()\n",
    "    reg.train()\n",
    "    clf.train()\n",
    "    \n",
    "    # 1. AGE PREDICTION\n",
    "    opt_reg.zero_grad()\n",
    "    embed = fe(sample_batch)\n",
    "    y_pred = reg(embed)\n",
    "    loss = loss_fn_reg(y_pred.squeeze(), sample_float)\n",
    "    losses.append(loss.item())\n",
    "    \n",
    "    loss.backward()\n",
    "    opt_reg.step()\n",
    "    \n",
    "    # 2. DOMAIN PREDICTION\n",
    "    opt_dom.zero_grad()\n",
    "    d_pred = clf(embed.detach())\n",
    "    loss_dom = loss_fn_dom(d_pred, sample_label_onehot)\n",
    "    \n",
    "    loss_dom.backward()\n",
    "    opt_dom.step()\n",
    "    \n",
    "    # 3. UNLEARNING\n",
    "    opt_conf.zero_grad()\n",
    "    d_conf = clf(embed.detach())\n",
    "    loss_conf = loss_fn_conf(d_conf, sample_label)\n",
    "    \n",
    "    loss_conf.backward()\n",
    "    opt_conf.step()"
   ]
  },
  {
   "cell_type": "code",
   "execution_count": 48,
   "metadata": {
    "ExecuteTime": {
     "end_time": "2021-07-24T07:52:43.494069Z",
     "start_time": "2021-07-24T07:52:43.485068Z"
    }
   },
   "outputs": [
    {
     "data": {
      "text/plain": [
       "tensor([[ -5.6110,  -5.6116],\n",
       "        [ -8.2645,  -8.2653],\n",
       "        [-30.3303, -30.3333],\n",
       "        [-36.0828, -36.0864]], device='cuda:0', grad_fn=<MmBackward>)"
      ]
     },
     "execution_count": 48,
     "metadata": {},
     "output_type": "execute_result"
    }
   ],
   "source": [
    "d_pred"
   ]
  },
  {
   "cell_type": "code",
   "execution_count": 49,
   "metadata": {
    "ExecuteTime": {
     "end_time": "2021-07-24T07:52:44.754796Z",
     "start_time": "2021-07-24T07:52:44.740302Z"
    }
   },
   "outputs": [
    {
     "data": {
      "text/plain": [
       "tensor([[189.7018, 189.7018]], device='cuda:0')"
      ]
     },
     "execution_count": 49,
     "metadata": {},
     "output_type": "execute_result"
    }
   ],
   "source": [
    "list(reg.parameters())[0].grad"
   ]
  },
  {
   "cell_type": "code",
   "execution_count": 50,
   "metadata": {
    "ExecuteTime": {
     "end_time": "2021-07-24T07:52:44.966432Z",
     "start_time": "2021-07-24T07:52:44.951463Z"
    }
   },
   "outputs": [
    {
     "data": {
      "text/plain": [
       "OrderedDict([('layers.0.weight',\n",
       "              tensor([[1.0075, 0.9903, 0.9897, 1.0097],\n",
       "                      [1.0075, 0.9903, 0.9897, 1.0097],\n",
       "                      [1.0075, 0.9903, 0.9897, 1.0097]], device='cuda:0')),\n",
       "             ('layers.1.weight',\n",
       "              tensor([[1.9898, 1.9898, 1.9898],\n",
       "                      [1.9898, 1.9898, 1.9898]], device='cuda:0'))])"
      ]
     },
     "execution_count": 50,
     "metadata": {},
     "output_type": "execute_result"
    }
   ],
   "source": [
    "fe.state_dict()"
   ]
  },
  {
   "cell_type": "code",
   "execution_count": 52,
   "metadata": {
    "ExecuteTime": {
     "end_time": "2021-07-24T07:52:48.424916Z",
     "start_time": "2021-07-24T07:52:48.396309Z"
    }
   },
   "outputs": [
    {
     "data": {
      "text/plain": [
       "{'defaults': {'lr': 0.0001,\n",
       "  'betas': (0.9, 0.999),\n",
       "  'eps': 1e-08,\n",
       "  'weight_decay': 0,\n",
       "  'amsgrad': False},\n",
       " 'state': defaultdict(dict,\n",
       "             {Parameter containing:\n",
       "              tensor([[1.0075, 0.9903, 0.9897, 1.0097],\n",
       "                      [1.0075, 0.9903, 0.9897, 1.0097],\n",
       "                      [1.0075, 0.9903, 0.9897, 1.0097]], device='cuda:0', requires_grad=True): {'step': 100,\n",
       "               'exp_avg': tensor([[  -3.8777,   28.1076,  629.8959, -265.3368],\n",
       "                       [  -3.8777,   28.1076,  629.8959, -265.3368],\n",
       "                       [  -3.8777,   28.1076,  629.8959, -265.3368]], device='cuda:0'),\n",
       "               'exp_avg_sq': tensor([[7.2148e+00, 7.3972e+01, 3.9607e+04, 6.9057e+03],\n",
       "                       [7.2148e+00, 7.3972e+01, 3.9607e+04, 6.9057e+03],\n",
       "                       [7.2148e+00, 7.3972e+01, 3.9607e+04, 6.9057e+03]], device='cuda:0')},\n",
       "              Parameter containing:\n",
       "              tensor([[1.9898, 1.9898, 1.9898],\n",
       "                      [1.9898, 1.9898, 1.9898]], device='cuda:0', requires_grad=True): {'step': 100,\n",
       "               'exp_avg': tensor([[95.5300, 95.5300, 95.5300],\n",
       "                       [95.5300, 95.5300, 95.5300]], device='cuda:0'),\n",
       "               'exp_avg_sq': tensor([[912.5107, 912.5107, 912.5107],\n",
       "                       [912.5107, 912.5107, 912.5107]], device='cuda:0')},\n",
       "              Parameter containing:\n",
       "              tensor([[2.9898, 2.9898]], device='cuda:0', requires_grad=True): {'step': 100,\n",
       "               'exp_avg': tensor([[190.7643, 190.7643]], device='cuda:0'),\n",
       "               'exp_avg_sq': tensor([[3643.6492, 3643.6492]], device='cuda:0')}}),\n",
       " 'param_groups': [{'params': [Parameter containing:\n",
       "    tensor([[1.0075, 0.9903, 0.9897, 1.0097],\n",
       "            [1.0075, 0.9903, 0.9897, 1.0097],\n",
       "            [1.0075, 0.9903, 0.9897, 1.0097]], device='cuda:0', requires_grad=True),\n",
       "    Parameter containing:\n",
       "    tensor([[1.9898, 1.9898, 1.9898],\n",
       "            [1.9898, 1.9898, 1.9898]], device='cuda:0', requires_grad=True),\n",
       "    Parameter containing:\n",
       "    tensor([[2.9898, 2.9898]], device='cuda:0', requires_grad=True)],\n",
       "   'lr': 0.0001,\n",
       "   'betas': (0.9, 0.999),\n",
       "   'eps': 1e-08,\n",
       "   'weight_decay': 0,\n",
       "   'amsgrad': False}]}"
      ]
     },
     "execution_count": 52,
     "metadata": {},
     "output_type": "execute_result"
    }
   ],
   "source": [
    "vars(opt_reg)"
   ]
  },
  {
   "cell_type": "code",
   "execution_count": 62,
   "metadata": {
    "ExecuteTime": {
     "end_time": "2021-07-24T07:53:53.599590Z",
     "start_time": "2021-07-24T07:53:53.588559Z"
    }
   },
   "outputs": [
    {
     "data": {
      "text/plain": [
       "tensor([[189.7018, 189.7018]], device='cuda:0')"
      ]
     },
     "execution_count": 62,
     "metadata": {},
     "output_type": "execute_result"
    }
   ],
   "source": [
    "next(reg.parameters()).grad"
   ]
  },
  {
   "cell_type": "code",
   "execution_count": 56,
   "metadata": {
    "ExecuteTime": {
     "end_time": "2021-07-24T07:53:11.893565Z",
     "start_time": "2021-07-24T07:53:11.875530Z"
    }
   },
   "outputs": [
    {
     "data": {
      "text/plain": [
       "defaultdict(dict,\n",
       "            {Parameter containing:\n",
       "             tensor([[1.0075, 0.9903, 0.9897, 1.0097],\n",
       "                     [1.0075, 0.9903, 0.9897, 1.0097],\n",
       "                     [1.0075, 0.9903, 0.9897, 1.0097]], device='cuda:0', requires_grad=True): {'step': 100,\n",
       "              'exp_avg': tensor([[  -3.8777,   28.1076,  629.8959, -265.3368],\n",
       "                      [  -3.8777,   28.1076,  629.8959, -265.3368],\n",
       "                      [  -3.8777,   28.1076,  629.8959, -265.3368]], device='cuda:0'),\n",
       "              'exp_avg_sq': tensor([[7.2148e+00, 7.3972e+01, 3.9607e+04, 6.9057e+03],\n",
       "                      [7.2148e+00, 7.3972e+01, 3.9607e+04, 6.9057e+03],\n",
       "                      [7.2148e+00, 7.3972e+01, 3.9607e+04, 6.9057e+03]], device='cuda:0')},\n",
       "             Parameter containing:\n",
       "             tensor([[1.9898, 1.9898, 1.9898],\n",
       "                     [1.9898, 1.9898, 1.9898]], device='cuda:0', requires_grad=True): {'step': 100,\n",
       "              'exp_avg': tensor([[95.5300, 95.5300, 95.5300],\n",
       "                      [95.5300, 95.5300, 95.5300]], device='cuda:0'),\n",
       "              'exp_avg_sq': tensor([[912.5107, 912.5107, 912.5107],\n",
       "                      [912.5107, 912.5107, 912.5107]], device='cuda:0')},\n",
       "             Parameter containing:\n",
       "             tensor([[2.9898, 2.9898]], device='cuda:0', requires_grad=True): {'step': 100,\n",
       "              'exp_avg': tensor([[190.7643, 190.7643]], device='cuda:0'),\n",
       "              'exp_avg_sq': tensor([[3643.6492, 3643.6492]], device='cuda:0')}})"
      ]
     },
     "execution_count": 56,
     "metadata": {},
     "output_type": "execute_result"
    }
   ],
   "source": [
    "opt_reg.state"
   ]
  },
  {
   "cell_type": "code",
   "execution_count": 49,
   "metadata": {
    "ExecuteTime": {
     "end_time": "2021-07-24T06:38:57.535897Z",
     "start_time": "2021-07-24T06:38:57.519891Z"
    }
   },
   "outputs": [],
   "source": [
    "from graphviz import Digraph\n",
    "from torch.autograd import Variable\n",
    "import torch\n",
    "\n",
    "\n",
    "def make_dot(var, params=None):\n",
    "    if params is not None:\n",
    "        assert isinstance(params.values()[0], Variable)\n",
    "        param_map = {id(v): k for k, v in params.items()}\n",
    "\n",
    "    node_attr = dict(style='filled',\n",
    "                     shape='box',\n",
    "                     align='left',\n",
    "                     fontsize='12',\n",
    "                     ranksep='0.1',\n",
    "                     height='0.2')\n",
    "    dot = Digraph(node_attr=node_attr, graph_attr=dict(size=\"12,12\"))\n",
    "    seen = set()\n",
    "\n",
    "    def size_to_str(size):\n",
    "        return '(' + (', ').join(['%d' % v for v in size]) + ')'\n",
    "\n",
    "    def add_nodes(var):\n",
    "        if var not in seen:\n",
    "            if torch.is_tensor(var):\n",
    "                dot.node(str(id(var)), size_to_str(var.size()), fillcolor='orange')\n",
    "                dot.edge(str(id(var.grad_fn)), str(id(var)))\n",
    "                var = var.grad_fn\n",
    "            if hasattr(var, 'variable'):\n",
    "                u = var.variable\n",
    "                name = param_map[id(u)] if params is not None else ''\n",
    "                node_name = '%s\\n %s' % (name, size_to_str(u.size()))\n",
    "                dot.node(str(id(var)), node_name, fillcolor='lightblue')\n",
    "            else:\n",
    "                dot.node(str(id(var)), str(type(var).__name__))\n",
    "            seen.add(var)\n",
    "            if hasattr(var, 'next_functions'):\n",
    "                for u in var.next_functions:\n",
    "                    if u[0] is not None:\n",
    "                        dot.edge(str(id(u[0])), str(id(var)))\n",
    "                        add_nodes(u[0])\n",
    "            if hasattr(var, 'saved_tensors'):\n",
    "                for t in var.saved_tensors:\n",
    "                    dot.edge(str(id(t)), str(id(var)))\n",
    "                    add_nodes(t)\n",
    "    add_nodes(var)\n",
    "    return dot"
   ]
  },
  {
   "cell_type": "code",
   "execution_count": 57,
   "metadata": {
    "ExecuteTime": {
     "end_time": "2021-07-24T06:41:07.978786Z",
     "start_time": "2021-07-24T06:41:07.936785Z"
    }
   },
   "outputs": [
    {
     "data": {
      "text/plain": [
       "OrderedDict([('layers.0.weight',\n",
       "              tensor([[1., 1., 1., 1.],\n",
       "                      [1., 1., 1., 1.],\n",
       "                      [1., 1., 1., 1.]], device='cuda:0')),\n",
       "             ('layers.3.weight',\n",
       "              tensor([[2., 2., 2.],\n",
       "                      [2., 2., 2.]], device='cuda:0'))])"
      ]
     },
     "execution_count": 57,
     "metadata": {},
     "output_type": "execute_result"
    }
   ],
   "source": [
    "fe.state_dict()"
   ]
  },
  {
   "cell_type": "code",
   "execution_count": 56,
   "metadata": {
    "ExecuteTime": {
     "end_time": "2021-07-24T06:40:58.939967Z",
     "start_time": "2021-07-24T06:40:58.912449Z"
    }
   },
   "outputs": [
    {
     "ename": "TypeError",
     "evalue": "'odict_values' object is not subscriptable",
     "output_type": "error",
     "traceback": [
      "\u001b[1;31m---------------------------------------------------------------------------\u001b[0m",
      "\u001b[1;31mTypeError\u001b[0m                                 Traceback (most recent call last)",
      "\u001b[1;32m<ipython-input-56-8c62d25645ae>\u001b[0m in \u001b[0;36m<module>\u001b[1;34m\u001b[0m\n\u001b[1;32m----> 1\u001b[1;33m \u001b[0mg\u001b[0m \u001b[1;33m=\u001b[0m \u001b[0mmake_dot\u001b[0m\u001b[1;33m(\u001b[0m\u001b[0mloss\u001b[0m\u001b[1;33m,\u001b[0m \u001b[0mparams\u001b[0m\u001b[1;33m=\u001b[0m\u001b[0mfe\u001b[0m\u001b[1;33m.\u001b[0m\u001b[0mstate_dict\u001b[0m\u001b[1;33m(\u001b[0m\u001b[1;33m)\u001b[0m\u001b[1;33m)\u001b[0m\u001b[1;33m\u001b[0m\u001b[1;33m\u001b[0m\u001b[0m\n\u001b[0m\u001b[0;32m      2\u001b[0m \u001b[0mg\u001b[0m\u001b[1;33m.\u001b[0m\u001b[0mview\u001b[0m\u001b[1;33m(\u001b[0m\u001b[1;33m)\u001b[0m\u001b[1;33m\u001b[0m\u001b[1;33m\u001b[0m\u001b[0m\n",
      "\u001b[1;32m<ipython-input-49-11e5a9d1e14a>\u001b[0m in \u001b[0;36mmake_dot\u001b[1;34m(var, params)\u001b[0m\n\u001b[0;32m      6\u001b[0m \u001b[1;32mdef\u001b[0m \u001b[0mmake_dot\u001b[0m\u001b[1;33m(\u001b[0m\u001b[0mvar\u001b[0m\u001b[1;33m,\u001b[0m \u001b[0mparams\u001b[0m\u001b[1;33m=\u001b[0m\u001b[1;32mNone\u001b[0m\u001b[1;33m)\u001b[0m\u001b[1;33m:\u001b[0m\u001b[1;33m\u001b[0m\u001b[1;33m\u001b[0m\u001b[0m\n\u001b[0;32m      7\u001b[0m     \u001b[1;32mif\u001b[0m \u001b[0mparams\u001b[0m \u001b[1;32mis\u001b[0m \u001b[1;32mnot\u001b[0m \u001b[1;32mNone\u001b[0m\u001b[1;33m:\u001b[0m\u001b[1;33m\u001b[0m\u001b[1;33m\u001b[0m\u001b[0m\n\u001b[1;32m----> 8\u001b[1;33m         \u001b[1;32massert\u001b[0m \u001b[0misinstance\u001b[0m\u001b[1;33m(\u001b[0m\u001b[0mparams\u001b[0m\u001b[1;33m.\u001b[0m\u001b[0mvalues\u001b[0m\u001b[1;33m(\u001b[0m\u001b[1;33m)\u001b[0m\u001b[1;33m[\u001b[0m\u001b[1;36m0\u001b[0m\u001b[1;33m]\u001b[0m\u001b[1;33m,\u001b[0m \u001b[0mVariable\u001b[0m\u001b[1;33m)\u001b[0m\u001b[1;33m\u001b[0m\u001b[1;33m\u001b[0m\u001b[0m\n\u001b[0m\u001b[0;32m      9\u001b[0m         \u001b[0mparam_map\u001b[0m \u001b[1;33m=\u001b[0m \u001b[1;33m{\u001b[0m\u001b[0mid\u001b[0m\u001b[1;33m(\u001b[0m\u001b[0mv\u001b[0m\u001b[1;33m)\u001b[0m\u001b[1;33m:\u001b[0m \u001b[0mk\u001b[0m \u001b[1;32mfor\u001b[0m \u001b[0mk\u001b[0m\u001b[1;33m,\u001b[0m \u001b[0mv\u001b[0m \u001b[1;32min\u001b[0m \u001b[0mparams\u001b[0m\u001b[1;33m.\u001b[0m\u001b[0mitems\u001b[0m\u001b[1;33m(\u001b[0m\u001b[1;33m)\u001b[0m\u001b[1;33m}\u001b[0m\u001b[1;33m\u001b[0m\u001b[1;33m\u001b[0m\u001b[0m\n\u001b[0;32m     10\u001b[0m \u001b[1;33m\u001b[0m\u001b[0m\n",
      "\u001b[1;31mTypeError\u001b[0m: 'odict_values' object is not subscriptable"
     ]
    }
   ],
   "source": [
    "g = make_dot(loss, params=fe.state_dict())\n",
    "g.view()"
   ]
  },
  {
   "cell_type": "markdown",
   "metadata": {},
   "source": [
    "## BACKWARD"
   ]
  },
  {
   "cell_type": "code",
   "execution_count": 30,
   "metadata": {
    "ExecuteTime": {
     "end_time": "2021-07-21T05:08:10.400285Z",
     "start_time": "2021-07-21T05:08:10.388680Z"
    }
   },
   "outputs": [],
   "source": [
    "a = t(2., requires_grad=True)\n",
    "b = a ** 2\n",
    "c = 2 * b\n",
    "d = 4 * b"
   ]
  },
  {
   "cell_type": "code",
   "execution_count": 31,
   "metadata": {
    "ExecuteTime": {
     "end_time": "2021-07-21T05:08:11.096317Z",
     "start_time": "2021-07-21T05:08:10.891451Z"
    }
   },
   "outputs": [
    {
     "name": "stdout",
     "output_type": "stream",
     "text": [
      "tensor(8.)\n"
     ]
    }
   ],
   "source": [
    "c.backward(retain_graph=True)\n",
    "print(a.grad)"
   ]
  },
  {
   "cell_type": "code",
   "execution_count": 32,
   "metadata": {
    "ExecuteTime": {
     "end_time": "2021-07-21T05:08:11.112315Z",
     "start_time": "2021-07-21T05:08:11.098317Z"
    }
   },
   "outputs": [
    {
     "data": {
      "text/plain": [
       "tensor(24.)"
      ]
     },
     "execution_count": 32,
     "metadata": {},
     "output_type": "execute_result"
    }
   ],
   "source": [
    "d.backward()\n",
    "a.grad"
   ]
  },
  {
   "cell_type": "code",
   "execution_count": 33,
   "metadata": {
    "ExecuteTime": {
     "end_time": "2021-07-21T05:08:11.127348Z",
     "start_time": "2021-07-21T05:08:11.113317Z"
    }
   },
   "outputs": [
    {
     "name": "stdout",
     "output_type": "stream",
     "text": [
      "tensor(16.)\n"
     ]
    }
   ],
   "source": [
    "a = t(2., requires_grad=True)\n",
    "b = a ** 2\n",
    "d = 4 * b\n",
    "d.backward()\n",
    "print(a.grad)"
   ]
  }
 ],
 "metadata": {
  "kernelspec": {
   "display_name": "Python 3",
   "language": "python",
   "name": "python3"
  },
  "language_info": {
   "codemirror_mode": {
    "name": "ipython",
    "version": 3
   },
   "file_extension": ".py",
   "mimetype": "text/x-python",
   "name": "python",
   "nbconvert_exporter": "python",
   "pygments_lexer": "ipython3",
   "version": "3.8.8"
  },
  "toc": {
   "base_numbering": 1,
   "nav_menu": {},
   "number_sections": false,
   "sideBar": true,
   "skip_h1_title": false,
   "title_cell": "Table of Contents",
   "title_sidebar": "Contents",
   "toc_cell": false,
   "toc_position": {
    "height": "calc(100% - 180px)",
    "left": "10px",
    "top": "150px",
    "width": "191.527px"
   },
   "toc_section_display": true,
   "toc_window_display": false
  }
 },
 "nbformat": 4,
 "nbformat_minor": 4
}
